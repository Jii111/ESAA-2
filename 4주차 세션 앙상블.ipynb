{
  "nbformat": 4,
  "nbformat_minor": 0,
  "metadata": {
    "colab": {
      "name": "앙상블.ipynb",
      "provenance": [],
      "include_colab_link": true
    },
    "kernelspec": {
      "name": "python3",
      "display_name": "Python 3"
    },
    "language_info": {
      "name": "python"
    }
  },
  "cells": [
    {
      "cell_type": "markdown",
      "metadata": {
        "id": "view-in-github",
        "colab_type": "text"
      },
      "source": [
        "<a href=\"https://colab.research.google.com/github/Jii111/ESAA-2/blob/main/4%EC%A3%BC%EC%B0%A8%20%EC%84%B8%EC%85%98%20%EC%95%99%EC%83%81%EB%B8%94.ipynb\" target=\"_parent\"><img src=\"https://colab.research.google.com/assets/colab-badge.svg\" alt=\"Open In Colab\"/></a>"
      ]
    },
    {
      "cell_type": "markdown",
      "metadata": {
        "id": "Xqp6uVZxd1nG"
      },
      "source": [
        "1-a. MNIST 데이터를 훈련, 검증, 테스트 데이터로 나눈다."
      ]
    },
    {
      "cell_type": "code",
      "metadata": {
        "id": "nWSuFaW2dxtB"
      },
      "source": [
        "from sklearn.datasets import fetch_openml\n",
        "mnist = fetch_openml('mnist_784',version=1)"
      ],
      "execution_count": 1,
      "outputs": []
    },
    {
      "cell_type": "code",
      "metadata": {
        "id": "9LMBXHtpkteY"
      },
      "source": [
        "from sklearn.model_selection import train_test_split\n",
        "\n",
        "#val\n",
        "X_train_val, X_test, y_train_val, y_test = train_test_split(mnist.data, mnist.target, test_size=10000)\n",
        "X_train, X_val, y_train, y_val = train_test_split(X_train_val, y_train_val, test_size=10000)"
      ],
      "execution_count": 2,
      "outputs": []
    },
    {
      "cell_type": "markdown",
      "metadata": {
        "id": "Ujrp1oT-lImI"
      },
      "source": [
        "1-b. 랜덤 포레스트 분류기, 엑스트라 트리 분류기, SVM 분류기, MLP 분류기를 훈련시킨다. (n_estimators=100, random_state=42)"
      ]
    },
    {
      "cell_type": "code",
      "metadata": {
        "id": "Pq4BoCyiktdQ"
      },
      "source": [
        "from sklearn.ensemble import RandomForestClassifier\n",
        "from sklearn.svm import SVC\n",
        "\n",
        "rnd_clf=RandomForestClassifier(n_estimators=100,random_state=42)\n",
        "svm_clf=SVC(random_state=42,probability=True)\n",
        "\n"
      ],
      "execution_count": 3,
      "outputs": []
    },
    {
      "cell_type": "code",
      "source": [
        "rnd_clf.fit(X_train,y_train)\n",
        "svm_clf.fit(X_train,y_train)"
      ],
      "metadata": {
        "colab": {
          "base_uri": "https://localhost:8080/"
        },
        "id": "lBmlI5Y_HuCj",
        "outputId": "39a8c6e7-a26a-4357-f7fd-33a4a4279db7"
      },
      "execution_count": 4,
      "outputs": [
        {
          "output_type": "execute_result",
          "data": {
            "text/plain": [
              "SVC(probability=True, random_state=42)"
            ]
          },
          "metadata": {},
          "execution_count": 4
        }
      ]
    },
    {
      "cell_type": "markdown",
      "source": [
        ""
      ],
      "metadata": {
        "id": "c5CnJsfQLs-M"
      }
    },
    {
      "cell_type": "code",
      "source": [
        "from sklearn.ensemble import ExtraTreesClassifier\n",
        "from sklearn.neural_network import MLPClassifier\n",
        "\n",
        "ext_clf=ExtraTreesClassifier(n_estimators=100,random_state=42)\n",
        "mlp_clf=MLPClassifier(random_state=42)\n"
      ],
      "metadata": {
        "id": "wtci9NPQ4iqY"
      },
      "execution_count": 5,
      "outputs": []
    },
    {
      "cell_type": "code",
      "source": [
        "ext_clf.fit(X_train,y_train)"
      ],
      "metadata": {
        "colab": {
          "base_uri": "https://localhost:8080/"
        },
        "id": "TzjwXDZ18zac",
        "outputId": "27ae6ca8-ea6f-4405-8fd0-ed721297e198"
      },
      "execution_count": 6,
      "outputs": [
        {
          "output_type": "execute_result",
          "data": {
            "text/plain": [
              "ExtraTreesClassifier(random_state=42)"
            ]
          },
          "metadata": {},
          "execution_count": 6
        }
      ]
    },
    {
      "cell_type": "code",
      "source": [
        "mlp_clf.fit(X_train,y_train)"
      ],
      "metadata": {
        "colab": {
          "base_uri": "https://localhost:8080/"
        },
        "id": "hQJRYavV811c",
        "outputId": "d73c49ad-8579-4ea9-a6d4-f3ad8d08a9fa"
      },
      "execution_count": 7,
      "outputs": [
        {
          "output_type": "execute_result",
          "data": {
            "text/plain": [
              "MLPClassifier(random_state=42)"
            ]
          },
          "metadata": {},
          "execution_count": 7
        }
      ]
    },
    {
      "cell_type": "markdown",
      "metadata": {
        "id": "UI2qPZpDn1Dp"
      },
      "source": [
        "1-c. 이들을 직접 투표 분류기를 사용하는 앙상블로 연결한다."
      ]
    },
    {
      "cell_type": "code",
      "metadata": {
        "id": "lcTyQdLYoRCn"
      },
      "source": [
        "from sklearn.ensemble import VotingClassifier\n",
        "\n",
        "voting_clf=VotingClassifier(\n",
        "    estimators=[('rf',rnd_clf),('svc',svm_clf),('exf',ext_clf),('mlf',mlp_clf)],\n",
        "    voting='hard')\n",
        "\n"
      ],
      "execution_count": 8,
      "outputs": []
    },
    {
      "cell_type": "code",
      "source": [
        "voting_clf.fit(X_train, y_train)"
      ],
      "metadata": {
        "colab": {
          "base_uri": "https://localhost:8080/"
        },
        "id": "qOmZ3hZm9sIT",
        "outputId": "085ace61-1e00-4994-c260-c68223f80452"
      },
      "execution_count": 9,
      "outputs": [
        {
          "output_type": "execute_result",
          "data": {
            "text/plain": [
              "VotingClassifier(estimators=[('rf', RandomForestClassifier(random_state=42)),\n",
              "                             ('svc', SVC(probability=True, random_state=42)),\n",
              "                             ('exf', ExtraTreesClassifier(random_state=42)),\n",
              "                             ('mlf', MLPClassifier(random_state=42))])"
            ]
          },
          "metadata": {},
          "execution_count": 9
        }
      ]
    },
    {
      "cell_type": "code",
      "source": [
        "from sklearn.metrics import accuracy_score\n",
        "\n",
        "for clf in (rnd_clf,svm_clf,ext_clf,mlp_clf,voting_clf):\n",
        "  y_pred=clf.predict(X_test)\n",
        "  print(clf.__class__.__name__,accuracy_score(y_test,y_pred))\n"
      ],
      "metadata": {
        "colab": {
          "base_uri": "https://localhost:8080/"
        },
        "id": "Lf6PW0m19utn",
        "outputId": "6dc39ccb-ee01-481e-bec7-f0b55dc712df"
      },
      "execution_count": 10,
      "outputs": [
        {
          "output_type": "stream",
          "name": "stdout",
          "text": [
            "RandomForestClassifier 0.9682\n",
            "SVC 0.9772\n",
            "ExtraTreesClassifier 0.9712\n",
            "MLPClassifier 0.9628\n",
            "VotingClassifier 0.9764\n"
          ]
        }
      ]
    },
    {
      "cell_type": "markdown",
      "metadata": {
        "id": "5XaWFdAJ2CZ2"
      },
      "source": [
        "1-d. 다른 분류기보다 성능이 많이 떨어졌던 선형 SVM 제거 후 VotingClassifier를 다시 평가"
      ]
    },
    {
      "cell_type": "code",
      "metadata": {
        "id": "TU_J0j4O2Kw-"
      },
      "source": [
        "voting_clf1=VotingClassifier(\n",
        "    estimators=[('rf',rnd_clf),('exf',ext_clf),('mlf',mlp_clf)],\n",
        "    voting='hard')"
      ],
      "execution_count": 11,
      "outputs": []
    },
    {
      "cell_type": "code",
      "metadata": {
        "id": "Ima-U47a2SGA",
        "colab": {
          "base_uri": "https://localhost:8080/"
        },
        "outputId": "e8e23019-a7bf-46b8-a990-4fee1ac14374"
      },
      "source": [
        "voting_clf1.fit(X_train, y_train)"
      ],
      "execution_count": 12,
      "outputs": [
        {
          "output_type": "execute_result",
          "data": {
            "text/plain": [
              "VotingClassifier(estimators=[('rf', RandomForestClassifier(random_state=42)),\n",
              "                             ('exf', ExtraTreesClassifier(random_state=42)),\n",
              "                             ('mlf', MLPClassifier(random_state=42))])"
            ]
          },
          "metadata": {},
          "execution_count": 12
        }
      ]
    },
    {
      "cell_type": "code",
      "source": [
        "for clf in (rnd_clf,svm_clf,ext_clf,mlp_clf,voting_clf1):\n",
        "  y_pred=clf.predict(X_test)\n",
        "  print(clf.__class__.__name__,accuracy_score(y_test,y_pred))"
      ],
      "metadata": {
        "colab": {
          "base_uri": "https://localhost:8080/"
        },
        "id": "c-X0S4iN974d",
        "outputId": "b4ad2382-11fc-4ed4-fca7-8d2f4a64038b"
      },
      "execution_count": 14,
      "outputs": [
        {
          "output_type": "stream",
          "name": "stdout",
          "text": [
            "RandomForestClassifier 0.9682\n",
            "SVC 0.9772\n",
            "ExtraTreesClassifier 0.9712\n",
            "MLPClassifier 0.9628\n",
            "VotingClassifier 0.9734\n"
          ]
        }
      ]
    },
    {
      "cell_type": "markdown",
      "metadata": {
        "id": "8qYEEuAvsGho"
      },
      "source": [
        "1-d. 간접 투표 분류기를 사용하여 앙상블로 연결."
      ]
    },
    {
      "cell_type": "code",
      "metadata": {
        "id": "T74JWjKBoxQf"
      },
      "source": [
        "voting_clf2=VotingClassifier(\n",
        "    estimators=[('rf',rnd_clf),('exf',ext_clf),('mlf',mlp_clf)],\n",
        "    voting='soft')"
      ],
      "execution_count": 15,
      "outputs": []
    },
    {
      "cell_type": "code",
      "source": [
        "voting_clf2.fit(X_train, y_train)"
      ],
      "metadata": {
        "colab": {
          "base_uri": "https://localhost:8080/"
        },
        "id": "Jl8h3NLg-KFC",
        "outputId": "a2f44d0e-a6ff-4780-a440-ccd30f1d43cd"
      },
      "execution_count": 21,
      "outputs": [
        {
          "output_type": "execute_result",
          "data": {
            "text/plain": [
              "VotingClassifier(estimators=[('rf', RandomForestClassifier(random_state=42)),\n",
              "                             ('exf', ExtraTreesClassifier(random_state=42)),\n",
              "                             ('mlf', MLPClassifier(random_state=42))],\n",
              "                 voting='soft')"
            ]
          },
          "metadata": {},
          "execution_count": 21
        }
      ]
    },
    {
      "cell_type": "code",
      "source": [
        "from sklearn.metrics import accuracy_score\n",
        "for clf in (rnd_clf,ext_clf,mlp_clf,voting_clf2):\n",
        "  y_pred=clf.predict(X_test)\n",
        "  print(clf.__class__.__name__,accuracy_score(y_test,y_pred))"
      ],
      "metadata": {
        "id": "C2jlWVPV-O9-"
      },
      "execution_count": null,
      "outputs": []
    }
  ]
}