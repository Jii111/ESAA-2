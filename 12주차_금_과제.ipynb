{
  "nbformat": 4,
  "nbformat_minor": 0,
  "metadata": {
    "colab": {
      "name": "12주차 금 과제 ",
      "provenance": [],
      "collapsed_sections": [],
      "authorship_tag": "ABX9TyOCHenE5fznjO+r/CxyKyKT"
    },
    "kernelspec": {
      "name": "python3",
      "display_name": "Python 3"
    },
    "language_info": {
      "name": "python"
    },
    "accelerator": "GPU"
  },
  "cells": [
    {
      "cell_type": "markdown",
      "source": [
        "# **파이썬 딥러닝 텐서플로 CH3**"
      ],
      "metadata": {
        "id": "c_c7IR4rzeos"
      }
    },
    {
      "cell_type": "markdown",
      "source": [
        "### **01. 딥러닝 준비**\n",
        "\n",
        "1. 주요용어  \n",
        "1) 하이퍼 파라미터: 사용자가 직접 설정해야 하는 값  \n",
        "  -튜닝을 통해 예측 성능 높  \n",
        "2) 과소적합 vs 과대적합  \n",
        "  -예측할 데이터가 모델이 학습한 데이터와 다른 분포를 갖거나, 혹은 학습한 데이터가 특정 레이블에 편향된 데이터로 이루어져 있다면 예측성능 떨어지게 됨  \n",
        "  -과대적합: 학습 데이터의 불필요한 노이즈까지 과도하게 반영하여, 예측 데이터에 예측 오차 발생 확률 커짐  \n",
        "  -예측 데이터와 분포가 동일하게 구성해야 하며, 불필요한 노이즈는 데이터 분석 및 전처리를 통해 해소해야 함  \n",
        "3) 에포크  \n",
        "  -딥러닝은 데이터셋을 학습하는 과정을 여러 번 반복하면서 최적의 모델 가중치를 찾는 과정\n",
        "  -딥러닝 모델이 반복 훈련을 할 때 데이터셋을 전부 학습에 사용하는 1회의 훈련 루프 의미  \n",
        "4) 손실함수  \n",
        "  -예측 값과 정답 값의 차이 또는 오차(모델의 출력값과 실제 값과의 차이)\n",
        "  -사용자가 분류/회귀 모델에 따라 다르게 적용  \n",
        "  -지도학습의 분류  \n",
        "    - 이진 분류: binary_crossentropy\n",
        "    - 다중 분류(원핫 벡터): categorical_crossentropy  \n",
        "    - 다중 분류(원핫 벡터X): sparse_categorical_crossentropy\n",
        "    - (다중 분류에서는 출력층의 활성함수로 softmax 사용)\n",
        "\n",
        "    - 회귀 모델: 평균제곱오차(MSE), 평균절대값오차(MAE). 후버"
      ],
      "metadata": {
        "id": "7LrAR_gPnLdh"
      }
    },
    {
      "cell_type": "code",
      "source": [
        "import tensorflow as tf\n",
        "\n",
        "tf.keras.losses.BinaryCrossentropy()\n",
        "tf.keras.losses.binary_crossentropy"
      ],
      "metadata": {
        "colab": {
          "base_uri": "https://localhost:8080/"
        },
        "id": "q5G2eOB1ptb2",
        "outputId": "2474d093-09df-4513-e6a9-3555a179759b"
      },
      "execution_count": 1,
      "outputs": [
        {
          "output_type": "execute_result",
          "data": {
            "text/plain": [
              "<function keras.losses.binary_crossentropy>"
            ]
          },
          "metadata": {},
          "execution_count": 1
        }
      ]
    },
    {
      "cell_type": "markdown",
      "source": [
        "  5) 경사하강법  \n",
        "  -모델의 가중치에 대한 미분 값을 구하고 목적 함수 값이 낮아지는 방향으로 차감하면서 최소 함수 값을 갖도록 하는 방법  \n",
        "  -딥러닝에서 경사하강법 알고리즘을 이용해 손실함수 값을 최소로 만드는 가중치 찾을 수 있음 "
      ],
      "metadata": {
        "id": "YpFOP30jp6l0"
      }
    },
    {
      "cell_type": "code",
      "source": [
        "import numpy as np\n",
        "import matplotlib.pyplot as plt\n",
        "\n",
        "def make_linear(w=0.5, b=0.8, size=50, noise=1.0):\n",
        "    x = np.random.rand(size)\n",
        "    y = w * x + b\n",
        "    noise = np.random.uniform(-abs(noise), abs(noise), size=y.shape)\n",
        "    yy = y + noise\n",
        "    plt.figure(figsize=(10, 7))\n",
        "    plt.plot(x, y, color='r', label=f'y = {w}*x + {b}')\n",
        "    plt.scatter(x, yy, label='data')\n",
        "    plt.legend(fontsize=20)\n",
        "    plt.show()\n",
        "    print(f'w: {w}, b: {b}')\n",
        "    return x, yy\n",
        "\n",
        "x, y = make_linear(w=0.3, b=0.5, size=100, noise=0.01)"
      ],
      "metadata": {
        "colab": {
          "base_uri": "https://localhost:8080/",
          "height": 446
        },
        "id": "8k_mLuMtqxfO",
        "outputId": "5915089a-3b4d-4527-a14b-bda52e76c392"
      },
      "execution_count": 3,
      "outputs": [
        {
          "output_type": "display_data",
          "data": {
            "text/plain": [
              "<Figure size 720x504 with 1 Axes>"
            ],
            "image/png": "[encoded data removed]"
          },
          "metadata": {
            "needs_background": "light"
          }
        },
        {
          "output_type": "stream",
          "name": "stdout",
          "text": [
            "w: 0.3, b: 0.5\n"
          ]
        }
      ]
    },
    {
      "cell_type": "code",
      "source": [
        "num_epoch = 1000\n",
        "\n",
        "learning_rate = 0.005\n",
        "\n",
        "errors = []\n",
        "\n",
        "w = np.random.uniform(low=0.0, high=1.0)\n",
        "b = np.random.uniform(low=0.0, high=1.0)\n",
        "\n",
        "for epoch in range(num_epoch):\n",
        "\n",
        "    y_hat = w * x + b\n",
        "    \n",
        "    error = 0.5*((y_hat - y) ** 2).sum()\n",
        "    if error < 0.005:\n",
        "        break\n",
        "\n",
        "    w = w - learning_rate * ((y_hat - y) * x).sum()\n",
        "    b = b - learning_rate * (y_hat - y).sum()\n",
        "    \n",
        "    errors.append(error)\n",
        "\n",
        "    if epoch % 5 == 0:\n",
        "        print(\"{0:2} w = {1:.5f}, b = {2:.5f} error = {3:.5f}\".format(epoch, w, b, error))\n",
        "    \n",
        "print(\"----\" * 15)\n",
        "print(\"{0:2} w = {1:.1f}, b = {2:.1f} error = {3:.5f}\".format(epoch, w, b, error))"
      ],
      "metadata": {
        "colab": {
          "base_uri": "https://localhost:8080/"
        },
        "id": "NaUr_qfRq6d5",
        "outputId": "cac00d00-13cd-4f47-aa6e-e7caa8028b6a"
      },
      "execution_count": 4,
      "outputs": [
        {
          "output_type": "stream",
          "name": "stdout",
          "text": [
            " 0 w = 0.47818, b = 0.38181 error = 0.29466\n",
            " 5 w = 0.46226, b = 0.41101 error = 0.09942\n",
            "10 w = 0.44106, b = 0.42270 error = 0.07489\n",
            "15 w = 0.42265, b = 0.43275 error = 0.05650\n",
            "20 w = 0.40672, b = 0.44145 error = 0.04271\n",
            "25 w = 0.39293, b = 0.44898 error = 0.03238\n",
            "30 w = 0.38099, b = 0.45550 error = 0.02463\n",
            "35 w = 0.37065, b = 0.46114 error = 0.01883\n",
            "40 w = 0.36170, b = 0.46603 error = 0.01448\n",
            "45 w = 0.35395, b = 0.47026 error = 0.01121\n",
            "50 w = 0.34723, b = 0.47392 error = 0.00877\n",
            "55 w = 0.34142, b = 0.47710 error = 0.00693\n",
            "60 w = 0.33639, b = 0.47984 error = 0.00556\n",
            "------------------------------------------------------------\n",
            "63 w = 0.3, b = 0.5 error = 0.00491\n"
          ]
        }
      ]
    },
    {
      "cell_type": "code",
      "source": [
        "plt.figure(figsize=(10, 7))\n",
        "plt.plot(errors)\n",
        "plt.xlabel('Epochs')\n",
        "plt.ylabel('Error')\n",
        "plt.show()"
      ],
      "metadata": {
        "colab": {
          "base_uri": "https://localhost:8080/",
          "height": 442
        },
        "id": "ooCbQMWhq6bo",
        "outputId": "156d505c-fa3a-43cf-9f28-0cd4d1473e41"
      },
      "execution_count": 5,
      "outputs": [
        {
          "output_type": "display_data",
          "data": {
            "text/plain": [
              "<Figure size 720x504 with 1 Axes>"
            ],
            "image/png": "[encoded data removed]"
          },
          "metadata": {
            "needs_background": "light"
          }
        }
      ]
    },
    {
      "cell_type": "markdown",
      "source": [
        "**02. 딥러닝 프로세스**  \n",
        "**;데이터 전처리>모델 생성/컴파일>훈련>검증>예측**\n",
        "\n",
        "1. 데이터 전처리  \n",
        "  -배열의 차원 조정하거나 스케일 조정\n",
        "\n",
        "2. 모델 생성  \n",
        "  <font color=\"blue\">-Sequential API: 순차적인 구조의 모델  \n",
        "  -Functional API/Model Subclassing: 다중입력/출력을 갖고 있는 복잡한 모델\n",
        "\n",
        "3. 모델 컴파일  \n",
        "  <font color=\"blue\">-손실함수(loss), 옵티마이저, 평가지표(metrics) 정의  \n",
        "  -모델 인스턴스에 compile 메소드를 적용하고, 위의 여러가지 속성 값 설정\n",
        "\n",
        "4. 모델 훈련  \n",
        "  <font color=\"blue\">-fit()함수에 모델 훈련에 필요한 정보를 파라미터로 전달  \n",
        "  -훈련/검증 데이터셋, epoch, 배치(batch) 크기 및 콜백(callback) 함수 등 지정  \n",
        "\n",
        "5. 모델 검증\n",
        "  -훈련이 완료된 모델 검증하는 단계  \n",
        "  -평가 지표 계산  \n",
        "  -결과를 바탕으로 다시 모델 생성 단계로 돌아가 모델 수정을 하고, 재평가하는 단계를 통해 목표 성능 도달  \n",
        "\n",
        "6. 모델 예측  "
      ],
      "metadata": {
        "id": "MZ6GG9ABrI4o"
      }
    },
    {
      "cell_type": "markdown",
      "source": [
        "### **02. 단순 신경망 훈련**\n",
        "\n",
        "1. 선형회귀\n",
        "\n",
        "2. 뉴런  \n",
        "  -인공 신경망 모델을 구성하는 하나의 신경  \n",
        "  -신경망은 여러 개의 레이어를 가지며 1개의 레이어는 1개 이상의 뉴런으로 구성  \n",
        "  -뉴런의 내부에는 가중치가 존재하고 모델이 훈련을 진행하면서 오차 역전파를 통해 뉴런의 가중치 업데이트  \n",
        "\n",
        "3. Dense 레이어  \n",
        "  <font color=\"blue\">-심층 신경망 모델을 구성하는 가장 기본 레이어\n",
        "  -완전 연결층: 모든 뉴런들이 정보(텐서)의 흐름을 나타내는 화살표로 연결  \n",
        "  -Dense 레이어를 구성하는 노드 개수와 활성화 함수 지정할 수 있음\n"
      ],
      "metadata": {
        "id": "nAaF0ScRs1Ad"
      }
    },
    {
      "cell_type": "code",
      "source": [
        "import tensorflow as tf\n",
        "\n",
        "tf.keras.layers.Dense(10)\n",
        "tf.keras.layers.Dense(10,activation='relu')"
      ],
      "metadata": {
        "colab": {
          "base_uri": "https://localhost:8080/"
        },
        "id": "y7HijiL4q6Zy",
        "outputId": "0abaf1bc-abe3-45a3-b4e7-2f7ee0a5d793"
      },
      "execution_count": 3,
      "outputs": [
        {
          "output_type": "execute_result",
          "data": {
            "text/plain": [
              "<keras.layers.core.dense.Dense at 0x7f0fd444b910>"
            ]
          },
          "metadata": {},
          "execution_count": 3
        }
      ]
    },
    {
      "cell_type": "markdown",
      "source": [
        "2-4. 데이터셋 만들기"
      ],
      "metadata": {
        "id": "LNulAvNR58ly"
      }
    },
    {
      "cell_type": "code",
      "source": [
        "import numpy as np\n",
        "\n",
        "x = np.arange(1, 6)\n",
        "\n",
        "y = 3 * x + 2\n",
        "print(x)\n",
        "print(y)"
      ],
      "metadata": {
        "colab": {
          "base_uri": "https://localhost:8080/"
        },
        "id": "8vjp6OfUq6Xd",
        "outputId": "c2799c54-5ce9-42ea-b842-8451e912b830"
      },
      "execution_count": 4,
      "outputs": [
        {
          "output_type": "stream",
          "name": "stdout",
          "text": [
            "[1 2 3 4 5]\n",
            "[ 5  8 11 14 17]\n"
          ]
        }
      ]
    },
    {
      "cell_type": "code",
      "source": [
        "import matplotlib.pyplot as plt\n",
        "\n",
        "plt.plot(x, y)\n",
        "plt.title('y = 3x + 2')\n",
        "plt.show()"
      ],
      "metadata": {
        "colab": {
          "base_uri": "https://localhost:8080/",
          "height": 281
        },
        "id": "AGsOVQUpq6VV",
        "outputId": "5286b5ad-2ae5-477e-c8ce-46924c0bcec3"
      },
      "execution_count": 5,
      "outputs": [
        {
          "output_type": "display_data",
          "data": {
            "text/plain": [
              "<Figure size 432x288 with 1 Axes>"
            ],
            "image/png": "[encoded data removed]"
          },
          "metadata": {
            "needs_background": "light"
          }
        }
      ]
    },
    {
      "cell_type": "markdown",
      "source": [
        "2-5. Sequential API  \n",
        "  -층을 이어 붙이듯 시퀀스에 맞게 일렬로 연결하는 방식  \n",
        "  -입력 레이어부터 출력 레이어까지 순서를 갖고있음  \n",
        "  -입력 데이터는 시퀀스의 가장 앞에 위치한 층에 투입되고, 순서대로 각 층을 하나씩 통과하면서 딥러닝 연산 수행"
      ],
      "metadata": {
        "id": "ooP4aohc6I4k"
      }
    },
    {
      "cell_type": "markdown",
      "source": [
        "<모델 생성>-1"
      ],
      "metadata": {
        "id": "kmGuEsgg6v41"
      }
    },
    {
      "cell_type": "code",
      "source": [
        "model = tf.keras.Sequential([\n",
        "    tf.keras.layers.Dense(10), \n",
        "    tf.keras.layers.Dense(5), \n",
        "    tf.keras.layers.Dense(1), \n",
        "])"
      ],
      "metadata": {
        "id": "but8hdJOq6TL"
      },
      "execution_count": 6,
      "outputs": []
    },
    {
      "cell_type": "markdown",
      "source": [
        "<모델 생성>-2"
      ],
      "metadata": {
        "id": "CvouG17E60iC"
      }
    },
    {
      "cell_type": "code",
      "source": [
        "model = tf.keras.Sequential()\n",
        "model.add(tf.keras.layers.Dense(10))\n",
        "model.add(tf.keras.layers.Dense(5))\n",
        "model.add(tf.keras.layers.Dense(1))"
      ],
      "metadata": {
        "id": "15UTkkprq6Ql"
      },
      "execution_count": 7,
      "outputs": []
    },
    {
      "cell_type": "markdown",
      "source": [
        "**반드시 첫번째 층은 input_shape를 지정해야 함**"
      ],
      "metadata": {
        "id": "gZF_PNm47Xkv"
      }
    },
    {
      "cell_type": "code",
      "source": [
        "model = tf.keras.Sequential([\n",
        "    tf.keras.layers.Dense(10, input_shape=[4]), \n",
        "    tf.keras.layers.Dense(5), \n",
        "    tf.keras.layers.Dense(1), \n",
        "])"
      ],
      "metadata": {
        "id": "6Vekp0jTq6MQ"
      },
      "execution_count": 8,
      "outputs": []
    },
    {
      "cell_type": "markdown",
      "source": [
        "<단순선형회귀 모델 정의>  \n",
        "  -1개의 뉴런을 가지는 Dense 레이어 1개 사용  \n",
        "  -뉴런은 기울기에 해당하는 w와 상수항에 해당하는 b를 매개변수로 가짐"
      ],
      "metadata": {
        "id": "2hEyEmbY7knV"
      }
    },
    {
      "cell_type": "code",
      "source": [
        "model = tf.keras.Sequential([\n",
        "    tf.keras.layers.Dense(1, input_shape=[1])           #x값을 나타내는 입력 변수 1개만 존재하기 때문         \n",
        "])"
      ],
      "metadata": {
        "id": "0_sdbsTE71IF"
      },
      "execution_count": 9,
      "outputs": []
    },
    {
      "cell_type": "markdown",
      "source": [
        "<모델 요약>  \n",
        "  -Trainable params: 모델 훈련 시 업데이트할 파라미터의 총 개수(단순선형회귀에서는 가중치 w, 편향 b로 2개)  \n",
        "  -Non-trainable params: 훈련시 업데이트하지 않을 파라미터의 총 개수"
      ],
      "metadata": {
        "id": "ttY2HukS8PN2"
      }
    },
    {
      "cell_type": "code",
      "source": [
        "model.summary()"
      ],
      "metadata": {
        "colab": {
          "base_uri": "https://localhost:8080/"
        },
        "id": "Z-wklvbo8Qv0",
        "outputId": "2b09db2c-520d-4cb0-8111-0723c093c41f"
      },
      "execution_count": 10,
      "outputs": [
        {
          "output_type": "stream",
          "name": "stdout",
          "text": [
            "Model: \"sequential_3\"\n",
            "_________________________________________________________________\n",
            " Layer (type)                Output Shape              Param #   \n",
            "=================================================================\n",
            " dense_11 (Dense)            (None, 1)                 2         \n",
            "                                                                 \n",
            "=================================================================\n",
            "Total params: 2\n",
            "Trainable params: 2\n",
            "Non-trainable params: 0\n",
            "_________________________________________________________________\n"
          ]
        }
      ]
    },
    {
      "cell_type": "markdown",
      "source": [
        "<컴파일>  \n",
        "  -옵티마이저, 손실함수, 평가지표 등 정의  \n",
        "  <font color=\"blue\">-3가지 방법으로 지정가능(클래스 인스턴스/함수/사전정의된 문자열)"
      ],
      "metadata": {
        "id": "EUh9QXpw8pHr"
      }
    },
    {
      "cell_type": "code",
      "source": [
        "# 긴 문자열 지정\n",
        "model.compile(optimizer='sgd', loss='mean_squared_error', \n",
        "              metrics=['mean_squared_error', 'mean_absolute_error'])"
      ],
      "metadata": {
        "id": "uZge2hmo8sxY"
      },
      "execution_count": 13,
      "outputs": []
    },
    {
      "cell_type": "code",
      "source": [
        "# 짧은 문자열 지정\n",
        "model.compile(optimizer='sgd', loss='mse', metrics=['mse', 'mae'])"
      ],
      "metadata": {
        "id": "pAJyuaoc8s36"
      },
      "execution_count": 11,
      "outputs": []
    },
    {
      "cell_type": "code",
      "source": [
        "# 클래스 인스턴스 지정\n",
        "model.compile(optimizer=tf.keras.optimizers.SGD(lr=0.005), \n",
        "              loss=tf.keras.losses.MeanAbsoluteError(), \n",
        "              metrics=[tf.keras.metrics.MeanAbsoluteError(), \n",
        "                       tf.keras.metrics.MeanSquaredError()\n",
        "                       ])"
      ],
      "metadata": {
        "colab": {
          "base_uri": "https://localhost:8080/"
        },
        "id": "Fo8WC51n8s1t",
        "outputId": "e284c590-16a6-46ea-848d-7011964730ed"
      },
      "execution_count": 12,
      "outputs": [
        {
          "output_type": "stream",
          "name": "stderr",
          "text": [
            "/usr/local/lib/python3.7/dist-packages/keras/optimizer_v2/gradient_descent.py:102: UserWarning: The `lr` argument is deprecated, use `learning_rate` instead.\n",
            "  super(SGD, self).__init__(name, **kwargs)\n"
          ]
        }
      ]
    },
    {
      "cell_type": "markdown",
      "source": [
        "<훈련>  \n",
        "  -가중치(weight) 텐서를 업데이트하는 과정  \n",
        "  -훈련용 데이터셋의 입력(x), 정답에 해당하는 출력(y), 반복 훈련할 epoch 수 지정  \n",
        "  -매 epoch가 끝날 때마다 훈련 데이터셋에 대한 손실과 평가지표 출력  \n",
        "  -verbose=0 지정, 훈련 중간 과정 출력X"
      ],
      "metadata": {
        "id": "xls4xnoT9QpY"
      }
    },
    {
      "cell_type": "code",
      "source": [
        "#컴파일\n",
        "model.compile(optimizer='sgd', loss='mse', metrics=['mae'])\n",
        "\n",
        "#훈련\n",
        "history = model.fit(x, y, epochs=1200)"
      ],
      "metadata": {
        "colab": {
          "base_uri": "https://localhost:8080/"
        },
        "id": "SaY3H8yC8szn",
        "outputId": "a46ccf94-b51e-4c3d-dfc6-3b8ed35de7f4"
      },
      "execution_count": 14,
      "outputs": [
        {
          "output_type": "stream",
          "name": "stdout",
          "text": [
            "Epoch 1/1200\n",
            "1/1 [==============================] - 3s 3s/step - loss: 226.2429 - mae: 13.9472\n",
            "Epoch 2/1200\n",
            "1/1 [==============================] - 0s 8ms/step - loss: 131.8950 - mae: 10.6799\n",
            "Epoch 3/1200\n",
            "1/1 [==============================] - 0s 11ms/step - loss: 76.9134 - mae: 8.1855\n",
            "Epoch 4/1200\n",
            "1/1 [==============================] - 0s 7ms/step - loss: 44.8725 - mae: 6.2813\n",
            "Epoch 5/1200\n",
            "1/1 [==============================] - 0s 9ms/step - loss: 26.2003 - mae: 4.8275\n",
            "Epoch 6/1200\n",
            "1/1 [==============================] - 0s 9ms/step - loss: 15.3187 - mae: 3.7177\n",
            "Epoch 7/1200\n",
            "1/1 [==============================] - 0s 9ms/step - loss: 8.9771 - mae: 2.8703\n",
            "Epoch 8/1200\n",
            "1/1 [==============================] - 0s 8ms/step - loss: 5.2812 - mae: 2.2233\n",
            "Epoch 9/1200\n",
            "1/1 [==============================] - 0s 8ms/step - loss: 3.1271 - mae: 1.7293\n",
            "Epoch 10/1200\n",
            "1/1 [==============================] - 0s 8ms/step - loss: 1.8714 - mae: 1.3521\n",
            "Epoch 11/1200\n",
            "1/1 [==============================] - 0s 7ms/step - loss: 1.1394 - mae: 1.0640\n",
            "Epoch 12/1200\n",
            "1/1 [==============================] - 0s 9ms/step - loss: 0.7124 - mae: 0.8440\n",
            "Epoch 13/1200\n",
            "1/1 [==============================] - 0s 12ms/step - loss: 0.4633 - mae: 0.6759\n",
            "Epoch 14/1200\n",
            "1/1 [==============================] - 0s 8ms/step - loss: 0.3178 - mae: 0.5475\n",
            "Epoch 15/1200\n",
            "1/1 [==============================] - 0s 9ms/step - loss: 0.2327 - mae: 0.4494\n",
            "Epoch 16/1200\n",
            "1/1 [==============================] - 0s 10ms/step - loss: 0.1827 - mae: 0.3744\n",
            "Epoch 17/1200\n",
            "1/1 [==============================] - 0s 7ms/step - loss: 0.1533 - mae: 0.3202\n",
            "Epoch 18/1200\n",
            "1/1 [==============================] - 0s 9ms/step - loss: 0.1359 - mae: 0.3039\n",
            "Epoch 19/1200\n",
            "1/1 [==============================] - 0s 8ms/step - loss: 0.1254 - mae: 0.2913\n",
            "Epoch 20/1200\n",
            "1/1 [==============================] - 0s 8ms/step - loss: 0.1190 - mae: 0.2814\n",
            "Epoch 21/1200\n",
            "1/1 [==============================] - 0s 14ms/step - loss: 0.1149 - mae: 0.2747\n",
            "Epoch 22/1200\n",
            "1/1 [==============================] - 0s 9ms/step - loss: 0.1123 - mae: 0.2762\n",
            "Epoch 23/1200\n",
            "1/1 [==============================] - 0s 7ms/step - loss: 0.1104 - mae: 0.2771\n",
            "Epoch 24/1200\n",
            "1/1 [==============================] - 0s 7ms/step - loss: 0.1090 - mae: 0.2776\n",
            "Epoch 25/1200\n",
            "1/1 [==============================] - 0s 8ms/step - loss: 0.1079 - mae: 0.2777\n",
            "Epoch 26/1200\n",
            "1/1 [==============================] - 0s 9ms/step - loss: 0.1069 - mae: 0.2776\n",
            "Epoch 27/1200\n",
            "1/1 [==============================] - 0s 7ms/step - loss: 0.1061 - mae: 0.2773\n",
            "Epoch 28/1200\n",
            "1/1 [==============================] - 0s 9ms/step - loss: 0.1053 - mae: 0.2768\n",
            "Epoch 29/1200\n",
            "1/1 [==============================] - 0s 7ms/step - loss: 0.1045 - mae: 0.2763\n",
            "Epoch 30/1200\n",
            "1/1 [==============================] - 0s 10ms/step - loss: 0.1038 - mae: 0.2756\n",
            "Epoch 31/1200\n",
            "1/1 [==============================] - 0s 9ms/step - loss: 0.1031 - mae: 0.2749\n",
            "Epoch 32/1200\n",
            "1/1 [==============================] - 0s 9ms/step - loss: 0.1024 - mae: 0.2741\n",
            "Epoch 33/1200\n",
            "1/1 [==============================] - 0s 9ms/step - loss: 0.1017 - mae: 0.2733\n",
            "Epoch 34/1200\n",
            "1/1 [==============================] - 0s 7ms/step - loss: 0.1010 - mae: 0.2725\n",
            "Epoch 35/1200\n",
            "1/1 [==============================] - 0s 10ms/step - loss: 0.1003 - mae: 0.2716\n",
            "Epoch 36/1200\n",
            "1/1 [==============================] - 0s 8ms/step - loss: 0.0997 - mae: 0.2708\n",
            "Epoch 37/1200\n",
            "1/1 [==============================] - 0s 8ms/step - loss: 0.0990 - mae: 0.2699\n",
            "Epoch 38/1200\n",
            "1/1 [==============================] - 0s 8ms/step - loss: 0.0983 - mae: 0.2690\n",
            "Epoch 39/1200\n",
            "1/1 [==============================] - 0s 7ms/step - loss: 0.0976 - mae: 0.2681\n",
            "Epoch 40/1200\n",
            "1/1 [==============================] - 0s 9ms/step - loss: 0.0970 - mae: 0.2672\n",
            "Epoch 41/1200\n",
            "1/1 [==============================] - 0s 10ms/step - loss: 0.0963 - mae: 0.2664\n",
            "Epoch 42/1200\n",
            "1/1 [==============================] - 0s 11ms/step - loss: 0.0957 - mae: 0.2655\n",
            "Epoch 43/1200\n",
            "1/1 [==============================] - 0s 7ms/step - loss: 0.0950 - mae: 0.2646\n",
            "Epoch 44/1200\n",
            "1/1 [==============================] - 0s 9ms/step - loss: 0.0944 - mae: 0.2637\n",
            "Epoch 45/1200\n",
            "1/1 [==============================] - 0s 10ms/step - loss: 0.0938 - mae: 0.2628\n",
            "Epoch 46/1200\n",
            "1/1 [==============================] - 0s 7ms/step - loss: 0.0931 - mae: 0.2619\n",
            "Epoch 47/1200\n",
            "1/1 [==============================] - 0s 9ms/step - loss: 0.0925 - mae: 0.2610\n",
            "Epoch 48/1200\n",
            "1/1 [==============================] - 0s 9ms/step - loss: 0.0919 - mae: 0.2602\n",
            "Epoch 49/1200\n",
            "1/1 [==============================] - 0s 9ms/step - loss: 0.0913 - mae: 0.2593\n",
            "Epoch 50/1200\n",
            "1/1 [==============================] - 0s 10ms/step - loss: 0.0906 - mae: 0.2584\n",
            "Epoch 51/1200\n",
            "1/1 [==============================] - 0s 11ms/step - loss: 0.0900 - mae: 0.2575\n",
            "Epoch 52/1200\n",
            "1/1 [==============================] - 0s 11ms/step - loss: 0.0894 - mae: 0.2567\n",
            "Epoch 53/1200\n",
            "1/1 [==============================] - 0s 10ms/step - loss: 0.0888 - mae: 0.2558\n",
            "Epoch 54/1200\n",
            "1/1 [==============================] - 0s 10ms/step - loss: 0.0882 - mae: 0.2549\n",
            "Epoch 55/1200\n",
            "1/1 [==============================] - 0s 7ms/step - loss: 0.0876 - mae: 0.2541\n",
            "Epoch 56/1200\n",
            "1/1 [==============================] - 0s 8ms/step - loss: 0.0870 - mae: 0.2532\n",
            "Epoch 57/1200\n",
            "1/1 [==============================] - 0s 7ms/step - loss: 0.0864 - mae: 0.2523\n",
            "Epoch 58/1200\n",
            "1/1 [==============================] - 0s 8ms/step - loss: 0.0859 - mae: 0.2515\n",
            "Epoch 59/1200\n",
            "1/1 [==============================] - 0s 10ms/step - loss: 0.0853 - mae: 0.2506\n",
            "Epoch 60/1200\n",
            "1/1 [==============================] - 0s 8ms/step - loss: 0.0847 - mae: 0.2498\n",
            "Epoch 61/1200\n",
            "1/1 [==============================] - 0s 7ms/step - loss: 0.0841 - mae: 0.2490\n",
            "Epoch 62/1200\n",
            "1/1 [==============================] - 0s 9ms/step - loss: 0.0836 - mae: 0.2481\n",
            "Epoch 63/1200\n",
            "1/1 [==============================] - 0s 9ms/step - loss: 0.0830 - mae: 0.2473\n",
            "Epoch 64/1200\n",
            "1/1 [==============================] - 0s 10ms/step - loss: 0.0824 - mae: 0.2464\n",
            "Epoch 65/1200\n",
            "1/1 [==============================] - 0s 9ms/step - loss: 0.0819 - mae: 0.2456\n",
            "Epoch 66/1200\n",
            "1/1 [==============================] - 0s 10ms/step - loss: 0.0813 - mae: 0.2448\n",
            "Epoch 67/1200\n",
            "1/1 [==============================] - 0s 8ms/step - loss: 0.0808 - mae: 0.2439\n",
            "Epoch 68/1200\n",
            "1/1 [==============================] - 0s 7ms/step - loss: 0.0802 - mae: 0.2431\n",
            "Epoch 69/1200\n",
            "1/1 [==============================] - 0s 8ms/step - loss: 0.0797 - mae: 0.2423\n",
            "Epoch 70/1200\n",
            "1/1 [==============================] - 0s 13ms/step - loss: 0.0792 - mae: 0.2415\n",
            "Epoch 71/1200\n",
            "1/1 [==============================] - 0s 7ms/step - loss: 0.0786 - mae: 0.2407\n",
            "Epoch 72/1200\n",
            "1/1 [==============================] - 0s 8ms/step - loss: 0.0781 - mae: 0.2398\n",
            "Epoch 73/1200\n",
            "1/1 [==============================] - 0s 10ms/step - loss: 0.0776 - mae: 0.2390\n",
            "Epoch 74/1200\n",
            "1/1 [==============================] - 0s 11ms/step - loss: 0.0770 - mae: 0.2382\n",
            "Epoch 75/1200\n",
            "1/1 [==============================] - 0s 8ms/step - loss: 0.0765 - mae: 0.2374\n",
            "Epoch 76/1200\n",
            "1/1 [==============================] - 0s 9ms/step - loss: 0.0760 - mae: 0.2366\n",
            "Epoch 77/1200\n",
            "1/1 [==============================] - 0s 9ms/step - loss: 0.0755 - mae: 0.2358\n",
            "Epoch 78/1200\n",
            "1/1 [==============================] - 0s 9ms/step - loss: 0.0750 - mae: 0.2350\n",
            "Epoch 79/1200\n",
            "1/1 [==============================] - 0s 10ms/step - loss: 0.0745 - mae: 0.2342\n",
            "Epoch 80/1200\n",
            "1/1 [==============================] - 0s 10ms/step - loss: 0.0740 - mae: 0.2334\n",
            "Epoch 81/1200\n",
            "1/1 [==============================] - 0s 9ms/step - loss: 0.0735 - mae: 0.2326\n",
            "Epoch 82/1200\n",
            "1/1 [==============================] - 0s 7ms/step - loss: 0.0730 - mae: 0.2319\n",
            "Epoch 83/1200\n",
            "1/1 [==============================] - 0s 7ms/step - loss: 0.0725 - mae: 0.2311\n",
            "Epoch 84/1200\n",
            "1/1 [==============================] - 0s 8ms/step - loss: 0.0720 - mae: 0.2303\n",
            "Epoch 85/1200\n",
            "1/1 [==============================] - 0s 8ms/step - loss: 0.0715 - mae: 0.2295\n",
            "Epoch 86/1200\n",
            "1/1 [==============================] - 0s 11ms/step - loss: 0.0710 - mae: 0.2287\n",
            "Epoch 87/1200\n",
            "1/1 [==============================] - 0s 9ms/step - loss: 0.0705 - mae: 0.2280\n",
            "Epoch 88/1200\n",
            "1/1 [==============================] - 0s 7ms/step - loss: 0.0701 - mae: 0.2272\n",
            "Epoch 89/1200\n",
            "1/1 [==============================] - 0s 7ms/step - loss: 0.0696 - mae: 0.2264\n",
            "Epoch 90/1200\n",
            "1/1 [==============================] - 0s 7ms/step - loss: 0.0691 - mae: 0.2257\n",
            "Epoch 91/1200\n",
            "1/1 [==============================] - 0s 8ms/step - loss: 0.0687 - mae: 0.2249\n",
            "Epoch 92/1200\n",
            "1/1 [==============================] - 0s 9ms/step - loss: 0.0682 - mae: 0.2241\n",
            "Epoch 93/1200\n",
            "1/1 [==============================] - 0s 7ms/step - loss: 0.0677 - mae: 0.2234\n",
            "Epoch 94/1200\n",
            "1/1 [==============================] - 0s 7ms/step - loss: 0.0673 - mae: 0.2226\n",
            "Epoch 95/1200\n",
            "1/1 [==============================] - 0s 6ms/step - loss: 0.0668 - mae: 0.2219\n",
            "Epoch 96/1200\n",
            "1/1 [==============================] - 0s 7ms/step - loss: 0.0664 - mae: 0.2211\n",
            "Epoch 97/1200\n",
            "1/1 [==============================] - 0s 6ms/step - loss: 0.0659 - mae: 0.2204\n",
            "Epoch 98/1200\n",
            "1/1 [==============================] - 0s 7ms/step - loss: 0.0655 - mae: 0.2196\n",
            "Epoch 99/1200\n",
            "1/1 [==============================] - 0s 12ms/step - loss: 0.0650 - mae: 0.2189\n",
            "Epoch 100/1200\n",
            "1/1 [==============================] - 0s 9ms/step - loss: 0.0646 - mae: 0.2182\n",
            "Epoch 101/1200\n",
            "1/1 [==============================] - 0s 11ms/step - loss: 0.0642 - mae: 0.2174\n",
            "Epoch 102/1200\n",
            "1/1 [==============================] - 0s 15ms/step - loss: 0.0637 - mae: 0.2167\n",
            "Epoch 103/1200\n",
            "1/1 [==============================] - 0s 11ms/step - loss: 0.0633 - mae: 0.2159\n",
            "Epoch 104/1200\n",
            "1/1 [==============================] - 0s 10ms/step - loss: 0.0629 - mae: 0.2152\n",
            "Epoch 105/1200\n",
            "1/1 [==============================] - 0s 12ms/step - loss: 0.0624 - mae: 0.2145\n",
            "Epoch 106/1200\n",
            "1/1 [==============================] - 0s 9ms/step - loss: 0.0620 - mae: 0.2138\n",
            "Epoch 107/1200\n",
            "1/1 [==============================] - 0s 10ms/step - loss: 0.0616 - mae: 0.2130\n",
            "Epoch 108/1200\n",
            "1/1 [==============================] - 0s 12ms/step - loss: 0.0612 - mae: 0.2123\n",
            "Epoch 109/1200\n",
            "1/1 [==============================] - 0s 8ms/step - loss: 0.0608 - mae: 0.2116\n",
            "Epoch 110/1200\n",
            "1/1 [==============================] - 0s 9ms/step - loss: 0.0604 - mae: 0.2109\n",
            "Epoch 111/1200\n",
            "1/1 [==============================] - 0s 10ms/step - loss: 0.0600 - mae: 0.2102\n",
            "Epoch 112/1200\n",
            "1/1 [==============================] - 0s 7ms/step - loss: 0.0596 - mae: 0.2095\n",
            "Epoch 113/1200\n",
            "1/1 [==============================] - 0s 8ms/step - loss: 0.0592 - mae: 0.2088\n",
            "Epoch 114/1200\n",
            "1/1 [==============================] - 0s 9ms/step - loss: 0.0588 - mae: 0.2080\n",
            "Epoch 115/1200\n",
            "1/1 [==============================] - 0s 9ms/step - loss: 0.0584 - mae: 0.2073\n",
            "Epoch 116/1200\n",
            "1/1 [==============================] - 0s 7ms/step - loss: 0.0580 - mae: 0.2066\n",
            "Epoch 117/1200\n",
            "1/1 [==============================] - 0s 9ms/step - loss: 0.0576 - mae: 0.2059\n",
            "Epoch 118/1200\n",
            "1/1 [==============================] - 0s 8ms/step - loss: 0.0572 - mae: 0.2052\n",
            "Epoch 119/1200\n",
            "1/1 [==============================] - 0s 8ms/step - loss: 0.0568 - mae: 0.2046\n",
            "Epoch 120/1200\n",
            "1/1 [==============================] - 0s 7ms/step - loss: 0.0564 - mae: 0.2039\n",
            "Epoch 121/1200\n",
            "1/1 [==============================] - 0s 7ms/step - loss: 0.0560 - mae: 0.2032\n",
            "Epoch 122/1200\n",
            "1/1 [==============================] - 0s 8ms/step - loss: 0.0557 - mae: 0.2025\n",
            "Epoch 123/1200\n",
            "1/1 [==============================] - 0s 11ms/step - loss: 0.0553 - mae: 0.2018\n",
            "Epoch 124/1200\n",
            "1/1 [==============================] - 0s 9ms/step - loss: 0.0549 - mae: 0.2011\n",
            "Epoch 125/1200\n",
            "1/1 [==============================] - 0s 8ms/step - loss: 0.0545 - mae: 0.2004\n",
            "Epoch 126/1200\n",
            "1/1 [==============================] - 0s 10ms/step - loss: 0.0542 - mae: 0.1998\n",
            "Epoch 127/1200\n",
            "1/1 [==============================] - 0s 8ms/step - loss: 0.0538 - mae: 0.1991\n",
            "Epoch 128/1200\n",
            "1/1 [==============================] - 0s 10ms/step - loss: 0.0534 - mae: 0.1984\n",
            "Epoch 129/1200\n",
            "1/1 [==============================] - 0s 8ms/step - loss: 0.0531 - mae: 0.1977\n",
            "Epoch 130/1200\n",
            "1/1 [==============================] - 0s 10ms/step - loss: 0.0527 - mae: 0.1971\n",
            "Epoch 131/1200\n",
            "1/1 [==============================] - 0s 10ms/step - loss: 0.0524 - mae: 0.1964\n",
            "Epoch 132/1200\n",
            "1/1 [==============================] - 0s 7ms/step - loss: 0.0520 - mae: 0.1957\n",
            "Epoch 133/1200\n",
            "1/1 [==============================] - 0s 7ms/step - loss: 0.0517 - mae: 0.1951\n",
            "Epoch 134/1200\n",
            "1/1 [==============================] - 0s 7ms/step - loss: 0.0513 - mae: 0.1944\n",
            "Epoch 135/1200\n",
            "1/1 [==============================] - 0s 9ms/step - loss: 0.0510 - mae: 0.1938\n",
            "Epoch 136/1200\n",
            "1/1 [==============================] - 0s 8ms/step - loss: 0.0506 - mae: 0.1931\n",
            "Epoch 137/1200\n",
            "1/1 [==============================] - 0s 12ms/step - loss: 0.0503 - mae: 0.1925\n",
            "Epoch 138/1200\n",
            "1/1 [==============================] - 0s 7ms/step - loss: 0.0499 - mae: 0.1918\n",
            "Epoch 139/1200\n",
            "1/1 [==============================] - 0s 8ms/step - loss: 0.0496 - mae: 0.1912\n",
            "Epoch 140/1200\n",
            "1/1 [==============================] - 0s 7ms/step - loss: 0.0493 - mae: 0.1905\n",
            "Epoch 141/1200\n",
            "1/1 [==============================] - 0s 9ms/step - loss: 0.0489 - mae: 0.1899\n",
            "Epoch 142/1200\n",
            "1/1 [==============================] - 0s 10ms/step - loss: 0.0486 - mae: 0.1892\n",
            "Epoch 143/1200\n",
            "1/1 [==============================] - 0s 10ms/step - loss: 0.0483 - mae: 0.1886\n",
            "Epoch 144/1200\n",
            "1/1 [==============================] - 0s 8ms/step - loss: 0.0479 - mae: 0.1879\n",
            "Epoch 145/1200\n",
            "1/1 [==============================] - 0s 11ms/step - loss: 0.0476 - mae: 0.1873\n",
            "Epoch 146/1200\n",
            "1/1 [==============================] - 0s 9ms/step - loss: 0.0473 - mae: 0.1867\n",
            "Epoch 147/1200\n",
            "1/1 [==============================] - 0s 7ms/step - loss: 0.0470 - mae: 0.1860\n",
            "Epoch 148/1200\n",
            "1/1 [==============================] - 0s 8ms/step - loss: 0.0467 - mae: 0.1854\n",
            "Epoch 149/1200\n",
            "1/1 [==============================] - 0s 9ms/step - loss: 0.0464 - mae: 0.1848\n",
            "Epoch 150/1200\n",
            "1/1 [==============================] - 0s 9ms/step - loss: 0.0460 - mae: 0.1842\n",
            "Epoch 151/1200\n",
            "1/1 [==============================] - 0s 10ms/step - loss: 0.0457 - mae: 0.1835\n",
            "Epoch 152/1200\n",
            "1/1 [==============================] - 0s 7ms/step - loss: 0.0454 - mae: 0.1829\n",
            "Epoch 153/1200\n",
            "1/1 [==============================] - 0s 9ms/step - loss: 0.0451 - mae: 0.1823\n",
            "Epoch 154/1200\n",
            "1/1 [==============================] - 0s 11ms/step - loss: 0.0448 - mae: 0.1817\n",
            "Epoch 155/1200\n",
            "1/1 [==============================] - 0s 8ms/step - loss: 0.0445 - mae: 0.1811\n",
            "Epoch 156/1200\n",
            "1/1 [==============================] - 0s 9ms/step - loss: 0.0442 - mae: 0.1805\n",
            "Epoch 157/1200\n",
            "1/1 [==============================] - 0s 10ms/step - loss: 0.0439 - mae: 0.1799\n",
            "Epoch 158/1200\n",
            "1/1 [==============================] - 0s 7ms/step - loss: 0.0436 - mae: 0.1792\n",
            "Epoch 159/1200\n",
            "1/1 [==============================] - 0s 7ms/step - loss: 0.0433 - mae: 0.1786\n",
            "Epoch 160/1200\n",
            "1/1 [==============================] - 0s 7ms/step - loss: 0.0430 - mae: 0.1780\n",
            "Epoch 161/1200\n",
            "1/1 [==============================] - 0s 6ms/step - loss: 0.0427 - mae: 0.1774\n",
            "Epoch 162/1200\n",
            "1/1 [==============================] - 0s 6ms/step - loss: 0.0424 - mae: 0.1768\n",
            "Epoch 163/1200\n",
            "1/1 [==============================] - 0s 7ms/step - loss: 0.0422 - mae: 0.1762\n",
            "Epoch 164/1200\n",
            "1/1 [==============================] - 0s 8ms/step - loss: 0.0419 - mae: 0.1756\n",
            "Epoch 165/1200\n",
            "1/1 [==============================] - 0s 8ms/step - loss: 0.0416 - mae: 0.1750\n",
            "Epoch 166/1200\n",
            "1/1 [==============================] - 0s 8ms/step - loss: 0.0413 - mae: 0.1745\n",
            "Epoch 167/1200\n",
            "1/1 [==============================] - 0s 7ms/step - loss: 0.0410 - mae: 0.1739\n",
            "Epoch 168/1200\n",
            "1/1 [==============================] - 0s 9ms/step - loss: 0.0408 - mae: 0.1733\n",
            "Epoch 169/1200\n",
            "1/1 [==============================] - 0s 7ms/step - loss: 0.0405 - mae: 0.1727\n",
            "Epoch 170/1200\n",
            "1/1 [==============================] - 0s 8ms/step - loss: 0.0402 - mae: 0.1721\n",
            "Epoch 171/1200\n",
            "1/1 [==============================] - 0s 5ms/step - loss: 0.0399 - mae: 0.1715\n",
            "Epoch 172/1200\n",
            "1/1 [==============================] - 0s 8ms/step - loss: 0.0397 - mae: 0.1709\n",
            "Epoch 173/1200\n",
            "1/1 [==============================] - 0s 6ms/step - loss: 0.0394 - mae: 0.1704\n",
            "Epoch 174/1200\n",
            "1/1 [==============================] - 0s 7ms/step - loss: 0.0391 - mae: 0.1698\n",
            "Epoch 175/1200\n",
            "1/1 [==============================] - 0s 7ms/step - loss: 0.0389 - mae: 0.1692\n",
            "Epoch 176/1200\n",
            "1/1 [==============================] - 0s 7ms/step - loss: 0.0386 - mae: 0.1686\n",
            "Epoch 177/1200\n",
            "1/1 [==============================] - 0s 8ms/step - loss: 0.0383 - mae: 0.1681\n",
            "Epoch 178/1200\n",
            "1/1 [==============================] - 0s 8ms/step - loss: 0.0381 - mae: 0.1675\n",
            "Epoch 179/1200\n",
            "1/1 [==============================] - 0s 7ms/step - loss: 0.0378 - mae: 0.1669\n",
            "Epoch 180/1200\n",
            "1/1 [==============================] - 0s 8ms/step - loss: 0.0376 - mae: 0.1664\n",
            "Epoch 181/1200\n",
            "1/1 [==============================] - 0s 7ms/step - loss: 0.0373 - mae: 0.1658\n",
            "Epoch 182/1200\n",
            "1/1 [==============================] - 0s 7ms/step - loss: 0.0371 - mae: 0.1653\n",
            "Epoch 183/1200\n",
            "1/1 [==============================] - 0s 6ms/step - loss: 0.0368 - mae: 0.1647\n",
            "Epoch 184/1200\n",
            "1/1 [==============================] - 0s 7ms/step - loss: 0.0366 - mae: 0.1641\n",
            "Epoch 185/1200\n",
            "1/1 [==============================] - 0s 8ms/step - loss: 0.0363 - mae: 0.1636\n",
            "Epoch 186/1200\n",
            "1/1 [==============================] - 0s 7ms/step - loss: 0.0361 - mae: 0.1630\n",
            "Epoch 187/1200\n",
            "1/1 [==============================] - 0s 9ms/step - loss: 0.0358 - mae: 0.1625\n",
            "Epoch 188/1200\n",
            "1/1 [==============================] - 0s 7ms/step - loss: 0.0356 - mae: 0.1619\n",
            "Epoch 189/1200\n",
            "1/1 [==============================] - 0s 7ms/step - loss: 0.0354 - mae: 0.1614\n",
            "Epoch 190/1200\n",
            "1/1 [==============================] - 0s 7ms/step - loss: 0.0351 - mae: 0.1608\n",
            "Epoch 191/1200\n",
            "1/1 [==============================] - 0s 7ms/step - loss: 0.0349 - mae: 0.1603\n",
            "Epoch 192/1200\n",
            "1/1 [==============================] - 0s 8ms/step - loss: 0.0346 - mae: 0.1597\n",
            "Epoch 193/1200\n",
            "1/1 [==============================] - 0s 7ms/step - loss: 0.0344 - mae: 0.1592\n",
            "Epoch 194/1200\n",
            "1/1 [==============================] - 0s 8ms/step - loss: 0.0342 - mae: 0.1587\n",
            "Epoch 195/1200\n",
            "1/1 [==============================] - 0s 7ms/step - loss: 0.0339 - mae: 0.1581\n",
            "Epoch 196/1200\n",
            "1/1 [==============================] - 0s 11ms/step - loss: 0.0337 - mae: 0.1576\n",
            "Epoch 197/1200\n",
            "1/1 [==============================] - 0s 13ms/step - loss: 0.0335 - mae: 0.1571\n",
            "Epoch 198/1200\n",
            "1/1 [==============================] - 0s 12ms/step - loss: 0.0333 - mae: 0.1565\n",
            "Epoch 199/1200\n",
            "1/1 [==============================] - 0s 13ms/step - loss: 0.0330 - mae: 0.1560\n",
            "Epoch 200/1200\n",
            "1/1 [==============================] - 0s 7ms/step - loss: 0.0328 - mae: 0.1555\n",
            "Epoch 201/1200\n",
            "1/1 [==============================] - 0s 7ms/step - loss: 0.0326 - mae: 0.1550\n",
            "Epoch 202/1200\n",
            "1/1 [==============================] - 0s 12ms/step - loss: 0.0324 - mae: 0.1544\n",
            "Epoch 203/1200\n",
            "1/1 [==============================] - 0s 10ms/step - loss: 0.0322 - mae: 0.1539\n",
            "Epoch 204/1200\n",
            "1/1 [==============================] - 0s 10ms/step - loss: 0.0319 - mae: 0.1534\n",
            "Epoch 205/1200\n",
            "1/1 [==============================] - 0s 11ms/step - loss: 0.0317 - mae: 0.1529\n",
            "Epoch 206/1200\n",
            "1/1 [==============================] - 0s 10ms/step - loss: 0.0315 - mae: 0.1524\n",
            "Epoch 207/1200\n",
            "1/1 [==============================] - 0s 7ms/step - loss: 0.0313 - mae: 0.1518\n",
            "Epoch 208/1200\n",
            "1/1 [==============================] - 0s 7ms/step - loss: 0.0311 - mae: 0.1513\n",
            "Epoch 209/1200\n",
            "1/1 [==============================] - 0s 7ms/step - loss: 0.0309 - mae: 0.1508\n",
            "Epoch 210/1200\n",
            "1/1 [==============================] - 0s 6ms/step - loss: 0.0307 - mae: 0.1503\n",
            "Epoch 211/1200\n",
            "1/1 [==============================] - 0s 10ms/step - loss: 0.0305 - mae: 0.1498\n",
            "Epoch 212/1200\n",
            "1/1 [==============================] - 0s 8ms/step - loss: 0.0303 - mae: 0.1493\n",
            "Epoch 213/1200\n",
            "1/1 [==============================] - 0s 7ms/step - loss: 0.0300 - mae: 0.1488\n",
            "Epoch 214/1200\n",
            "1/1 [==============================] - 0s 8ms/step - loss: 0.0298 - mae: 0.1483\n",
            "Epoch 215/1200\n",
            "1/1 [==============================] - 0s 8ms/step - loss: 0.0296 - mae: 0.1478\n",
            "Epoch 216/1200\n",
            "1/1 [==============================] - 0s 9ms/step - loss: 0.0294 - mae: 0.1473\n",
            "Epoch 217/1200\n",
            "1/1 [==============================] - 0s 7ms/step - loss: 0.0292 - mae: 0.1468\n",
            "Epoch 218/1200\n",
            "1/1 [==============================] - 0s 9ms/step - loss: 0.0290 - mae: 0.1463\n",
            "Epoch 219/1200\n",
            "1/1 [==============================] - 0s 8ms/step - loss: 0.0289 - mae: 0.1458\n",
            "Epoch 220/1200\n",
            "1/1 [==============================] - 0s 8ms/step - loss: 0.0287 - mae: 0.1453\n",
            "Epoch 221/1200\n",
            "1/1 [==============================] - 0s 9ms/step - loss: 0.0285 - mae: 0.1448\n",
            "Epoch 222/1200\n",
            "1/1 [==============================] - 0s 9ms/step - loss: 0.0283 - mae: 0.1443\n",
            "Epoch 223/1200\n",
            "1/1 [==============================] - 0s 9ms/step - loss: 0.0281 - mae: 0.1438\n",
            "Epoch 224/1200\n",
            "1/1 [==============================] - 0s 8ms/step - loss: 0.0279 - mae: 0.1433\n",
            "Epoch 225/1200\n",
            "1/1 [==============================] - 0s 10ms/step - loss: 0.0277 - mae: 0.1429\n",
            "Epoch 226/1200\n",
            "1/1 [==============================] - 0s 8ms/step - loss: 0.0275 - mae: 0.1424\n",
            "Epoch 227/1200\n",
            "1/1 [==============================] - 0s 7ms/step - loss: 0.0273 - mae: 0.1419\n",
            "Epoch 228/1200\n",
            "1/1 [==============================] - 0s 8ms/step - loss: 0.0271 - mae: 0.1414\n",
            "Epoch 229/1200\n",
            "1/1 [==============================] - 0s 7ms/step - loss: 0.0270 - mae: 0.1409\n",
            "Epoch 230/1200\n",
            "1/1 [==============================] - 0s 8ms/step - loss: 0.0268 - mae: 0.1405\n",
            "Epoch 231/1200\n",
            "1/1 [==============================] - 0s 9ms/step - loss: 0.0266 - mae: 0.1400\n",
            "Epoch 232/1200\n",
            "1/1 [==============================] - 0s 9ms/step - loss: 0.0264 - mae: 0.1395\n",
            "Epoch 233/1200\n",
            "1/1 [==============================] - 0s 9ms/step - loss: 0.0262 - mae: 0.1390\n",
            "Epoch 234/1200\n",
            "1/1 [==============================] - 0s 7ms/step - loss: 0.0261 - mae: 0.1386\n",
            "Epoch 235/1200\n",
            "1/1 [==============================] - 0s 8ms/step - loss: 0.0259 - mae: 0.1381\n",
            "Epoch 236/1200\n",
            "1/1 [==============================] - 0s 6ms/step - loss: 0.0257 - mae: 0.1376\n",
            "Epoch 237/1200\n",
            "1/1 [==============================] - 0s 7ms/step - loss: 0.0255 - mae: 0.1372\n",
            "Epoch 238/1200\n",
            "1/1 [==============================] - 0s 7ms/step - loss: 0.0254 - mae: 0.1367\n",
            "Epoch 239/1200\n",
            "1/1 [==============================] - 0s 9ms/step - loss: 0.0252 - mae: 0.1362\n",
            "Epoch 240/1200\n",
            "1/1 [==============================] - 0s 5ms/step - loss: 0.0250 - mae: 0.1358\n",
            "Epoch 241/1200\n",
            "1/1 [==============================] - 0s 9ms/step - loss: 0.0249 - mae: 0.1353\n",
            "Epoch 242/1200\n",
            "1/1 [==============================] - 0s 14ms/step - loss: 0.0247 - mae: 0.1349\n",
            "Epoch 243/1200\n",
            "1/1 [==============================] - 0s 7ms/step - loss: 0.0245 - mae: 0.1344\n",
            "Epoch 244/1200\n",
            "1/1 [==============================] - 0s 8ms/step - loss: 0.0244 - mae: 0.1340\n",
            "Epoch 245/1200\n",
            "1/1 [==============================] - 0s 12ms/step - loss: 0.0242 - mae: 0.1335\n",
            "Epoch 246/1200\n",
            "1/1 [==============================] - 0s 9ms/step - loss: 0.0240 - mae: 0.1331\n",
            "Epoch 247/1200\n",
            "1/1 [==============================] - 0s 6ms/step - loss: 0.0239 - mae: 0.1326\n",
            "Epoch 248/1200\n",
            "1/1 [==============================] - 0s 5ms/step - loss: 0.0237 - mae: 0.1322\n",
            "Epoch 249/1200\n",
            "1/1 [==============================] - 0s 6ms/step - loss: 0.0235 - mae: 0.1317\n",
            "Epoch 250/1200\n",
            "1/1 [==============================] - 0s 6ms/step - loss: 0.0234 - mae: 0.1313\n",
            "Epoch 251/1200\n",
            "1/1 [==============================] - 0s 5ms/step - loss: 0.0232 - mae: 0.1308\n",
            "Epoch 252/1200\n",
            "1/1 [==============================] - 0s 6ms/step - loss: 0.0231 - mae: 0.1304\n",
            "Epoch 253/1200\n",
            "1/1 [==============================] - 0s 5ms/step - loss: 0.0229 - mae: 0.1299\n",
            "Epoch 254/1200\n",
            "1/1 [==============================] - 0s 6ms/step - loss: 0.0228 - mae: 0.1295\n",
            "Epoch 255/1200\n",
            "1/1 [==============================] - 0s 8ms/step - loss: 0.0226 - mae: 0.1291\n",
            "Epoch 256/1200\n",
            "1/1 [==============================] - 0s 5ms/step - loss: 0.0225 - mae: 0.1286\n",
            "Epoch 257/1200\n",
            "1/1 [==============================] - 0s 5ms/step - loss: 0.0223 - mae: 0.1282\n",
            "Epoch 258/1200\n",
            "1/1 [==============================] - 0s 5ms/step - loss: 0.0222 - mae: 0.1278\n",
            "Epoch 259/1200\n",
            "1/1 [==============================] - 0s 6ms/step - loss: 0.0220 - mae: 0.1273\n",
            "Epoch 260/1200\n",
            "1/1 [==============================] - 0s 5ms/step - loss: 0.0219 - mae: 0.1269\n",
            "Epoch 261/1200\n",
            "1/1 [==============================] - 0s 5ms/step - loss: 0.0217 - mae: 0.1265\n",
            "Epoch 262/1200\n",
            "1/1 [==============================] - 0s 9ms/step - loss: 0.0216 - mae: 0.1260\n",
            "Epoch 263/1200\n",
            "1/1 [==============================] - 0s 6ms/step - loss: 0.0214 - mae: 0.1256\n",
            "Epoch 264/1200\n",
            "1/1 [==============================] - 0s 5ms/step - loss: 0.0213 - mae: 0.1252\n",
            "Epoch 265/1200\n",
            "1/1 [==============================] - 0s 6ms/step - loss: 0.0211 - mae: 0.1248\n",
            "Epoch 266/1200\n",
            "1/1 [==============================] - 0s 5ms/step - loss: 0.0210 - mae: 0.1243\n",
            "Epoch 267/1200\n",
            "1/1 [==============================] - 0s 6ms/step - loss: 0.0208 - mae: 0.1239\n",
            "Epoch 268/1200\n",
            "1/1 [==============================] - 0s 6ms/step - loss: 0.0207 - mae: 0.1235\n",
            "Epoch 269/1200\n",
            "1/1 [==============================] - 0s 5ms/step - loss: 0.0206 - mae: 0.1231\n",
            "Epoch 270/1200\n",
            "1/1 [==============================] - 0s 5ms/step - loss: 0.0204 - mae: 0.1227\n",
            "Epoch 271/1200\n",
            "1/1 [==============================] - 0s 6ms/step - loss: 0.0203 - mae: 0.1222\n",
            "Epoch 272/1200\n",
            "1/1 [==============================] - 0s 5ms/step - loss: 0.0201 - mae: 0.1218\n",
            "Epoch 273/1200\n",
            "1/1 [==============================] - 0s 6ms/step - loss: 0.0200 - mae: 0.1214\n",
            "Epoch 274/1200\n",
            "1/1 [==============================] - 0s 5ms/step - loss: 0.0199 - mae: 0.1210\n",
            "Epoch 275/1200\n",
            "1/1 [==============================] - 0s 6ms/step - loss: 0.0197 - mae: 0.1206\n",
            "Epoch 276/1200\n",
            "1/1 [==============================] - 0s 6ms/step - loss: 0.0196 - mae: 0.1202\n",
            "Epoch 277/1200\n",
            "1/1 [==============================] - 0s 6ms/step - loss: 0.0195 - mae: 0.1198\n",
            "Epoch 278/1200\n",
            "1/1 [==============================] - 0s 6ms/step - loss: 0.0193 - mae: 0.1194\n",
            "Epoch 279/1200\n",
            "1/1 [==============================] - 0s 9ms/step - loss: 0.0192 - mae: 0.1190\n",
            "Epoch 280/1200\n",
            "1/1 [==============================] - 0s 7ms/step - loss: 0.0191 - mae: 0.1186\n",
            "Epoch 281/1200\n",
            "1/1 [==============================] - 0s 10ms/step - loss: 0.0190 - mae: 0.1182\n",
            "Epoch 282/1200\n",
            "1/1 [==============================] - 0s 5ms/step - loss: 0.0188 - mae: 0.1178\n",
            "Epoch 283/1200\n",
            "1/1 [==============================] - 0s 10ms/step - loss: 0.0187 - mae: 0.1174\n",
            "Epoch 284/1200\n",
            "1/1 [==============================] - 0s 11ms/step - loss: 0.0186 - mae: 0.1170\n",
            "Epoch 285/1200\n",
            "1/1 [==============================] - 0s 13ms/step - loss: 0.0185 - mae: 0.1166\n",
            "Epoch 286/1200\n",
            "1/1 [==============================] - 0s 10ms/step - loss: 0.0183 - mae: 0.1162\n",
            "Epoch 287/1200\n",
            "1/1 [==============================] - 0s 9ms/step - loss: 0.0182 - mae: 0.1158\n",
            "Epoch 288/1200\n",
            "1/1 [==============================] - 0s 10ms/step - loss: 0.0181 - mae: 0.1154\n",
            "Epoch 289/1200\n",
            "1/1 [==============================] - 0s 9ms/step - loss: 0.0180 - mae: 0.1150\n",
            "Epoch 290/1200\n",
            "1/1 [==============================] - 0s 10ms/step - loss: 0.0178 - mae: 0.1146\n",
            "Epoch 291/1200\n",
            "1/1 [==============================] - 0s 9ms/step - loss: 0.0177 - mae: 0.1142\n",
            "Epoch 292/1200\n",
            "1/1 [==============================] - 0s 9ms/step - loss: 0.0176 - mae: 0.1139\n",
            "Epoch 293/1200\n",
            "1/1 [==============================] - 0s 10ms/step - loss: 0.0175 - mae: 0.1135\n",
            "Epoch 294/1200\n",
            "1/1 [==============================] - 0s 12ms/step - loss: 0.0174 - mae: 0.1131\n",
            "Epoch 295/1200\n",
            "1/1 [==============================] - 0s 13ms/step - loss: 0.0172 - mae: 0.1127\n",
            "Epoch 296/1200\n",
            "1/1 [==============================] - 0s 8ms/step - loss: 0.0171 - mae: 0.1123\n",
            "Epoch 297/1200\n",
            "1/1 [==============================] - 0s 12ms/step - loss: 0.0170 - mae: 0.1119\n",
            "Epoch 298/1200\n",
            "1/1 [==============================] - 0s 17ms/step - loss: 0.0169 - mae: 0.1116\n",
            "Epoch 299/1200\n",
            "1/1 [==============================] - 0s 11ms/step - loss: 0.0168 - mae: 0.1112\n",
            "Epoch 300/1200\n",
            "1/1 [==============================] - 0s 10ms/step - loss: 0.0167 - mae: 0.1108\n",
            "Epoch 301/1200\n",
            "1/1 [==============================] - 0s 10ms/step - loss: 0.0166 - mae: 0.1104\n",
            "Epoch 302/1200\n",
            "1/1 [==============================] - 0s 8ms/step - loss: 0.0164 - mae: 0.1101\n",
            "Epoch 303/1200\n",
            "1/1 [==============================] - 0s 10ms/step - loss: 0.0163 - mae: 0.1097\n",
            "Epoch 304/1200\n",
            "1/1 [==============================] - 0s 10ms/step - loss: 0.0162 - mae: 0.1093\n",
            "Epoch 305/1200\n",
            "1/1 [==============================] - 0s 10ms/step - loss: 0.0161 - mae: 0.1090\n",
            "Epoch 306/1200\n",
            "1/1 [==============================] - 0s 9ms/step - loss: 0.0160 - mae: 0.1086\n",
            "Epoch 307/1200\n",
            "1/1 [==============================] - 0s 5ms/step - loss: 0.0159 - mae: 0.1082\n",
            "Epoch 308/1200\n",
            "1/1 [==============================] - 0s 10ms/step - loss: 0.0158 - mae: 0.1079\n",
            "Epoch 309/1200\n",
            "1/1 [==============================] - 0s 8ms/step - loss: 0.0157 - mae: 0.1075\n",
            "Epoch 310/1200\n",
            "1/1 [==============================] - 0s 11ms/step - loss: 0.0156 - mae: 0.1071\n",
            "Epoch 311/1200\n",
            "1/1 [==============================] - 0s 10ms/step - loss: 0.0155 - mae: 0.1068\n",
            "Epoch 312/1200\n",
            "1/1 [==============================] - 0s 12ms/step - loss: 0.0154 - mae: 0.1064\n",
            "Epoch 313/1200\n",
            "1/1 [==============================] - 0s 13ms/step - loss: 0.0153 - mae: 0.1060\n",
            "Epoch 314/1200\n",
            "1/1 [==============================] - 0s 8ms/step - loss: 0.0152 - mae: 0.1057\n",
            "Epoch 315/1200\n",
            "1/1 [==============================] - 0s 9ms/step - loss: 0.0151 - mae: 0.1053\n",
            "Epoch 316/1200\n",
            "1/1 [==============================] - 0s 6ms/step - loss: 0.0150 - mae: 0.1050\n",
            "Epoch 317/1200\n",
            "1/1 [==============================] - 0s 6ms/step - loss: 0.0149 - mae: 0.1046\n",
            "Epoch 318/1200\n",
            "1/1 [==============================] - 0s 9ms/step - loss: 0.0148 - mae: 0.1043\n",
            "Epoch 319/1200\n",
            "1/1 [==============================] - 0s 6ms/step - loss: 0.0147 - mae: 0.1039\n",
            "Epoch 320/1200\n",
            "1/1 [==============================] - 0s 8ms/step - loss: 0.0146 - mae: 0.1036\n",
            "Epoch 321/1200\n",
            "1/1 [==============================] - 0s 9ms/step - loss: 0.0145 - mae: 0.1032\n",
            "Epoch 322/1200\n",
            "1/1 [==============================] - 0s 9ms/step - loss: 0.0144 - mae: 0.1029\n",
            "Epoch 323/1200\n",
            "1/1 [==============================] - 0s 7ms/step - loss: 0.0143 - mae: 0.1025\n",
            "Epoch 324/1200\n",
            "1/1 [==============================] - 0s 7ms/step - loss: 0.0142 - mae: 0.1022\n",
            "Epoch 325/1200\n",
            "1/1 [==============================] - 0s 7ms/step - loss: 0.0141 - mae: 0.1018\n",
            "Epoch 326/1200\n",
            "1/1 [==============================] - 0s 7ms/step - loss: 0.0140 - mae: 0.1015\n",
            "Epoch 327/1200\n",
            "1/1 [==============================] - 0s 7ms/step - loss: 0.0139 - mae: 0.1011\n",
            "Epoch 328/1200\n",
            "1/1 [==============================] - 0s 8ms/step - loss: 0.0138 - mae: 0.1008\n",
            "Epoch 329/1200\n",
            "1/1 [==============================] - 0s 9ms/step - loss: 0.0137 - mae: 0.1004\n",
            "Epoch 330/1200\n",
            "1/1 [==============================] - 0s 11ms/step - loss: 0.0136 - mae: 0.1001\n",
            "Epoch 331/1200\n",
            "1/1 [==============================] - 0s 8ms/step - loss: 0.0135 - mae: 0.0998\n",
            "Epoch 332/1200\n",
            "1/1 [==============================] - 0s 11ms/step - loss: 0.0134 - mae: 0.0994\n",
            "Epoch 333/1200\n",
            "1/1 [==============================] - 0s 9ms/step - loss: 0.0133 - mae: 0.0991\n",
            "Epoch 334/1200\n",
            "1/1 [==============================] - 0s 9ms/step - loss: 0.0132 - mae: 0.0988\n",
            "Epoch 335/1200\n",
            "1/1 [==============================] - 0s 9ms/step - loss: 0.0131 - mae: 0.0984\n",
            "Epoch 336/1200\n",
            "1/1 [==============================] - 0s 7ms/step - loss: 0.0131 - mae: 0.0981\n",
            "Epoch 337/1200\n",
            "1/1 [==============================] - 0s 9ms/step - loss: 0.0130 - mae: 0.0978\n",
            "Epoch 338/1200\n",
            "1/1 [==============================] - 0s 8ms/step - loss: 0.0129 - mae: 0.0974\n",
            "Epoch 339/1200\n",
            "1/1 [==============================] - 0s 5ms/step - loss: 0.0128 - mae: 0.0971\n",
            "Epoch 340/1200\n",
            "1/1 [==============================] - 0s 5ms/step - loss: 0.0127 - mae: 0.0968\n",
            "Epoch 341/1200\n",
            "1/1 [==============================] - 0s 9ms/step - loss: 0.0126 - mae: 0.0964\n",
            "Epoch 342/1200\n",
            "1/1 [==============================] - 0s 6ms/step - loss: 0.0125 - mae: 0.0961\n",
            "Epoch 343/1200\n",
            "1/1 [==============================] - 0s 5ms/step - loss: 0.0125 - mae: 0.0958\n",
            "Epoch 344/1200\n",
            "1/1 [==============================] - 0s 6ms/step - loss: 0.0124 - mae: 0.0955\n",
            "Epoch 345/1200\n",
            "1/1 [==============================] - 0s 7ms/step - loss: 0.0123 - mae: 0.0951\n",
            "Epoch 346/1200\n",
            "1/1 [==============================] - 0s 9ms/step - loss: 0.0122 - mae: 0.0948\n",
            "Epoch 347/1200\n",
            "1/1 [==============================] - 0s 7ms/step - loss: 0.0121 - mae: 0.0945\n",
            "Epoch 348/1200\n",
            "1/1 [==============================] - 0s 7ms/step - loss: 0.0120 - mae: 0.0942\n",
            "Epoch 349/1200\n",
            "1/1 [==============================] - 0s 9ms/step - loss: 0.0120 - mae: 0.0939\n",
            "Epoch 350/1200\n",
            "1/1 [==============================] - 0s 16ms/step - loss: 0.0119 - mae: 0.0936\n",
            "Epoch 351/1200\n",
            "1/1 [==============================] - 0s 8ms/step - loss: 0.0118 - mae: 0.0932\n",
            "Epoch 352/1200\n",
            "1/1 [==============================] - 0s 9ms/step - loss: 0.0117 - mae: 0.0929\n",
            "Epoch 353/1200\n",
            "1/1 [==============================] - 0s 10ms/step - loss: 0.0116 - mae: 0.0926\n",
            "Epoch 354/1200\n",
            "1/1 [==============================] - 0s 9ms/step - loss: 0.0116 - mae: 0.0923\n",
            "Epoch 355/1200\n",
            "1/1 [==============================] - 0s 8ms/step - loss: 0.0115 - mae: 0.0920\n",
            "Epoch 356/1200\n",
            "1/1 [==============================] - 0s 9ms/step - loss: 0.0114 - mae: 0.0917\n",
            "Epoch 357/1200\n",
            "1/1 [==============================] - 0s 9ms/step - loss: 0.0113 - mae: 0.0914\n",
            "Epoch 358/1200\n",
            "1/1 [==============================] - 0s 10ms/step - loss: 0.0113 - mae: 0.0911\n",
            "Epoch 359/1200\n",
            "1/1 [==============================] - 0s 8ms/step - loss: 0.0112 - mae: 0.0907\n",
            "Epoch 360/1200\n",
            "1/1 [==============================] - 0s 7ms/step - loss: 0.0111 - mae: 0.0904\n",
            "Epoch 361/1200\n",
            "1/1 [==============================] - 0s 8ms/step - loss: 0.0110 - mae: 0.0901\n",
            "Epoch 362/1200\n",
            "1/1 [==============================] - 0s 10ms/step - loss: 0.0110 - mae: 0.0898\n",
            "Epoch 363/1200\n",
            "1/1 [==============================] - 0s 10ms/step - loss: 0.0109 - mae: 0.0895\n",
            "Epoch 364/1200\n",
            "1/1 [==============================] - 0s 7ms/step - loss: 0.0108 - mae: 0.0892\n",
            "Epoch 365/1200\n",
            "1/1 [==============================] - 0s 12ms/step - loss: 0.0107 - mae: 0.0889\n",
            "Epoch 366/1200\n",
            "1/1 [==============================] - 0s 11ms/step - loss: 0.0107 - mae: 0.0886\n",
            "Epoch 367/1200\n",
            "1/1 [==============================] - 0s 8ms/step - loss: 0.0106 - mae: 0.0883\n",
            "Epoch 368/1200\n",
            "1/1 [==============================] - 0s 8ms/step - loss: 0.0105 - mae: 0.0880\n",
            "Epoch 369/1200\n",
            "1/1 [==============================] - 0s 10ms/step - loss: 0.0104 - mae: 0.0877\n",
            "Epoch 370/1200\n",
            "1/1 [==============================] - 0s 8ms/step - loss: 0.0104 - mae: 0.0874\n",
            "Epoch 371/1200\n",
            "1/1 [==============================] - 0s 7ms/step - loss: 0.0103 - mae: 0.0871\n",
            "Epoch 372/1200\n",
            "1/1 [==============================] - 0s 8ms/step - loss: 0.0102 - mae: 0.0868\n",
            "Epoch 373/1200\n",
            "1/1 [==============================] - 0s 8ms/step - loss: 0.0102 - mae: 0.0865\n",
            "Epoch 374/1200\n",
            "1/1 [==============================] - 0s 10ms/step - loss: 0.0101 - mae: 0.0862\n",
            "Epoch 375/1200\n",
            "1/1 [==============================] - 0s 7ms/step - loss: 0.0100 - mae: 0.0860\n",
            "Epoch 376/1200\n",
            "1/1 [==============================] - 0s 7ms/step - loss: 0.0100 - mae: 0.0857\n",
            "Epoch 377/1200\n",
            "1/1 [==============================] - 0s 9ms/step - loss: 0.0099 - mae: 0.0854\n",
            "Epoch 378/1200\n",
            "1/1 [==============================] - 0s 11ms/step - loss: 0.0098 - mae: 0.0851\n",
            "Epoch 379/1200\n",
            "1/1 [==============================] - 0s 9ms/step - loss: 0.0098 - mae: 0.0848\n",
            "Epoch 380/1200\n",
            "1/1 [==============================] - 0s 7ms/step - loss: 0.0097 - mae: 0.0845\n",
            "Epoch 381/1200\n",
            "1/1 [==============================] - 0s 8ms/step - loss: 0.0096 - mae: 0.0842\n",
            "Epoch 382/1200\n",
            "1/1 [==============================] - 0s 8ms/step - loss: 0.0096 - mae: 0.0839\n",
            "Epoch 383/1200\n",
            "1/1 [==============================] - 0s 5ms/step - loss: 0.0095 - mae: 0.0837\n",
            "Epoch 384/1200\n",
            "1/1 [==============================] - 0s 7ms/step - loss: 0.0094 - mae: 0.0834\n",
            "Epoch 385/1200\n",
            "1/1 [==============================] - 0s 7ms/step - loss: 0.0094 - mae: 0.0831\n",
            "Epoch 386/1200\n",
            "1/1 [==============================] - 0s 7ms/step - loss: 0.0093 - mae: 0.0828\n",
            "Epoch 387/1200\n",
            "1/1 [==============================] - 0s 10ms/step - loss: 0.0092 - mae: 0.0825\n",
            "Epoch 388/1200\n",
            "1/1 [==============================] - 0s 10ms/step - loss: 0.0092 - mae: 0.0823\n",
            "Epoch 389/1200\n",
            "1/1 [==============================] - 0s 9ms/step - loss: 0.0091 - mae: 0.0820\n",
            "Epoch 390/1200\n",
            "1/1 [==============================] - 0s 8ms/step - loss: 0.0091 - mae: 0.0817\n",
            "Epoch 391/1200\n",
            "1/1 [==============================] - 0s 7ms/step - loss: 0.0090 - mae: 0.0814\n",
            "Epoch 392/1200\n",
            "1/1 [==============================] - 0s 8ms/step - loss: 0.0089 - mae: 0.0811\n",
            "Epoch 393/1200\n",
            "1/1 [==============================] - 0s 9ms/step - loss: 0.0089 - mae: 0.0809\n",
            "Epoch 394/1200\n",
            "1/1 [==============================] - 0s 9ms/step - loss: 0.0088 - mae: 0.0806\n",
            "Epoch 395/1200\n",
            "1/1 [==============================] - 0s 12ms/step - loss: 0.0088 - mae: 0.0803\n",
            "Epoch 396/1200\n",
            "1/1 [==============================] - 0s 11ms/step - loss: 0.0087 - mae: 0.0801\n",
            "Epoch 397/1200\n",
            "1/1 [==============================] - 0s 7ms/step - loss: 0.0086 - mae: 0.0798\n",
            "Epoch 398/1200\n",
            "1/1 [==============================] - 0s 16ms/step - loss: 0.0086 - mae: 0.0795\n",
            "Epoch 399/1200\n",
            "1/1 [==============================] - 0s 7ms/step - loss: 0.0085 - mae: 0.0792\n",
            "Epoch 400/1200\n",
            "1/1 [==============================] - 0s 8ms/step - loss: 0.0085 - mae: 0.0790\n",
            "Epoch 401/1200\n",
            "1/1 [==============================] - 0s 9ms/step - loss: 0.0084 - mae: 0.0787\n",
            "Epoch 402/1200\n",
            "1/1 [==============================] - 0s 7ms/step - loss: 0.0084 - mae: 0.0784\n",
            "Epoch 403/1200\n",
            "1/1 [==============================] - 0s 8ms/step - loss: 0.0083 - mae: 0.0782\n",
            "Epoch 404/1200\n",
            "1/1 [==============================] - 0s 7ms/step - loss: 0.0082 - mae: 0.0779\n",
            "Epoch 405/1200\n",
            "1/1 [==============================] - 0s 9ms/step - loss: 0.0082 - mae: 0.0777\n",
            "Epoch 406/1200\n",
            "1/1 [==============================] - 0s 10ms/step - loss: 0.0081 - mae: 0.0774\n",
            "Epoch 407/1200\n",
            "1/1 [==============================] - 0s 8ms/step - loss: 0.0081 - mae: 0.0771\n",
            "Epoch 408/1200\n",
            "1/1 [==============================] - 0s 10ms/step - loss: 0.0080 - mae: 0.0769\n",
            "Epoch 409/1200\n",
            "1/1 [==============================] - 0s 9ms/step - loss: 0.0080 - mae: 0.0766\n",
            "Epoch 410/1200\n",
            "1/1 [==============================] - 0s 5ms/step - loss: 0.0079 - mae: 0.0763\n",
            "Epoch 411/1200\n",
            "1/1 [==============================] - 0s 9ms/step - loss: 0.0079 - mae: 0.0761\n",
            "Epoch 412/1200\n",
            "1/1 [==============================] - 0s 9ms/step - loss: 0.0078 - mae: 0.0758\n",
            "Epoch 413/1200\n",
            "1/1 [==============================] - 0s 6ms/step - loss: 0.0078 - mae: 0.0756\n",
            "Epoch 414/1200\n",
            "1/1 [==============================] - 0s 8ms/step - loss: 0.0077 - mae: 0.0753\n",
            "Epoch 415/1200\n",
            "1/1 [==============================] - 0s 9ms/step - loss: 0.0076 - mae: 0.0751\n",
            "Epoch 416/1200\n",
            "1/1 [==============================] - 0s 8ms/step - loss: 0.0076 - mae: 0.0748\n",
            "Epoch 417/1200\n",
            "1/1 [==============================] - 0s 7ms/step - loss: 0.0075 - mae: 0.0746\n",
            "Epoch 418/1200\n",
            "1/1 [==============================] - 0s 15ms/step - loss: 0.0075 - mae: 0.0743\n",
            "Epoch 419/1200\n",
            "1/1 [==============================] - 0s 9ms/step - loss: 0.0074 - mae: 0.0741\n",
            "Epoch 420/1200\n",
            "1/1 [==============================] - 0s 9ms/step - loss: 0.0074 - mae: 0.0738\n",
            "Epoch 421/1200\n",
            "1/1 [==============================] - 0s 7ms/step - loss: 0.0073 - mae: 0.0736\n",
            "Epoch 422/1200\n",
            "1/1 [==============================] - 0s 21ms/step - loss: 0.0073 - mae: 0.0733\n",
            "Epoch 423/1200\n",
            "1/1 [==============================] - 0s 12ms/step - loss: 0.0072 - mae: 0.0731\n",
            "Epoch 424/1200\n",
            "1/1 [==============================] - 0s 9ms/step - loss: 0.0072 - mae: 0.0728\n",
            "Epoch 425/1200\n",
            "1/1 [==============================] - 0s 15ms/step - loss: 0.0071 - mae: 0.0726\n",
            "Epoch 426/1200\n",
            "1/1 [==============================] - 0s 10ms/step - loss: 0.0071 - mae: 0.0723\n",
            "Epoch 427/1200\n",
            "1/1 [==============================] - 0s 10ms/step - loss: 0.0071 - mae: 0.0721\n",
            "Epoch 428/1200\n",
            "1/1 [==============================] - 0s 9ms/step - loss: 0.0070 - mae: 0.0718\n",
            "Epoch 429/1200\n",
            "1/1 [==============================] - 0s 9ms/step - loss: 0.0070 - mae: 0.0716\n",
            "Epoch 430/1200\n",
            "1/1 [==============================] - 0s 8ms/step - loss: 0.0069 - mae: 0.0713\n",
            "Epoch 431/1200\n",
            "1/1 [==============================] - 0s 9ms/step - loss: 0.0069 - mae: 0.0711\n",
            "Epoch 432/1200\n",
            "1/1 [==============================] - 0s 7ms/step - loss: 0.0068 - mae: 0.0709\n",
            "Epoch 433/1200\n",
            "1/1 [==============================] - 0s 9ms/step - loss: 0.0068 - mae: 0.0706\n",
            "Epoch 434/1200\n",
            "1/1 [==============================] - 0s 12ms/step - loss: 0.0067 - mae: 0.0704\n",
            "Epoch 435/1200\n",
            "1/1 [==============================] - 0s 7ms/step - loss: 0.0067 - mae: 0.0702\n",
            "Epoch 436/1200\n",
            "1/1 [==============================] - 0s 9ms/step - loss: 0.0066 - mae: 0.0699\n",
            "Epoch 437/1200\n",
            "1/1 [==============================] - 0s 8ms/step - loss: 0.0066 - mae: 0.0697\n",
            "Epoch 438/1200\n",
            "1/1 [==============================] - 0s 8ms/step - loss: 0.0065 - mae: 0.0694\n",
            "Epoch 439/1200\n",
            "1/1 [==============================] - 0s 7ms/step - loss: 0.0065 - mae: 0.0692\n",
            "Epoch 440/1200\n",
            "1/1 [==============================] - 0s 7ms/step - loss: 0.0065 - mae: 0.0690\n",
            "Epoch 441/1200\n",
            "1/1 [==============================] - 0s 10ms/step - loss: 0.0064 - mae: 0.0687\n",
            "Epoch 442/1200\n",
            "1/1 [==============================] - 0s 9ms/step - loss: 0.0064 - mae: 0.0685\n",
            "Epoch 443/1200\n",
            "1/1 [==============================] - 0s 7ms/step - loss: 0.0063 - mae: 0.0683\n",
            "Epoch 444/1200\n",
            "1/1 [==============================] - 0s 8ms/step - loss: 0.0063 - mae: 0.0680\n",
            "Epoch 445/1200\n",
            "1/1 [==============================] - 0s 9ms/step - loss: 0.0062 - mae: 0.0678\n",
            "Epoch 446/1200\n",
            "1/1 [==============================] - 0s 8ms/step - loss: 0.0062 - mae: 0.0676\n",
            "Epoch 447/1200\n",
            "1/1 [==============================] - 0s 10ms/step - loss: 0.0062 - mae: 0.0674\n",
            "Epoch 448/1200\n",
            "1/1 [==============================] - 0s 8ms/step - loss: 0.0061 - mae: 0.0671\n",
            "Epoch 449/1200\n",
            "1/1 [==============================] - 0s 10ms/step - loss: 0.0061 - mae: 0.0669\n",
            "Epoch 450/1200\n",
            "1/1 [==============================] - 0s 9ms/step - loss: 0.0060 - mae: 0.0667\n",
            "Epoch 451/1200\n",
            "1/1 [==============================] - 0s 9ms/step - loss: 0.0060 - mae: 0.0665\n",
            "Epoch 452/1200\n",
            "1/1 [==============================] - 0s 9ms/step - loss: 0.0060 - mae: 0.0662\n",
            "Epoch 453/1200\n",
            "1/1 [==============================] - 0s 7ms/step - loss: 0.0059 - mae: 0.0660\n",
            "Epoch 454/1200\n",
            "1/1 [==============================] - 0s 7ms/step - loss: 0.0059 - mae: 0.0658\n",
            "Epoch 455/1200\n",
            "1/1 [==============================] - 0s 7ms/step - loss: 0.0058 - mae: 0.0656\n",
            "Epoch 456/1200\n",
            "1/1 [==============================] - 0s 7ms/step - loss: 0.0058 - mae: 0.0653\n",
            "Epoch 457/1200\n",
            "1/1 [==============================] - 0s 8ms/step - loss: 0.0058 - mae: 0.0651\n",
            "Epoch 458/1200\n",
            "1/1 [==============================] - 0s 8ms/step - loss: 0.0057 - mae: 0.0649\n",
            "Epoch 459/1200\n",
            "1/1 [==============================] - 0s 8ms/step - loss: 0.0057 - mae: 0.0647\n",
            "Epoch 460/1200\n",
            "1/1 [==============================] - 0s 5ms/step - loss: 0.0056 - mae: 0.0645\n",
            "Epoch 461/1200\n",
            "1/1 [==============================] - 0s 8ms/step - loss: 0.0056 - mae: 0.0642\n",
            "Epoch 462/1200\n",
            "1/1 [==============================] - 0s 8ms/step - loss: 0.0056 - mae: 0.0640\n",
            "Epoch 463/1200\n",
            "1/1 [==============================] - 0s 7ms/step - loss: 0.0055 - mae: 0.0638\n",
            "Epoch 464/1200\n",
            "1/1 [==============================] - 0s 16ms/step - loss: 0.0055 - mae: 0.0636\n",
            "Epoch 465/1200\n",
            "1/1 [==============================] - 0s 7ms/step - loss: 0.0055 - mae: 0.0634\n",
            "Epoch 466/1200\n",
            "1/1 [==============================] - 0s 8ms/step - loss: 0.0054 - mae: 0.0632\n",
            "Epoch 467/1200\n",
            "1/1 [==============================] - 0s 9ms/step - loss: 0.0054 - mae: 0.0629\n",
            "Epoch 468/1200\n",
            "1/1 [==============================] - 0s 9ms/step - loss: 0.0053 - mae: 0.0627\n",
            "Epoch 469/1200\n",
            "1/1 [==============================] - 0s 7ms/step - loss: 0.0053 - mae: 0.0625\n",
            "Epoch 470/1200\n",
            "1/1 [==============================] - 0s 10ms/step - loss: 0.0053 - mae: 0.0623\n",
            "Epoch 471/1200\n",
            "1/1 [==============================] - 0s 10ms/step - loss: 0.0052 - mae: 0.0621\n",
            "Epoch 472/1200\n",
            "1/1 [==============================] - 0s 12ms/step - loss: 0.0052 - mae: 0.0619\n",
            "Epoch 473/1200\n",
            "1/1 [==============================] - 0s 8ms/step - loss: 0.0052 - mae: 0.0617\n",
            "Epoch 474/1200\n",
            "1/1 [==============================] - 0s 7ms/step - loss: 0.0051 - mae: 0.0615\n",
            "Epoch 475/1200\n",
            "1/1 [==============================] - 0s 8ms/step - loss: 0.0051 - mae: 0.0613\n",
            "Epoch 476/1200\n",
            "1/1 [==============================] - 0s 8ms/step - loss: 0.0051 - mae: 0.0611\n",
            "Epoch 477/1200\n",
            "1/1 [==============================] - 0s 7ms/step - loss: 0.0050 - mae: 0.0608\n",
            "Epoch 478/1200\n",
            "1/1 [==============================] - 0s 7ms/step - loss: 0.0050 - mae: 0.0606\n",
            "Epoch 479/1200\n",
            "1/1 [==============================] - 0s 8ms/step - loss: 0.0050 - mae: 0.0604\n",
            "Epoch 480/1200\n",
            "1/1 [==============================] - 0s 8ms/step - loss: 0.0049 - mae: 0.0602\n",
            "Epoch 481/1200\n",
            "1/1 [==============================] - 0s 9ms/step - loss: 0.0049 - mae: 0.0600\n",
            "Epoch 482/1200\n",
            "1/1 [==============================] - 0s 8ms/step - loss: 0.0049 - mae: 0.0598\n",
            "Epoch 483/1200\n",
            "1/1 [==============================] - 0s 10ms/step - loss: 0.0048 - mae: 0.0596\n",
            "Epoch 484/1200\n",
            "1/1 [==============================] - 0s 9ms/step - loss: 0.0048 - mae: 0.0594\n",
            "Epoch 485/1200\n",
            "1/1 [==============================] - 0s 7ms/step - loss: 0.0048 - mae: 0.0592\n",
            "Epoch 486/1200\n",
            "1/1 [==============================] - 0s 11ms/step - loss: 0.0047 - mae: 0.0590\n",
            "Epoch 487/1200\n",
            "1/1 [==============================] - 0s 8ms/step - loss: 0.0047 - mae: 0.0588\n",
            "Epoch 488/1200\n",
            "1/1 [==============================] - 0s 7ms/step - loss: 0.0047 - mae: 0.0586\n",
            "Epoch 489/1200\n",
            "1/1 [==============================] - 0s 7ms/step - loss: 0.0046 - mae: 0.0584\n",
            "Epoch 490/1200\n",
            "1/1 [==============================] - 0s 8ms/step - loss: 0.0046 - mae: 0.0582\n",
            "Epoch 491/1200\n",
            "1/1 [==============================] - 0s 11ms/step - loss: 0.0046 - mae: 0.0580\n",
            "Epoch 492/1200\n",
            "1/1 [==============================] - 0s 7ms/step - loss: 0.0045 - mae: 0.0578\n",
            "Epoch 493/1200\n",
            "1/1 [==============================] - 0s 7ms/step - loss: 0.0045 - mae: 0.0576\n",
            "Epoch 494/1200\n",
            "1/1 [==============================] - 0s 7ms/step - loss: 0.0045 - mae: 0.0574\n",
            "Epoch 495/1200\n",
            "1/1 [==============================] - 0s 8ms/step - loss: 0.0044 - mae: 0.0573\n",
            "Epoch 496/1200\n",
            "1/1 [==============================] - 0s 8ms/step - loss: 0.0044 - mae: 0.0571\n",
            "Epoch 497/1200\n",
            "1/1 [==============================] - 0s 8ms/step - loss: 0.0044 - mae: 0.0569\n",
            "Epoch 498/1200\n",
            "1/1 [==============================] - 0s 7ms/step - loss: 0.0044 - mae: 0.0567\n",
            "Epoch 499/1200\n",
            "1/1 [==============================] - 0s 10ms/step - loss: 0.0043 - mae: 0.0565\n",
            "Epoch 500/1200\n",
            "1/1 [==============================] - 0s 10ms/step - loss: 0.0043 - mae: 0.0563\n",
            "Epoch 501/1200\n",
            "1/1 [==============================] - 0s 13ms/step - loss: 0.0043 - mae: 0.0561\n",
            "Epoch 502/1200\n",
            "1/1 [==============================] - 0s 7ms/step - loss: 0.0042 - mae: 0.0559\n",
            "Epoch 503/1200\n",
            "1/1 [==============================] - 0s 8ms/step - loss: 0.0042 - mae: 0.0557\n",
            "Epoch 504/1200\n",
            "1/1 [==============================] - 0s 8ms/step - loss: 0.0042 - mae: 0.0555\n",
            "Epoch 505/1200\n",
            "1/1 [==============================] - 0s 7ms/step - loss: 0.0042 - mae: 0.0553\n",
            "Epoch 506/1200\n",
            "1/1 [==============================] - 0s 10ms/step - loss: 0.0041 - mae: 0.0552\n",
            "Epoch 507/1200\n",
            "1/1 [==============================] - 0s 9ms/step - loss: 0.0041 - mae: 0.0550\n",
            "Epoch 508/1200\n",
            "1/1 [==============================] - 0s 9ms/step - loss: 0.0041 - mae: 0.0548\n",
            "Epoch 509/1200\n",
            "1/1 [==============================] - 0s 7ms/step - loss: 0.0040 - mae: 0.0546\n",
            "Epoch 510/1200\n",
            "1/1 [==============================] - 0s 8ms/step - loss: 0.0040 - mae: 0.0544\n",
            "Epoch 511/1200\n",
            "1/1 [==============================] - 0s 12ms/step - loss: 0.0040 - mae: 0.0542\n",
            "Epoch 512/1200\n",
            "1/1 [==============================] - 0s 10ms/step - loss: 0.0040 - mae: 0.0540\n",
            "Epoch 513/1200\n",
            "1/1 [==============================] - 0s 7ms/step - loss: 0.0039 - mae: 0.0539\n",
            "Epoch 514/1200\n",
            "1/1 [==============================] - 0s 8ms/step - loss: 0.0039 - mae: 0.0537\n",
            "Epoch 515/1200\n",
            "1/1 [==============================] - 0s 8ms/step - loss: 0.0039 - mae: 0.0535\n",
            "Epoch 516/1200\n",
            "1/1 [==============================] - 0s 13ms/step - loss: 0.0039 - mae: 0.0533\n",
            "Epoch 517/1200\n",
            "1/1 [==============================] - 0s 11ms/step - loss: 0.0038 - mae: 0.0531\n",
            "Epoch 518/1200\n",
            "1/1 [==============================] - 0s 9ms/step - loss: 0.0038 - mae: 0.0530\n",
            "Epoch 519/1200\n",
            "1/1 [==============================] - 0s 14ms/step - loss: 0.0038 - mae: 0.0528\n",
            "Epoch 520/1200\n",
            "1/1 [==============================] - 0s 10ms/step - loss: 0.0038 - mae: 0.0526\n",
            "Epoch 521/1200\n",
            "1/1 [==============================] - 0s 16ms/step - loss: 0.0037 - mae: 0.0524\n",
            "Epoch 522/1200\n",
            "1/1 [==============================] - 0s 8ms/step - loss: 0.0037 - mae: 0.0522\n",
            "Epoch 523/1200\n",
            "1/1 [==============================] - 0s 6ms/step - loss: 0.0037 - mae: 0.0521\n",
            "Epoch 524/1200\n",
            "1/1 [==============================] - 0s 6ms/step - loss: 0.0037 - mae: 0.0519\n",
            "Epoch 525/1200\n",
            "1/1 [==============================] - 0s 8ms/step - loss: 0.0036 - mae: 0.0517\n",
            "Epoch 526/1200\n",
            "1/1 [==============================] - 0s 9ms/step - loss: 0.0036 - mae: 0.0515\n",
            "Epoch 527/1200\n",
            "1/1 [==============================] - 0s 7ms/step - loss: 0.0036 - mae: 0.0514\n",
            "Epoch 528/1200\n",
            "1/1 [==============================] - 0s 9ms/step - loss: 0.0036 - mae: 0.0512\n",
            "Epoch 529/1200\n",
            "1/1 [==============================] - 0s 8ms/step - loss: 0.0035 - mae: 0.0510\n",
            "Epoch 530/1200\n",
            "1/1 [==============================] - 0s 9ms/step - loss: 0.0035 - mae: 0.0509\n",
            "Epoch 531/1200\n",
            "1/1 [==============================] - 0s 9ms/step - loss: 0.0035 - mae: 0.0507\n",
            "Epoch 532/1200\n",
            "1/1 [==============================] - 0s 7ms/step - loss: 0.0035 - mae: 0.0505\n",
            "Epoch 533/1200\n",
            "1/1 [==============================] - 0s 10ms/step - loss: 0.0034 - mae: 0.0503\n",
            "Epoch 534/1200\n",
            "1/1 [==============================] - 0s 9ms/step - loss: 0.0034 - mae: 0.0502\n",
            "Epoch 535/1200\n",
            "1/1 [==============================] - 0s 5ms/step - loss: 0.0034 - mae: 0.0500\n",
            "Epoch 536/1200\n",
            "1/1 [==============================] - 0s 8ms/step - loss: 0.0034 - mae: 0.0498\n",
            "Epoch 537/1200\n",
            "1/1 [==============================] - 0s 7ms/step - loss: 0.0033 - mae: 0.0497\n",
            "Epoch 538/1200\n",
            "1/1 [==============================] - 0s 8ms/step - loss: 0.0033 - mae: 0.0495\n",
            "Epoch 539/1200\n",
            "1/1 [==============================] - 0s 7ms/step - loss: 0.0033 - mae: 0.0493\n",
            "Epoch 540/1200\n",
            "1/1 [==============================] - 0s 8ms/step - loss: 0.0033 - mae: 0.0492\n",
            "Epoch 541/1200\n",
            "1/1 [==============================] - 0s 8ms/step - loss: 0.0033 - mae: 0.0490\n",
            "Epoch 542/1200\n",
            "1/1 [==============================] - 0s 8ms/step - loss: 0.0032 - mae: 0.0488\n",
            "Epoch 543/1200\n",
            "1/1 [==============================] - 0s 7ms/step - loss: 0.0032 - mae: 0.0487\n",
            "Epoch 544/1200\n",
            "1/1 [==============================] - 0s 8ms/step - loss: 0.0032 - mae: 0.0485\n",
            "Epoch 545/1200\n",
            "1/1 [==============================] - 0s 11ms/step - loss: 0.0032 - mae: 0.0483\n",
            "Epoch 546/1200\n",
            "1/1 [==============================] - 0s 11ms/step - loss: 0.0031 - mae: 0.0482\n",
            "Epoch 547/1200\n",
            "1/1 [==============================] - 0s 8ms/step - loss: 0.0031 - mae: 0.0480\n",
            "Epoch 548/1200\n",
            "1/1 [==============================] - 0s 11ms/step - loss: 0.0031 - mae: 0.0478\n",
            "Epoch 549/1200\n",
            "1/1 [==============================] - 0s 9ms/step - loss: 0.0031 - mae: 0.0477\n",
            "Epoch 550/1200\n",
            "1/1 [==============================] - 0s 7ms/step - loss: 0.0031 - mae: 0.0475\n",
            "Epoch 551/1200\n",
            "1/1 [==============================] - 0s 7ms/step - loss: 0.0030 - mae: 0.0474\n",
            "Epoch 552/1200\n",
            "1/1 [==============================] - 0s 7ms/step - loss: 0.0030 - mae: 0.0472\n",
            "Epoch 553/1200\n",
            "1/1 [==============================] - 0s 10ms/step - loss: 0.0030 - mae: 0.0470\n",
            "Epoch 554/1200\n",
            "1/1 [==============================] - 0s 7ms/step - loss: 0.0030 - mae: 0.0469\n",
            "Epoch 555/1200\n",
            "1/1 [==============================] - 0s 7ms/step - loss: 0.0030 - mae: 0.0467\n",
            "Epoch 556/1200\n",
            "1/1 [==============================] - 0s 7ms/step - loss: 0.0029 - mae: 0.0466\n",
            "Epoch 557/1200\n",
            "1/1 [==============================] - 0s 8ms/step - loss: 0.0029 - mae: 0.0464\n",
            "Epoch 558/1200\n",
            "1/1 [==============================] - 0s 10ms/step - loss: 0.0029 - mae: 0.0463\n",
            "Epoch 559/1200\n",
            "1/1 [==============================] - 0s 8ms/step - loss: 0.0029 - mae: 0.0461\n",
            "Epoch 560/1200\n",
            "1/1 [==============================] - 0s 8ms/step - loss: 0.0029 - mae: 0.0459\n",
            "Epoch 561/1200\n",
            "1/1 [==============================] - 0s 8ms/step - loss: 0.0028 - mae: 0.0458\n",
            "Epoch 562/1200\n",
            "1/1 [==============================] - 0s 8ms/step - loss: 0.0028 - mae: 0.0456\n",
            "Epoch 563/1200\n",
            "1/1 [==============================] - 0s 6ms/step - loss: 0.0028 - mae: 0.0455\n",
            "Epoch 564/1200\n",
            "1/1 [==============================] - 0s 6ms/step - loss: 0.0028 - mae: 0.0453\n",
            "Epoch 565/1200\n",
            "1/1 [==============================] - 0s 9ms/step - loss: 0.0028 - mae: 0.0452\n",
            "Epoch 566/1200\n",
            "1/1 [==============================] - 0s 8ms/step - loss: 0.0028 - mae: 0.0450\n",
            "Epoch 567/1200\n",
            "1/1 [==============================] - 0s 9ms/step - loss: 0.0027 - mae: 0.0449\n",
            "Epoch 568/1200\n",
            "1/1 [==============================] - 0s 7ms/step - loss: 0.0027 - mae: 0.0447\n",
            "Epoch 569/1200\n",
            "1/1 [==============================] - 0s 7ms/step - loss: 0.0027 - mae: 0.0446\n",
            "Epoch 570/1200\n",
            "1/1 [==============================] - 0s 7ms/step - loss: 0.0027 - mae: 0.0444\n",
            "Epoch 571/1200\n",
            "1/1 [==============================] - 0s 8ms/step - loss: 0.0027 - mae: 0.0443\n",
            "Epoch 572/1200\n",
            "1/1 [==============================] - 0s 7ms/step - loss: 0.0026 - mae: 0.0441\n",
            "Epoch 573/1200\n",
            "1/1 [==============================] - 0s 9ms/step - loss: 0.0026 - mae: 0.0440\n",
            "Epoch 574/1200\n",
            "1/1 [==============================] - 0s 9ms/step - loss: 0.0026 - mae: 0.0438\n",
            "Epoch 575/1200\n",
            "1/1 [==============================] - 0s 9ms/step - loss: 0.0026 - mae: 0.0437\n",
            "Epoch 576/1200\n",
            "1/1 [==============================] - 0s 7ms/step - loss: 0.0026 - mae: 0.0435\n",
            "Epoch 577/1200\n",
            "1/1 [==============================] - 0s 7ms/step - loss: 0.0026 - mae: 0.0434\n",
            "Epoch 578/1200\n",
            "1/1 [==============================] - 0s 7ms/step - loss: 0.0025 - mae: 0.0432\n",
            "Epoch 579/1200\n",
            "1/1 [==============================] - 0s 9ms/step - loss: 0.0025 - mae: 0.0431\n",
            "Epoch 580/1200\n",
            "1/1 [==============================] - 0s 8ms/step - loss: 0.0025 - mae: 0.0429\n",
            "Epoch 581/1200\n",
            "1/1 [==============================] - 0s 9ms/step - loss: 0.0025 - mae: 0.0428\n",
            "Epoch 582/1200\n",
            "1/1 [==============================] - 0s 11ms/step - loss: 0.0025 - mae: 0.0426\n",
            "Epoch 583/1200\n",
            "1/1 [==============================] - 0s 7ms/step - loss: 0.0025 - mae: 0.0425\n",
            "Epoch 584/1200\n",
            "1/1 [==============================] - 0s 10ms/step - loss: 0.0024 - mae: 0.0424\n",
            "Epoch 585/1200\n",
            "1/1 [==============================] - 0s 7ms/step - loss: 0.0024 - mae: 0.0422\n",
            "Epoch 586/1200\n",
            "1/1 [==============================] - 0s 7ms/step - loss: 0.0024 - mae: 0.0421\n",
            "Epoch 587/1200\n",
            "1/1 [==============================] - 0s 8ms/step - loss: 0.0024 - mae: 0.0419\n",
            "Epoch 588/1200\n",
            "1/1 [==============================] - 0s 6ms/step - loss: 0.0024 - mae: 0.0418\n",
            "Epoch 589/1200\n",
            "1/1 [==============================] - 0s 7ms/step - loss: 0.0024 - mae: 0.0416\n",
            "Epoch 590/1200\n",
            "1/1 [==============================] - 0s 8ms/step - loss: 0.0023 - mae: 0.0415\n",
            "Epoch 591/1200\n",
            "1/1 [==============================] - 0s 12ms/step - loss: 0.0023 - mae: 0.0414\n",
            "Epoch 592/1200\n",
            "1/1 [==============================] - 0s 11ms/step - loss: 0.0023 - mae: 0.0412\n",
            "Epoch 593/1200\n",
            "1/1 [==============================] - 0s 8ms/step - loss: 0.0023 - mae: 0.0411\n",
            "Epoch 594/1200\n",
            "1/1 [==============================] - 0s 7ms/step - loss: 0.0023 - mae: 0.0409\n",
            "Epoch 595/1200\n",
            "1/1 [==============================] - 0s 8ms/step - loss: 0.0023 - mae: 0.0408\n",
            "Epoch 596/1200\n",
            "1/1 [==============================] - 0s 8ms/step - loss: 0.0022 - mae: 0.0407\n",
            "Epoch 597/1200\n",
            "1/1 [==============================] - 0s 8ms/step - loss: 0.0022 - mae: 0.0405\n",
            "Epoch 598/1200\n",
            "1/1 [==============================] - 0s 7ms/step - loss: 0.0022 - mae: 0.0404\n",
            "Epoch 599/1200\n",
            "1/1 [==============================] - 0s 8ms/step - loss: 0.0022 - mae: 0.0403\n",
            "Epoch 600/1200\n",
            "1/1 [==============================] - 0s 21ms/step - loss: 0.0022 - mae: 0.0401\n",
            "Epoch 601/1200\n",
            "1/1 [==============================] - 0s 10ms/step - loss: 0.0022 - mae: 0.0400\n",
            "Epoch 602/1200\n",
            "1/1 [==============================] - 0s 8ms/step - loss: 0.0022 - mae: 0.0398\n",
            "Epoch 603/1200\n",
            "1/1 [==============================] - 0s 8ms/step - loss: 0.0021 - mae: 0.0397\n",
            "Epoch 604/1200\n",
            "1/1 [==============================] - 0s 11ms/step - loss: 0.0021 - mae: 0.0396\n",
            "Epoch 605/1200\n",
            "1/1 [==============================] - 0s 11ms/step - loss: 0.0021 - mae: 0.0394\n",
            "Epoch 606/1200\n",
            "1/1 [==============================] - 0s 8ms/step - loss: 0.0021 - mae: 0.0393\n",
            "Epoch 607/1200\n",
            "1/1 [==============================] - 0s 10ms/step - loss: 0.0021 - mae: 0.0392\n",
            "Epoch 608/1200\n",
            "1/1 [==============================] - 0s 10ms/step - loss: 0.0021 - mae: 0.0390\n",
            "Epoch 609/1200\n",
            "1/1 [==============================] - 0s 9ms/step - loss: 0.0021 - mae: 0.0389\n",
            "Epoch 610/1200\n",
            "1/1 [==============================] - 0s 12ms/step - loss: 0.0020 - mae: 0.0388\n",
            "Epoch 611/1200\n",
            "1/1 [==============================] - 0s 9ms/step - loss: 0.0020 - mae: 0.0387\n",
            "Epoch 612/1200\n",
            "1/1 [==============================] - 0s 9ms/step - loss: 0.0020 - mae: 0.0385\n",
            "Epoch 613/1200\n",
            "1/1 [==============================] - 0s 9ms/step - loss: 0.0020 - mae: 0.0384\n",
            "Epoch 614/1200\n",
            "1/1 [==============================] - 0s 9ms/step - loss: 0.0020 - mae: 0.0383\n",
            "Epoch 615/1200\n",
            "1/1 [==============================] - 0s 10ms/step - loss: 0.0020 - mae: 0.0381\n",
            "Epoch 616/1200\n",
            "1/1 [==============================] - 0s 9ms/step - loss: 0.0020 - mae: 0.0380\n",
            "Epoch 617/1200\n",
            "1/1 [==============================] - 0s 10ms/step - loss: 0.0019 - mae: 0.0379\n",
            "Epoch 618/1200\n",
            "1/1 [==============================] - 0s 10ms/step - loss: 0.0019 - mae: 0.0377\n",
            "Epoch 619/1200\n",
            "1/1 [==============================] - 0s 12ms/step - loss: 0.0019 - mae: 0.0376\n",
            "Epoch 620/1200\n",
            "1/1 [==============================] - 0s 8ms/step - loss: 0.0019 - mae: 0.0375\n",
            "Epoch 621/1200\n",
            "1/1 [==============================] - 0s 8ms/step - loss: 0.0019 - mae: 0.0374\n",
            "Epoch 622/1200\n",
            "1/1 [==============================] - 0s 11ms/step - loss: 0.0019 - mae: 0.0372\n",
            "Epoch 623/1200\n",
            "1/1 [==============================] - 0s 9ms/step - loss: 0.0019 - mae: 0.0371\n",
            "Epoch 624/1200\n",
            "1/1 [==============================] - 0s 10ms/step - loss: 0.0019 - mae: 0.0370\n",
            "Epoch 625/1200\n",
            "1/1 [==============================] - 0s 10ms/step - loss: 0.0018 - mae: 0.0369\n",
            "Epoch 626/1200\n",
            "1/1 [==============================] - 0s 14ms/step - loss: 0.0018 - mae: 0.0367\n",
            "Epoch 627/1200\n",
            "1/1 [==============================] - 0s 7ms/step - loss: 0.0018 - mae: 0.0366\n",
            "Epoch 628/1200\n",
            "1/1 [==============================] - 0s 7ms/step - loss: 0.0018 - mae: 0.0365\n",
            "Epoch 629/1200\n",
            "1/1 [==============================] - 0s 9ms/step - loss: 0.0018 - mae: 0.0364\n",
            "Epoch 630/1200\n",
            "1/1 [==============================] - 0s 6ms/step - loss: 0.0018 - mae: 0.0362\n",
            "Epoch 631/1200\n",
            "1/1 [==============================] - 0s 6ms/step - loss: 0.0018 - mae: 0.0361\n",
            "Epoch 632/1200\n",
            "1/1 [==============================] - 0s 8ms/step - loss: 0.0018 - mae: 0.0360\n",
            "Epoch 633/1200\n",
            "1/1 [==============================] - 0s 6ms/step - loss: 0.0017 - mae: 0.0359\n",
            "Epoch 634/1200\n",
            "1/1 [==============================] - 0s 12ms/step - loss: 0.0017 - mae: 0.0358\n",
            "Epoch 635/1200\n",
            "1/1 [==============================] - 0s 13ms/step - loss: 0.0017 - mae: 0.0356\n",
            "Epoch 636/1200\n",
            "1/1 [==============================] - 0s 9ms/step - loss: 0.0017 - mae: 0.0355\n",
            "Epoch 637/1200\n",
            "1/1 [==============================] - 0s 9ms/step - loss: 0.0017 - mae: 0.0354\n",
            "Epoch 638/1200\n",
            "1/1 [==============================] - 0s 9ms/step - loss: 0.0017 - mae: 0.0353\n",
            "Epoch 639/1200\n",
            "1/1 [==============================] - 0s 9ms/step - loss: 0.0017 - mae: 0.0352\n",
            "Epoch 640/1200\n",
            "1/1 [==============================] - 0s 8ms/step - loss: 0.0017 - mae: 0.0350\n",
            "Epoch 641/1200\n",
            "1/1 [==============================] - 0s 10ms/step - loss: 0.0017 - mae: 0.0349\n",
            "Epoch 642/1200\n",
            "1/1 [==============================] - 0s 10ms/step - loss: 0.0016 - mae: 0.0348\n",
            "Epoch 643/1200\n",
            "1/1 [==============================] - 0s 7ms/step - loss: 0.0016 - mae: 0.0347\n",
            "Epoch 644/1200\n",
            "1/1 [==============================] - 0s 8ms/step - loss: 0.0016 - mae: 0.0346\n",
            "Epoch 645/1200\n",
            "1/1 [==============================] - 0s 10ms/step - loss: 0.0016 - mae: 0.0344\n",
            "Epoch 646/1200\n",
            "1/1 [==============================] - 0s 10ms/step - loss: 0.0016 - mae: 0.0343\n",
            "Epoch 647/1200\n",
            "1/1 [==============================] - 0s 11ms/step - loss: 0.0016 - mae: 0.0342\n",
            "Epoch 648/1200\n",
            "1/1 [==============================] - 0s 11ms/step - loss: 0.0016 - mae: 0.0341\n",
            "Epoch 649/1200\n",
            "1/1 [==============================] - 0s 12ms/step - loss: 0.0016 - mae: 0.0340\n",
            "Epoch 650/1200\n",
            "1/1 [==============================] - 0s 9ms/step - loss: 0.0016 - mae: 0.0339\n",
            "Epoch 651/1200\n",
            "1/1 [==============================] - 0s 12ms/step - loss: 0.0015 - mae: 0.0338\n",
            "Epoch 652/1200\n",
            "1/1 [==============================] - 0s 11ms/step - loss: 0.0015 - mae: 0.0336\n",
            "Epoch 653/1200\n",
            "1/1 [==============================] - 0s 10ms/step - loss: 0.0015 - mae: 0.0335\n",
            "Epoch 654/1200\n",
            "1/1 [==============================] - 0s 11ms/step - loss: 0.0015 - mae: 0.0334\n",
            "Epoch 655/1200\n",
            "1/1 [==============================] - 0s 12ms/step - loss: 0.0015 - mae: 0.0333\n",
            "Epoch 656/1200\n",
            "1/1 [==============================] - 0s 11ms/step - loss: 0.0015 - mae: 0.0332\n",
            "Epoch 657/1200\n",
            "1/1 [==============================] - 0s 10ms/step - loss: 0.0015 - mae: 0.0331\n",
            "Epoch 658/1200\n",
            "1/1 [==============================] - 0s 8ms/step - loss: 0.0015 - mae: 0.0330\n",
            "Epoch 659/1200\n",
            "1/1 [==============================] - 0s 10ms/step - loss: 0.0015 - mae: 0.0329\n",
            "Epoch 660/1200\n",
            "1/1 [==============================] - 0s 11ms/step - loss: 0.0015 - mae: 0.0327\n",
            "Epoch 661/1200\n",
            "1/1 [==============================] - 0s 15ms/step - loss: 0.0014 - mae: 0.0326\n",
            "Epoch 662/1200\n",
            "1/1 [==============================] - 0s 10ms/step - loss: 0.0014 - mae: 0.0325\n",
            "Epoch 663/1200\n",
            "1/1 [==============================] - 0s 6ms/step - loss: 0.0014 - mae: 0.0324\n",
            "Epoch 664/1200\n",
            "1/1 [==============================] - 0s 7ms/step - loss: 0.0014 - mae: 0.0323\n",
            "Epoch 665/1200\n",
            "1/1 [==============================] - 0s 7ms/step - loss: 0.0014 - mae: 0.0322\n",
            "Epoch 666/1200\n",
            "1/1 [==============================] - 0s 5ms/step - loss: 0.0014 - mae: 0.0321\n",
            "Epoch 667/1200\n",
            "1/1 [==============================] - 0s 5ms/step - loss: 0.0014 - mae: 0.0320\n",
            "Epoch 668/1200\n",
            "1/1 [==============================] - 0s 8ms/step - loss: 0.0014 - mae: 0.0319\n",
            "Epoch 669/1200\n",
            "1/1 [==============================] - 0s 8ms/step - loss: 0.0014 - mae: 0.0318\n",
            "Epoch 670/1200\n",
            "1/1 [==============================] - 0s 5ms/step - loss: 0.0014 - mae: 0.0317\n",
            "Epoch 671/1200\n",
            "1/1 [==============================] - 0s 6ms/step - loss: 0.0014 - mae: 0.0315\n",
            "Epoch 672/1200\n",
            "1/1 [==============================] - 0s 6ms/step - loss: 0.0013 - mae: 0.0314\n",
            "Epoch 673/1200\n",
            "1/1 [==============================] - 0s 6ms/step - loss: 0.0013 - mae: 0.0313\n",
            "Epoch 674/1200\n",
            "1/1 [==============================] - 0s 7ms/step - loss: 0.0013 - mae: 0.0312\n",
            "Epoch 675/1200\n",
            "1/1 [==============================] - 0s 8ms/step - loss: 0.0013 - mae: 0.0311\n",
            "Epoch 676/1200\n",
            "1/1 [==============================] - 0s 8ms/step - loss: 0.0013 - mae: 0.0310\n",
            "Epoch 677/1200\n",
            "1/1 [==============================] - 0s 10ms/step - loss: 0.0013 - mae: 0.0309\n",
            "Epoch 678/1200\n",
            "1/1 [==============================] - 0s 10ms/step - loss: 0.0013 - mae: 0.0308\n",
            "Epoch 679/1200\n",
            "1/1 [==============================] - 0s 9ms/step - loss: 0.0013 - mae: 0.0307\n",
            "Epoch 680/1200\n",
            "1/1 [==============================] - 0s 9ms/step - loss: 0.0013 - mae: 0.0306\n",
            "Epoch 681/1200\n",
            "1/1 [==============================] - 0s 10ms/step - loss: 0.0013 - mae: 0.0305\n",
            "Epoch 682/1200\n",
            "1/1 [==============================] - 0s 7ms/step - loss: 0.0013 - mae: 0.0304\n",
            "Epoch 683/1200\n",
            "1/1 [==============================] - 0s 7ms/step - loss: 0.0012 - mae: 0.0303\n",
            "Epoch 684/1200\n",
            "1/1 [==============================] - 0s 10ms/step - loss: 0.0012 - mae: 0.0302\n",
            "Epoch 685/1200\n",
            "1/1 [==============================] - 0s 6ms/step - loss: 0.0012 - mae: 0.0301\n",
            "Epoch 686/1200\n",
            "1/1 [==============================] - 0s 7ms/step - loss: 0.0012 - mae: 0.0300\n",
            "Epoch 687/1200\n",
            "1/1 [==============================] - 0s 9ms/step - loss: 0.0012 - mae: 0.0299\n",
            "Epoch 688/1200\n",
            "1/1 [==============================] - 0s 9ms/step - loss: 0.0012 - mae: 0.0298\n",
            "Epoch 689/1200\n",
            "1/1 [==============================] - 0s 5ms/step - loss: 0.0012 - mae: 0.0297\n",
            "Epoch 690/1200\n",
            "1/1 [==============================] - 0s 5ms/step - loss: 0.0012 - mae: 0.0296\n",
            "Epoch 691/1200\n",
            "1/1 [==============================] - 0s 5ms/step - loss: 0.0012 - mae: 0.0295\n",
            "Epoch 692/1200\n",
            "1/1 [==============================] - 0s 6ms/step - loss: 0.0012 - mae: 0.0294\n",
            "Epoch 693/1200\n",
            "1/1 [==============================] - 0s 6ms/step - loss: 0.0012 - mae: 0.0293\n",
            "Epoch 694/1200\n",
            "1/1 [==============================] - 0s 5ms/step - loss: 0.0012 - mae: 0.0292\n",
            "Epoch 695/1200\n",
            "1/1 [==============================] - 0s 10ms/step - loss: 0.0011 - mae: 0.0291\n",
            "Epoch 696/1200\n",
            "1/1 [==============================] - 0s 8ms/step - loss: 0.0011 - mae: 0.0290\n",
            "Epoch 697/1200\n",
            "1/1 [==============================] - 0s 8ms/step - loss: 0.0011 - mae: 0.0289\n",
            "Epoch 698/1200\n",
            "1/1 [==============================] - 0s 8ms/step - loss: 0.0011 - mae: 0.0288\n",
            "Epoch 699/1200\n",
            "1/1 [==============================] - 0s 8ms/step - loss: 0.0011 - mae: 0.0287\n",
            "Epoch 700/1200\n",
            "1/1 [==============================] - 0s 9ms/step - loss: 0.0011 - mae: 0.0286\n",
            "Epoch 701/1200\n",
            "1/1 [==============================] - 0s 9ms/step - loss: 0.0011 - mae: 0.0285\n",
            "Epoch 702/1200\n",
            "1/1 [==============================] - 0s 14ms/step - loss: 0.0011 - mae: 0.0284\n",
            "Epoch 703/1200\n",
            "1/1 [==============================] - 0s 14ms/step - loss: 0.0011 - mae: 0.0283\n",
            "Epoch 704/1200\n",
            "1/1 [==============================] - 0s 12ms/step - loss: 0.0011 - mae: 0.0282\n",
            "Epoch 705/1200\n",
            "1/1 [==============================] - 0s 14ms/step - loss: 0.0011 - mae: 0.0281\n",
            "Epoch 706/1200\n",
            "1/1 [==============================] - 0s 10ms/step - loss: 0.0011 - mae: 0.0280\n",
            "Epoch 707/1200\n",
            "1/1 [==============================] - 0s 11ms/step - loss: 0.0011 - mae: 0.0279\n",
            "Epoch 708/1200\n",
            "1/1 [==============================] - 0s 9ms/step - loss: 0.0011 - mae: 0.0278\n",
            "Epoch 709/1200\n",
            "1/1 [==============================] - 0s 11ms/step - loss: 0.0010 - mae: 0.0277\n",
            "Epoch 710/1200\n",
            "1/1 [==============================] - 0s 10ms/step - loss: 0.0010 - mae: 0.0276\n",
            "Epoch 711/1200\n",
            "1/1 [==============================] - 0s 11ms/step - loss: 0.0010 - mae: 0.0275\n",
            "Epoch 712/1200\n",
            "1/1 [==============================] - 0s 12ms/step - loss: 0.0010 - mae: 0.0275\n",
            "Epoch 713/1200\n",
            "1/1 [==============================] - 0s 9ms/step - loss: 0.0010 - mae: 0.0274\n",
            "Epoch 714/1200\n",
            "1/1 [==============================] - 0s 18ms/step - loss: 0.0010 - mae: 0.0273\n",
            "Epoch 715/1200\n",
            "1/1 [==============================] - 0s 5ms/step - loss: 0.0010 - mae: 0.0272\n",
            "Epoch 716/1200\n",
            "1/1 [==============================] - 0s 7ms/step - loss: 9.9578e-04 - mae: 0.0271\n",
            "Epoch 717/1200\n",
            "1/1 [==============================] - 0s 6ms/step - loss: 9.8906e-04 - mae: 0.0270\n",
            "Epoch 718/1200\n",
            "1/1 [==============================] - 0s 9ms/step - loss: 9.8238e-04 - mae: 0.0269\n",
            "Epoch 719/1200\n",
            "1/1 [==============================] - 0s 6ms/step - loss: 9.7575e-04 - mae: 0.0268\n",
            "Epoch 720/1200\n",
            "1/1 [==============================] - 0s 6ms/step - loss: 9.6917e-04 - mae: 0.0267\n",
            "Epoch 721/1200\n",
            "1/1 [==============================] - 0s 6ms/step - loss: 9.6260e-04 - mae: 0.0266\n",
            "Epoch 722/1200\n",
            "1/1 [==============================] - 0s 6ms/step - loss: 9.5611e-04 - mae: 0.0265\n",
            "Epoch 723/1200\n",
            "1/1 [==============================] - 0s 7ms/step - loss: 9.4967e-04 - mae: 0.0265\n",
            "Epoch 724/1200\n",
            "1/1 [==============================] - 0s 6ms/step - loss: 9.4325e-04 - mae: 0.0264\n",
            "Epoch 725/1200\n",
            "1/1 [==============================] - 0s 6ms/step - loss: 9.3688e-04 - mae: 0.0263\n",
            "Epoch 726/1200\n",
            "1/1 [==============================] - 0s 8ms/step - loss: 9.3055e-04 - mae: 0.0262\n",
            "Epoch 727/1200\n",
            "1/1 [==============================] - 0s 7ms/step - loss: 9.2427e-04 - mae: 0.0261\n",
            "Epoch 728/1200\n",
            "1/1 [==============================] - 0s 6ms/step - loss: 9.1802e-04 - mae: 0.0260\n",
            "Epoch 729/1200\n",
            "1/1 [==============================] - 0s 7ms/step - loss: 9.1183e-04 - mae: 0.0259\n",
            "Epoch 730/1200\n",
            "1/1 [==============================] - 0s 7ms/step - loss: 9.0569e-04 - mae: 0.0258\n",
            "Epoch 731/1200\n",
            "1/1 [==============================] - 0s 7ms/step - loss: 8.9957e-04 - mae: 0.0257\n",
            "Epoch 732/1200\n",
            "1/1 [==============================] - 0s 12ms/step - loss: 8.9350e-04 - mae: 0.0257\n",
            "Epoch 733/1200\n",
            "1/1 [==============================] - 0s 10ms/step - loss: 8.8746e-04 - mae: 0.0256\n",
            "Epoch 734/1200\n",
            "1/1 [==============================] - 0s 7ms/step - loss: 8.8148e-04 - mae: 0.0255\n",
            "Epoch 735/1200\n",
            "1/1 [==============================] - 0s 7ms/step - loss: 8.7551e-04 - mae: 0.0254\n",
            "Epoch 736/1200\n",
            "1/1 [==============================] - 0s 7ms/step - loss: 8.6960e-04 - mae: 0.0253\n",
            "Epoch 737/1200\n",
            "1/1 [==============================] - 0s 7ms/step - loss: 8.6376e-04 - mae: 0.0252\n",
            "Epoch 738/1200\n",
            "1/1 [==============================] - 0s 7ms/step - loss: 8.5791e-04 - mae: 0.0251\n",
            "Epoch 739/1200\n",
            "1/1 [==============================] - 0s 8ms/step - loss: 8.5212e-04 - mae: 0.0251\n",
            "Epoch 740/1200\n",
            "1/1 [==============================] - 0s 18ms/step - loss: 8.4636e-04 - mae: 0.0250\n",
            "Epoch 741/1200\n",
            "1/1 [==============================] - 0s 10ms/step - loss: 8.4066e-04 - mae: 0.0249\n",
            "Epoch 742/1200\n",
            "1/1 [==============================] - 0s 14ms/step - loss: 8.3498e-04 - mae: 0.0248\n",
            "Epoch 743/1200\n",
            "1/1 [==============================] - 0s 7ms/step - loss: 8.2934e-04 - mae: 0.0247\n",
            "Epoch 744/1200\n",
            "1/1 [==============================] - 0s 6ms/step - loss: 8.2374e-04 - mae: 0.0246\n",
            "Epoch 745/1200\n",
            "1/1 [==============================] - 0s 9ms/step - loss: 8.1817e-04 - mae: 0.0246\n",
            "Epoch 746/1200\n",
            "1/1 [==============================] - 0s 10ms/step - loss: 8.1266e-04 - mae: 0.0245\n",
            "Epoch 747/1200\n",
            "1/1 [==============================] - 0s 6ms/step - loss: 8.0718e-04 - mae: 0.0244\n",
            "Epoch 748/1200\n",
            "1/1 [==============================] - 0s 6ms/step - loss: 8.0172e-04 - mae: 0.0243\n",
            "Epoch 749/1200\n",
            "1/1 [==============================] - 0s 7ms/step - loss: 7.9632e-04 - mae: 0.0242\n",
            "Epoch 750/1200\n",
            "1/1 [==============================] - 0s 6ms/step - loss: 7.9092e-04 - mae: 0.0241\n",
            "Epoch 751/1200\n",
            "1/1 [==============================] - 0s 14ms/step - loss: 7.8558e-04 - mae: 0.0241\n",
            "Epoch 752/1200\n",
            "1/1 [==============================] - 0s 8ms/step - loss: 7.8030e-04 - mae: 0.0240\n",
            "Epoch 753/1200\n",
            "1/1 [==============================] - 0s 13ms/step - loss: 7.7502e-04 - mae: 0.0239\n",
            "Epoch 754/1200\n",
            "1/1 [==============================] - 0s 8ms/step - loss: 7.6979e-04 - mae: 0.0238\n",
            "Epoch 755/1200\n",
            "1/1 [==============================] - 0s 10ms/step - loss: 7.6461e-04 - mae: 0.0237\n",
            "Epoch 756/1200\n",
            "1/1 [==============================] - 0s 10ms/step - loss: 7.5943e-04 - mae: 0.0237\n",
            "Epoch 757/1200\n",
            "1/1 [==============================] - 0s 7ms/step - loss: 7.5431e-04 - mae: 0.0236\n",
            "Epoch 758/1200\n",
            "1/1 [==============================] - 0s 10ms/step - loss: 7.4922e-04 - mae: 0.0235\n",
            "Epoch 759/1200\n",
            "1/1 [==============================] - 0s 13ms/step - loss: 7.4415e-04 - mae: 0.0234\n",
            "Epoch 760/1200\n",
            "1/1 [==============================] - 0s 12ms/step - loss: 7.3914e-04 - mae: 0.0233\n",
            "Epoch 761/1200\n",
            "1/1 [==============================] - 0s 8ms/step - loss: 7.3413e-04 - mae: 0.0233\n",
            "Epoch 762/1200\n",
            "1/1 [==============================] - 0s 5ms/step - loss: 7.2918e-04 - mae: 0.0232\n",
            "Epoch 763/1200\n",
            "1/1 [==============================] - 0s 6ms/step - loss: 7.2427e-04 - mae: 0.0231\n",
            "Epoch 764/1200\n",
            "1/1 [==============================] - 0s 6ms/step - loss: 7.1939e-04 - mae: 0.0230\n",
            "Epoch 765/1200\n",
            "1/1 [==============================] - 0s 6ms/step - loss: 7.1453e-04 - mae: 0.0229\n",
            "Epoch 766/1200\n",
            "1/1 [==============================] - 0s 12ms/step - loss: 7.0970e-04 - mae: 0.0229\n",
            "Epoch 767/1200\n",
            "1/1 [==============================] - 0s 12ms/step - loss: 7.0490e-04 - mae: 0.0228\n",
            "Epoch 768/1200\n",
            "1/1 [==============================] - 0s 8ms/step - loss: 7.0014e-04 - mae: 0.0227\n",
            "Epoch 769/1200\n",
            "1/1 [==============================] - 0s 12ms/step - loss: 6.9542e-04 - mae: 0.0226\n",
            "Epoch 770/1200\n",
            "1/1 [==============================] - 0s 11ms/step - loss: 6.9073e-04 - mae: 0.0226\n",
            "Epoch 771/1200\n",
            "1/1 [==============================] - 0s 10ms/step - loss: 6.8605e-04 - mae: 0.0225\n",
            "Epoch 772/1200\n",
            "1/1 [==============================] - 0s 11ms/step - loss: 6.8144e-04 - mae: 0.0224\n",
            "Epoch 773/1200\n",
            "1/1 [==============================] - 0s 12ms/step - loss: 6.7683e-04 - mae: 0.0223\n",
            "Epoch 774/1200\n",
            "1/1 [==============================] - 0s 10ms/step - loss: 6.7227e-04 - mae: 0.0223\n",
            "Epoch 775/1200\n",
            "1/1 [==============================] - 0s 7ms/step - loss: 6.6773e-04 - mae: 0.0222\n",
            "Epoch 776/1200\n",
            "1/1 [==============================] - 0s 13ms/step - loss: 6.6322e-04 - mae: 0.0221\n",
            "Epoch 777/1200\n",
            "1/1 [==============================] - 0s 17ms/step - loss: 6.5873e-04 - mae: 0.0220\n",
            "Epoch 778/1200\n",
            "1/1 [==============================] - 0s 11ms/step - loss: 6.5430e-04 - mae: 0.0220\n",
            "Epoch 779/1200\n",
            "1/1 [==============================] - 0s 8ms/step - loss: 6.4987e-04 - mae: 0.0219\n",
            "Epoch 780/1200\n",
            "1/1 [==============================] - 0s 8ms/step - loss: 6.4550e-04 - mae: 0.0218\n",
            "Epoch 781/1200\n",
            "1/1 [==============================] - 0s 11ms/step - loss: 6.4113e-04 - mae: 0.0217\n",
            "Epoch 782/1200\n",
            "1/1 [==============================] - 0s 10ms/step - loss: 6.3679e-04 - mae: 0.0217\n",
            "Epoch 783/1200\n",
            "1/1 [==============================] - 0s 9ms/step - loss: 6.3250e-04 - mae: 0.0216\n",
            "Epoch 784/1200\n",
            "1/1 [==============================] - 0s 12ms/step - loss: 6.2823e-04 - mae: 0.0215\n",
            "Epoch 785/1200\n",
            "1/1 [==============================] - 0s 12ms/step - loss: 6.2399e-04 - mae: 0.0214\n",
            "Epoch 786/1200\n",
            "1/1 [==============================] - 0s 10ms/step - loss: 6.1978e-04 - mae: 0.0214\n",
            "Epoch 787/1200\n",
            "1/1 [==============================] - 0s 12ms/step - loss: 6.1561e-04 - mae: 0.0213\n",
            "Epoch 788/1200\n",
            "1/1 [==============================] - 0s 15ms/step - loss: 6.1145e-04 - mae: 0.0212\n",
            "Epoch 789/1200\n",
            "1/1 [==============================] - 0s 11ms/step - loss: 6.0730e-04 - mae: 0.0212\n",
            "Epoch 790/1200\n",
            "1/1 [==============================] - 0s 12ms/step - loss: 6.0321e-04 - mae: 0.0211\n",
            "Epoch 791/1200\n",
            "1/1 [==============================] - 0s 8ms/step - loss: 5.9914e-04 - mae: 0.0210\n",
            "Epoch 792/1200\n",
            "1/1 [==============================] - 0s 10ms/step - loss: 5.9510e-04 - mae: 0.0209\n",
            "Epoch 793/1200\n",
            "1/1 [==============================] - 0s 11ms/step - loss: 5.9107e-04 - mae: 0.0209\n",
            "Epoch 794/1200\n",
            "1/1 [==============================] - 0s 10ms/step - loss: 5.8710e-04 - mae: 0.0208\n",
            "Epoch 795/1200\n",
            "1/1 [==============================] - 0s 8ms/step - loss: 5.8313e-04 - mae: 0.0207\n",
            "Epoch 796/1200\n",
            "1/1 [==============================] - 0s 7ms/step - loss: 5.7918e-04 - mae: 0.0207\n",
            "Epoch 797/1200\n",
            "1/1 [==============================] - 0s 11ms/step - loss: 5.7529e-04 - mae: 0.0206\n",
            "Epoch 798/1200\n",
            "1/1 [==============================] - 0s 12ms/step - loss: 5.7140e-04 - mae: 0.0205\n",
            "Epoch 799/1200\n",
            "1/1 [==============================] - 0s 12ms/step - loss: 5.6754e-04 - mae: 0.0204\n",
            "Epoch 800/1200\n",
            "1/1 [==============================] - 0s 6ms/step - loss: 5.6371e-04 - mae: 0.0204\n",
            "Epoch 801/1200\n",
            "1/1 [==============================] - 0s 6ms/step - loss: 5.5991e-04 - mae: 0.0203\n",
            "Epoch 802/1200\n",
            "1/1 [==============================] - 0s 6ms/step - loss: 5.5612e-04 - mae: 0.0202\n",
            "Epoch 803/1200\n",
            "1/1 [==============================] - 0s 7ms/step - loss: 5.5237e-04 - mae: 0.0202\n",
            "Epoch 804/1200\n",
            "1/1 [==============================] - 0s 6ms/step - loss: 5.4864e-04 - mae: 0.0201\n",
            "Epoch 805/1200\n",
            "1/1 [==============================] - 0s 6ms/step - loss: 5.4494e-04 - mae: 0.0200\n",
            "Epoch 806/1200\n",
            "1/1 [==============================] - 0s 7ms/step - loss: 5.4127e-04 - mae: 0.0200\n",
            "Epoch 807/1200\n",
            "1/1 [==============================] - 0s 11ms/step - loss: 5.3761e-04 - mae: 0.0199\n",
            "Epoch 808/1200\n",
            "1/1 [==============================] - 0s 9ms/step - loss: 5.3398e-04 - mae: 0.0198\n",
            "Epoch 809/1200\n",
            "1/1 [==============================] - 0s 7ms/step - loss: 5.3037e-04 - mae: 0.0198\n",
            "Epoch 810/1200\n",
            "1/1 [==============================] - 0s 7ms/step - loss: 5.2678e-04 - mae: 0.0197\n",
            "Epoch 811/1200\n",
            "1/1 [==============================] - 0s 9ms/step - loss: 5.2323e-04 - mae: 0.0196\n",
            "Epoch 812/1200\n",
            "1/1 [==============================] - 0s 14ms/step - loss: 5.1970e-04 - mae: 0.0196\n",
            "Epoch 813/1200\n",
            "1/1 [==============================] - 0s 11ms/step - loss: 5.1620e-04 - mae: 0.0195\n",
            "Epoch 814/1200\n",
            "1/1 [==============================] - 0s 8ms/step - loss: 5.1271e-04 - mae: 0.0194\n",
            "Epoch 815/1200\n",
            "1/1 [==============================] - 0s 12ms/step - loss: 5.0924e-04 - mae: 0.0194\n",
            "Epoch 816/1200\n",
            "1/1 [==============================] - 0s 11ms/step - loss: 5.0581e-04 - mae: 0.0193\n",
            "Epoch 817/1200\n",
            "1/1 [==============================] - 0s 13ms/step - loss: 5.0240e-04 - mae: 0.0192\n",
            "Epoch 818/1200\n",
            "1/1 [==============================] - 0s 11ms/step - loss: 4.9900e-04 - mae: 0.0192\n",
            "Epoch 819/1200\n",
            "1/1 [==============================] - 0s 9ms/step - loss: 4.9565e-04 - mae: 0.0191\n",
            "Epoch 820/1200\n",
            "1/1 [==============================] - 0s 9ms/step - loss: 4.9229e-04 - mae: 0.0190\n",
            "Epoch 821/1200\n",
            "1/1 [==============================] - 0s 10ms/step - loss: 4.8897e-04 - mae: 0.0190\n",
            "Epoch 822/1200\n",
            "1/1 [==============================] - 0s 9ms/step - loss: 4.8567e-04 - mae: 0.0189\n",
            "Epoch 823/1200\n",
            "1/1 [==============================] - 0s 10ms/step - loss: 4.8240e-04 - mae: 0.0189\n",
            "Epoch 824/1200\n",
            "1/1 [==============================] - 0s 7ms/step - loss: 4.7914e-04 - mae: 0.0188\n",
            "Epoch 825/1200\n",
            "1/1 [==============================] - 0s 10ms/step - loss: 4.7590e-04 - mae: 0.0187\n",
            "Epoch 826/1200\n",
            "1/1 [==============================] - 0s 10ms/step - loss: 4.7269e-04 - mae: 0.0187\n",
            "Epoch 827/1200\n",
            "1/1 [==============================] - 0s 7ms/step - loss: 4.6950e-04 - mae: 0.0186\n",
            "Epoch 828/1200\n",
            "1/1 [==============================] - 0s 8ms/step - loss: 4.6632e-04 - mae: 0.0185\n",
            "Epoch 829/1200\n",
            "1/1 [==============================] - 0s 8ms/step - loss: 4.6318e-04 - mae: 0.0185\n",
            "Epoch 830/1200\n",
            "1/1 [==============================] - 0s 10ms/step - loss: 4.6006e-04 - mae: 0.0184\n",
            "Epoch 831/1200\n",
            "1/1 [==============================] - 0s 11ms/step - loss: 4.5694e-04 - mae: 0.0183\n",
            "Epoch 832/1200\n",
            "1/1 [==============================] - 0s 11ms/step - loss: 4.5387e-04 - mae: 0.0183\n",
            "Epoch 833/1200\n",
            "1/1 [==============================] - 0s 5ms/step - loss: 4.5080e-04 - mae: 0.0182\n",
            "Epoch 834/1200\n",
            "1/1 [==============================] - 0s 7ms/step - loss: 4.4775e-04 - mae: 0.0182\n",
            "Epoch 835/1200\n",
            "1/1 [==============================] - 0s 8ms/step - loss: 4.4473e-04 - mae: 0.0181\n",
            "Epoch 836/1200\n",
            "1/1 [==============================] - 0s 8ms/step - loss: 4.4173e-04 - mae: 0.0180\n",
            "Epoch 837/1200\n",
            "1/1 [==============================] - 0s 8ms/step - loss: 4.3875e-04 - mae: 0.0180\n",
            "Epoch 838/1200\n",
            "1/1 [==============================] - 0s 7ms/step - loss: 4.3578e-04 - mae: 0.0179\n",
            "Epoch 839/1200\n",
            "1/1 [==============================] - 0s 11ms/step - loss: 4.3284e-04 - mae: 0.0179\n",
            "Epoch 840/1200\n",
            "1/1 [==============================] - 0s 9ms/step - loss: 4.2992e-04 - mae: 0.0178\n",
            "Epoch 841/1200\n",
            "1/1 [==============================] - 0s 9ms/step - loss: 4.2702e-04 - mae: 0.0177\n",
            "Epoch 842/1200\n",
            "1/1 [==============================] - 0s 8ms/step - loss: 4.2414e-04 - mae: 0.0177\n",
            "Epoch 843/1200\n",
            "1/1 [==============================] - 0s 9ms/step - loss: 4.2128e-04 - mae: 0.0176\n",
            "Epoch 844/1200\n",
            "1/1 [==============================] - 0s 7ms/step - loss: 4.1843e-04 - mae: 0.0176\n",
            "Epoch 845/1200\n",
            "1/1 [==============================] - 0s 7ms/step - loss: 4.1560e-04 - mae: 0.0175\n",
            "Epoch 846/1200\n",
            "1/1 [==============================] - 0s 7ms/step - loss: 4.1281e-04 - mae: 0.0174\n",
            "Epoch 847/1200\n",
            "1/1 [==============================] - 0s 17ms/step - loss: 4.1001e-04 - mae: 0.0174\n",
            "Epoch 848/1200\n",
            "1/1 [==============================] - 0s 6ms/step - loss: 4.0724e-04 - mae: 0.0173\n",
            "Epoch 849/1200\n",
            "1/1 [==============================] - 0s 10ms/step - loss: 4.0450e-04 - mae: 0.0173\n",
            "Epoch 850/1200\n",
            "1/1 [==============================] - 0s 7ms/step - loss: 4.0177e-04 - mae: 0.0172\n",
            "Epoch 851/1200\n",
            "1/1 [==============================] - 0s 11ms/step - loss: 3.9905e-04 - mae: 0.0171\n",
            "Epoch 852/1200\n",
            "1/1 [==============================] - 0s 8ms/step - loss: 3.9636e-04 - mae: 0.0171\n",
            "Epoch 853/1200\n",
            "1/1 [==============================] - 0s 6ms/step - loss: 3.9369e-04 - mae: 0.0170\n",
            "Epoch 854/1200\n",
            "1/1 [==============================] - 0s 7ms/step - loss: 3.9103e-04 - mae: 0.0170\n",
            "Epoch 855/1200\n",
            "1/1 [==============================] - 0s 10ms/step - loss: 3.8838e-04 - mae: 0.0169\n",
            "Epoch 856/1200\n",
            "1/1 [==============================] - 0s 11ms/step - loss: 3.8576e-04 - mae: 0.0169\n",
            "Epoch 857/1200\n",
            "1/1 [==============================] - 0s 6ms/step - loss: 3.8317e-04 - mae: 0.0168\n",
            "Epoch 858/1200\n",
            "1/1 [==============================] - 0s 6ms/step - loss: 3.8058e-04 - mae: 0.0167\n",
            "Epoch 859/1200\n",
            "1/1 [==============================] - 0s 8ms/step - loss: 3.7801e-04 - mae: 0.0167\n",
            "Epoch 860/1200\n",
            "1/1 [==============================] - 0s 10ms/step - loss: 3.7546e-04 - mae: 0.0166\n",
            "Epoch 861/1200\n",
            "1/1 [==============================] - 0s 7ms/step - loss: 3.7292e-04 - mae: 0.0166\n",
            "Epoch 862/1200\n",
            "1/1 [==============================] - 0s 9ms/step - loss: 3.7040e-04 - mae: 0.0165\n",
            "Epoch 863/1200\n",
            "1/1 [==============================] - 0s 8ms/step - loss: 3.6790e-04 - mae: 0.0165\n",
            "Epoch 864/1200\n",
            "1/1 [==============================] - 0s 10ms/step - loss: 3.6543e-04 - mae: 0.0164\n",
            "Epoch 865/1200\n",
            "1/1 [==============================] - 0s 6ms/step - loss: 3.6296e-04 - mae: 0.0164\n",
            "Epoch 866/1200\n",
            "1/1 [==============================] - 0s 9ms/step - loss: 3.6051e-04 - mae: 0.0163\n",
            "Epoch 867/1200\n",
            "1/1 [==============================] - 0s 11ms/step - loss: 3.5807e-04 - mae: 0.0162\n",
            "Epoch 868/1200\n",
            "1/1 [==============================] - 0s 6ms/step - loss: 3.5565e-04 - mae: 0.0162\n",
            "Epoch 869/1200\n",
            "1/1 [==============================] - 0s 9ms/step - loss: 3.5325e-04 - mae: 0.0161\n",
            "Epoch 870/1200\n",
            "1/1 [==============================] - 0s 10ms/step - loss: 3.5088e-04 - mae: 0.0161\n",
            "Epoch 871/1200\n",
            "1/1 [==============================] - 0s 10ms/step - loss: 3.4850e-04 - mae: 0.0160\n",
            "Epoch 872/1200\n",
            "1/1 [==============================] - 0s 10ms/step - loss: 3.4614e-04 - mae: 0.0160\n",
            "Epoch 873/1200\n",
            "1/1 [==============================] - 0s 9ms/step - loss: 3.4382e-04 - mae: 0.0159\n",
            "Epoch 874/1200\n",
            "1/1 [==============================] - 0s 9ms/step - loss: 3.4149e-04 - mae: 0.0159\n",
            "Epoch 875/1200\n",
            "1/1 [==============================] - 0s 8ms/step - loss: 3.3919e-04 - mae: 0.0158\n",
            "Epoch 876/1200\n",
            "1/1 [==============================] - 0s 10ms/step - loss: 3.3690e-04 - mae: 0.0158\n",
            "Epoch 877/1200\n",
            "1/1 [==============================] - 0s 9ms/step - loss: 3.3462e-04 - mae: 0.0157\n",
            "Epoch 878/1200\n",
            "1/1 [==============================] - 0s 11ms/step - loss: 3.3236e-04 - mae: 0.0156\n",
            "Epoch 879/1200\n",
            "1/1 [==============================] - 0s 13ms/step - loss: 3.3012e-04 - mae: 0.0156\n",
            "Epoch 880/1200\n",
            "1/1 [==============================] - 0s 6ms/step - loss: 3.2789e-04 - mae: 0.0155\n",
            "Epoch 881/1200\n",
            "1/1 [==============================] - 0s 6ms/step - loss: 3.2567e-04 - mae: 0.0155\n",
            "Epoch 882/1200\n",
            "1/1 [==============================] - 0s 6ms/step - loss: 3.2347e-04 - mae: 0.0154\n",
            "Epoch 883/1200\n",
            "1/1 [==============================] - 0s 6ms/step - loss: 3.2129e-04 - mae: 0.0154\n",
            "Epoch 884/1200\n",
            "1/1 [==============================] - 0s 6ms/step - loss: 3.1912e-04 - mae: 0.0153\n",
            "Epoch 885/1200\n",
            "1/1 [==============================] - 0s 6ms/step - loss: 3.1697e-04 - mae: 0.0153\n",
            "Epoch 886/1200\n",
            "1/1 [==============================] - 0s 10ms/step - loss: 3.1482e-04 - mae: 0.0152\n",
            "Epoch 887/1200\n",
            "1/1 [==============================] - 0s 6ms/step - loss: 3.1270e-04 - mae: 0.0152\n",
            "Epoch 888/1200\n",
            "1/1 [==============================] - 0s 6ms/step - loss: 3.1060e-04 - mae: 0.0151\n",
            "Epoch 889/1200\n",
            "1/1 [==============================] - 0s 6ms/step - loss: 3.0850e-04 - mae: 0.0151\n",
            "Epoch 890/1200\n",
            "1/1 [==============================] - 0s 9ms/step - loss: 3.0642e-04 - mae: 0.0150\n",
            "Epoch 891/1200\n",
            "1/1 [==============================] - 0s 9ms/step - loss: 3.0434e-04 - mae: 0.0150\n",
            "Epoch 892/1200\n",
            "1/1 [==============================] - 0s 8ms/step - loss: 3.0229e-04 - mae: 0.0149\n",
            "Epoch 893/1200\n",
            "1/1 [==============================] - 0s 10ms/step - loss: 3.0025e-04 - mae: 0.0149\n",
            "Epoch 894/1200\n",
            "1/1 [==============================] - 0s 11ms/step - loss: 2.9822e-04 - mae: 0.0148\n",
            "Epoch 895/1200\n",
            "1/1 [==============================] - 0s 9ms/step - loss: 2.9621e-04 - mae: 0.0148\n",
            "Epoch 896/1200\n",
            "1/1 [==============================] - 0s 8ms/step - loss: 2.9421e-04 - mae: 0.0147\n",
            "Epoch 897/1200\n",
            "1/1 [==============================] - 0s 7ms/step - loss: 2.9223e-04 - mae: 0.0147\n",
            "Epoch 898/1200\n",
            "1/1 [==============================] - 0s 10ms/step - loss: 2.9026e-04 - mae: 0.0146\n",
            "Epoch 899/1200\n",
            "1/1 [==============================] - 0s 7ms/step - loss: 2.8829e-04 - mae: 0.0146\n",
            "Epoch 900/1200\n",
            "1/1 [==============================] - 0s 5ms/step - loss: 2.8634e-04 - mae: 0.0145\n",
            "Epoch 901/1200\n",
            "1/1 [==============================] - 0s 6ms/step - loss: 2.8441e-04 - mae: 0.0145\n",
            "Epoch 902/1200\n",
            "1/1 [==============================] - 0s 6ms/step - loss: 2.8248e-04 - mae: 0.0144\n",
            "Epoch 903/1200\n",
            "1/1 [==============================] - 0s 11ms/step - loss: 2.8058e-04 - mae: 0.0144\n",
            "Epoch 904/1200\n",
            "1/1 [==============================] - 0s 6ms/step - loss: 2.7870e-04 - mae: 0.0143\n",
            "Epoch 905/1200\n",
            "1/1 [==============================] - 0s 9ms/step - loss: 2.7681e-04 - mae: 0.0143\n",
            "Epoch 906/1200\n",
            "1/1 [==============================] - 0s 7ms/step - loss: 2.7494e-04 - mae: 0.0142\n",
            "Epoch 907/1200\n",
            "1/1 [==============================] - 0s 10ms/step - loss: 2.7309e-04 - mae: 0.0142\n",
            "Epoch 908/1200\n",
            "1/1 [==============================] - 0s 7ms/step - loss: 2.7124e-04 - mae: 0.0141\n",
            "Epoch 909/1200\n",
            "1/1 [==============================] - 0s 9ms/step - loss: 2.6941e-04 - mae: 0.0141\n",
            "Epoch 910/1200\n",
            "1/1 [==============================] - 0s 9ms/step - loss: 2.6760e-04 - mae: 0.0140\n",
            "Epoch 911/1200\n",
            "1/1 [==============================] - 0s 7ms/step - loss: 2.6578e-04 - mae: 0.0140\n",
            "Epoch 912/1200\n",
            "1/1 [==============================] - 0s 8ms/step - loss: 2.6399e-04 - mae: 0.0139\n",
            "Epoch 913/1200\n",
            "1/1 [==============================] - 0s 10ms/step - loss: 2.6222e-04 - mae: 0.0139\n",
            "Epoch 914/1200\n",
            "1/1 [==============================] - 0s 10ms/step - loss: 2.6043e-04 - mae: 0.0139\n",
            "Epoch 915/1200\n",
            "1/1 [==============================] - 0s 8ms/step - loss: 2.5868e-04 - mae: 0.0138\n",
            "Epoch 916/1200\n",
            "1/1 [==============================] - 0s 7ms/step - loss: 2.5693e-04 - mae: 0.0138\n",
            "Epoch 917/1200\n",
            "1/1 [==============================] - 0s 8ms/step - loss: 2.5519e-04 - mae: 0.0137\n",
            "Epoch 918/1200\n",
            "1/1 [==============================] - 0s 7ms/step - loss: 2.5348e-04 - mae: 0.0137\n",
            "Epoch 919/1200\n",
            "1/1 [==============================] - 0s 7ms/step - loss: 2.5177e-04 - mae: 0.0136\n",
            "Epoch 920/1200\n",
            "1/1 [==============================] - 0s 7ms/step - loss: 2.5007e-04 - mae: 0.0136\n",
            "Epoch 921/1200\n",
            "1/1 [==============================] - 0s 6ms/step - loss: 2.4839e-04 - mae: 0.0135\n",
            "Epoch 922/1200\n",
            "1/1 [==============================] - 0s 11ms/step - loss: 2.4670e-04 - mae: 0.0135\n",
            "Epoch 923/1200\n",
            "1/1 [==============================] - 0s 9ms/step - loss: 2.4503e-04 - mae: 0.0134\n",
            "Epoch 924/1200\n",
            "1/1 [==============================] - 0s 10ms/step - loss: 2.4338e-04 - mae: 0.0134\n",
            "Epoch 925/1200\n",
            "1/1 [==============================] - 0s 8ms/step - loss: 2.4173e-04 - mae: 0.0133\n",
            "Epoch 926/1200\n",
            "1/1 [==============================] - 0s 17ms/step - loss: 2.4011e-04 - mae: 0.0133\n",
            "Epoch 927/1200\n",
            "1/1 [==============================] - 0s 9ms/step - loss: 2.3849e-04 - mae: 0.0133\n",
            "Epoch 928/1200\n",
            "1/1 [==============================] - 0s 9ms/step - loss: 2.3688e-04 - mae: 0.0132\n",
            "Epoch 929/1200\n",
            "1/1 [==============================] - 0s 10ms/step - loss: 2.3528e-04 - mae: 0.0132\n",
            "Epoch 930/1200\n",
            "1/1 [==============================] - 0s 6ms/step - loss: 2.3369e-04 - mae: 0.0131\n",
            "Epoch 931/1200\n",
            "1/1 [==============================] - 0s 7ms/step - loss: 2.3212e-04 - mae: 0.0131\n",
            "Epoch 932/1200\n",
            "1/1 [==============================] - 0s 6ms/step - loss: 2.3054e-04 - mae: 0.0130\n",
            "Epoch 933/1200\n",
            "1/1 [==============================] - 0s 6ms/step - loss: 2.2899e-04 - mae: 0.0130\n",
            "Epoch 934/1200\n",
            "1/1 [==============================] - 0s 7ms/step - loss: 2.2745e-04 - mae: 0.0129\n",
            "Epoch 935/1200\n",
            "1/1 [==============================] - 0s 6ms/step - loss: 2.2591e-04 - mae: 0.0129\n",
            "Epoch 936/1200\n",
            "1/1 [==============================] - 0s 6ms/step - loss: 2.2439e-04 - mae: 0.0129\n",
            "Epoch 937/1200\n",
            "1/1 [==============================] - 0s 7ms/step - loss: 2.2287e-04 - mae: 0.0128\n",
            "Epoch 938/1200\n",
            "1/1 [==============================] - 0s 6ms/step - loss: 2.2136e-04 - mae: 0.0128\n",
            "Epoch 939/1200\n",
            "1/1 [==============================] - 0s 6ms/step - loss: 2.1987e-04 - mae: 0.0127\n",
            "Epoch 940/1200\n",
            "1/1 [==============================] - 0s 6ms/step - loss: 2.1838e-04 - mae: 0.0127\n",
            "Epoch 941/1200\n",
            "1/1 [==============================] - 0s 7ms/step - loss: 2.1691e-04 - mae: 0.0126\n",
            "Epoch 942/1200\n",
            "1/1 [==============================] - 0s 6ms/step - loss: 2.1544e-04 - mae: 0.0126\n",
            "Epoch 943/1200\n",
            "1/1 [==============================] - 0s 7ms/step - loss: 2.1399e-04 - mae: 0.0126\n",
            "Epoch 944/1200\n",
            "1/1 [==============================] - 0s 7ms/step - loss: 2.1254e-04 - mae: 0.0125\n",
            "Epoch 945/1200\n",
            "1/1 [==============================] - 0s 6ms/step - loss: 2.1112e-04 - mae: 0.0125\n",
            "Epoch 946/1200\n",
            "1/1 [==============================] - 0s 6ms/step - loss: 2.0969e-04 - mae: 0.0124\n",
            "Epoch 947/1200\n",
            "1/1 [==============================] - 0s 7ms/step - loss: 2.0827e-04 - mae: 0.0124\n",
            "Epoch 948/1200\n",
            "1/1 [==============================] - 0s 7ms/step - loss: 2.0687e-04 - mae: 0.0123\n",
            "Epoch 949/1200\n",
            "1/1 [==============================] - 0s 9ms/step - loss: 2.0546e-04 - mae: 0.0123\n",
            "Epoch 950/1200\n",
            "1/1 [==============================] - 0s 11ms/step - loss: 2.0408e-04 - mae: 0.0123\n",
            "Epoch 951/1200\n",
            "1/1 [==============================] - 0s 11ms/step - loss: 2.0270e-04 - mae: 0.0122\n",
            "Epoch 952/1200\n",
            "1/1 [==============================] - 0s 15ms/step - loss: 2.0134e-04 - mae: 0.0122\n",
            "Epoch 953/1200\n",
            "1/1 [==============================] - 0s 17ms/step - loss: 1.9998e-04 - mae: 0.0121\n",
            "Epoch 954/1200\n",
            "1/1 [==============================] - 0s 13ms/step - loss: 1.9862e-04 - mae: 0.0121\n",
            "Epoch 955/1200\n",
            "1/1 [==============================] - 0s 7ms/step - loss: 1.9729e-04 - mae: 0.0121\n",
            "Epoch 956/1200\n",
            "1/1 [==============================] - 0s 13ms/step - loss: 1.9596e-04 - mae: 0.0120\n",
            "Epoch 957/1200\n",
            "1/1 [==============================] - 0s 6ms/step - loss: 1.9464e-04 - mae: 0.0120\n",
            "Epoch 958/1200\n",
            "1/1 [==============================] - 0s 8ms/step - loss: 1.9332e-04 - mae: 0.0119\n",
            "Epoch 959/1200\n",
            "1/1 [==============================] - 0s 6ms/step - loss: 1.9201e-04 - mae: 0.0119\n",
            "Epoch 960/1200\n",
            "1/1 [==============================] - 0s 6ms/step - loss: 1.9072e-04 - mae: 0.0119\n",
            "Epoch 961/1200\n",
            "1/1 [==============================] - 0s 5ms/step - loss: 1.8944e-04 - mae: 0.0118\n",
            "Epoch 962/1200\n",
            "1/1 [==============================] - 0s 6ms/step - loss: 1.8815e-04 - mae: 0.0118\n",
            "Epoch 963/1200\n",
            "1/1 [==============================] - 0s 6ms/step - loss: 1.8687e-04 - mae: 0.0117\n",
            "Epoch 964/1200\n",
            "1/1 [==============================] - 0s 5ms/step - loss: 1.8562e-04 - mae: 0.0117\n",
            "Epoch 965/1200\n",
            "1/1 [==============================] - 0s 6ms/step - loss: 1.8437e-04 - mae: 0.0117\n",
            "Epoch 966/1200\n",
            "1/1 [==============================] - 0s 6ms/step - loss: 1.8312e-04 - mae: 0.0116\n",
            "Epoch 967/1200\n",
            "1/1 [==============================] - 0s 6ms/step - loss: 1.8189e-04 - mae: 0.0116\n",
            "Epoch 968/1200\n",
            "1/1 [==============================] - 0s 6ms/step - loss: 1.8066e-04 - mae: 0.0115\n",
            "Epoch 969/1200\n",
            "1/1 [==============================] - 0s 6ms/step - loss: 1.7944e-04 - mae: 0.0115\n",
            "Epoch 970/1200\n",
            "1/1 [==============================] - 0s 6ms/step - loss: 1.7823e-04 - mae: 0.0115\n",
            "Epoch 971/1200\n",
            "1/1 [==============================] - 0s 5ms/step - loss: 1.7703e-04 - mae: 0.0114\n",
            "Epoch 972/1200\n",
            "1/1 [==============================] - 0s 5ms/step - loss: 1.7582e-04 - mae: 0.0114\n",
            "Epoch 973/1200\n",
            "1/1 [==============================] - 0s 6ms/step - loss: 1.7464e-04 - mae: 0.0113\n",
            "Epoch 974/1200\n",
            "1/1 [==============================] - 0s 6ms/step - loss: 1.7346e-04 - mae: 0.0113\n",
            "Epoch 975/1200\n",
            "1/1 [==============================] - 0s 4ms/step - loss: 1.7229e-04 - mae: 0.0113\n",
            "Epoch 976/1200\n",
            "1/1 [==============================] - 0s 5ms/step - loss: 1.7113e-04 - mae: 0.0112\n",
            "Epoch 977/1200\n",
            "1/1 [==============================] - 0s 6ms/step - loss: 1.6998e-04 - mae: 0.0112\n",
            "Epoch 978/1200\n",
            "1/1 [==============================] - 0s 5ms/step - loss: 1.6883e-04 - mae: 0.0112\n",
            "Epoch 979/1200\n",
            "1/1 [==============================] - 0s 5ms/step - loss: 1.6769e-04 - mae: 0.0111\n",
            "Epoch 980/1200\n",
            "1/1 [==============================] - 0s 5ms/step - loss: 1.6655e-04 - mae: 0.0111\n",
            "Epoch 981/1200\n",
            "1/1 [==============================] - 0s 5ms/step - loss: 1.6542e-04 - mae: 0.0110\n",
            "Epoch 982/1200\n",
            "1/1 [==============================] - 0s 5ms/step - loss: 1.6431e-04 - mae: 0.0110\n",
            "Epoch 983/1200\n",
            "1/1 [==============================] - 0s 11ms/step - loss: 1.6320e-04 - mae: 0.0110\n",
            "Epoch 984/1200\n",
            "1/1 [==============================] - 0s 5ms/step - loss: 1.6210e-04 - mae: 0.0109\n",
            "Epoch 985/1200\n",
            "1/1 [==============================] - 0s 6ms/step - loss: 1.6100e-04 - mae: 0.0109\n",
            "Epoch 986/1200\n",
            "1/1 [==============================] - 0s 5ms/step - loss: 1.5992e-04 - mae: 0.0109\n",
            "Epoch 987/1200\n",
            "1/1 [==============================] - 0s 6ms/step - loss: 1.5884e-04 - mae: 0.0108\n",
            "Epoch 988/1200\n",
            "1/1 [==============================] - 0s 5ms/step - loss: 1.5777e-04 - mae: 0.0108\n",
            "Epoch 989/1200\n",
            "1/1 [==============================] - 0s 8ms/step - loss: 1.5671e-04 - mae: 0.0107\n",
            "Epoch 990/1200\n",
            "1/1 [==============================] - 0s 8ms/step - loss: 1.5565e-04 - mae: 0.0107\n",
            "Epoch 991/1200\n",
            "1/1 [==============================] - 0s 10ms/step - loss: 1.5459e-04 - mae: 0.0107\n",
            "Epoch 992/1200\n",
            "1/1 [==============================] - 0s 7ms/step - loss: 1.5355e-04 - mae: 0.0106\n",
            "Epoch 993/1200\n",
            "1/1 [==============================] - 0s 7ms/step - loss: 1.5251e-04 - mae: 0.0106\n",
            "Epoch 994/1200\n",
            "1/1 [==============================] - 0s 6ms/step - loss: 1.5149e-04 - mae: 0.0106\n",
            "Epoch 995/1200\n",
            "1/1 [==============================] - 0s 12ms/step - loss: 1.5046e-04 - mae: 0.0105\n",
            "Epoch 996/1200\n",
            "1/1 [==============================] - 0s 7ms/step - loss: 1.4944e-04 - mae: 0.0105\n",
            "Epoch 997/1200\n",
            "1/1 [==============================] - 0s 7ms/step - loss: 1.4843e-04 - mae: 0.0105\n",
            "Epoch 998/1200\n",
            "1/1 [==============================] - 0s 7ms/step - loss: 1.4744e-04 - mae: 0.0104\n",
            "Epoch 999/1200\n",
            "1/1 [==============================] - 0s 7ms/step - loss: 1.4644e-04 - mae: 0.0104\n",
            "Epoch 1000/1200\n",
            "1/1 [==============================] - 0s 7ms/step - loss: 1.4545e-04 - mae: 0.0104\n",
            "Epoch 1001/1200\n",
            "1/1 [==============================] - 0s 10ms/step - loss: 1.4447e-04 - mae: 0.0103\n",
            "Epoch 1002/1200\n",
            "1/1 [==============================] - 0s 7ms/step - loss: 1.4350e-04 - mae: 0.0103\n",
            "Epoch 1003/1200\n",
            "1/1 [==============================] - 0s 9ms/step - loss: 1.4253e-04 - mae: 0.0102\n",
            "Epoch 1004/1200\n",
            "1/1 [==============================] - 0s 7ms/step - loss: 1.4157e-04 - mae: 0.0102\n",
            "Epoch 1005/1200\n",
            "1/1 [==============================] - 0s 5ms/step - loss: 1.4061e-04 - mae: 0.0102\n",
            "Epoch 1006/1200\n",
            "1/1 [==============================] - 0s 5ms/step - loss: 1.3966e-04 - mae: 0.0101\n",
            "Epoch 1007/1200\n",
            "1/1 [==============================] - 0s 6ms/step - loss: 1.3871e-04 - mae: 0.0101\n",
            "Epoch 1008/1200\n",
            "1/1 [==============================] - 0s 6ms/step - loss: 1.3778e-04 - mae: 0.0101\n",
            "Epoch 1009/1200\n",
            "1/1 [==============================] - 0s 5ms/step - loss: 1.3685e-04 - mae: 0.0100\n",
            "Epoch 1010/1200\n",
            "1/1 [==============================] - 0s 5ms/step - loss: 1.3592e-04 - mae: 0.0100\n",
            "Epoch 1011/1200\n",
            "1/1 [==============================] - 0s 5ms/step - loss: 1.3501e-04 - mae: 0.0100\n",
            "Epoch 1012/1200\n",
            "1/1 [==============================] - 0s 5ms/step - loss: 1.3410e-04 - mae: 0.0099\n",
            "Epoch 1013/1200\n",
            "1/1 [==============================] - 0s 5ms/step - loss: 1.3320e-04 - mae: 0.0099\n",
            "Epoch 1014/1200\n",
            "1/1 [==============================] - 0s 6ms/step - loss: 1.3229e-04 - mae: 0.0099\n",
            "Epoch 1015/1200\n",
            "1/1 [==============================] - 0s 6ms/step - loss: 1.3141e-04 - mae: 0.0098\n",
            "Epoch 1016/1200\n",
            "1/1 [==============================] - 0s 5ms/step - loss: 1.3051e-04 - mae: 0.0098\n",
            "Epoch 1017/1200\n",
            "1/1 [==============================] - 0s 7ms/step - loss: 1.2964e-04 - mae: 0.0098\n",
            "Epoch 1018/1200\n",
            "1/1 [==============================] - 0s 15ms/step - loss: 1.2876e-04 - mae: 0.0097\n",
            "Epoch 1019/1200\n",
            "1/1 [==============================] - 0s 7ms/step - loss: 1.2789e-04 - mae: 0.0097\n",
            "Epoch 1020/1200\n",
            "1/1 [==============================] - 0s 5ms/step - loss: 1.2702e-04 - mae: 0.0097\n",
            "Epoch 1021/1200\n",
            "1/1 [==============================] - 0s 6ms/step - loss: 1.2617e-04 - mae: 0.0096\n",
            "Epoch 1022/1200\n",
            "1/1 [==============================] - 0s 7ms/step - loss: 1.2532e-04 - mae: 0.0096\n",
            "Epoch 1023/1200\n",
            "1/1 [==============================] - 0s 5ms/step - loss: 1.2447e-04 - mae: 0.0096\n",
            "Epoch 1024/1200\n",
            "1/1 [==============================] - 0s 7ms/step - loss: 1.2363e-04 - mae: 0.0095\n",
            "Epoch 1025/1200\n",
            "1/1 [==============================] - 0s 6ms/step - loss: 1.2280e-04 - mae: 0.0095\n",
            "Epoch 1026/1200\n",
            "1/1 [==============================] - 0s 6ms/step - loss: 1.2197e-04 - mae: 0.0095\n",
            "Epoch 1027/1200\n",
            "1/1 [==============================] - 0s 5ms/step - loss: 1.2114e-04 - mae: 0.0094\n",
            "Epoch 1028/1200\n",
            "1/1 [==============================] - 0s 5ms/step - loss: 1.2033e-04 - mae: 0.0094\n",
            "Epoch 1029/1200\n",
            "1/1 [==============================] - 0s 5ms/step - loss: 1.1951e-04 - mae: 0.0094\n",
            "Epoch 1030/1200\n",
            "1/1 [==============================] - 0s 7ms/step - loss: 1.1871e-04 - mae: 0.0094\n",
            "Epoch 1031/1200\n",
            "1/1 [==============================] - 0s 6ms/step - loss: 1.1790e-04 - mae: 0.0093\n",
            "Epoch 1032/1200\n",
            "1/1 [==============================] - 0s 6ms/step - loss: 1.1711e-04 - mae: 0.0093\n",
            "Epoch 1033/1200\n",
            "1/1 [==============================] - 0s 6ms/step - loss: 1.1632e-04 - mae: 0.0093\n",
            "Epoch 1034/1200\n",
            "1/1 [==============================] - 0s 9ms/step - loss: 1.1553e-04 - mae: 0.0092\n",
            "Epoch 1035/1200\n",
            "1/1 [==============================] - 0s 6ms/step - loss: 1.1475e-04 - mae: 0.0092\n",
            "Epoch 1036/1200\n",
            "1/1 [==============================] - 0s 6ms/step - loss: 1.1398e-04 - mae: 0.0092\n",
            "Epoch 1037/1200\n",
            "1/1 [==============================] - 0s 5ms/step - loss: 1.1321e-04 - mae: 0.0091\n",
            "Epoch 1038/1200\n",
            "1/1 [==============================] - 0s 6ms/step - loss: 1.1245e-04 - mae: 0.0091\n",
            "Epoch 1039/1200\n",
            "1/1 [==============================] - 0s 5ms/step - loss: 1.1168e-04 - mae: 0.0091\n",
            "Epoch 1040/1200\n",
            "1/1 [==============================] - 0s 6ms/step - loss: 1.1093e-04 - mae: 0.0090\n",
            "Epoch 1041/1200\n",
            "1/1 [==============================] - 0s 6ms/step - loss: 1.1018e-04 - mae: 0.0090\n",
            "Epoch 1042/1200\n",
            "1/1 [==============================] - 0s 7ms/step - loss: 1.0944e-04 - mae: 0.0090\n",
            "Epoch 1043/1200\n",
            "1/1 [==============================] - 0s 6ms/step - loss: 1.0870e-04 - mae: 0.0089\n",
            "Epoch 1044/1200\n",
            "1/1 [==============================] - 0s 6ms/step - loss: 1.0797e-04 - mae: 0.0089\n",
            "Epoch 1045/1200\n",
            "1/1 [==============================] - 0s 6ms/step - loss: 1.0724e-04 - mae: 0.0089\n",
            "Epoch 1046/1200\n",
            "1/1 [==============================] - 0s 6ms/step - loss: 1.0651e-04 - mae: 0.0089\n",
            "Epoch 1047/1200\n",
            "1/1 [==============================] - 0s 7ms/step - loss: 1.0579e-04 - mae: 0.0088\n",
            "Epoch 1048/1200\n",
            "1/1 [==============================] - 0s 7ms/step - loss: 1.0507e-04 - mae: 0.0088\n",
            "Epoch 1049/1200\n",
            "1/1 [==============================] - 0s 15ms/step - loss: 1.0437e-04 - mae: 0.0088\n",
            "Epoch 1050/1200\n",
            "1/1 [==============================] - 0s 6ms/step - loss: 1.0366e-04 - mae: 0.0087\n",
            "Epoch 1051/1200\n",
            "1/1 [==============================] - 0s 7ms/step - loss: 1.0297e-04 - mae: 0.0087\n",
            "Epoch 1052/1200\n",
            "1/1 [==============================] - 0s 6ms/step - loss: 1.0227e-04 - mae: 0.0087\n",
            "Epoch 1053/1200\n",
            "1/1 [==============================] - 0s 8ms/step - loss: 1.0158e-04 - mae: 0.0087\n",
            "Epoch 1054/1200\n",
            "1/1 [==============================] - 0s 9ms/step - loss: 1.0089e-04 - mae: 0.0086\n",
            "Epoch 1055/1200\n",
            "1/1 [==============================] - 0s 7ms/step - loss: 1.0022e-04 - mae: 0.0086\n",
            "Epoch 1056/1200\n",
            "1/1 [==============================] - 0s 9ms/step - loss: 9.9537e-05 - mae: 0.0086\n",
            "Epoch 1057/1200\n",
            "1/1 [==============================] - 0s 10ms/step - loss: 9.8869e-05 - mae: 0.0085\n",
            "Epoch 1058/1200\n",
            "1/1 [==============================] - 0s 14ms/step - loss: 9.8192e-05 - mae: 0.0085\n",
            "Epoch 1059/1200\n",
            "1/1 [==============================] - 0s 9ms/step - loss: 9.7534e-05 - mae: 0.0085\n",
            "Epoch 1060/1200\n",
            "1/1 [==============================] - 0s 7ms/step - loss: 9.6875e-05 - mae: 0.0084\n",
            "Epoch 1061/1200\n",
            "1/1 [==============================] - 0s 11ms/step - loss: 9.6221e-05 - mae: 0.0084\n",
            "Epoch 1062/1200\n",
            "1/1 [==============================] - 0s 11ms/step - loss: 9.5569e-05 - mae: 0.0084\n",
            "Epoch 1063/1200\n",
            "1/1 [==============================] - 0s 9ms/step - loss: 9.4930e-05 - mae: 0.0084\n",
            "Epoch 1064/1200\n",
            "1/1 [==============================] - 0s 10ms/step - loss: 9.4286e-05 - mae: 0.0083\n",
            "Epoch 1065/1200\n",
            "1/1 [==============================] - 0s 6ms/step - loss: 9.3650e-05 - mae: 0.0083\n",
            "Epoch 1066/1200\n",
            "1/1 [==============================] - 0s 9ms/step - loss: 9.3015e-05 - mae: 0.0083\n",
            "Epoch 1067/1200\n",
            "1/1 [==============================] - 0s 6ms/step - loss: 9.2391e-05 - mae: 0.0083\n",
            "Epoch 1068/1200\n",
            "1/1 [==============================] - 0s 11ms/step - loss: 9.1765e-05 - mae: 0.0082\n",
            "Epoch 1069/1200\n",
            "1/1 [==============================] - 0s 9ms/step - loss: 9.1143e-05 - mae: 0.0082\n",
            "Epoch 1070/1200\n",
            "1/1 [==============================] - 0s 10ms/step - loss: 9.0526e-05 - mae: 0.0082\n",
            "Epoch 1071/1200\n",
            "1/1 [==============================] - 0s 7ms/step - loss: 8.9921e-05 - mae: 0.0081\n",
            "Epoch 1072/1200\n",
            "1/1 [==============================] - 0s 5ms/step - loss: 8.9315e-05 - mae: 0.0081\n",
            "Epoch 1073/1200\n",
            "1/1 [==============================] - 0s 5ms/step - loss: 8.8714e-05 - mae: 0.0081\n",
            "Epoch 1074/1200\n",
            "1/1 [==============================] - 0s 6ms/step - loss: 8.8107e-05 - mae: 0.0081\n",
            "Epoch 1075/1200\n",
            "1/1 [==============================] - 0s 6ms/step - loss: 8.7519e-05 - mae: 0.0080\n",
            "Epoch 1076/1200\n",
            "1/1 [==============================] - 0s 9ms/step - loss: 8.6926e-05 - mae: 0.0080\n",
            "Epoch 1077/1200\n",
            "1/1 [==============================] - 0s 6ms/step - loss: 8.6341e-05 - mae: 0.0080\n",
            "Epoch 1078/1200\n",
            "1/1 [==============================] - 0s 6ms/step - loss: 8.5752e-05 - mae: 0.0079\n",
            "Epoch 1079/1200\n",
            "1/1 [==============================] - 0s 6ms/step - loss: 8.5176e-05 - mae: 0.0079\n",
            "Epoch 1080/1200\n",
            "1/1 [==============================] - 0s 7ms/step - loss: 8.4600e-05 - mae: 0.0079\n",
            "Epoch 1081/1200\n",
            "1/1 [==============================] - 0s 5ms/step - loss: 8.4028e-05 - mae: 0.0079\n",
            "Epoch 1082/1200\n",
            "1/1 [==============================] - 0s 11ms/step - loss: 8.3467e-05 - mae: 0.0078\n",
            "Epoch 1083/1200\n",
            "1/1 [==============================] - 0s 9ms/step - loss: 8.2898e-05 - mae: 0.0078\n",
            "Epoch 1084/1200\n",
            "1/1 [==============================] - 0s 6ms/step - loss: 8.2345e-05 - mae: 0.0078\n",
            "Epoch 1085/1200\n",
            "1/1 [==============================] - 0s 6ms/step - loss: 8.1786e-05 - mae: 0.0078\n",
            "Epoch 1086/1200\n",
            "1/1 [==============================] - 0s 7ms/step - loss: 8.1237e-05 - mae: 0.0077\n",
            "Epoch 1087/1200\n",
            "1/1 [==============================] - 0s 7ms/step - loss: 8.0685e-05 - mae: 0.0077\n",
            "Epoch 1088/1200\n",
            "1/1 [==============================] - 0s 7ms/step - loss: 8.0137e-05 - mae: 0.0077\n",
            "Epoch 1089/1200\n",
            "1/1 [==============================] - 0s 6ms/step - loss: 7.9596e-05 - mae: 0.0077\n",
            "Epoch 1090/1200\n",
            "1/1 [==============================] - 0s 9ms/step - loss: 7.9061e-05 - mae: 0.0076\n",
            "Epoch 1091/1200\n",
            "1/1 [==============================] - 0s 11ms/step - loss: 7.8529e-05 - mae: 0.0076\n",
            "Epoch 1092/1200\n",
            "1/1 [==============================] - 0s 5ms/step - loss: 7.7995e-05 - mae: 0.0076\n",
            "Epoch 1093/1200\n",
            "1/1 [==============================] - 0s 5ms/step - loss: 7.7475e-05 - mae: 0.0076\n",
            "Epoch 1094/1200\n",
            "1/1 [==============================] - 0s 6ms/step - loss: 7.6953e-05 - mae: 0.0075\n",
            "Epoch 1095/1200\n",
            "1/1 [==============================] - 0s 9ms/step - loss: 7.6435e-05 - mae: 0.0075\n",
            "Epoch 1096/1200\n",
            "1/1 [==============================] - 0s 8ms/step - loss: 7.5914e-05 - mae: 0.0075\n",
            "Epoch 1097/1200\n",
            "1/1 [==============================] - 0s 7ms/step - loss: 7.5402e-05 - mae: 0.0075\n",
            "Epoch 1098/1200\n",
            "1/1 [==============================] - 0s 8ms/step - loss: 7.4891e-05 - mae: 0.0074\n",
            "Epoch 1099/1200\n",
            "1/1 [==============================] - 0s 8ms/step - loss: 7.4390e-05 - mae: 0.0074\n",
            "Epoch 1100/1200\n",
            "1/1 [==============================] - 0s 8ms/step - loss: 7.3885e-05 - mae: 0.0074\n",
            "Epoch 1101/1200\n",
            "1/1 [==============================] - 0s 8ms/step - loss: 7.3385e-05 - mae: 0.0074\n",
            "Epoch 1102/1200\n",
            "1/1 [==============================] - 0s 8ms/step - loss: 7.2894e-05 - mae: 0.0073\n",
            "Epoch 1103/1200\n",
            "1/1 [==============================] - 0s 11ms/step - loss: 7.2402e-05 - mae: 0.0073\n",
            "Epoch 1104/1200\n",
            "1/1 [==============================] - 0s 9ms/step - loss: 7.1908e-05 - mae: 0.0073\n",
            "Epoch 1105/1200\n",
            "1/1 [==============================] - 0s 12ms/step - loss: 7.1426e-05 - mae: 0.0073\n",
            "Epoch 1106/1200\n",
            "1/1 [==============================] - 0s 5ms/step - loss: 7.0943e-05 - mae: 0.0072\n",
            "Epoch 1107/1200\n",
            "1/1 [==============================] - 0s 6ms/step - loss: 7.0461e-05 - mae: 0.0072\n",
            "Epoch 1108/1200\n",
            "1/1 [==============================] - 0s 6ms/step - loss: 6.9987e-05 - mae: 0.0072\n",
            "Epoch 1109/1200\n",
            "1/1 [==============================] - 0s 7ms/step - loss: 6.9516e-05 - mae: 0.0072\n",
            "Epoch 1110/1200\n",
            "1/1 [==============================] - 0s 6ms/step - loss: 6.9051e-05 - mae: 0.0071\n",
            "Epoch 1111/1200\n",
            "1/1 [==============================] - 0s 6ms/step - loss: 6.8584e-05 - mae: 0.0071\n",
            "Epoch 1112/1200\n",
            "1/1 [==============================] - 0s 8ms/step - loss: 6.8119e-05 - mae: 0.0071\n",
            "Epoch 1113/1200\n",
            "1/1 [==============================] - 0s 6ms/step - loss: 6.7662e-05 - mae: 0.0071\n",
            "Epoch 1114/1200\n",
            "1/1 [==============================] - 0s 6ms/step - loss: 6.7199e-05 - mae: 0.0070\n",
            "Epoch 1115/1200\n",
            "1/1 [==============================] - 0s 6ms/step - loss: 6.6751e-05 - mae: 0.0070\n",
            "Epoch 1116/1200\n",
            "1/1 [==============================] - 0s 8ms/step - loss: 6.6300e-05 - mae: 0.0070\n",
            "Epoch 1117/1200\n",
            "1/1 [==============================] - 0s 8ms/step - loss: 6.5847e-05 - mae: 0.0070\n",
            "Epoch 1118/1200\n",
            "1/1 [==============================] - 0s 9ms/step - loss: 6.5410e-05 - mae: 0.0069\n",
            "Epoch 1119/1200\n",
            "1/1 [==============================] - 0s 9ms/step - loss: 6.4968e-05 - mae: 0.0069\n",
            "Epoch 1120/1200\n",
            "1/1 [==============================] - 0s 6ms/step - loss: 6.4525e-05 - mae: 0.0069\n",
            "Epoch 1121/1200\n",
            "1/1 [==============================] - 0s 7ms/step - loss: 6.4090e-05 - mae: 0.0069\n",
            "Epoch 1122/1200\n",
            "1/1 [==============================] - 0s 7ms/step - loss: 6.3658e-05 - mae: 0.0068\n",
            "Epoch 1123/1200\n",
            "1/1 [==============================] - 0s 7ms/step - loss: 6.3225e-05 - mae: 0.0068\n",
            "Epoch 1124/1200\n",
            "1/1 [==============================] - 0s 6ms/step - loss: 6.2800e-05 - mae: 0.0068\n",
            "Epoch 1125/1200\n",
            "1/1 [==============================] - 0s 6ms/step - loss: 6.2376e-05 - mae: 0.0068\n",
            "Epoch 1126/1200\n",
            "1/1 [==============================] - 0s 7ms/step - loss: 6.1952e-05 - mae: 0.0068\n",
            "Epoch 1127/1200\n",
            "1/1 [==============================] - 0s 6ms/step - loss: 6.1537e-05 - mae: 0.0067\n",
            "Epoch 1128/1200\n",
            "1/1 [==============================] - 0s 6ms/step - loss: 6.1117e-05 - mae: 0.0067\n",
            "Epoch 1129/1200\n",
            "1/1 [==============================] - 0s 6ms/step - loss: 6.0707e-05 - mae: 0.0067\n",
            "Epoch 1130/1200\n",
            "1/1 [==============================] - 0s 7ms/step - loss: 6.0297e-05 - mae: 0.0067\n",
            "Epoch 1131/1200\n",
            "1/1 [==============================] - 0s 6ms/step - loss: 5.9894e-05 - mae: 0.0066\n",
            "Epoch 1132/1200\n",
            "1/1 [==============================] - 0s 6ms/step - loss: 5.9492e-05 - mae: 0.0066\n",
            "Epoch 1133/1200\n",
            "1/1 [==============================] - 0s 6ms/step - loss: 5.9087e-05 - mae: 0.0066\n",
            "Epoch 1134/1200\n",
            "1/1 [==============================] - 0s 6ms/step - loss: 5.8689e-05 - mae: 0.0066\n",
            "Epoch 1135/1200\n",
            "1/1 [==============================] - 0s 6ms/step - loss: 5.8297e-05 - mae: 0.0066\n",
            "Epoch 1136/1200\n",
            "1/1 [==============================] - 0s 7ms/step - loss: 5.7897e-05 - mae: 0.0065\n",
            "Epoch 1137/1200\n",
            "1/1 [==============================] - 0s 7ms/step - loss: 5.7507e-05 - mae: 0.0065\n",
            "Epoch 1138/1200\n",
            "1/1 [==============================] - 0s 6ms/step - loss: 5.7118e-05 - mae: 0.0065\n",
            "Epoch 1139/1200\n",
            "1/1 [==============================] - 0s 7ms/step - loss: 5.6737e-05 - mae: 0.0065\n",
            "Epoch 1140/1200\n",
            "1/1 [==============================] - 0s 7ms/step - loss: 5.6352e-05 - mae: 0.0064\n",
            "Epoch 1141/1200\n",
            "1/1 [==============================] - 0s 7ms/step - loss: 5.5971e-05 - mae: 0.0064\n",
            "Epoch 1142/1200\n",
            "1/1 [==============================] - 0s 6ms/step - loss: 5.5594e-05 - mae: 0.0064\n",
            "Epoch 1143/1200\n",
            "1/1 [==============================] - 0s 6ms/step - loss: 5.5214e-05 - mae: 0.0064\n",
            "Epoch 1144/1200\n",
            "1/1 [==============================] - 0s 7ms/step - loss: 5.4845e-05 - mae: 0.0064\n",
            "Epoch 1145/1200\n",
            "1/1 [==============================] - 0s 6ms/step - loss: 5.4472e-05 - mae: 0.0063\n",
            "Epoch 1146/1200\n",
            "1/1 [==============================] - 0s 6ms/step - loss: 5.4110e-05 - mae: 0.0063\n",
            "Epoch 1147/1200\n",
            "1/1 [==============================] - 0s 7ms/step - loss: 5.3738e-05 - mae: 0.0063\n",
            "Epoch 1148/1200\n",
            "1/1 [==============================] - 0s 9ms/step - loss: 5.3378e-05 - mae: 0.0063\n",
            "Epoch 1149/1200\n",
            "1/1 [==============================] - 0s 6ms/step - loss: 5.3016e-05 - mae: 0.0062\n",
            "Epoch 1150/1200\n",
            "1/1 [==============================] - 0s 6ms/step - loss: 5.2659e-05 - mae: 0.0062\n",
            "Epoch 1151/1200\n",
            "1/1 [==============================] - 0s 6ms/step - loss: 5.2306e-05 - mae: 0.0062\n",
            "Epoch 1152/1200\n",
            "1/1 [==============================] - 0s 6ms/step - loss: 5.1951e-05 - mae: 0.0062\n",
            "Epoch 1153/1200\n",
            "1/1 [==============================] - 0s 6ms/step - loss: 5.1602e-05 - mae: 0.0062\n",
            "Epoch 1154/1200\n",
            "1/1 [==============================] - 0s 6ms/step - loss: 5.1256e-05 - mae: 0.0061\n",
            "Epoch 1155/1200\n",
            "1/1 [==============================] - 0s 7ms/step - loss: 5.0907e-05 - mae: 0.0061\n",
            "Epoch 1156/1200\n",
            "1/1 [==============================] - 0s 7ms/step - loss: 5.0565e-05 - mae: 0.0061\n",
            "Epoch 1157/1200\n",
            "1/1 [==============================] - 0s 6ms/step - loss: 5.0218e-05 - mae: 0.0061\n",
            "Epoch 1158/1200\n",
            "1/1 [==============================] - 0s 7ms/step - loss: 4.9881e-05 - mae: 0.0061\n",
            "Epoch 1159/1200\n",
            "1/1 [==============================] - 0s 7ms/step - loss: 4.9546e-05 - mae: 0.0060\n",
            "Epoch 1160/1200\n",
            "1/1 [==============================] - 0s 9ms/step - loss: 4.9215e-05 - mae: 0.0060\n",
            "Epoch 1161/1200\n",
            "1/1 [==============================] - 0s 9ms/step - loss: 4.8881e-05 - mae: 0.0060\n",
            "Epoch 1162/1200\n",
            "1/1 [==============================] - 0s 14ms/step - loss: 4.8550e-05 - mae: 0.0060\n",
            "Epoch 1163/1200\n",
            "1/1 [==============================] - 0s 13ms/step - loss: 4.8223e-05 - mae: 0.0060\n",
            "Epoch 1164/1200\n",
            "1/1 [==============================] - 0s 10ms/step - loss: 4.7897e-05 - mae: 0.0059\n",
            "Epoch 1165/1200\n",
            "1/1 [==============================] - 0s 11ms/step - loss: 4.7574e-05 - mae: 0.0059\n",
            "Epoch 1166/1200\n",
            "1/1 [==============================] - 0s 9ms/step - loss: 4.7257e-05 - mae: 0.0059\n",
            "Epoch 1167/1200\n",
            "1/1 [==============================] - 0s 10ms/step - loss: 4.6935e-05 - mae: 0.0059\n",
            "Epoch 1168/1200\n",
            "1/1 [==============================] - 0s 9ms/step - loss: 4.6620e-05 - mae: 0.0059\n",
            "Epoch 1169/1200\n",
            "1/1 [==============================] - 0s 10ms/step - loss: 4.6299e-05 - mae: 0.0058\n",
            "Epoch 1170/1200\n",
            "1/1 [==============================] - 0s 6ms/step - loss: 4.5986e-05 - mae: 0.0058\n",
            "Epoch 1171/1200\n",
            "1/1 [==============================] - 0s 10ms/step - loss: 4.5678e-05 - mae: 0.0058\n",
            "Epoch 1172/1200\n",
            "1/1 [==============================] - 0s 6ms/step - loss: 4.5370e-05 - mae: 0.0058\n",
            "Epoch 1173/1200\n",
            "1/1 [==============================] - 0s 9ms/step - loss: 4.5062e-05 - mae: 0.0058\n",
            "Epoch 1174/1200\n",
            "1/1 [==============================] - 0s 11ms/step - loss: 4.4758e-05 - mae: 0.0057\n",
            "Epoch 1175/1200\n",
            "1/1 [==============================] - 0s 11ms/step - loss: 4.4462e-05 - mae: 0.0057\n",
            "Epoch 1176/1200\n",
            "1/1 [==============================] - 0s 10ms/step - loss: 4.4157e-05 - mae: 0.0057\n",
            "Epoch 1177/1200\n",
            "1/1 [==============================] - 0s 8ms/step - loss: 4.3855e-05 - mae: 0.0057\n",
            "Epoch 1178/1200\n",
            "1/1 [==============================] - 0s 7ms/step - loss: 4.3564e-05 - mae: 0.0057\n",
            "Epoch 1179/1200\n",
            "1/1 [==============================] - 0s 6ms/step - loss: 4.3266e-05 - mae: 0.0056\n",
            "Epoch 1180/1200\n",
            "1/1 [==============================] - 0s 8ms/step - loss: 4.2976e-05 - mae: 0.0056\n",
            "Epoch 1181/1200\n",
            "1/1 [==============================] - 0s 6ms/step - loss: 4.2687e-05 - mae: 0.0056\n",
            "Epoch 1182/1200\n",
            "1/1 [==============================] - 0s 6ms/step - loss: 4.2403e-05 - mae: 0.0056\n",
            "Epoch 1183/1200\n",
            "1/1 [==============================] - 0s 6ms/step - loss: 4.2115e-05 - mae: 0.0056\n",
            "Epoch 1184/1200\n",
            "1/1 [==============================] - 0s 6ms/step - loss: 4.1832e-05 - mae: 0.0056\n",
            "Epoch 1185/1200\n",
            "1/1 [==============================] - 0s 6ms/step - loss: 4.1546e-05 - mae: 0.0055\n",
            "Epoch 1186/1200\n",
            "1/1 [==============================] - 0s 6ms/step - loss: 4.1268e-05 - mae: 0.0055\n",
            "Epoch 1187/1200\n",
            "1/1 [==============================] - 0s 7ms/step - loss: 4.0986e-05 - mae: 0.0055\n",
            "Epoch 1188/1200\n",
            "1/1 [==============================] - 0s 12ms/step - loss: 4.0709e-05 - mae: 0.0055\n",
            "Epoch 1189/1200\n",
            "1/1 [==============================] - 0s 7ms/step - loss: 4.0437e-05 - mae: 0.0055\n",
            "Epoch 1190/1200\n",
            "1/1 [==============================] - 0s 8ms/step - loss: 4.0161e-05 - mae: 0.0054\n",
            "Epoch 1191/1200\n",
            "1/1 [==============================] - 0s 6ms/step - loss: 3.9895e-05 - mae: 0.0054\n",
            "Epoch 1192/1200\n",
            "1/1 [==============================] - 0s 9ms/step - loss: 3.9626e-05 - mae: 0.0054\n",
            "Epoch 1193/1200\n",
            "1/1 [==============================] - 0s 6ms/step - loss: 3.9358e-05 - mae: 0.0054\n",
            "Epoch 1194/1200\n",
            "1/1 [==============================] - 0s 6ms/step - loss: 3.9089e-05 - mae: 0.0054\n",
            "Epoch 1195/1200\n",
            "1/1 [==============================] - 0s 7ms/step - loss: 3.8827e-05 - mae: 0.0053\n",
            "Epoch 1196/1200\n",
            "1/1 [==============================] - 0s 6ms/step - loss: 3.8565e-05 - mae: 0.0053\n",
            "Epoch 1197/1200\n",
            "1/1 [==============================] - 0s 7ms/step - loss: 3.8304e-05 - mae: 0.0053\n",
            "Epoch 1198/1200\n",
            "1/1 [==============================] - 0s 6ms/step - loss: 3.8045e-05 - mae: 0.0053\n",
            "Epoch 1199/1200\n",
            "1/1 [==============================] - 0s 6ms/step - loss: 3.7788e-05 - mae: 0.0053\n",
            "Epoch 1200/1200\n",
            "1/1 [==============================] - 0s 6ms/step - loss: 3.7535e-05 - mae: 0.0053\n"
          ]
        }
      ]
    },
    {
      "cell_type": "code",
      "source": [
        "plt.plot(history.history['loss'], label='loss')\n",
        "plt.plot(history.history['mae'], label='mae')\n",
        "plt.xlim(-1, 20)\n",
        "plt.title('Loss')\n",
        "plt.legend()\n",
        "plt.show()"
      ],
      "metadata": {
        "colab": {
          "base_uri": "https://localhost:8080/",
          "height": 281
        },
        "id": "HQMSwvhx-LRl",
        "outputId": "7a299f17-40d9-4e89-9c5e-7adca9a88b87"
      },
      "execution_count": 15,
      "outputs": [
        {
          "output_type": "display_data",
          "data": {
            "text/plain": [
              "<Figure size 432x288 with 1 Axes>"
            ],
            "image/png": "[encoded data removed]"
          },
          "metadata": {
            "needs_background": "light"
          }
        }
      ]
    },
    {
      "cell_type": "markdown",
      "source": [
        "<검증>"
      ],
      "metadata": {
        "id": "XTIZi4A1-d1_"
      }
    },
    {
      "cell_type": "code",
      "source": [
        "model.evaluate(x,y)"
      ],
      "metadata": {
        "colab": {
          "base_uri": "https://localhost:8080/"
        },
        "id": "HyYmw2hQ-LP2",
        "outputId": "31a9a006-2b1d-4cf0-ea25-9e8faaca32a1"
      },
      "execution_count": 17,
      "outputs": [
        {
          "output_type": "stream",
          "name": "stdout",
          "text": [
            "1/1 [==============================] - 0s 176ms/step - loss: 3.7283e-05 - mae: 0.0052\n"
          ]
        },
        {
          "output_type": "execute_result",
          "data": {
            "text/plain": [
              "[3.7282879929989576e-05, 0.005241012666374445]"
            ]
          },
          "metadata": {},
          "execution_count": 17
        }
      ]
    },
    {
      "cell_type": "markdown",
      "source": [
        "<예측>"
      ],
      "metadata": {
        "id": "Tk88MJmm-keX"
      }
    },
    {
      "cell_type": "code",
      "source": [
        "model.predict([10])"
      ],
      "metadata": {
        "colab": {
          "base_uri": "https://localhost:8080/"
        },
        "id": "cJNXReQa-LOP",
        "outputId": "4cb831e8-507c-4960-acfb-39edd6674930"
      },
      "execution_count": 18,
      "outputs": [
        {
          "output_type": "execute_result",
          "data": {
            "text/plain": [
              "array([[32.02533]], dtype=float32)"
            ]
          },
          "metadata": {},
          "execution_count": 18
        }
      ]
    },
    {
      "cell_type": "markdown",
      "source": [
        "### **03. 심층 신경망으로 이미지 분류**\n"
      ],
      "metadata": {
        "id": "dUsVxjIJ-wDZ"
      }
    },
    {
      "cell_type": "markdown",
      "source": [
        "<데이터셋 로드>"
      ],
      "metadata": {
        "id": "rF8-js9a_Q8Z"
      }
    },
    {
      "cell_type": "code",
      "source": [
        "mnist = tf.keras.datasets.mnist"
      ],
      "metadata": {
        "id": "SychansF-LMC"
      },
      "execution_count": 2,
      "outputs": []
    },
    {
      "cell_type": "code",
      "source": [
        "(x_train, y_train), (x_test, y_test) = mnist.load_data()"
      ],
      "metadata": {
        "colab": {
          "base_uri": "https://localhost:8080/"
        },
        "id": "LkXU3JxH-LKJ",
        "outputId": "042c6c06-90da-4c44-fb4b-89fe0fc0e3d7"
      },
      "execution_count": 3,
      "outputs": [
        {
          "output_type": "stream",
          "name": "stdout",
          "text": [
            "Downloading data from https://storage.googleapis.com/tensorflow/tf-keras-datasets/mnist.npz\n",
            "11493376/11490434 [==============================] - 0s 0us/step\n",
            "11501568/11490434 [==============================] - 0s 0us/step\n"
          ]
        }
      ]
    },
    {
      "cell_type": "code",
      "source": [
        "print('train set: ', x_train.shape, y_train.shape)\n",
        "print('test  set: ', x_test.shape, y_test.shape)"
      ],
      "metadata": {
        "colab": {
          "base_uri": "https://localhost:8080/"
        },
        "id": "sMakomg4-LH9",
        "outputId": "4056fd7f-a051-41c6-e235-5032f32f5e57"
      },
      "execution_count": 4,
      "outputs": [
        {
          "output_type": "stream",
          "name": "stdout",
          "text": [
            "train set:  (60000, 28, 28) (60000,)\n",
            "test  set:  (10000, 28, 28) (10000,)\n"
          ]
        }
      ]
    },
    {
      "cell_type": "code",
      "source": [
        "fig, axes = plt.subplots(3, 5)\n",
        "fig.set_size_inches(8, 5)\n",
        "\n",
        "for i in range(15):\n",
        "    ax = axes[i//5, i%5]\n",
        "    # imshow로 이미지 시각화\n",
        "    ax.imshow(x_train[i], cmap='gray')\n",
        "    ax.axis('off')\n",
        "    ax.set_title(str(y_train[i]))\n",
        "\n",
        "plt.tight_layout()\n",
        "plt.show()"
      ],
      "metadata": {
        "colab": {
          "base_uri": "https://localhost:8080/",
          "height": 371
        },
        "id": "6Rh7HnBT_Nxq",
        "outputId": "b133c7b7-c894-482d-f956-f284a828876e"
      },
      "execution_count": 23,
      "outputs": [
        {
          "output_type": "display_data",
          "data": {
            "text/plain": [
              "<Figure size 576x360 with 15 Axes>"
            ],
            "image/png": "[encoded data removed]"
          },
          "metadata": {
            "needs_background": "light"
          }
        }
      ]
    },
    {
      "cell_type": "markdown",
      "source": [
        "<데이터 전처리>"
      ],
      "metadata": {
        "id": "RYXIC5RF_Soo"
      }
    },
    {
      "cell_type": "code",
      "source": [
        "x_train[0, 10:15, 10:15]"
      ],
      "metadata": {
        "colab": {
          "base_uri": "https://localhost:8080/"
        },
        "id": "g0_Sf4Dn_W8X",
        "outputId": "0dcc469a-9a50-44b5-be51-3690880919ce"
      },
      "execution_count": 6,
      "outputs": [
        {
          "output_type": "execute_result",
          "data": {
            "text/plain": [
              "array([[  1, 154, 253,  90,   0],\n",
              "       [  0, 139, 253, 190,   2],\n",
              "       [  0,  11, 190, 253,  70],\n",
              "       [  0,   0,  35, 241, 225],\n",
              "       [  0,   0,   0,  81, 240]], dtype=uint8)"
            ]
          },
          "metadata": {},
          "execution_count": 6
        }
      ]
    },
    {
      "cell_type": "code",
      "source": [
        "print(f'정규화 전] 최소값: {x_train.min()}, 최대값: {x_train.max()}')\n",
        "\n",
        "# 데이터 정규화\n",
        "x_train = x_train / x_train.max()\n",
        "\n",
        "print(f'정규화 후] 최소값: {x_train.min()}, 최대값: {x_train.max()}')"
      ],
      "metadata": {
        "colab": {
          "base_uri": "https://localhost:8080/"
        },
        "id": "f3Npkgyv_W6E",
        "outputId": "c5d303a7-f200-41b4-a9f3-9f98ab8ea1c5"
      },
      "execution_count": 7,
      "outputs": [
        {
          "output_type": "stream",
          "name": "stdout",
          "text": [
            "정규화 전] 최소값: 0, 최대값: 255\n",
            "정규화 후] 최소값: 0.0, 최대값: 1.0\n"
          ]
        }
      ]
    },
    {
      "cell_type": "code",
      "source": [
        "x_train[0, 10:15, 10:15]"
      ],
      "metadata": {
        "colab": {
          "base_uri": "https://localhost:8080/"
        },
        "id": "sW6DGBAq_W4P",
        "outputId": "b6abb7bc-2181-4d85-cf77-c267b2a5de3f"
      },
      "execution_count": 26,
      "outputs": [
        {
          "output_type": "execute_result",
          "data": {
            "text/plain": [
              "array([[0.00392157, 0.60392157, 0.99215686, 0.35294118, 0.        ],\n",
              "       [0.        , 0.54509804, 0.99215686, 0.74509804, 0.00784314],\n",
              "       [0.        , 0.04313725, 0.74509804, 0.99215686, 0.2745098 ],\n",
              "       [0.        , 0.        , 0.1372549 , 0.94509804, 0.88235294],\n",
              "       [0.        , 0.        , 0.        , 0.31764706, 0.94117647]])"
            ]
          },
          "metadata": {},
          "execution_count": 26
        }
      ]
    },
    {
      "cell_type": "markdown",
      "source": [
        "<Flatten 레이어>  \n",
        "-정규화를 하면 개별 데이터 값의 범위는 축소되지만, 원본 배열의 형태는 그대로 유지  \n",
        "-<font color=\"blue\">Dense 레이어에는 입력값으로 반드시 1차원 배열이 들어가야함"
      ],
      "metadata": {
        "id": "Wo2SNi1O_iC2"
      }
    },
    {
      "cell_type": "code",
      "source": [
        "print(f'변경전 shape: {x_train.shape}')\n",
        "print(f'1D으로 shape 변경 후: {x_train.reshape(60000, -1).shape}')"
      ],
      "metadata": {
        "colab": {
          "base_uri": "https://localhost:8080/"
        },
        "id": "jy115jo__W1n",
        "outputId": "5070d52c-ef86-443c-b754-0237c54df394"
      },
      "execution_count": 27,
      "outputs": [
        {
          "output_type": "stream",
          "name": "stdout",
          "text": [
            "변경전 shape: (60000, 28, 28)\n",
            "1D으로 shape 변경 후: (60000, 784)\n"
          ]
        }
      ]
    },
    {
      "cell_type": "code",
      "source": [
        "print(f'변경전 shape: {x_train.shape}')\n",
        "\n",
        "#Flatten 레이어 적용\n",
        "print(f'Flatten 적용 후: {tf.keras.layers.Flatten()(x_train).shape}')"
      ],
      "metadata": {
        "colab": {
          "base_uri": "https://localhost:8080/"
        },
        "id": "n0p6TqyN_Wy-",
        "outputId": "5cf7082c-1aba-4dca-c7c0-263e7b211186"
      },
      "execution_count": 8,
      "outputs": [
        {
          "output_type": "stream",
          "name": "stdout",
          "text": [
            "변경전 shape: (60000, 28, 28)\n",
            "Flatten 적용 후: (60000, 784)\n"
          ]
        }
      ]
    },
    {
      "cell_type": "markdown",
      "source": [
        "<활성화 함수>  \n",
        "-입력을 비선형 출력으로 변환해주는 함수"
      ],
      "metadata": {
        "id": "UJnMAl8j__um"
      }
    },
    {
      "cell_type": "code",
      "source": [
        "tf.keras.layers.Dense(128, activation='relu')"
      ],
      "metadata": {
        "colab": {
          "base_uri": "https://localhost:8080/"
        },
        "id": "s3kdiTbj_WsA",
        "outputId": "cab9a1b5-05ce-40a8-dd8b-45463d9b7e6a"
      },
      "execution_count": 9,
      "outputs": [
        {
          "output_type": "execute_result",
          "data": {
            "text/plain": [
              "<keras.layers.core.dense.Dense at 0x7f9f01245350>"
            ]
          },
          "metadata": {},
          "execution_count": 9
        }
      ]
    },
    {
      "cell_type": "markdown",
      "source": [
        "별도의 층으로 적용 가능  \n",
        "Dense 레이어 다음에 배치 정규화(Batch Normalization)을 적용한 후 활성화 함수 적용하고자 할 때 사용"
      ],
      "metadata": {
        "id": "J4oYhLixAQ_1"
      }
    },
    {
      "cell_type": "code",
      "source": [
        "model = tf.keras.Sequential([\n",
        "    tf.keras.layers.Dense(128), \n",
        "    tf.keras.layers.Activation('relu')\n",
        "])"
      ],
      "metadata": {
        "id": "k7rlUci-_Wco"
      },
      "execution_count": 10,
      "outputs": []
    },
    {
      "cell_type": "markdown",
      "source": [
        "<입력과 출력>  \n",
        "  -출력층: 분류 모델의 가장 마지막 레이어"
      ],
      "metadata": {
        "id": "6_4rpPDnAbdv"
      }
    },
    {
      "cell_type": "markdown",
      "source": [
        "<font color=\"blue\"> mnist는 총 10개의 클래스로 이루어져 있기 때문에 마지막 출력층의 노드 개수는 10개가 되어야 함"
      ],
      "metadata": {
        "id": "ou4Umij70eKw"
      }
    },
    {
      "cell_type": "code",
      "source": [
        "model = tf.keras.Sequential([\n",
        "    tf.keras.layers.Flatten(input_shape=(28, 28)), \n",
        "    tf.keras.layers.Dense(256, activation='relu'), \n",
        "    tf.keras.layers.Dense(64, activation='relu'), \n",
        "    tf.keras.layers.Dense(32, activation='relu'), \n",
        "    \n",
        "    tf.keras.layers.Dense(10, activation='softmax'), \n",
        "])"
      ],
      "metadata": {
        "id": "6XKyV2f1THS1"
      },
      "execution_count": 11,
      "outputs": []
    },
    {
      "cell_type": "markdown",
      "source": [
        "<font color=\"blue\">-출력층 노드 = 1인 경우, sigmoid  \n",
        "-출력층 노드 = 2개 이상인 경우, softmax"
      ],
      "metadata": {
        "id": "IiCBbqsR0nyQ"
      }
    },
    {
      "cell_type": "code",
      "source": [
        "tf.keras.layers.Dense(1, activation='sigmoid')\n",
        "\n",
        "tf.keras.layers.Dense(10, activation='softmax')"
      ],
      "metadata": {
        "id": "peLyK95tTHQi",
        "colab": {
          "base_uri": "https://localhost:8080/"
        },
        "outputId": "c38d2abf-28ac-4911-8617-f6bc77f0317b"
      },
      "execution_count": 12,
      "outputs": [
        {
          "output_type": "execute_result",
          "data": {
            "text/plain": [
              "<keras.layers.core.dense.Dense at 0x7f9f01265f10>"
            ]
          },
          "metadata": {},
          "execution_count": 12
        }
      ]
    },
    {
      "cell_type": "markdown",
      "source": [
        "<손실함수>  \n",
        " <font color=\"blue\"> -이진분류기: activation=sigmoid, loss=binary_crossentropy  \n",
        "  -노드 개수 2개 이상: activation=softmax,loss=categorical_crossentropy(원핫벡터)/sparse_categorical_crossentropy(원핫벡터X)"
      ],
      "metadata": {
        "id": "BFeVS05w03e6"
      }
    },
    {
      "cell_type": "code",
      "source": [
        "model.compile(loss='binary_crossentropy')"
      ],
      "metadata": {
        "id": "5bngjEcT1lgc"
      },
      "execution_count": 13,
      "outputs": []
    },
    {
      "cell_type": "code",
      "source": [
        "model.compile(loss='categorical_crossentropy')\n",
        "\n",
        "#mnist\n",
        "model.compile(loss='sparse_categorical_crossentropy')"
      ],
      "metadata": {
        "id": "nJ1UmCat1ld_"
      },
      "execution_count": 14,
      "outputs": []
    },
    {
      "cell_type": "markdown",
      "source": [
        "<옵티마이저>  \n",
        "-손실을 낮추기 위해, 신경망의 가중치와 학습률 같은 신경망의 속성을 변경하는데 사용되는 최적화 방법  \n",
        "-Adam 알고리즘 많이 사용, 대체적으로 좋은 성능  \n",
        "\n",
        "-클래스 인스턴스나 문자열로 지정가능  \n",
        "-문자열로 지정할 때에는, 이름 소문자로 표기  \n",
        "-클래스 인스턴스로 지정할 때에는, 학습률 직접 설정 가능"
      ],
      "metadata": {
        "id": "CENQG36h1was"
      }
    },
    {
      "cell_type": "code",
      "source": [
        "adam = tf.keras.optimizers.Adam(lr=0.001)\n",
        "model.compile(optimizer=adam)\n",
        "\n",
        "model.compile(optimizer='adam')"
      ],
      "metadata": {
        "colab": {
          "base_uri": "https://localhost:8080/"
        },
        "id": "PHk92hQQ1laS",
        "outputId": "cb29d2ee-b61f-402e-cfca-214039686008"
      },
      "execution_count": 15,
      "outputs": [
        {
          "output_type": "stream",
          "name": "stderr",
          "text": [
            "/usr/local/lib/python3.7/dist-packages/keras/optimizer_v2/adam.py:105: UserWarning: The `lr` argument is deprecated, use `learning_rate` instead.\n",
            "  super(Adam, self).__init__(name, **kwargs)\n"
          ]
        }
      ]
    },
    {
      "cell_type": "markdown",
      "source": [
        "<평가지표>"
      ],
      "metadata": {
        "id": "ISLRxmZC2Lj7"
      }
    },
    {
      "cell_type": "code",
      "source": [
        "#클래스 인스턴스\n",
        "acc = tf.keras.metrics.SparseCategoricalAccuracy()\n",
        "\n",
        "model.compile(optimizer='adam', \n",
        "              loss='sparse_categorical_crossentropy', \n",
        "              metrics=[acc])\n",
        "\n",
        "#문자열\n",
        "model.compile(optimizer='adam', \n",
        "              loss='sparse_categorical_crossentropy', \n",
        "              metrics=['accuracy'])"
      ],
      "metadata": {
        "id": "H0UhQqfs1lW6"
      },
      "execution_count": 16,
      "outputs": []
    },
    {
      "cell_type": "markdown",
      "source": [
        "<훈련>"
      ],
      "metadata": {
        "id": "dJWNQKuf2Uvz"
      }
    },
    {
      "cell_type": "code",
      "source": [
        "model.fit(x_train, y_train, \n",
        "          validation_data=(x_test, y_test), \n",
        "          epochs=10, \n",
        "          )"
      ],
      "metadata": {
        "colab": {
          "base_uri": "https://localhost:8080/"
        },
        "id": "mJ-YVuue1kwX",
        "outputId": "e0e9298a-320a-438e-a75e-c049256be006"
      },
      "execution_count": 17,
      "outputs": [
        {
          "output_type": "stream",
          "name": "stdout",
          "text": [
            "Epoch 1/10\n",
            "1875/1875 [==============================] - 9s 3ms/step - loss: 0.2340 - accuracy: 0.9306 - val_loss: 17.1714 - val_accuracy: 0.9656\n",
            "Epoch 2/10\n",
            "1875/1875 [==============================] - 5s 3ms/step - loss: 0.0961 - accuracy: 0.9701 - val_loss: 14.8299 - val_accuracy: 0.9720\n",
            "Epoch 3/10\n",
            "1875/1875 [==============================] - 5s 3ms/step - loss: 0.0685 - accuracy: 0.9787 - val_loss: 15.3136 - val_accuracy: 0.9694\n",
            "Epoch 4/10\n",
            "1875/1875 [==============================] - 5s 3ms/step - loss: 0.0504 - accuracy: 0.9844 - val_loss: 16.4736 - val_accuracy: 0.9760\n",
            "Epoch 5/10\n",
            "1875/1875 [==============================] - 5s 3ms/step - loss: 0.0427 - accuracy: 0.9863 - val_loss: 15.6002 - val_accuracy: 0.9763\n",
            "Epoch 6/10\n",
            "1875/1875 [==============================] - 5s 3ms/step - loss: 0.0328 - accuracy: 0.9898 - val_loss: 19.1165 - val_accuracy: 0.9765\n",
            "Epoch 7/10\n",
            "1875/1875 [==============================] - 5s 3ms/step - loss: 0.0299 - accuracy: 0.9901 - val_loss: 18.1182 - val_accuracy: 0.9783\n",
            "Epoch 8/10\n",
            "1875/1875 [==============================] - 5s 3ms/step - loss: 0.0254 - accuracy: 0.9922 - val_loss: 18.7924 - val_accuracy: 0.9786\n",
            "Epoch 9/10\n",
            "1875/1875 [==============================] - 5s 3ms/step - loss: 0.0233 - accuracy: 0.9923 - val_loss: 18.8774 - val_accuracy: 0.9782\n",
            "Epoch 10/10\n",
            "1875/1875 [==============================] - 5s 3ms/step - loss: 0.0192 - accuracy: 0.9936 - val_loss: 23.6156 - val_accuracy: 0.9759\n"
          ]
        },
        {
          "output_type": "execute_result",
          "data": {
            "text/plain": [
              "<keras.callbacks.History at 0x7f9ef01d2f50>"
            ]
          },
          "metadata": {},
          "execution_count": 17
        }
      ]
    },
    {
      "cell_type": "markdown",
      "source": [
        "<평가>"
      ],
      "metadata": {
        "id": "8n9C0kKE2cGJ"
      }
    },
    {
      "cell_type": "code",
      "source": [
        "test_loss, test_acc = model.evaluate(x_test,  y_test)\n",
        "\n",
        "print('검증셋 정확도:', test_acc)"
      ],
      "metadata": {
        "id": "ZajSGY7cTHN8",
        "colab": {
          "base_uri": "https://localhost:8080/"
        },
        "outputId": "8de29a15-c728-4d34-f895-0d9484bcb5d4"
      },
      "execution_count": 18,
      "outputs": [
        {
          "output_type": "stream",
          "name": "stdout",
          "text": [
            "313/313 [==============================] - 1s 2ms/step - loss: 23.6156 - accuracy: 0.9759\n",
            "검증셋 정확도: 0.9758999943733215\n"
          ]
        }
      ]
    },
    {
      "cell_type": "markdown",
      "source": [
        "<예측>"
      ],
      "metadata": {
        "id": "O7PV9oCP3RID"
      }
    },
    {
      "cell_type": "code",
      "source": [
        "predictions = model.predict(x_test)"
      ],
      "metadata": {
        "id": "aWFIQauH3Sce"
      },
      "execution_count": 19,
      "outputs": []
    },
    {
      "cell_type": "code",
      "source": [
        "predictions[0]"
      ],
      "metadata": {
        "colab": {
          "base_uri": "https://localhost:8080/"
        },
        "id": "5Ggmvdif3eTB",
        "outputId": "cb3b2e91-2ded-4dd7-9819-3c357e84591d"
      },
      "execution_count": 20,
      "outputs": [
        {
          "output_type": "execute_result",
          "data": {
            "text/plain": [
              "array([0., 0., 0., 0., 0., 0., 0., 1., 0., 0.], dtype=float32)"
            ]
          },
          "metadata": {},
          "execution_count": 20
        }
      ]
    },
    {
      "cell_type": "code",
      "source": [
        "import numpy as np\n",
        "\n",
        "print(np.argmax(predictions[0]))\n",
        "\n",
        "print(np.argmax(predictions[:10], axis=1))"
      ],
      "metadata": {
        "colab": {
          "base_uri": "https://localhost:8080/"
        },
        "id": "_9Bb2SLK3eNc",
        "outputId": "3a3d9571-be93-462e-a08a-b6043cf3344b"
      },
      "execution_count": 21,
      "outputs": [
        {
          "output_type": "stream",
          "name": "stdout",
          "text": [
            "7\n",
            "[7 2 1 0 4 1 4 9 6 9]\n"
          ]
        }
      ]
    },
    {
      "cell_type": "code",
      "source": [
        "import matplotlib.pyplot as plt\n",
        "\n",
        "def get_one_result(idx):\n",
        "    img, y_true, y_pred, confidence = x_test[idx], y_test[idx], np.argmax(predictions[idx]), 100*np.max(predictions[idx])\n",
        "    return img, y_true, y_pred, confidence\n",
        "    \n",
        "fig, axes = plt.subplots(3, 5)\n",
        "fig.set_size_inches(12, 10)\n",
        "\n",
        "for i in range(15):\n",
        "    ax = axes[i//5, i%5]\n",
        "\n",
        "    img, y_true, y_pred, confidence = get_one_result(i)\n",
        "\n",
        "    ax.imshow(img, cmap='gray')\n",
        "    ax.set_xticks([])\n",
        "    ax.set_yticks([])\n",
        "    ax.set_title(f'True: {y_true}')\n",
        "    ax.set_xlabel(f'Prediction: {y_pred}\\nConfidence: ({confidence:.2f} %)')\n",
        "\n",
        "plt.tight_layout()\n",
        "plt.show()"
      ],
      "metadata": {
        "colab": {
          "base_uri": "https://localhost:8080/",
          "height": 598
        },
        "id": "1Vt05yiB3eH_",
        "outputId": "b7f04379-391c-40c9-f93f-1787621c51bb"
      },
      "execution_count": 22,
      "outputs": [
        {
          "output_type": "display_data",
          "data": {
            "text/plain": [
              "<Figure size 864x720 with 15 Axes>"
            ],
            "image/png": "[encoded data removed]"
          },
          "metadata": {}
        }
      ]
    },
    {
      "cell_type": "markdown",
      "source": [
        "### **04. 모델 세부 설정**\n",
        "\n",
        "1."
      ],
      "metadata": {
        "id": "ZsB7VRfc3xDk"
      }
    },
    {
      "cell_type": "code",
      "source": [
        "mnist = tf.keras.datasets.mnist\n",
        "\n",
        "(x_train, y_train), (x_test, y_test) = mnist.load_data()\n",
        "\n",
        "print('train set: ', x_train.shape, y_train.shape)\n",
        "print('test  set: ', x_test.shape, y_test.shape)\n",
        "\n",
        "x_train = x_train / x_train.max()\n",
        "x_test = x_test / x_test.max()"
      ],
      "metadata": {
        "colab": {
          "base_uri": "https://localhost:8080/"
        },
        "id": "Ruh1DOVJ3eEt",
        "outputId": "0c86af09-6e1e-4a3e-f135-9ccd6d31a414"
      },
      "execution_count": 24,
      "outputs": [
        {
          "output_type": "stream",
          "name": "stdout",
          "text": [
            "train set:  (60000, 28, 28) (60000,)\n",
            "test  set:  (10000, 28, 28) (10000,)\n"
          ]
        }
      ]
    },
    {
      "cell_type": "markdown",
      "source": [
        "<초기값 설정>"
      ],
      "metadata": {
        "id": "i1bmslgm4D7E"
      }
    },
    {
      "cell_type": "code",
      "source": [
        "dense = tf.keras.layers.Dense(256, activation='relu')\n",
        "dense.get_config()['kernel_initializer']"
      ],
      "metadata": {
        "colab": {
          "base_uri": "https://localhost:8080/"
        },
        "id": "rWDQltDh4Jnh",
        "outputId": "815bc393-2645-4f2c-957d-439803db2c58"
      },
      "execution_count": 25,
      "outputs": [
        {
          "output_type": "execute_result",
          "data": {
            "text/plain": [
              "{'class_name': 'GlorotUniform', 'config': {'seed': None}}"
            ]
          },
          "metadata": {},
          "execution_count": 25
        }
      ]
    },
    {
      "cell_type": "code",
      "source": [
        "#문자열 초기화\n",
        "dense = tf.keras.layers.Dense(256, kernel_initializer='he_normal', activation='relu')\n",
        "dense.get_config()['kernel_initializer']"
      ],
      "metadata": {
        "colab": {
          "base_uri": "https://localhost:8080/"
        },
        "id": "H0jjuJuo4Oay",
        "outputId": "3f0687ac-ecb2-4008-edeb-a156deb51ada"
      },
      "execution_count": 26,
      "outputs": [
        {
          "output_type": "execute_result",
          "data": {
            "text/plain": [
              "{'class_name': 'HeNormal', 'config': {'seed': None}}"
            ]
          },
          "metadata": {},
          "execution_count": 26
        }
      ]
    },
    {
      "cell_type": "code",
      "source": [
        "#클래스 인스턴스 초기화\n",
        "he_normal = tf.keras.initializers.HeNormal()\n",
        "dense = tf.keras.layers.Dense(256, kernel_initializer=he_normal, activation='relu')\n",
        "dense.get_config()['kernel_initializer']"
      ],
      "metadata": {
        "colab": {
          "base_uri": "https://localhost:8080/"
        },
        "id": "fJsOoVwg4OXa",
        "outputId": "6652adaf-e3c5-47f4-b9f9-1d9030acb114"
      },
      "execution_count": 27,
      "outputs": [
        {
          "output_type": "execute_result",
          "data": {
            "text/plain": [
              "{'class_name': 'HeNormal', 'config': {'seed': None}}"
            ]
          },
          "metadata": {},
          "execution_count": 27
        }
      ]
    },
    {
      "cell_type": "markdown",
      "source": [
        "<규제>  \n",
        "-모델의 과대적합 해소하기 위해 L1, L2 규제 적용  \n",
        "-별도 설정 필요"
      ],
      "metadata": {
        "id": "_7AUvm2Z4WOd"
      }
    },
    {
      "cell_type": "code",
      "source": [
        "#기본값 확인\n",
        "dense = tf.keras.layers.Dense(256, activation='relu')\n",
        "dense.get_config()"
      ],
      "metadata": {
        "colab": {
          "base_uri": "https://localhost:8080/"
        },
        "id": "F6G7HJl14OUz",
        "outputId": "5b4d537a-6b66-462b-e37a-fd49d34e1802"
      },
      "execution_count": 28,
      "outputs": [
        {
          "output_type": "execute_result",
          "data": {
            "text/plain": [
              "{'activation': 'relu',\n",
              " 'activity_regularizer': None,\n",
              " 'bias_constraint': None,\n",
              " 'bias_initializer': {'class_name': 'Zeros', 'config': {}},\n",
              " 'bias_regularizer': None,\n",
              " 'dtype': 'float32',\n",
              " 'kernel_constraint': None,\n",
              " 'kernel_initializer': {'class_name': 'GlorotUniform',\n",
              "  'config': {'seed': None}},\n",
              " 'kernel_regularizer': None,\n",
              " 'name': 'dense_11',\n",
              " 'trainable': True,\n",
              " 'units': 256,\n",
              " 'use_bias': True}"
            ]
          },
          "metadata": {},
          "execution_count": 28
        }
      ]
    },
    {
      "cell_type": "code",
      "source": [
        "#L1 규제 적용\n",
        "dense = tf.keras.layers.Dense(256, kernel_regularizer='l1', activation='relu')\n",
        "print(dense.get_config()['kernel_regularizer'])\n",
        "\n",
        "#클래스 인스턴스 적용, alpha 값 변경\n",
        "regularizer = tf.keras.regularizers.l1(l1=0.1)\n",
        "dense = tf.keras.layers.Dense(256, kernel_regularizer=regularizer, activation='relu')\n",
        "print(dense.get_config()['kernel_regularizer'])"
      ],
      "metadata": {
        "colab": {
          "base_uri": "https://localhost:8080/"
        },
        "id": "gfu39QoP4OOj",
        "outputId": "c6ca96ac-473d-4332-acb8-69fa4207f246"
      },
      "execution_count": 29,
      "outputs": [
        {
          "output_type": "stream",
          "name": "stdout",
          "text": [
            "{'class_name': 'L1', 'config': {'l1': 0.009999999776482582}}\n",
            "{'class_name': 'L1', 'config': {'l1': 0.10000000149011612}}\n"
          ]
        }
      ]
    },
    {
      "cell_type": "markdown",
      "source": [
        "<드롭아웃>   \n",
        "-노드 신호의 일부를 임의로 삭제해 모델의 과대적합 방지  \n",
        "-모델이 학습하는 가중치 파라미터의 개수 현저히 줄기 때문  \n",
        "-모델이 훈련할 때는 드롭아웃이 적용되어 노드 중 일부만 훈련하게 되지만, 예측 시점에는 모든 노드들 활용"
      ],
      "metadata": {
        "id": "mLImDmkT4pMl"
      }
    },
    {
      "cell_type": "code",
      "source": [
        "# 25%의 노드 삭제\n",
        "tf.keras.layers.Dropout(0.25)"
      ],
      "metadata": {
        "colab": {
          "base_uri": "https://localhost:8080/"
        },
        "id": "v8UiTS9R4OKh",
        "outputId": "4925bae8-c72f-4f11-f26d-bd42c5242b8e"
      },
      "execution_count": 30,
      "outputs": [
        {
          "output_type": "execute_result",
          "data": {
            "text/plain": [
              "<keras.layers.core.dropout.Dropout at 0x7f9e8471b7d0>"
            ]
          },
          "metadata": {},
          "execution_count": 30
        }
      ]
    },
    {
      "cell_type": "markdown",
      "source": [
        "<배치 정규화(Batch Normalization>  \n",
        "-각 층에서 활성화 함수를 통과하기 전 미니 배치의 스케일 정규화  \n",
        "-보다 안정적인 훈련 가능, 성능 향상"
      ],
      "metadata": {
        "id": "_h6ZBP1F5LiX"
      }
    },
    {
      "cell_type": "code",
      "source": [
        "# Model A: Dense + ReLU\n",
        "model_a = tf.keras.Sequential([\n",
        "    tf.keras.layers.Flatten(input_shape=(28, 28)),\n",
        "    tf.keras.layers.Dense(64, activation='relu'),\n",
        "    tf.keras.layers.Dense(32, activation='relu'),\n",
        "    tf.keras.layers.Dense(10, activation='softmax'),\n",
        "])\n",
        "model_a.summary()"
      ],
      "metadata": {
        "colab": {
          "base_uri": "https://localhost:8080/"
        },
        "id": "KKruHlou5Zvx",
        "outputId": "18fb6769-4253-476e-edd4-edb46c785d43"
      },
      "execution_count": 31,
      "outputs": [
        {
          "output_type": "stream",
          "name": "stdout",
          "text": [
            "Model: \"sequential_2\"\n",
            "_________________________________________________________________\n",
            " Layer (type)                Output Shape              Param #   \n",
            "=================================================================\n",
            " flatten_2 (Flatten)         (None, 784)               0         \n",
            "                                                                 \n",
            " dense_14 (Dense)            (None, 64)                50240     \n",
            "                                                                 \n",
            " dense_15 (Dense)            (None, 32)                2080      \n",
            "                                                                 \n",
            " dense_16 (Dense)            (None, 10)                330       \n",
            "                                                                 \n",
            "=================================================================\n",
            "Total params: 52,650\n",
            "Trainable params: 52,650\n",
            "Non-trainable params: 0\n",
            "_________________________________________________________________\n"
          ]
        }
      ]
    },
    {
      "cell_type": "code",
      "source": [
        "# Model B: Dense + BatchNorm + ReLU\n",
        "model_b = tf.keras.Sequential([\n",
        "    tf.keras.layers.Flatten(input_shape=(28, 28)),\n",
        "    tf.keras.layers.Dense(64),\n",
        "    # 배치정규화\n",
        "    tf.keras.layers.BatchNormalization(),\n",
        "    # 배치정규화 > 활성화 함수\n",
        "    tf.keras.layers.Activation('relu'),\n",
        "\n",
        "    tf.keras.layers.Dense(32),\n",
        "    # 배치정규화 \n",
        "    tf.keras.layers.BatchNormalization(),\n",
        "    # 배치정규화 > 활성화 함수\n",
        "    tf.keras.layers.Activation('relu'),\n",
        "\n",
        "    tf.keras.layers.Dense(10, activation='softmax'),\n",
        "])\n",
        "model_b.summary()"
      ],
      "metadata": {
        "colab": {
          "base_uri": "https://localhost:8080/"
        },
        "id": "bZuBMoxb5dv5",
        "outputId": "3964cfd1-1484-4dc0-ca1b-3631ea9451fe"
      },
      "execution_count": 32,
      "outputs": [
        {
          "output_type": "stream",
          "name": "stdout",
          "text": [
            "Model: \"sequential_3\"\n",
            "_________________________________________________________________\n",
            " Layer (type)                Output Shape              Param #   \n",
            "=================================================================\n",
            " flatten_3 (Flatten)         (None, 784)               0         \n",
            "                                                                 \n",
            " dense_17 (Dense)            (None, 64)                50240     \n",
            "                                                                 \n",
            " batch_normalization (BatchN  (None, 64)               256       \n",
            " ormalization)                                                   \n",
            "                                                                 \n",
            " activation_1 (Activation)   (None, 64)                0         \n",
            "                                                                 \n",
            " dense_18 (Dense)            (None, 32)                2080      \n",
            "                                                                 \n",
            " batch_normalization_1 (Batc  (None, 32)               128       \n",
            " hNormalization)                                                 \n",
            "                                                                 \n",
            " activation_2 (Activation)   (None, 32)                0         \n",
            "                                                                 \n",
            " dense_19 (Dense)            (None, 10)                330       \n",
            "                                                                 \n",
            "=================================================================\n",
            "Total params: 53,034\n",
            "Trainable params: 52,842\n",
            "Non-trainable params: 192\n",
            "_________________________________________________________________\n"
          ]
        }
      ]
    },
    {
      "cell_type": "markdown",
      "source": [
        "<활성화(Activation) 함수>"
      ],
      "metadata": {
        "id": "FBBSAsX15m_d"
      }
    },
    {
      "cell_type": "code",
      "source": [
        "# LeakyReLU 기본 설정\n",
        "tf.keras.layers.LeakyReLU()\n",
        "\n",
        "# LeakyReLU, alpha=0.2 로 변경\n",
        "tf.keras.layers.LeakyReLU(alpha=0.2)"
      ],
      "metadata": {
        "colab": {
          "base_uri": "https://localhost:8080/"
        },
        "id": "A6N2OhUI5uj0",
        "outputId": "dfda04eb-c1ed-46fa-d596-a95ee7c85dee"
      },
      "execution_count": 33,
      "outputs": [
        {
          "output_type": "execute_result",
          "data": {
            "text/plain": [
              "<keras.layers.advanced_activations.LeakyReLU at 0x7f9e842ff390>"
            ]
          },
          "metadata": {},
          "execution_count": 33
        }
      ]
    },
    {
      "cell_type": "code",
      "source": [
        "# Model C: Dense + BatchNorm + LeakyReLU(0.2)\n",
        "model_c = tf.keras.Sequential([\n",
        "    tf.keras.layers.Flatten(input_shape=(28, 28)),\n",
        "    tf.keras.layers.Dense(64),\n",
        "\n",
        "    # 배치정규화\n",
        "    tf.keras.layers.BatchNormalization(),\n",
        "    # LeakyReLU, alpha=0.2\n",
        "    tf.keras.layers.LeakyReLU(alpha=0.2),\n",
        "\n",
        "    tf.keras.layers.Dense(32),\n",
        "    # 배치정규화\n",
        "    tf.keras.layers.BatchNormalization(),\n",
        "    # LeakyReLU, alpha=0.2\n",
        "    tf.keras.layers.LeakyReLU(alpha=0.2),\n",
        "\n",
        "    tf.keras.layers.Dense(10, activation='softmax'),\n",
        "])\n",
        "\n",
        "model_c.summary()"
      ],
      "metadata": {
        "colab": {
          "base_uri": "https://localhost:8080/"
        },
        "id": "iQwnxMBf51gf",
        "outputId": "f8b5f47f-974f-498b-f2f6-0b020d7c0e5a"
      },
      "execution_count": 34,
      "outputs": [
        {
          "output_type": "stream",
          "name": "stdout",
          "text": [
            "Model: \"sequential_4\"\n",
            "_________________________________________________________________\n",
            " Layer (type)                Output Shape              Param #   \n",
            "=================================================================\n",
            " flatten_4 (Flatten)         (None, 784)               0         \n",
            "                                                                 \n",
            " dense_20 (Dense)            (None, 64)                50240     \n",
            "                                                                 \n",
            " batch_normalization_2 (Batc  (None, 64)               256       \n",
            " hNormalization)                                                 \n",
            "                                                                 \n",
            " leaky_re_lu_2 (LeakyReLU)   (None, 64)                0         \n",
            "                                                                 \n",
            " dense_21 (Dense)            (None, 32)                2080      \n",
            "                                                                 \n",
            " batch_normalization_3 (Batc  (None, 32)               128       \n",
            " hNormalization)                                                 \n",
            "                                                                 \n",
            " leaky_re_lu_3 (LeakyReLU)   (None, 32)                0         \n",
            "                                                                 \n",
            " dense_22 (Dense)            (None, 10)                330       \n",
            "                                                                 \n",
            "=================================================================\n",
            "Total params: 53,034\n",
            "Trainable params: 52,842\n",
            "Non-trainable params: 192\n",
            "_________________________________________________________________\n"
          ]
        }
      ]
    },
    {
      "cell_type": "code",
      "source": [
        "model_a.compile(optimizer='adam', loss='sparse_categorical_crossentropy', metrics=['accuracy'])\n",
        "model_b.compile(optimizer='adam', loss='sparse_categorical_crossentropy', metrics=['accuracy'])\n",
        "model_c.compile(optimizer='adam', loss='sparse_categorical_crossentropy', metrics=['accuracy'])\n",
        "\n",
        "# Model A: Dense + ReLU\n",
        "history_a = model_a.fit(x_train, y_train, \n",
        "                        validation_data=(x_test, y_test), \n",
        "                        epochs=10)\n",
        "\n",
        "# Model B: Dense + BatchNorm + ReLU\n",
        "history_b = model_b.fit(x_train, y_train, \n",
        "                        validation_data=(x_test, y_test), \n",
        "                        epochs=10)\n",
        "\n",
        "# Model C: Dense + BatchNorm + LeakyReLU(0.2)\n",
        "history_c = model_c.fit(x_train, y_train, \n",
        "                        validation_data=(x_test, y_test), \n",
        "                        epochs=10)"
      ],
      "metadata": {
        "colab": {
          "base_uri": "https://localhost:8080/"
        },
        "id": "EDXKAQTs5-ne",
        "outputId": "4a14d1bf-95ae-4c3c-92eb-df088232e24d"
      },
      "execution_count": 35,
      "outputs": [
        {
          "output_type": "stream",
          "name": "stdout",
          "text": [
            "Epoch 1/10\n",
            "1875/1875 [==============================] - 6s 3ms/step - loss: 0.2968 - accuracy: 0.9158 - val_loss: 0.1662 - val_accuracy: 0.9477\n",
            "Epoch 2/10\n",
            "1875/1875 [==============================] - 6s 3ms/step - loss: 0.1354 - accuracy: 0.9590 - val_loss: 0.1165 - val_accuracy: 0.9655\n",
            "Epoch 3/10\n",
            "1875/1875 [==============================] - 6s 3ms/step - loss: 0.0998 - accuracy: 0.9699 - val_loss: 0.1058 - val_accuracy: 0.9664\n",
            "Epoch 4/10\n",
            "1875/1875 [==============================] - 5s 3ms/step - loss: 0.0811 - accuracy: 0.9747 - val_loss: 0.0984 - val_accuracy: 0.9682\n",
            "Epoch 5/10\n",
            "1875/1875 [==============================] - 5s 2ms/step - loss: 0.0668 - accuracy: 0.9794 - val_loss: 0.0994 - val_accuracy: 0.9695\n",
            "Epoch 6/10\n",
            "1875/1875 [==============================] - 5s 2ms/step - loss: 0.0567 - accuracy: 0.9821 - val_loss: 0.0877 - val_accuracy: 0.9730\n",
            "Epoch 7/10\n",
            "1875/1875 [==============================] - 5s 3ms/step - loss: 0.0476 - accuracy: 0.9845 - val_loss: 0.0868 - val_accuracy: 0.9724\n",
            "Epoch 8/10\n",
            "1875/1875 [==============================] - 5s 3ms/step - loss: 0.0420 - accuracy: 0.9862 - val_loss: 0.0859 - val_accuracy: 0.9750\n",
            "Epoch 9/10\n",
            "1875/1875 [==============================] - 5s 3ms/step - loss: 0.0365 - accuracy: 0.9880 - val_loss: 0.1023 - val_accuracy: 0.9719\n",
            "Epoch 10/10\n",
            "1875/1875 [==============================] - 5s 3ms/step - loss: 0.0317 - accuracy: 0.9900 - val_loss: 0.0945 - val_accuracy: 0.9728\n",
            "Epoch 1/10\n",
            "1875/1875 [==============================] - 8s 3ms/step - loss: 0.3236 - accuracy: 0.9095 - val_loss: 0.1280 - val_accuracy: 0.9636\n",
            "Epoch 2/10\n",
            "1875/1875 [==============================] - 6s 3ms/step - loss: 0.1448 - accuracy: 0.9552 - val_loss: 0.1010 - val_accuracy: 0.9677\n",
            "Epoch 3/10\n",
            "1875/1875 [==============================] - 7s 4ms/step - loss: 0.1102 - accuracy: 0.9656 - val_loss: 0.0891 - val_accuracy: 0.9740\n",
            "Epoch 4/10\n",
            "1875/1875 [==============================] - 6s 3ms/step - loss: 0.0964 - accuracy: 0.9696 - val_loss: 0.0817 - val_accuracy: 0.9749\n",
            "Epoch 5/10\n",
            "1875/1875 [==============================] - 6s 3ms/step - loss: 0.0817 - accuracy: 0.9739 - val_loss: 0.0780 - val_accuracy: 0.9762\n",
            "Epoch 6/10\n",
            "1875/1875 [==============================] - 6s 3ms/step - loss: 0.0739 - accuracy: 0.9765 - val_loss: 0.0770 - val_accuracy: 0.9758\n",
            "Epoch 7/10\n",
            "1875/1875 [==============================] - 6s 3ms/step - loss: 0.0655 - accuracy: 0.9784 - val_loss: 0.0766 - val_accuracy: 0.9779\n",
            "Epoch 8/10\n",
            "1875/1875 [==============================] - 6s 3ms/step - loss: 0.0620 - accuracy: 0.9796 - val_loss: 0.0764 - val_accuracy: 0.9776\n",
            "Epoch 9/10\n",
            "1875/1875 [==============================] - 6s 3ms/step - loss: 0.0574 - accuracy: 0.9811 - val_loss: 0.0781 - val_accuracy: 0.9758\n",
            "Epoch 10/10\n",
            "1875/1875 [==============================] - 6s 3ms/step - loss: 0.0547 - accuracy: 0.9821 - val_loss: 0.0754 - val_accuracy: 0.9771\n",
            "Epoch 1/10\n",
            "1875/1875 [==============================] - 7s 3ms/step - loss: 0.3209 - accuracy: 0.9098 - val_loss: 0.1406 - val_accuracy: 0.9573\n",
            "Epoch 2/10\n",
            "1875/1875 [==============================] - 6s 3ms/step - loss: 0.1511 - accuracy: 0.9533 - val_loss: 0.1073 - val_accuracy: 0.9655\n",
            "Epoch 3/10\n",
            "1875/1875 [==============================] - 6s 3ms/step - loss: 0.1224 - accuracy: 0.9619 - val_loss: 0.0952 - val_accuracy: 0.9698\n",
            "Epoch 4/10\n",
            "1875/1875 [==============================] - 6s 3ms/step - loss: 0.1015 - accuracy: 0.9679 - val_loss: 0.0877 - val_accuracy: 0.9721\n",
            "Epoch 5/10\n",
            "1875/1875 [==============================] - 6s 3ms/step - loss: 0.0912 - accuracy: 0.9711 - val_loss: 0.0893 - val_accuracy: 0.9725\n",
            "Epoch 6/10\n",
            "1875/1875 [==============================] - 6s 3ms/step - loss: 0.0820 - accuracy: 0.9734 - val_loss: 0.0783 - val_accuracy: 0.9760\n",
            "Epoch 7/10\n",
            "1875/1875 [==============================] - 7s 3ms/step - loss: 0.0745 - accuracy: 0.9757 - val_loss: 0.0757 - val_accuracy: 0.9761\n",
            "Epoch 8/10\n",
            "1875/1875 [==============================] - 6s 3ms/step - loss: 0.0707 - accuracy: 0.9770 - val_loss: 0.0802 - val_accuracy: 0.9757\n",
            "Epoch 9/10\n",
            "1875/1875 [==============================] - 6s 3ms/step - loss: 0.0660 - accuracy: 0.9782 - val_loss: 0.0821 - val_accuracy: 0.9747\n",
            "Epoch 10/10\n",
            "1875/1875 [==============================] - 6s 3ms/step - loss: 0.0630 - accuracy: 0.9794 - val_loss: 0.0825 - val_accuracy: 0.9759\n"
          ]
        }
      ]
    },
    {
      "cell_type": "code",
      "source": [
        "plt.plot(np.arange(1, 11), history_a.history['val_loss'], color='navy', linestyle=':')\n",
        "plt.plot(np.arange(1, 11), history_b.history['val_loss'], color='tomato', linestyle='-.')\n",
        "plt.plot(np.arange(1, 11), history_c.history['val_loss'], color='green', linestyle='-')\n",
        "\n",
        "plt.title('Losses', fontsize=20)\n",
        "plt.xlabel('Epochs')\n",
        "plt.ylabel('Losses')\n",
        "plt.legend(['ReLU', 'BatchNorm + ReLU','batchnorm + LeakyReLU'], fontsize=12)\n",
        "plt.show()"
      ],
      "metadata": {
        "colab": {
          "base_uri": "https://localhost:8080/",
          "height": 300
        },
        "id": "qmzRKm826B2F",
        "outputId": "d6d0e1dc-7dbd-4faf-9a10-a9a01a0ef068"
      },
      "execution_count": 36,
      "outputs": [
        {
          "output_type": "display_data",
          "data": {
            "text/plain": [
              "<Figure size 432x288 with 1 Axes>"
            ],
            "image/png": "[encoded data removed]"
          },
          "metadata": {
            "needs_background": "light"
          }
        }
      ]
    }
  ]
}