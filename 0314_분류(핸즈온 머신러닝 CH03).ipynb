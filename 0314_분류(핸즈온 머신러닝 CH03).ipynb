{
  "nbformat": 4,
  "nbformat_minor": 0,
  "metadata": {
    "colab": {
      "name": "0314 세션",
      "provenance": [],
      "authorship_tag": "ABX9TyO924Qvihx7dmrpu74OqgcE",
      "include_colab_link": true
    },
    "kernelspec": {
      "name": "python3",
      "display_name": "Python 3"
    },
    "language_info": {
      "name": "python"
    }
  },
  "cells": [
    {
      "cell_type": "markdown",
      "metadata": {
        "id": "view-in-github",
        "colab_type": "text"
      },
      "source": [
        "<a href=\"https://colab.research.google.com/github/Jii111/ESAA-2/blob/main/0314_%EB%B6%84%EB%A5%98(%ED%95%B8%EC%A6%88%EC%98%A8%20%EB%A8%B8%EC%8B%A0%EB%9F%AC%EB%8B%9D%20CH03).ipynb\" target=\"_parent\"><img src=\"https://colab.research.google.com/assets/colab-badge.svg\" alt=\"Open In Colab\"/></a>"
      ]
    },
    {
      "cell_type": "code",
      "execution_count": 1,
      "metadata": {
        "id": "aDLb7PcjzbBl"
      },
      "outputs": [],
      "source": [
        "#1\n",
        "from sklearn.datasets import fetch_openml"
      ]
    },
    {
      "cell_type": "code",
      "source": [
        "mnist=fetch_openml('mnist_784',version=1,as_frame=False)"
      ],
      "metadata": {
        "id": "Hiy_ZwkmzePS"
      },
      "execution_count": 2,
      "outputs": []
    },
    {
      "cell_type": "code",
      "source": [
        "X,y=mnist[\"data\"],mnist[\"target\"]"
      ],
      "metadata": {
        "id": "lcO3J6ahzeNW"
      },
      "execution_count": 3,
      "outputs": []
    },
    {
      "cell_type": "code",
      "source": [
        "X_train,X_test,y_train,y_test=X[:60000],X[60000:],y[:60000],y[60000:]"
      ],
      "metadata": {
        "id": "I365adS4zeLC"
      },
      "execution_count": 4,
      "outputs": []
    },
    {
      "cell_type": "code",
      "source": [
        "from sklearn.neighbors import KNeighborsClassifier\n",
        "\n",
        "knn_clf=KNeighborsClassifier()\n",
        "knn_clf.fit(X_train,y_train)"
      ],
      "metadata": {
        "colab": {
          "base_uri": "https://localhost:8080/"
        },
        "id": "78GxMpTrzeH3",
        "outputId": "73d237c9-9042-4655-d71b-da0ab8d7e701"
      },
      "execution_count": 5,
      "outputs": [
        {
          "output_type": "execute_result",
          "data": {
            "text/plain": [
              "KNeighborsClassifier()"
            ]
          },
          "metadata": {},
          "execution_count": 5
        }
      ]
    },
    {
      "cell_type": "code",
      "source": [
        "from sklearn.metrics import accuracy_score\n",
        "y_pred=knn_clf.predict(X_test)\n",
        "accuracy_score(y_test,y_pred)"
      ],
      "metadata": {
        "colab": {
          "base_uri": "https://localhost:8080/"
        },
        "id": "yHZk4J_azeF8",
        "outputId": "55655800-1e24-4ce6-b64c-fb058ca5efe9"
      },
      "execution_count": 6,
      "outputs": [
        {
          "output_type": "execute_result",
          "data": {
            "text/plain": [
              "0.9688"
            ]
          },
          "metadata": {},
          "execution_count": 6
        }
      ]
    },
    {
      "cell_type": "code",
      "source": [
        "from sklearn.model_selection import GridSearchCV\n",
        "\n",
        "parameters={'weight':['distance','uniform'],'n_neighbors':[3,4,5]}"
      ],
      "metadata": {
        "id": "78zd1kHZzeDp"
      },
      "execution_count": 7,
      "outputs": []
    },
    {
      "cell_type": "code",
      "source": [
        "gridCV=GridSearchCV(knn_clf,param_grid=parameters,cv=3,verbose=3)\n"
      ],
      "metadata": {
        "id": "vf-uUhe1zeBI"
      },
      "execution_count": 8,
      "outputs": []
    },
    {
      "cell_type": "code",
      "source": [
        "from sklearn.model_selection import GridSearchCV\n",
        "\n",
        "param_grid = [{'weights': [\"uniform\", \"distance\"], 'n_neighbors': [3, 4, 5]}]\n",
        "\n",
        "knn_clf = KNeighborsClassifier()\n",
        "grid_search = GridSearchCV(knn_clf, param_grid, cv=5, verbose=3)\n",
        "grid_search.fit(X_train, y_train)"
      ],
      "metadata": {
        "colab": {
          "base_uri": "https://localhost:8080/"
        },
        "id": "glS6oIUlAfZX",
        "outputId": "e8e60baf-c433-404e-b59d-a2d5e3326bfb"
      },
      "execution_count": 9,
      "outputs": [
        {
          "output_type": "stream",
          "name": "stdout",
          "text": [
            "Fitting 5 folds for each of 6 candidates, totalling 30 fits\n",
            "[CV 1/5] END ....n_neighbors=3, weights=uniform;, score=0.972 total time=  31.0s\n",
            "[CV 2/5] END ....n_neighbors=3, weights=uniform;, score=0.971 total time=  30.9s\n",
            "[CV 3/5] END ....n_neighbors=3, weights=uniform;, score=0.969 total time=  30.9s\n",
            "[CV 4/5] END ....n_neighbors=3, weights=uniform;, score=0.969 total time=  30.8s\n",
            "[CV 5/5] END ....n_neighbors=3, weights=uniform;, score=0.970 total time=  30.9s\n",
            "[CV 1/5] END ...n_neighbors=3, weights=distance;, score=0.972 total time=  31.6s\n",
            "[CV 2/5] END ...n_neighbors=3, weights=distance;, score=0.972 total time=  30.6s\n",
            "[CV 3/5] END ...n_neighbors=3, weights=distance;, score=0.970 total time=  30.5s\n",
            "[CV 4/5] END ...n_neighbors=3, weights=distance;, score=0.970 total time=  30.6s\n",
            "[CV 5/5] END ...n_neighbors=3, weights=distance;, score=0.971 total time=  30.5s\n",
            "[CV 1/5] END ....n_neighbors=4, weights=uniform;, score=0.969 total time=  34.5s\n",
            "[CV 2/5] END ....n_neighbors=4, weights=uniform;, score=0.968 total time=  34.7s\n",
            "[CV 3/5] END ....n_neighbors=4, weights=uniform;, score=0.968 total time=  34.4s\n",
            "[CV 4/5] END ....n_neighbors=4, weights=uniform;, score=0.967 total time=  34.8s\n",
            "[CV 5/5] END ....n_neighbors=4, weights=uniform;, score=0.970 total time=  35.5s\n",
            "[CV 1/5] END ...n_neighbors=4, weights=distance;, score=0.973 total time=  34.4s\n",
            "[CV 2/5] END ...n_neighbors=4, weights=distance;, score=0.972 total time=  34.3s\n",
            "[CV 3/5] END ...n_neighbors=4, weights=distance;, score=0.970 total time=  34.0s\n",
            "[CV 4/5] END ...n_neighbors=4, weights=distance;, score=0.971 total time=  34.5s\n",
            "[CV 5/5] END ...n_neighbors=4, weights=distance;, score=0.972 total time=  34.7s\n",
            "[CV 1/5] END ....n_neighbors=5, weights=uniform;, score=0.970 total time=  34.4s\n",
            "[CV 2/5] END ....n_neighbors=5, weights=uniform;, score=0.970 total time=  34.7s\n",
            "[CV 3/5] END ....n_neighbors=5, weights=uniform;, score=0.969 total time=  34.4s\n",
            "[CV 4/5] END ....n_neighbors=5, weights=uniform;, score=0.968 total time=  35.6s\n",
            "[CV 5/5] END ....n_neighbors=5, weights=uniform;, score=0.969 total time=  35.0s\n",
            "[CV 1/5] END ...n_neighbors=5, weights=distance;, score=0.970 total time=  34.1s\n",
            "[CV 2/5] END ...n_neighbors=5, weights=distance;, score=0.971 total time=  34.4s\n",
            "[CV 3/5] END ...n_neighbors=5, weights=distance;, score=0.970 total time=  34.1s\n",
            "[CV 4/5] END ...n_neighbors=5, weights=distance;, score=0.969 total time=  34.5s\n",
            "[CV 5/5] END ...n_neighbors=5, weights=distance;, score=0.971 total time=  34.7s\n"
          ]
        },
        {
          "output_type": "execute_result",
          "data": {
            "text/plain": [
              "GridSearchCV(cv=5, estimator=KNeighborsClassifier(),\n",
              "             param_grid=[{'n_neighbors': [3, 4, 5],\n",
              "                          'weights': ['uniform', 'distance']}],\n",
              "             verbose=3)"
            ]
          },
          "metadata": {},
          "execution_count": 9
        }
      ]
    },
    {
      "cell_type": "code",
      "source": [
        "knn_clf2 = KNeighborsClassifier(n_neighbors=4, weights='distance')\n",
        "knn_clf2.fit(X_train, y_train)\n",
        "accuracy_score(y_test, knn_clf2.predict(X_test))"
      ],
      "metadata": {
        "id": "UlPnc227Afco",
        "colab": {
          "base_uri": "https://localhost:8080/"
        },
        "outputId": "2fb8027c-d96f-44c2-85c0-bade5368942e"
      },
      "execution_count": 13,
      "outputs": [
        {
          "output_type": "execute_result",
          "data": {
            "text/plain": [
              "0.9714"
            ]
          },
          "metadata": {},
          "execution_count": 13
        }
      ]
    },
    {
      "cell_type": "code",
      "source": [
        "#2\n",
        "from scipy.ndimage.interpolation import shift"
      ],
      "metadata": {
        "id": "EG8kGwXV4fRN"
      },
      "execution_count": 14,
      "outputs": []
    },
    {
      "cell_type": "code",
      "source": [
        "def shift_img(image, dx, dy):\n",
        "    img = image.reshape( (28, 28) )\n",
        "    shifted_img = shift(img, [dy, dx], cval=0, mode=\"constant\")\n",
        "    return shifted_img.reshape([-1])"
      ],
      "metadata": {
        "id": "KGJ0fkpe4fNV"
      },
      "execution_count": 15,
      "outputs": []
    },
    {
      "cell_type": "code",
      "source": [
        "import matplotlib as mpl\n",
        "import numpy as np\n",
        "import matplotlib.pyplot as plt\n",
        "\n",
        "image = X.to_numpy()[0]\n",
        "\n",
        "some_digit = X.to_numpy()[0] #오류처리!\n",
        "\n",
        "shifted_image_down = shift_img(image, 0, 5)\n",
        "shifted_image_left = shift_img(image, -5, 0)\n",
        "\n",
        "plt.figure(figsize=(12,3))\n",
        "plt.subplot(131)\n",
        "plt.title(\"Original\", fontsize=14)\n",
        "plt.imshow(image.reshape(28, 28), interpolation=\"nearest\", cmap=\"Greys\")\n",
        "plt.subplot(132)\n",
        "plt.title(\"Shifted down\", fontsize=14)\n",
        "plt.imshow(shifted_image_down.reshape(28, 28), interpolation=\"nearest\", cmap=\"Greys\")\n",
        "plt.subplot(133)\n",
        "plt.title(\"Shifted left\", fontsize=14)\n",
        "plt.imshow(shifted_image_left.reshape(28, 28), interpolation=\"nearest\", cmap=\"Greys\")\n",
        "plt.show()"
      ],
      "metadata": {
        "id": "RD_J9NjiC4t2"
      },
      "execution_count": null,
      "outputs": []
    },
    {
      "cell_type": "code",
      "source": [
        "X_train_aug = [image for image in X_train]\n",
        "y_train_aug = [label for label in y_train]\n",
        "\n",
        "for dx, dy in ((1, 0), (-1, 0), (0, 1), (0, -1)):\n",
        "    for image, label in zip(X_train.values, y_train.values):\n",
        "        X_train_aug.append(shift_img(image, dx, dy))\n",
        "        y_train_aug.append(label)\n"
      ],
      "metadata": {
        "id": "ii8YSp8E8Ybt"
      },
      "execution_count": null,
      "outputs": []
    },
    {
      "cell_type": "code",
      "source": [
        "import numpy as np\n",
        "\n",
        "X_train_aug = np.array(X_train_aug)\n",
        "y_train_aug = np.array(y_train_aug)"
      ],
      "metadata": {
        "id": "dLOCbLyR4fGs"
      },
      "execution_count": null,
      "outputs": []
    },
    {
      "cell_type": "code",
      "source": [
        "shuffle_idx = np.random.permutation(len(X_train_aug))\n",
        "X_train_augmented = X_train_aug[shuffle_idx]\n",
        "y_train_augmented = y_train_aug[shuffle_idx]\n",
        "\n",
        "knn_clf = KNeighborsClassifier(n_neighbors=4, weights='distance')\n",
        "\n",
        "knn_clf.fit(X_train_augmented, y_train_augmented)"
      ],
      "metadata": {
        "id": "j1D9En7UzDPB"
      },
      "execution_count": null,
      "outputs": []
    },
    {
      "cell_type": "code",
      "source": [
        "y_pred = knn_clf.predict(X_test)\n",
        "accuracy_score(y_test, y_pred)"
      ],
      "metadata": {
        "id": "jdUt1GGmzbPE"
      },
      "execution_count": null,
      "outputs": []
    }
  ]
}