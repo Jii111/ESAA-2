{
  "nbformat": 4,
  "nbformat_minor": 0,
  "metadata": {
    "colab": {
      "name": "2주차_Diabetes_Classification_KNN_github.ipynb",
      "provenance": [],
      "collapsed_sections": []
    },
    "kernelspec": {
      "name": "python3",
      "display_name": "Python 3"
    },
    "language_info": {
      "name": "python"
    }
  },
  "cells": [
    {
      "cell_type": "markdown",
      "source": [
        "# **Step by Step Diabetes Classification-KNN-detailed**"
      ],
      "metadata": {
        "id": "P3J8kKr96vbf"
      }
    },
    {
      "cell_type": "code",
      "source": [
        "from mlxtend.plotting import plot_decision_regions\n",
        "import numpy as np\n",
        "import pandas as pd\n",
        "import matplotlib.pyplot as plt\n",
        "import seaborn as sns\n",
        "sns.set()\n",
        "import warnings\n",
        "warnings.filterwarnings('ignore')\n",
        "%matplotlib inline"
      ],
      "metadata": {
        "id": "apgdtWgs7ETo"
      },
      "execution_count": null,
      "outputs": []
    },
    {
      "cell_type": "markdown",
      "source": [
        "Basic Data Science and ML Pipeline\n",
        "\n",
        "OSEMN Pipeline\n",
        "- O btaining our data\n",
        "- S crubbing & cleaning our data\n",
        "- E xploring & Viualizing our data will allow us to find patterns and trends\n",
        "- M odeling our data will give us our predictive power as a wizard\n",
        "- iN terpreting our data "
      ],
      "metadata": {
        "id": "iIrIt2U27cjE"
      }
    },
    {
      "cell_type": "code",
      "source": [
        "from google.colab import drive \n",
        "drive.mount('/content/drive/')"
      ],
      "metadata": {
        "colab": {
          "base_uri": "https://localhost:8080/"
        },
        "id": "nFFCcxIi7Efu",
        "outputId": "916f6161-1719-4670-beb5-dfd77c1dfdc7"
      },
      "execution_count": null,
      "outputs": [
        {
          "output_type": "stream",
          "name": "stdout",
          "text": [
            "Mounted at /content/drive/\n"
          ]
        }
      ]
    },
    {
      "cell_type": "code",
      "source": [
        "diabetes_data = pd.read_csv('/content/drive/MyDrive/ESAA-OB/diabetes.csv')"
      ],
      "metadata": {
        "id": "VQp_U5oV9tIw"
      },
      "execution_count": null,
      "outputs": []
    },
    {
      "cell_type": "markdown",
      "source": [
        "### Basic EDA and statistical analysis\n",
        "-데이터 탐색"
      ],
      "metadata": {
        "id": "x-vYP5f1bnwh"
      }
    },
    {
      "cell_type": "code",
      "source": [
        "#verbose=True\n",
        "diabetes_data.info(verbose=True)"
      ],
      "metadata": {
        "id": "_hgpiRv77EmS",
        "colab": {
          "base_uri": "https://localhost:8080/"
        },
        "outputId": "0a4e9ed0-af15-4fc8-eec8-2366cb524227"
      },
      "execution_count": null,
      "outputs": [
        {
          "output_type": "stream",
          "name": "stdout",
          "text": [
            "<class 'pandas.core.frame.DataFrame'>\n",
            "RangeIndex: 768 entries, 0 to 767\n",
            "Data columns (total 9 columns):\n",
            " #   Column                    Non-Null Count  Dtype  \n",
            "---  ------                    --------------  -----  \n",
            " 0   Pregnancies               768 non-null    int64  \n",
            " 1   Glucose                   768 non-null    int64  \n",
            " 2   BloodPressure             768 non-null    int64  \n",
            " 3   SkinThickness             768 non-null    int64  \n",
            " 4   Insulin                   768 non-null    int64  \n",
            " 5   BMI                       768 non-null    float64\n",
            " 6   DiabetesPedigreeFunction  768 non-null    float64\n",
            " 7   Age                       768 non-null    int64  \n",
            " 8   Outcome                   768 non-null    int64  \n",
            "dtypes: float64(2), int64(7)\n",
            "memory usage: 54.1 KB\n"
          ]
        }
      ]
    },
    {
      "cell_type": "code",
      "source": [
        "#이상치 탐지\n",
        "diabetes_data.describe()"
      ],
      "metadata": {
        "id": "NWrDIRn67En6",
        "colab": {
          "base_uri": "https://localhost:8080/",
          "height": 364
        },
        "outputId": "9da55e63-0059-42d0-d3fe-c6a179a2e6aa"
      },
      "execution_count": null,
      "outputs": [
        {
          "output_type": "execute_result",
          "data": {
            "text/plain": [
              "       Pregnancies     Glucose  BloodPressure  SkinThickness     Insulin  \\\n",
              "count   768.000000  768.000000     768.000000     768.000000  768.000000   \n",
              "mean      3.845052  120.894531      69.105469      20.536458   79.799479   \n",
              "std       3.369578   31.972618      19.355807      15.952218  115.244002   \n",
              "min       0.000000    0.000000       0.000000       0.000000    0.000000   \n",
              "25%       1.000000   99.000000      62.000000       0.000000    0.000000   \n",
              "50%       3.000000  117.000000      72.000000      23.000000   30.500000   \n",
              "75%       6.000000  140.250000      80.000000      32.000000  127.250000   \n",
              "max      17.000000  199.000000     122.000000      99.000000  846.000000   \n",
              "\n",
              "              BMI  DiabetesPedigreeFunction         Age     Outcome  \n",
              "count  768.000000                768.000000  768.000000  768.000000  \n",
              "mean    31.992578                  0.471876   33.240885    0.348958  \n",
              "std      7.884160                  0.331329   11.760232    0.476951  \n",
              "min      0.000000                  0.078000   21.000000    0.000000  \n",
              "25%     27.300000                  0.243750   24.000000    0.000000  \n",
              "50%     32.000000                  0.372500   29.000000    0.000000  \n",
              "75%     36.600000                  0.626250   41.000000    1.000000  \n",
              "max     67.100000                  2.420000   81.000000    1.000000  "
            ],
            "text/html": [
              "\n",
              "  <div id=\"df-32259ff3-d34f-4f25-96c8-142e20e5b08e\">\n",
              "    <div class=\"colab-df-container\">\n",
              "      <div>\n",
              "<style scoped>\n",
              "    .dataframe tbody tr th:only-of-type {\n",
              "        vertical-align: middle;\n",
              "    }\n",
              "\n",
              "    .dataframe tbody tr th {\n",
              "        vertical-align: top;\n",
              "    }\n",
              "\n",
              "    .dataframe thead th {\n",
              "        text-align: right;\n",
              "    }\n",
              "</style>\n",
              "<table border=\"1\" class=\"dataframe\">\n",
              "  <thead>\n",
              "    <tr style=\"text-align: right;\">\n",
              "      <th></th>\n",
              "      <th>Pregnancies</th>\n",
              "      <th>Glucose</th>\n",
              "      <th>BloodPressure</th>\n",
              "      <th>SkinThickness</th>\n",
              "      <th>Insulin</th>\n",
              "      <th>BMI</th>\n",
              "      <th>DiabetesPedigreeFunction</th>\n",
              "      <th>Age</th>\n",
              "      <th>Outcome</th>\n",
              "    </tr>\n",
              "  </thead>\n",
              "  <tbody>\n",
              "    <tr>\n",
              "      <th>count</th>\n",
              "      <td>768.000000</td>\n",
              "      <td>768.000000</td>\n",
              "      <td>768.000000</td>\n",
              "      <td>768.000000</td>\n",
              "      <td>768.000000</td>\n",
              "      <td>768.000000</td>\n",
              "      <td>768.000000</td>\n",
              "      <td>768.000000</td>\n",
              "      <td>768.000000</td>\n",
              "    </tr>\n",
              "    <tr>\n",
              "      <th>mean</th>\n",
              "      <td>3.845052</td>\n",
              "      <td>120.894531</td>\n",
              "      <td>69.105469</td>\n",
              "      <td>20.536458</td>\n",
              "      <td>79.799479</td>\n",
              "      <td>31.992578</td>\n",
              "      <td>0.471876</td>\n",
              "      <td>33.240885</td>\n",
              "      <td>0.348958</td>\n",
              "    </tr>\n",
              "    <tr>\n",
              "      <th>std</th>\n",
              "      <td>3.369578</td>\n",
              "      <td>31.972618</td>\n",
              "      <td>19.355807</td>\n",
              "      <td>15.952218</td>\n",
              "      <td>115.244002</td>\n",
              "      <td>7.884160</td>\n",
              "      <td>0.331329</td>\n",
              "      <td>11.760232</td>\n",
              "      <td>0.476951</td>\n",
              "    </tr>\n",
              "    <tr>\n",
              "      <th>min</th>\n",
              "      <td>0.000000</td>\n",
              "      <td>0.000000</td>\n",
              "      <td>0.000000</td>\n",
              "      <td>0.000000</td>\n",
              "      <td>0.000000</td>\n",
              "      <td>0.000000</td>\n",
              "      <td>0.078000</td>\n",
              "      <td>21.000000</td>\n",
              "      <td>0.000000</td>\n",
              "    </tr>\n",
              "    <tr>\n",
              "      <th>25%</th>\n",
              "      <td>1.000000</td>\n",
              "      <td>99.000000</td>\n",
              "      <td>62.000000</td>\n",
              "      <td>0.000000</td>\n",
              "      <td>0.000000</td>\n",
              "      <td>27.300000</td>\n",
              "      <td>0.243750</td>\n",
              "      <td>24.000000</td>\n",
              "      <td>0.000000</td>\n",
              "    </tr>\n",
              "    <tr>\n",
              "      <th>50%</th>\n",
              "      <td>3.000000</td>\n",
              "      <td>117.000000</td>\n",
              "      <td>72.000000</td>\n",
              "      <td>23.000000</td>\n",
              "      <td>30.500000</td>\n",
              "      <td>32.000000</td>\n",
              "      <td>0.372500</td>\n",
              "      <td>29.000000</td>\n",
              "      <td>0.000000</td>\n",
              "    </tr>\n",
              "    <tr>\n",
              "      <th>75%</th>\n",
              "      <td>6.000000</td>\n",
              "      <td>140.250000</td>\n",
              "      <td>80.000000</td>\n",
              "      <td>32.000000</td>\n",
              "      <td>127.250000</td>\n",
              "      <td>36.600000</td>\n",
              "      <td>0.626250</td>\n",
              "      <td>41.000000</td>\n",
              "      <td>1.000000</td>\n",
              "    </tr>\n",
              "    <tr>\n",
              "      <th>max</th>\n",
              "      <td>17.000000</td>\n",
              "      <td>199.000000</td>\n",
              "      <td>122.000000</td>\n",
              "      <td>99.000000</td>\n",
              "      <td>846.000000</td>\n",
              "      <td>67.100000</td>\n",
              "      <td>2.420000</td>\n",
              "      <td>81.000000</td>\n",
              "      <td>1.000000</td>\n",
              "    </tr>\n",
              "  </tbody>\n",
              "</table>\n",
              "</div>\n",
              "      <button class=\"colab-df-convert\" onclick=\"convertToInteractive('df-32259ff3-d34f-4f25-96c8-142e20e5b08e')\"\n",
              "              title=\"Convert this dataframe to an interactive table.\"\n",
              "              style=\"display:none;\">\n",
              "        \n",
              "  <svg xmlns=\"http://www.w3.org/2000/svg\" height=\"24px\"viewBox=\"0 0 24 24\"\n",
              "       width=\"24px\">\n",
              "    <path d=\"M0 0h24v24H0V0z\" fill=\"none\"/>\n",
              "    <path d=\"M18.56 5.44l.94 2.06.94-2.06 2.06-.94-2.06-.94-.94-2.06-.94 2.06-2.06.94zm-11 1L8.5 8.5l.94-2.06 2.06-.94-2.06-.94L8.5 2.5l-.94 2.06-2.06.94zm10 10l.94 2.06.94-2.06 2.06-.94-2.06-.94-.94-2.06-.94 2.06-2.06.94z\"/><path d=\"M17.41 7.96l-1.37-1.37c-.4-.4-.92-.59-1.43-.59-.52 0-1.04.2-1.43.59L10.3 9.45l-7.72 7.72c-.78.78-.78 2.05 0 2.83L4 21.41c.39.39.9.59 1.41.59.51 0 1.02-.2 1.41-.59l7.78-7.78 2.81-2.81c.8-.78.8-2.07 0-2.86zM5.41 20L4 18.59l7.72-7.72 1.47 1.35L5.41 20z\"/>\n",
              "  </svg>\n",
              "      </button>\n",
              "      \n",
              "  <style>\n",
              "    .colab-df-container {\n",
              "      display:flex;\n",
              "      flex-wrap:wrap;\n",
              "      gap: 12px;\n",
              "    }\n",
              "\n",
              "    .colab-df-convert {\n",
              "      background-color: #E8F0FE;\n",
              "      border: none;\n",
              "      border-radius: 50%;\n",
              "      cursor: pointer;\n",
              "      display: none;\n",
              "      fill: #1967D2;\n",
              "      height: 32px;\n",
              "      padding: 0 0 0 0;\n",
              "      width: 32px;\n",
              "    }\n",
              "\n",
              "    .colab-df-convert:hover {\n",
              "      background-color: #E2EBFA;\n",
              "      box-shadow: 0px 1px 2px rgba(60, 64, 67, 0.3), 0px 1px 3px 1px rgba(60, 64, 67, 0.15);\n",
              "      fill: #174EA6;\n",
              "    }\n",
              "\n",
              "    [theme=dark] .colab-df-convert {\n",
              "      background-color: #3B4455;\n",
              "      fill: #D2E3FC;\n",
              "    }\n",
              "\n",
              "    [theme=dark] .colab-df-convert:hover {\n",
              "      background-color: #434B5C;\n",
              "      box-shadow: 0px 1px 3px 1px rgba(0, 0, 0, 0.15);\n",
              "      filter: drop-shadow(0px 1px 2px rgba(0, 0, 0, 0.3));\n",
              "      fill: #FFFFFF;\n",
              "    }\n",
              "  </style>\n",
              "\n",
              "      <script>\n",
              "        const buttonEl =\n",
              "          document.querySelector('#df-32259ff3-d34f-4f25-96c8-142e20e5b08e button.colab-df-convert');\n",
              "        buttonEl.style.display =\n",
              "          google.colab.kernel.accessAllowed ? 'block' : 'none';\n",
              "\n",
              "        async function convertToInteractive(key) {\n",
              "          const element = document.querySelector('#df-32259ff3-d34f-4f25-96c8-142e20e5b08e');\n",
              "          const dataTable =\n",
              "            await google.colab.kernel.invokeFunction('convertToInteractive',\n",
              "                                                     [key], {});\n",
              "          if (!dataTable) return;\n",
              "\n",
              "          const docLinkHtml = 'Like what you see? Visit the ' +\n",
              "            '<a target=\"_blank\" href=https://colab.research.google.com/notebooks/data_table.ipynb>data table notebook</a>'\n",
              "            + ' to learn more about interactive tables.';\n",
              "          element.innerHTML = '';\n",
              "          dataTable['output_type'] = 'display_data';\n",
              "          await google.colab.output.renderOutput(dataTable, element);\n",
              "          const docLink = document.createElement('div');\n",
              "          docLink.innerHTML = docLinkHtml;\n",
              "          element.appendChild(docLink);\n",
              "        }\n",
              "      </script>\n",
              "    </div>\n",
              "  </div>\n",
              "  "
            ]
          },
          "metadata": {},
          "execution_count": 6
        }
      ]
    },
    {
      "cell_type": "code",
      "source": [
        "diabetes_data.describe().T"
      ],
      "metadata": {
        "id": "6birV7DY7Eqe",
        "colab": {
          "base_uri": "https://localhost:8080/",
          "height": 395
        },
        "outputId": "9ff7ee9b-8f0b-48e6-c246-d0f8aacab473"
      },
      "execution_count": null,
      "outputs": [
        {
          "output_type": "execute_result",
          "data": {
            "text/plain": [
              "                          count        mean         std     min       25%  \\\n",
              "Pregnancies               768.0    3.845052    3.369578   0.000   1.00000   \n",
              "Glucose                   768.0  120.894531   31.972618   0.000  99.00000   \n",
              "BloodPressure             768.0   69.105469   19.355807   0.000  62.00000   \n",
              "SkinThickness             768.0   20.536458   15.952218   0.000   0.00000   \n",
              "Insulin                   768.0   79.799479  115.244002   0.000   0.00000   \n",
              "BMI                       768.0   31.992578    7.884160   0.000  27.30000   \n",
              "DiabetesPedigreeFunction  768.0    0.471876    0.331329   0.078   0.24375   \n",
              "Age                       768.0   33.240885   11.760232  21.000  24.00000   \n",
              "Outcome                   768.0    0.348958    0.476951   0.000   0.00000   \n",
              "\n",
              "                               50%        75%     max  \n",
              "Pregnancies                 3.0000    6.00000   17.00  \n",
              "Glucose                   117.0000  140.25000  199.00  \n",
              "BloodPressure              72.0000   80.00000  122.00  \n",
              "SkinThickness              23.0000   32.00000   99.00  \n",
              "Insulin                    30.5000  127.25000  846.00  \n",
              "BMI                        32.0000   36.60000   67.10  \n",
              "DiabetesPedigreeFunction    0.3725    0.62625    2.42  \n",
              "Age                        29.0000   41.00000   81.00  \n",
              "Outcome                     0.0000    1.00000    1.00  "
            ],
            "text/html": [
              "\n",
              "  <div id=\"df-83aac78a-f63c-4ca0-9b87-442d77e0eba6\">\n",
              "    <div class=\"colab-df-container\">\n",
              "      <div>\n",
              "<style scoped>\n",
              "    .dataframe tbody tr th:only-of-type {\n",
              "        vertical-align: middle;\n",
              "    }\n",
              "\n",
              "    .dataframe tbody tr th {\n",
              "        vertical-align: top;\n",
              "    }\n",
              "\n",
              "    .dataframe thead th {\n",
              "        text-align: right;\n",
              "    }\n",
              "</style>\n",
              "<table border=\"1\" class=\"dataframe\">\n",
              "  <thead>\n",
              "    <tr style=\"text-align: right;\">\n",
              "      <th></th>\n",
              "      <th>count</th>\n",
              "      <th>mean</th>\n",
              "      <th>std</th>\n",
              "      <th>min</th>\n",
              "      <th>25%</th>\n",
              "      <th>50%</th>\n",
              "      <th>75%</th>\n",
              "      <th>max</th>\n",
              "    </tr>\n",
              "  </thead>\n",
              "  <tbody>\n",
              "    <tr>\n",
              "      <th>Pregnancies</th>\n",
              "      <td>768.0</td>\n",
              "      <td>3.845052</td>\n",
              "      <td>3.369578</td>\n",
              "      <td>0.000</td>\n",
              "      <td>1.00000</td>\n",
              "      <td>3.0000</td>\n",
              "      <td>6.00000</td>\n",
              "      <td>17.00</td>\n",
              "    </tr>\n",
              "    <tr>\n",
              "      <th>Glucose</th>\n",
              "      <td>768.0</td>\n",
              "      <td>120.894531</td>\n",
              "      <td>31.972618</td>\n",
              "      <td>0.000</td>\n",
              "      <td>99.00000</td>\n",
              "      <td>117.0000</td>\n",
              "      <td>140.25000</td>\n",
              "      <td>199.00</td>\n",
              "    </tr>\n",
              "    <tr>\n",
              "      <th>BloodPressure</th>\n",
              "      <td>768.0</td>\n",
              "      <td>69.105469</td>\n",
              "      <td>19.355807</td>\n",
              "      <td>0.000</td>\n",
              "      <td>62.00000</td>\n",
              "      <td>72.0000</td>\n",
              "      <td>80.00000</td>\n",
              "      <td>122.00</td>\n",
              "    </tr>\n",
              "    <tr>\n",
              "      <th>SkinThickness</th>\n",
              "      <td>768.0</td>\n",
              "      <td>20.536458</td>\n",
              "      <td>15.952218</td>\n",
              "      <td>0.000</td>\n",
              "      <td>0.00000</td>\n",
              "      <td>23.0000</td>\n",
              "      <td>32.00000</td>\n",
              "      <td>99.00</td>\n",
              "    </tr>\n",
              "    <tr>\n",
              "      <th>Insulin</th>\n",
              "      <td>768.0</td>\n",
              "      <td>79.799479</td>\n",
              "      <td>115.244002</td>\n",
              "      <td>0.000</td>\n",
              "      <td>0.00000</td>\n",
              "      <td>30.5000</td>\n",
              "      <td>127.25000</td>\n",
              "      <td>846.00</td>\n",
              "    </tr>\n",
              "    <tr>\n",
              "      <th>BMI</th>\n",
              "      <td>768.0</td>\n",
              "      <td>31.992578</td>\n",
              "      <td>7.884160</td>\n",
              "      <td>0.000</td>\n",
              "      <td>27.30000</td>\n",
              "      <td>32.0000</td>\n",
              "      <td>36.60000</td>\n",
              "      <td>67.10</td>\n",
              "    </tr>\n",
              "    <tr>\n",
              "      <th>DiabetesPedigreeFunction</th>\n",
              "      <td>768.0</td>\n",
              "      <td>0.471876</td>\n",
              "      <td>0.331329</td>\n",
              "      <td>0.078</td>\n",
              "      <td>0.24375</td>\n",
              "      <td>0.3725</td>\n",
              "      <td>0.62625</td>\n",
              "      <td>2.42</td>\n",
              "    </tr>\n",
              "    <tr>\n",
              "      <th>Age</th>\n",
              "      <td>768.0</td>\n",
              "      <td>33.240885</td>\n",
              "      <td>11.760232</td>\n",
              "      <td>21.000</td>\n",
              "      <td>24.00000</td>\n",
              "      <td>29.0000</td>\n",
              "      <td>41.00000</td>\n",
              "      <td>81.00</td>\n",
              "    </tr>\n",
              "    <tr>\n",
              "      <th>Outcome</th>\n",
              "      <td>768.0</td>\n",
              "      <td>0.348958</td>\n",
              "      <td>0.476951</td>\n",
              "      <td>0.000</td>\n",
              "      <td>0.00000</td>\n",
              "      <td>0.0000</td>\n",
              "      <td>1.00000</td>\n",
              "      <td>1.00</td>\n",
              "    </tr>\n",
              "  </tbody>\n",
              "</table>\n",
              "</div>\n",
              "      <button class=\"colab-df-convert\" onclick=\"convertToInteractive('df-83aac78a-f63c-4ca0-9b87-442d77e0eba6')\"\n",
              "              title=\"Convert this dataframe to an interactive table.\"\n",
              "              style=\"display:none;\">\n",
              "        \n",
              "  <svg xmlns=\"http://www.w3.org/2000/svg\" height=\"24px\"viewBox=\"0 0 24 24\"\n",
              "       width=\"24px\">\n",
              "    <path d=\"M0 0h24v24H0V0z\" fill=\"none\"/>\n",
              "    <path d=\"M18.56 5.44l.94 2.06.94-2.06 2.06-.94-2.06-.94-.94-2.06-.94 2.06-2.06.94zm-11 1L8.5 8.5l.94-2.06 2.06-.94-2.06-.94L8.5 2.5l-.94 2.06-2.06.94zm10 10l.94 2.06.94-2.06 2.06-.94-2.06-.94-.94-2.06-.94 2.06-2.06.94z\"/><path d=\"M17.41 7.96l-1.37-1.37c-.4-.4-.92-.59-1.43-.59-.52 0-1.04.2-1.43.59L10.3 9.45l-7.72 7.72c-.78.78-.78 2.05 0 2.83L4 21.41c.39.39.9.59 1.41.59.51 0 1.02-.2 1.41-.59l7.78-7.78 2.81-2.81c.8-.78.8-2.07 0-2.86zM5.41 20L4 18.59l7.72-7.72 1.47 1.35L5.41 20z\"/>\n",
              "  </svg>\n",
              "      </button>\n",
              "      \n",
              "  <style>\n",
              "    .colab-df-container {\n",
              "      display:flex;\n",
              "      flex-wrap:wrap;\n",
              "      gap: 12px;\n",
              "    }\n",
              "\n",
              "    .colab-df-convert {\n",
              "      background-color: #E8F0FE;\n",
              "      border: none;\n",
              "      border-radius: 50%;\n",
              "      cursor: pointer;\n",
              "      display: none;\n",
              "      fill: #1967D2;\n",
              "      height: 32px;\n",
              "      padding: 0 0 0 0;\n",
              "      width: 32px;\n",
              "    }\n",
              "\n",
              "    .colab-df-convert:hover {\n",
              "      background-color: #E2EBFA;\n",
              "      box-shadow: 0px 1px 2px rgba(60, 64, 67, 0.3), 0px 1px 3px 1px rgba(60, 64, 67, 0.15);\n",
              "      fill: #174EA6;\n",
              "    }\n",
              "\n",
              "    [theme=dark] .colab-df-convert {\n",
              "      background-color: #3B4455;\n",
              "      fill: #D2E3FC;\n",
              "    }\n",
              "\n",
              "    [theme=dark] .colab-df-convert:hover {\n",
              "      background-color: #434B5C;\n",
              "      box-shadow: 0px 1px 3px 1px rgba(0, 0, 0, 0.15);\n",
              "      filter: drop-shadow(0px 1px 2px rgba(0, 0, 0, 0.3));\n",
              "      fill: #FFFFFF;\n",
              "    }\n",
              "  </style>\n",
              "\n",
              "      <script>\n",
              "        const buttonEl =\n",
              "          document.querySelector('#df-83aac78a-f63c-4ca0-9b87-442d77e0eba6 button.colab-df-convert');\n",
              "        buttonEl.style.display =\n",
              "          google.colab.kernel.accessAllowed ? 'block' : 'none';\n",
              "\n",
              "        async function convertToInteractive(key) {\n",
              "          const element = document.querySelector('#df-83aac78a-f63c-4ca0-9b87-442d77e0eba6');\n",
              "          const dataTable =\n",
              "            await google.colab.kernel.invokeFunction('convertToInteractive',\n",
              "                                                     [key], {});\n",
              "          if (!dataTable) return;\n",
              "\n",
              "          const docLinkHtml = 'Like what you see? Visit the ' +\n",
              "            '<a target=\"_blank\" href=https://colab.research.google.com/notebooks/data_table.ipynb>data table notebook</a>'\n",
              "            + ' to learn more about interactive tables.';\n",
              "          element.innerHTML = '';\n",
              "          dataTable['output_type'] = 'display_data';\n",
              "          await google.colab.output.renderOutput(dataTable, element);\n",
              "          const docLink = document.createElement('div');\n",
              "          docLink.innerHTML = docLinkHtml;\n",
              "          element.appendChild(docLink);\n",
              "        }\n",
              "      </script>\n",
              "    </div>\n",
              "  </div>\n",
              "  "
            ]
          },
          "metadata": {},
          "execution_count": 7
        }
      ]
    },
    {
      "cell_type": "markdown",
      "source": [
        "-이상치 처리"
      ],
      "metadata": {
        "id": "T5JrlXWPlQqJ"
      }
    },
    {
      "cell_type": "code",
      "source": [
        "diabetes_data_copy=diabetes_data.copy(deep=True)\n",
        "diabetes_data_copy[['Glucose','BloodPressure','SkinThickness','Insulin','BMI']]=diabetes_data_copy[['Glucose','BloodPressure','SkinThickness','Insulin','BMI']].replace(0,np.NaN)\n",
        "\n",
        "print(diabetes_data_copy.isnull().sum())"
      ],
      "metadata": {
        "id": "FAU2zsPm7EtW",
        "colab": {
          "base_uri": "https://localhost:8080/"
        },
        "outputId": "195bbd98-2ada-45b9-8aed-cdaa7a1921a1"
      },
      "execution_count": null,
      "outputs": [
        {
          "output_type": "stream",
          "name": "stdout",
          "text": [
            "Pregnancies                   0\n",
            "Glucose                       5\n",
            "BloodPressure                35\n",
            "SkinThickness               227\n",
            "Insulin                     374\n",
            "BMI                          11\n",
            "DiabetesPedigreeFunction      0\n",
            "Age                           0\n",
            "Outcome                       0\n",
            "dtype: int64\n"
          ]
        }
      ]
    },
    {
      "cell_type": "code",
      "source": [
        "#Nan값을 평균으로 대체\n",
        "diabetes_data_copy['Glucose'].fillna(diabetes_data_copy['Glucose'].mean(),inplace=True)\n",
        "diabetes_data_copy['Glucose'].fillna(diabetes_data_copy['Glucose'].mean(),inplace=True)"
      ],
      "metadata": {
        "id": "TeEZDkdI7EzF"
      },
      "execution_count": null,
      "outputs": []
    },
    {
      "cell_type": "code",
      "source": [
        "list1=['Glucose','BloodPressure','SkinThickness','Insulin','BMI']\n",
        "for i in list1:\n",
        "  diabetes_data_copy[i].fillna(diabetes_data_copy[i].mean(),inplace=True)"
      ],
      "metadata": {
        "id": "EHPlY7-Ykicr"
      },
      "execution_count": null,
      "outputs": []
    },
    {
      "cell_type": "code",
      "source": [
        "diabetes_data.shape"
      ],
      "metadata": {
        "colab": {
          "base_uri": "https://localhost:8080/"
        },
        "id": "Luu9XeEPm5o1",
        "outputId": "7c1cc4fb-3f5a-481a-a233-0a3a40e3ceed"
      },
      "execution_count": null,
      "outputs": [
        {
          "output_type": "execute_result",
          "data": {
            "text/plain": [
              "(768, 9)"
            ]
          },
          "metadata": {},
          "execution_count": 13
        }
      ]
    },
    {
      "cell_type": "markdown",
      "source": [
        "-Scaling the data"
      ],
      "metadata": {
        "id": "rBp6BMAYu1_u"
      }
    },
    {
      "cell_type": "code",
      "source": [
        "#정규화 z=(xi-m)/sigma\n",
        "from sklearn.preprocessing import StandardScaler\n",
        "sc_X=StandardScaler()\n",
        "X=pd.DataFrame(sc_X.fit_transform(diabetes_data_copy.drop([\"Outcome\"],axis=1),),columns=['Pregnancies','Glucose','BloodPressure','SkinThickness','Insulin','BMI','DiabetesPedigreeFunction','Age'])"
      ],
      "metadata": {
        "id": "UKCVyx8uqMFM"
      },
      "execution_count": null,
      "outputs": []
    },
    {
      "cell_type": "code",
      "source": [
        "X.head()"
      ],
      "metadata": {
        "colab": {
          "base_uri": "https://localhost:8080/",
          "height": 357
        },
        "id": "xLvPLYQrwBuQ",
        "outputId": "a554569f-cc82-4cc8-ebee-0c58c89a4989"
      },
      "execution_count": null,
      "outputs": [
        {
          "output_type": "execute_result",
          "data": {
            "text/plain": [
              "   Pregnancies   Glucose  BloodPressure  SkinThickness       Insulin  \\\n",
              "0     0.639947  0.865108      -0.033518   6.655021e-01 -3.345079e-16   \n",
              "1    -0.844885 -1.206162      -0.529859  -1.746338e-02 -3.345079e-16   \n",
              "2     1.233880  2.015813      -0.695306   8.087936e-16 -3.345079e-16   \n",
              "3    -0.844885 -1.074652      -0.529859  -7.004289e-01 -7.243887e-01   \n",
              "4    -1.141852  0.503458      -2.680669   6.655021e-01  1.465506e-01   \n",
              "\n",
              "        BMI  DiabetesPedigreeFunction       Age  \n",
              "0  0.166292                  0.468492  1.425995  \n",
              "1 -0.852531                 -0.365061 -0.190672  \n",
              "2 -1.332833                  0.604397 -0.105584  \n",
              "3 -0.634212                 -0.920763 -1.041549  \n",
              "4  1.548980                  5.484909 -0.020496  "
            ],
            "text/html": [
              "\n",
              "  <div id=\"df-b8fa4381-c04a-4bd9-8ba2-d85397c396c7\">\n",
              "    <div class=\"colab-df-container\">\n",
              "      <div>\n",
              "<style scoped>\n",
              "    .dataframe tbody tr th:only-of-type {\n",
              "        vertical-align: middle;\n",
              "    }\n",
              "\n",
              "    .dataframe tbody tr th {\n",
              "        vertical-align: top;\n",
              "    }\n",
              "\n",
              "    .dataframe thead th {\n",
              "        text-align: right;\n",
              "    }\n",
              "</style>\n",
              "<table border=\"1\" class=\"dataframe\">\n",
              "  <thead>\n",
              "    <tr style=\"text-align: right;\">\n",
              "      <th></th>\n",
              "      <th>Pregnancies</th>\n",
              "      <th>Glucose</th>\n",
              "      <th>BloodPressure</th>\n",
              "      <th>SkinThickness</th>\n",
              "      <th>Insulin</th>\n",
              "      <th>BMI</th>\n",
              "      <th>DiabetesPedigreeFunction</th>\n",
              "      <th>Age</th>\n",
              "    </tr>\n",
              "  </thead>\n",
              "  <tbody>\n",
              "    <tr>\n",
              "      <th>0</th>\n",
              "      <td>0.639947</td>\n",
              "      <td>0.865108</td>\n",
              "      <td>-0.033518</td>\n",
              "      <td>6.655021e-01</td>\n",
              "      <td>-3.345079e-16</td>\n",
              "      <td>0.166292</td>\n",
              "      <td>0.468492</td>\n",
              "      <td>1.425995</td>\n",
              "    </tr>\n",
              "    <tr>\n",
              "      <th>1</th>\n",
              "      <td>-0.844885</td>\n",
              "      <td>-1.206162</td>\n",
              "      <td>-0.529859</td>\n",
              "      <td>-1.746338e-02</td>\n",
              "      <td>-3.345079e-16</td>\n",
              "      <td>-0.852531</td>\n",
              "      <td>-0.365061</td>\n",
              "      <td>-0.190672</td>\n",
              "    </tr>\n",
              "    <tr>\n",
              "      <th>2</th>\n",
              "      <td>1.233880</td>\n",
              "      <td>2.015813</td>\n",
              "      <td>-0.695306</td>\n",
              "      <td>8.087936e-16</td>\n",
              "      <td>-3.345079e-16</td>\n",
              "      <td>-1.332833</td>\n",
              "      <td>0.604397</td>\n",
              "      <td>-0.105584</td>\n",
              "    </tr>\n",
              "    <tr>\n",
              "      <th>3</th>\n",
              "      <td>-0.844885</td>\n",
              "      <td>-1.074652</td>\n",
              "      <td>-0.529859</td>\n",
              "      <td>-7.004289e-01</td>\n",
              "      <td>-7.243887e-01</td>\n",
              "      <td>-0.634212</td>\n",
              "      <td>-0.920763</td>\n",
              "      <td>-1.041549</td>\n",
              "    </tr>\n",
              "    <tr>\n",
              "      <th>4</th>\n",
              "      <td>-1.141852</td>\n",
              "      <td>0.503458</td>\n",
              "      <td>-2.680669</td>\n",
              "      <td>6.655021e-01</td>\n",
              "      <td>1.465506e-01</td>\n",
              "      <td>1.548980</td>\n",
              "      <td>5.484909</td>\n",
              "      <td>-0.020496</td>\n",
              "    </tr>\n",
              "  </tbody>\n",
              "</table>\n",
              "</div>\n",
              "      <button class=\"colab-df-convert\" onclick=\"convertToInteractive('df-b8fa4381-c04a-4bd9-8ba2-d85397c396c7')\"\n",
              "              title=\"Convert this dataframe to an interactive table.\"\n",
              "              style=\"display:none;\">\n",
              "        \n",
              "  <svg xmlns=\"http://www.w3.org/2000/svg\" height=\"24px\"viewBox=\"0 0 24 24\"\n",
              "       width=\"24px\">\n",
              "    <path d=\"M0 0h24v24H0V0z\" fill=\"none\"/>\n",
              "    <path d=\"M18.56 5.44l.94 2.06.94-2.06 2.06-.94-2.06-.94-.94-2.06-.94 2.06-2.06.94zm-11 1L8.5 8.5l.94-2.06 2.06-.94-2.06-.94L8.5 2.5l-.94 2.06-2.06.94zm10 10l.94 2.06.94-2.06 2.06-.94-2.06-.94-.94-2.06-.94 2.06-2.06.94z\"/><path d=\"M17.41 7.96l-1.37-1.37c-.4-.4-.92-.59-1.43-.59-.52 0-1.04.2-1.43.59L10.3 9.45l-7.72 7.72c-.78.78-.78 2.05 0 2.83L4 21.41c.39.39.9.59 1.41.59.51 0 1.02-.2 1.41-.59l7.78-7.78 2.81-2.81c.8-.78.8-2.07 0-2.86zM5.41 20L4 18.59l7.72-7.72 1.47 1.35L5.41 20z\"/>\n",
              "  </svg>\n",
              "      </button>\n",
              "      \n",
              "  <style>\n",
              "    .colab-df-container {\n",
              "      display:flex;\n",
              "      flex-wrap:wrap;\n",
              "      gap: 12px;\n",
              "    }\n",
              "\n",
              "    .colab-df-convert {\n",
              "      background-color: #E8F0FE;\n",
              "      border: none;\n",
              "      border-radius: 50%;\n",
              "      cursor: pointer;\n",
              "      display: none;\n",
              "      fill: #1967D2;\n",
              "      height: 32px;\n",
              "      padding: 0 0 0 0;\n",
              "      width: 32px;\n",
              "    }\n",
              "\n",
              "    .colab-df-convert:hover {\n",
              "      background-color: #E2EBFA;\n",
              "      box-shadow: 0px 1px 2px rgba(60, 64, 67, 0.3), 0px 1px 3px 1px rgba(60, 64, 67, 0.15);\n",
              "      fill: #174EA6;\n",
              "    }\n",
              "\n",
              "    [theme=dark] .colab-df-convert {\n",
              "      background-color: #3B4455;\n",
              "      fill: #D2E3FC;\n",
              "    }\n",
              "\n",
              "    [theme=dark] .colab-df-convert:hover {\n",
              "      background-color: #434B5C;\n",
              "      box-shadow: 0px 1px 3px 1px rgba(0, 0, 0, 0.15);\n",
              "      filter: drop-shadow(0px 1px 2px rgba(0, 0, 0, 0.3));\n",
              "      fill: #FFFFFF;\n",
              "    }\n",
              "  </style>\n",
              "\n",
              "      <script>\n",
              "        const buttonEl =\n",
              "          document.querySelector('#df-b8fa4381-c04a-4bd9-8ba2-d85397c396c7 button.colab-df-convert');\n",
              "        buttonEl.style.display =\n",
              "          google.colab.kernel.accessAllowed ? 'block' : 'none';\n",
              "\n",
              "        async function convertToInteractive(key) {\n",
              "          const element = document.querySelector('#df-b8fa4381-c04a-4bd9-8ba2-d85397c396c7');\n",
              "          const dataTable =\n",
              "            await google.colab.kernel.invokeFunction('convertToInteractive',\n",
              "                                                     [key], {});\n",
              "          if (!dataTable) return;\n",
              "\n",
              "          const docLinkHtml = 'Like what you see? Visit the ' +\n",
              "            '<a target=\"_blank\" href=https://colab.research.google.com/notebooks/data_table.ipynb>data table notebook</a>'\n",
              "            + ' to learn more about interactive tables.';\n",
              "          element.innerHTML = '';\n",
              "          dataTable['output_type'] = 'display_data';\n",
              "          await google.colab.output.renderOutput(dataTable, element);\n",
              "          const docLink = document.createElement('div');\n",
              "          docLink.innerHTML = docLinkHtml;\n",
              "          element.appendChild(docLink);\n",
              "        }\n",
              "      </script>\n",
              "    </div>\n",
              "  </div>\n",
              "  "
            ]
          },
          "metadata": {},
          "execution_count": 22
        }
      ]
    },
    {
      "cell_type": "code",
      "source": [
        "y=diabetes_data_copy.Outcome"
      ],
      "metadata": {
        "id": "ON78qTgPwGEG"
      },
      "execution_count": null,
      "outputs": []
    },
    {
      "cell_type": "code",
      "source": [
        "from sklearn.model_selection import train_test_split\n",
        "X_train,X_test,y_train,y_test=train_test_split(X,y,test_size=1/3,random_state=42,stratify=y)"
      ],
      "metadata": {
        "id": "uzBvoXH-zchY"
      },
      "execution_count": null,
      "outputs": []
    },
    {
      "cell_type": "code",
      "source": [
        "from sklearn.neighbors import KNeighborsClassifier"
      ],
      "metadata": {
        "id": "wkyGMb-meLVy"
      },
      "execution_count": null,
      "outputs": []
    },
    {
      "cell_type": "code",
      "source": [
        "test_scores=[]\n",
        "train_scores=[]\n",
        "\n",
        "for i in range(1,15):\n",
        "   knn=KNeighborsClassifier(i)\n",
        "   knn.fit(X_train,y_train)\n",
        "\n",
        "   train_scores.append(knn.score(X_train,y_train))\n",
        "   test_scores.append(knn.score(X_test,y_test))"
      ],
      "metadata": {
        "id": "nXJ8VnHszcx2"
      },
      "execution_count": null,
      "outputs": []
    },
    {
      "cell_type": "code",
      "source": [
        "max_train_score=max(train_scores)\n",
        "train_scores_ind=[i for i, v in enumerate(train_scores) if v==max_train_score]\n",
        "print('Max train score {} % and k = {}'.format(max_train_score*100,list(map(lambda x: x+1, train_scores_ind))))"
      ],
      "metadata": {
        "colab": {
          "base_uri": "https://localhost:8080/"
        },
        "id": "HtBfi_EOzdC9",
        "outputId": "c85a277e-670b-49b3-ca6e-e3d24ca99105"
      },
      "execution_count": null,
      "outputs": [
        {
          "output_type": "stream",
          "name": "stdout",
          "text": [
            "Max train score 100.0 % and k = [1]\n"
          ]
        }
      ]
    },
    {
      "cell_type": "code",
      "source": [
        "max_test_score=max(test_scores)\n",
        "test_scores_ind=[i for i, v in enumerate(test_scores) if v == max_test_score]\n",
        "print('Max test score {} % and k={}'.format(max_test_score*180,list(map(lambda x: x+1, test_scores_ind))))"
      ],
      "metadata": {
        "colab": {
          "base_uri": "https://localhost:8080/"
        },
        "id": "I4OP97ldfAvI",
        "outputId": "82cf1bac-c54f-40a6-bbab-a16058303ab8"
      },
      "execution_count": null,
      "outputs": [
        {
          "output_type": "stream",
          "name": "stdout",
          "text": [
            "Max test score 137.109375 % and k=[11]\n"
          ]
        }
      ]
    },
    {
      "cell_type": "markdown",
      "source": [
        "- Result Visualisation"
      ],
      "metadata": {
        "id": "2SFwxdg8gNcE"
      }
    },
    {
      "cell_type": "code",
      "source": [
        "plt.figure(figsize=(12,5))\n",
        "p = sns.lineplot(range(1,15),train_scores,marker='*',label='Train Score')\n",
        "p = sns.lineplot(range(1,15),test_scores,marker='o',label='Test Score')"
      ],
      "metadata": {
        "colab": {
          "base_uri": "https://localhost:8080/",
          "height": 342
        },
        "id": "oxYUaVO9fAsS",
        "outputId": "a4693a3a-4e2e-435b-821f-471398a63cbe"
      },
      "execution_count": null,
      "outputs": [
        {
          "output_type": "display_data",
          "data": {
            "text/plain": [
              "<Figure size 864x360 with 1 Axes>"
            ],
            "image/png": "[encoded data removed]"
          },
          "metadata": {
            "needs_background": "light"
          }
        }
      ]
    },
    {
      "cell_type": "code",
      "source": [
        "knn = KNeighborsClassifier(11)\n",
        "\n",
        "knn.fit(X_train,y_train)\n",
        "knn.score(X_test,y_test)"
      ],
      "metadata": {
        "colab": {
          "base_uri": "https://localhost:8080/"
        },
        "id": "7x4TNW2wfAo5",
        "outputId": "3413b1ab-30a0-48b8-8e19-04fee48cd965"
      },
      "execution_count": null,
      "outputs": [
        {
          "output_type": "execute_result",
          "data": {
            "text/plain": [
              "0.76171875"
            ]
          },
          "metadata": {},
          "execution_count": 30
        }
      ]
    },
    {
      "cell_type": "code",
      "source": [
        "#decision boundary\n",
        "value = 20000\n",
        "width = 20000\n",
        "plot_decision_regions(X.values, y.values, clf=knn, legend=2, \n",
        "                      filler_feature_values={2: value, 3: value, 4: value, 5: value, 6: value, 7: value},\n",
        "                      filler_feature_ranges={2: width, 3: width, 4: width, 5: width, 6: width, 7: width},\n",
        "                      X_highlight=X_test.values)\n",
        "\n",
        "plt.title('KNN with Diabetes Data')\n",
        "plt.show()"
      ],
      "metadata": {
        "colab": {
          "base_uri": "https://localhost:8080/",
          "height": 284
        },
        "id": "cSJ2q_9mfAkv",
        "outputId": "d139f99f-29af-405c-8aa5-f1f9ffecb31d"
      },
      "execution_count": null,
      "outputs": [
        {
          "output_type": "display_data",
          "data": {
            "text/plain": [
              "<Figure size 432x288 with 1 Axes>"
            ],
            "image/png": "[encoded data removed]"
          },
          "metadata": {
            "needs_background": "light"
          }
        }
      ]
    },
    {
      "cell_type": "markdown",
      "source": [
        "## Model performance analysis\n",
        "### 1. confusion matrix\n",
        "### 2. classification report\n",
        "### 3. ROC-AUC"
      ],
      "metadata": {
        "id": "-5_-YFNc4Fzo"
      }
    },
    {
      "cell_type": "markdown",
      "source": [
        "### 1. **confusion matrix**"
      ],
      "metadata": {
        "id": "aomXiPjh93Lq"
      }
    },
    {
      "cell_type": "markdown",
      "source": [
        "- 행: 실제 클래스,\n",
        "  열: 예측한 클래스  \n",
        "  -> 실제 음성, 예측 음성 | 실제 음성, 예측 양성  \n",
        "     실제 양성, 예측 음성 | 실제 양성, 예측 양성  \n",
        " ![confuion matrix.png](data:image/png;base64,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)"
      ],
      "metadata": {
        "id": "-mTVbecSNlk3"
      }
    },
    {
      "cell_type": "markdown",
      "source": [
        "<font color=\"red\">pd.crosstab: 교차표 생성\n",
        "\n",
        "<font color=\"red\">pd.crosstab(index,columns,rownames,colnames,margins,normalize)\n",
        "\n",
        "<font color=\"red\">*margins: All index 추가 여부"
      ],
      "metadata": {
        "id": "BBHUI-j-TLQq"
      }
    },
    {
      "cell_type": "code",
      "source": [
        "from sklearn.metrics import confusion_matrix\n",
        "y_pred = knn.predict(X_test)\n",
        "confusion_matrix(y_test,y_pred)\n",
        "pd.crosstab(y_test, y_pred, rownames=['True'], colnames=['Predicted'], margins=True)"
      ],
      "metadata": {
        "colab": {
          "base_uri": "https://localhost:8080/",
          "height": 174
        },
        "id": "EwJ4ZcqyfAdB",
        "outputId": "3c9fff13-e820-4e3d-f6da-5898a5569480"
      },
      "execution_count": null,
      "outputs": [
        {
          "output_type": "execute_result",
          "data": {
            "text/plain": [
              "Predicted    0   1  All\n",
              "True                   \n",
              "0          143  24  167\n",
              "1           37  52   89\n",
              "All        180  76  256"
            ],
            "text/html": [
              "\n",
              "  <div id=\"df-32ff4486-e963-466f-9371-af90a387d425\">\n",
              "    <div class=\"colab-df-container\">\n",
              "      <div>\n",
              "<style scoped>\n",
              "    .dataframe tbody tr th:only-of-type {\n",
              "        vertical-align: middle;\n",
              "    }\n",
              "\n",
              "    .dataframe tbody tr th {\n",
              "        vertical-align: top;\n",
              "    }\n",
              "\n",
              "    .dataframe thead th {\n",
              "        text-align: right;\n",
              "    }\n",
              "</style>\n",
              "<table border=\"1\" class=\"dataframe\">\n",
              "  <thead>\n",
              "    <tr style=\"text-align: right;\">\n",
              "      <th>Predicted</th>\n",
              "      <th>0</th>\n",
              "      <th>1</th>\n",
              "      <th>All</th>\n",
              "    </tr>\n",
              "    <tr>\n",
              "      <th>True</th>\n",
              "      <th></th>\n",
              "      <th></th>\n",
              "      <th></th>\n",
              "    </tr>\n",
              "  </thead>\n",
              "  <tbody>\n",
              "    <tr>\n",
              "      <th>0</th>\n",
              "      <td>143</td>\n",
              "      <td>24</td>\n",
              "      <td>167</td>\n",
              "    </tr>\n",
              "    <tr>\n",
              "      <th>1</th>\n",
              "      <td>37</td>\n",
              "      <td>52</td>\n",
              "      <td>89</td>\n",
              "    </tr>\n",
              "    <tr>\n",
              "      <th>All</th>\n",
              "      <td>180</td>\n",
              "      <td>76</td>\n",
              "      <td>256</td>\n",
              "    </tr>\n",
              "  </tbody>\n",
              "</table>\n",
              "</div>\n",
              "      <button class=\"colab-df-convert\" onclick=\"convertToInteractive('df-32ff4486-e963-466f-9371-af90a387d425')\"\n",
              "              title=\"Convert this dataframe to an interactive table.\"\n",
              "              style=\"display:none;\">\n",
              "        \n",
              "  <svg xmlns=\"http://www.w3.org/2000/svg\" height=\"24px\"viewBox=\"0 0 24 24\"\n",
              "       width=\"24px\">\n",
              "    <path d=\"M0 0h24v24H0V0z\" fill=\"none\"/>\n",
              "    <path d=\"M18.56 5.44l.94 2.06.94-2.06 2.06-.94-2.06-.94-.94-2.06-.94 2.06-2.06.94zm-11 1L8.5 8.5l.94-2.06 2.06-.94-2.06-.94L8.5 2.5l-.94 2.06-2.06.94zm10 10l.94 2.06.94-2.06 2.06-.94-2.06-.94-.94-2.06-.94 2.06-2.06.94z\"/><path d=\"M17.41 7.96l-1.37-1.37c-.4-.4-.92-.59-1.43-.59-.52 0-1.04.2-1.43.59L10.3 9.45l-7.72 7.72c-.78.78-.78 2.05 0 2.83L4 21.41c.39.39.9.59 1.41.59.51 0 1.02-.2 1.41-.59l7.78-7.78 2.81-2.81c.8-.78.8-2.07 0-2.86zM5.41 20L4 18.59l7.72-7.72 1.47 1.35L5.41 20z\"/>\n",
              "  </svg>\n",
              "      </button>\n",
              "      \n",
              "  <style>\n",
              "    .colab-df-container {\n",
              "      display:flex;\n",
              "      flex-wrap:wrap;\n",
              "      gap: 12px;\n",
              "    }\n",
              "\n",
              "    .colab-df-convert {\n",
              "      background-color: #E8F0FE;\n",
              "      border: none;\n",
              "      border-radius: 50%;\n",
              "      cursor: pointer;\n",
              "      display: none;\n",
              "      fill: #1967D2;\n",
              "      height: 32px;\n",
              "      padding: 0 0 0 0;\n",
              "      width: 32px;\n",
              "    }\n",
              "\n",
              "    .colab-df-convert:hover {\n",
              "      background-color: #E2EBFA;\n",
              "      box-shadow: 0px 1px 2px rgba(60, 64, 67, 0.3), 0px 1px 3px 1px rgba(60, 64, 67, 0.15);\n",
              "      fill: #174EA6;\n",
              "    }\n",
              "\n",
              "    [theme=dark] .colab-df-convert {\n",
              "      background-color: #3B4455;\n",
              "      fill: #D2E3FC;\n",
              "    }\n",
              "\n",
              "    [theme=dark] .colab-df-convert:hover {\n",
              "      background-color: #434B5C;\n",
              "      box-shadow: 0px 1px 3px 1px rgba(0, 0, 0, 0.15);\n",
              "      filter: drop-shadow(0px 1px 2px rgba(0, 0, 0, 0.3));\n",
              "      fill: #FFFFFF;\n",
              "    }\n",
              "  </style>\n",
              "\n",
              "      <script>\n",
              "        const buttonEl =\n",
              "          document.querySelector('#df-32ff4486-e963-466f-9371-af90a387d425 button.colab-df-convert');\n",
              "        buttonEl.style.display =\n",
              "          google.colab.kernel.accessAllowed ? 'block' : 'none';\n",
              "\n",
              "        async function convertToInteractive(key) {\n",
              "          const element = document.querySelector('#df-32ff4486-e963-466f-9371-af90a387d425');\n",
              "          const dataTable =\n",
              "            await google.colab.kernel.invokeFunction('convertToInteractive',\n",
              "                                                     [key], {});\n",
              "          if (!dataTable) return;\n",
              "\n",
              "          const docLinkHtml = 'Like what you see? Visit the ' +\n",
              "            '<a target=\"_blank\" href=https://colab.research.google.com/notebooks/data_table.ipynb>data table notebook</a>'\n",
              "            + ' to learn more about interactive tables.';\n",
              "          element.innerHTML = '';\n",
              "          dataTable['output_type'] = 'display_data';\n",
              "          await google.colab.output.renderOutput(dataTable, element);\n",
              "          const docLink = document.createElement('div');\n",
              "          docLink.innerHTML = docLinkHtml;\n",
              "          element.appendChild(docLink);\n",
              "        }\n",
              "      </script>\n",
              "    </div>\n",
              "  </div>\n",
              "  "
            ]
          },
          "metadata": {},
          "execution_count": 32
        }
      ]
    },
    {
      "cell_type": "markdown",
      "source": [
        "<font color=\"red\">sns.heatmap: 시각화\n",
        "\n",
        "<font color=\"red\"> *annot=True: 수치 표시\n",
        "\n",
        "<font color=\"red\"> *cmap: 색상변경\n",
        "\n",
        "<font color=\"red\"> *fmt: 숫자표시"
      ],
      "metadata": {
        "id": "zBr-9AhmUn-f"
      }
    },
    {
      "cell_type": "code",
      "source": [
        "y_pred = knn.predict(X_test)\n",
        "from sklearn import metrics\n",
        "cnf_matrix = metrics.confusion_matrix(y_test, y_pred)\n",
        "p = sns.heatmap(pd.DataFrame(cnf_matrix), annot=True, cmap=\"YlGnBu\" ,fmt='g')\n",
        "plt.title('Confusion matrix', y=1.1)\n",
        "plt.ylabel('Actual label')\n",
        "plt.xlabel('Predicted label')"
      ],
      "metadata": {
        "colab": {
          "base_uri": "https://localhost:8080/",
          "height": 319
        },
        "id": "0vB1o6hz4l60",
        "outputId": "6aa7c964-5933-4564-81d3-fea1ad7f55ec"
      },
      "execution_count": null,
      "outputs": [
        {
          "output_type": "execute_result",
          "data": {
            "text/plain": [
              "Text(0.5, 12.5, 'Predicted label')"
            ]
          },
          "metadata": {},
          "execution_count": 33
        },
        {
          "output_type": "display_data",
          "data": {
            "text/plain": [
              "<Figure size 432x288 with 2 Axes>"
            ],
            "image/png": "[encoded data removed]"
          },
          "metadata": {
            "needs_background": "light"
          }
        }
      ]
    },
    {
      "cell_type": "markdown",
      "source": [
        "### 2. **Classification Report**\n",
        "- 정밀도(양성 예측의 정확도) =TP/(TP+FP)\n",
        "- 재현율(분류기가 정확하게 예측한 양성 샘플의 비율) =TP/(TP+FN)\n",
        "- F1 점수(정밀도와 재현율의 가중 조화 평균) =2 x (precision x recall)/(precision + recall)\n",
        "\n",
        "*정밀도와 재현율이 비슷한 분류기에서 F1점수가 높지만, 항상 바람직한 것은 아님 \n",
        "\n",
        "상황에 따라 정밀도 또는 재현율이 중요할 수 있음"
      ],
      "metadata": {
        "id": "WrIzq7W7PIKB"
      }
    },
    {
      "cell_type": "markdown",
      "source": [
        "<font color=\"red\"> *support: 실제 샘플 개수"
      ],
      "metadata": {
        "id": "bXGEIXhSAmk8"
      }
    },
    {
      "cell_type": "code",
      "source": [
        "from sklearn.metrics import classification_report\n",
        "print(classification_report(y_test,y_pred))"
      ],
      "metadata": {
        "colab": {
          "base_uri": "https://localhost:8080/"
        },
        "id": "d3jHoEU_4tof",
        "outputId": "e12c6916-6826-44f2-c018-480077a263d4"
      },
      "execution_count": null,
      "outputs": [
        {
          "output_type": "stream",
          "name": "stdout",
          "text": [
            "              precision    recall  f1-score   support\n",
            "\n",
            "           0       0.79      0.86      0.82       167\n",
            "           1       0.68      0.58      0.63        89\n",
            "\n",
            "    accuracy                           0.76       256\n",
            "   macro avg       0.74      0.72      0.73       256\n",
            "weighted avg       0.76      0.76      0.76       256\n",
            "\n"
          ]
        }
      ]
    },
    {
      "cell_type": "markdown",
      "source": [
        "### 3. **ROC-AUC**\n",
        "- ROC(Receiver Operation Characterisitc Curve) 곡선\n",
        "  - 거짓 양성 비율에 대한 진짜 양성 비율의 곡선\n",
        " - 1-특이도(진짜 음성 비율)\n",
        "  - 좋은 분류기는 점선에서 최대한 멀리 떨어져 있어야 함\n",
        "  - 양성클래스가 드물거나 거짓양성이 더 중요할 때: PR(정밀도/재현율)곡선 사용, 그렇지 않으면 ROC곡선 사용\n",
        "\n",
        "- AUC(Area Under Curve) 스코어\n",
        "  - ROC 곡선 밑의 면적을 구한 값\n",
        "  - 1에 가까울수록 성능이 좋음\n",
        "\n"
      ],
      "metadata": {
        "id": "BwfsfWUb4_iR"
      }
    },
    {
      "cell_type": "code",
      "source": [
        "from sklearn.metrics import roc_curve\n",
        "y_pred_proba = knn.predict_proba(X_test)[:,1]\n",
        "fpr, tpr, thresholds = roc_curve(y_test, y_pred_proba)"
      ],
      "metadata": {
        "id": "mBp7LDSY4tkb"
      },
      "execution_count": null,
      "outputs": []
    },
    {
      "cell_type": "code",
      "source": [
        "plt.plot([0,1],[0,1],'k--')\n",
        "plt.plot(fpr,tpr, label='Knn')\n",
        "plt.xlabel('fpr')\n",
        "plt.ylabel('tpr')\n",
        "plt.title('Knn(n_neighbors=11) ROC curve')\n",
        "plt.show()"
      ],
      "metadata": {
        "colab": {
          "base_uri": "https://localhost:8080/",
          "height": 301
        },
        "id": "N9iILeap4tXX",
        "outputId": "b5404783-0afc-42b5-a5c8-4606a959bc15"
      },
      "execution_count": null,
      "outputs": [
        {
          "output_type": "display_data",
          "data": {
            "text/plain": [
              "<Figure size 432x288 with 1 Axes>"
            ],
            "image/png": "[encoded data removed]"
          },
          "metadata": {
            "needs_background": "light"
          }
        }
      ]
    },
    {
      "cell_type": "code",
      "source": [
        "from sklearn.metrics import roc_auc_score\n",
        "roc_auc_score(y_test,y_pred_proba)"
      ],
      "metadata": {
        "colab": {
          "base_uri": "https://localhost:8080/"
        },
        "id": "WqNTSKkz5Kaz",
        "outputId": "980dafa6-d005-40d5-9a8d-9243d6d1fe14"
      },
      "execution_count": null,
      "outputs": [
        {
          "output_type": "execute_result",
          "data": {
            "text/plain": [
              "0.8072730942609163"
            ]
          },
          "metadata": {},
          "execution_count": 37
        }
      ]
    },
    {
      "cell_type": "markdown",
      "source": [
        "## **Hyper parameter optimization**\n",
        "- grid search: 최적의 하이퍼파라미터 찾기 위한 방법\n",
        "- KNN(K-Nearest Neighbors)\n",
        "  - K(n_neighbors)개의 이웃으로 분류"
      ],
      "metadata": {
        "id": "B_iT62aa5LIJ"
      }
    },
    {
      "cell_type": "markdown",
      "source": [
        "<font color=\"red\"> GridSearchCV(estimator,param_grid,scoring,cv,refit=True)\n",
        "\n",
        "<font color=\"red\"> *estimator: classifier, regressor 등\n",
        "\n",
        "<font color=\"red\"> *param_grid: 파라미터명+파라미터 값 조합의 딕셔너리\n",
        "\n",
        "<font color=\"red\"> *scoring: 평가방법\n",
        "\n",
        "<font color=\"red\"> *cv: 교차 검증 폴드 수\n",
        "\n",
        "\n",
        "<font color=\"red\"> *refit: 최적의 하이퍼파라미터를 찾은 뒤 estimator 객체를 해당 파라미터로 재학습"
      ],
      "metadata": {
        "id": "8EqHvn0yxdXu"
      }
    },
    {
      "cell_type": "code",
      "source": [
        "from sklearn.model_selection import GridSearchCV\n",
        "param_grid = {'n_neighbors':np.arange(1,50)}\n",
        "knn = KNeighborsClassifier()\n",
        "knn_cv= GridSearchCV(knn,param_grid,cv=5)\n",
        "knn_cv.fit(X,y)\n",
        "\n",
        "print(\"Best Score:\" + str(knn_cv.best_score_))\n",
        "print(\"Best Parameters: \" + str(knn_cv.best_params_))"
      ],
      "metadata": {
        "colab": {
          "base_uri": "https://localhost:8080/"
        },
        "id": "oaZLWEed6OVg",
        "outputId": "5017a9a4-693e-436e-efe0-ea37e189d268"
      },
      "execution_count": null,
      "outputs": [
        {
          "output_type": "stream",
          "name": "stdout",
          "text": [
            "Best Score:0.7748068924539513\n",
            "Best Parameters: {'n_neighbors': 25}\n"
          ]
        }
      ]
    }
  ]
}