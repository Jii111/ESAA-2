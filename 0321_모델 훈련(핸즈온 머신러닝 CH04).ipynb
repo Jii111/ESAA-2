{
  "nbformat": 4,
  "nbformat_minor": 0,
  "metadata": {
    "colab": {
      "name": "Untitled5.ipynb",
      "provenance": [],
      "authorship_tag": "ABX9TyMkqWNSOJpc3d9w2gH0ZGJD",
      "include_colab_link": true
    },
    "kernelspec": {
      "name": "python3",
      "display_name": "Python 3"
    },
    "language_info": {
      "name": "python"
    }
  },
  "cells": [
    {
      "cell_type": "markdown",
      "metadata": {
        "id": "view-in-github",
        "colab_type": "text"
      },
      "source": [
        "<a href=\"https://colab.research.google.com/github/Jii111/ESAA-2/blob/main/2%EC%A3%BC%EC%B0%A8%20%EA%B8%88%20%EA%B3%BC%EC%A0%9C_4%EC%9E%A5%20%EB%AA%A8%EB%8D%B8%20%ED%9B%88%EB%A0%A8.ipynb\" target=\"_parent\"><img src=\"https://colab.research.google.com/assets/colab-badge.svg\" alt=\"Open In Colab\"/></a>"
      ]
    },
    {
      "cell_type": "markdown",
      "source": [
        "# CH04. 모델훈련"
      ],
      "metadata": {
        "id": "h8B7DRJb0a09"
      }
    },
    {
      "cell_type": "markdown",
      "source": [
        "**선형모델** 훈련\n",
        "\n",
        "-직접 계산할 수 있는 공식을 사용해 훈련 세트에 가장 잘맞는 모델 파라미터(훈련 세트에 대해 비용 함수를 최소화하는) 구하기\n",
        "\n",
        "-경사하강법 이용해 반복적인 최적화 방식 사용하여 비용 함수를 훈련 세트에 대해 최소화  "
      ],
      "metadata": {
        "id": "VcIT75lH2ztu"
      }
    },
    {
      "cell_type": "markdown",
      "source": [
        "**다항 회귀 모델** 훈련\n",
        "\n",
        "-파라미터가 많아 과대적합되기 쉬움\n",
        "\n",
        "-학습 곡선을 사용해 모델이 과대적합되는지 감시하는 방법\n",
        "\n",
        "-과대적합 감소시킬 수 있는 규제 기법\n",
        "\n",
        "-로지스틱 회귀/소프트맥스 회귀"
      ],
      "metadata": {
        "id": "vnPp-wRn6chd"
      }
    },
    {
      "cell_type": "markdown",
      "source": [
        "**선형 회귀**\n",
        "\n",
        "-일반적으로 선형 모델은 입력 특성의 가중치 합과 편향(절편) 상수를 더해 예측\n",
        "(식 추가)\n",
        "-'모델을 훈련시킨다'=모델이 훈련세트에 잘 맞도록 파라미터 설정\n",
        " -> 평균 제곱근 오차(RMSE) 또는 평균 제곱 오차(MSE)를 최소화하는 값 찾기"
      ],
      "metadata": {
        "id": "VDH_sIE14oxe"
      }
    },
    {
      "cell_type": "code",
      "source": [
        ""
      ],
      "metadata": {
        "id": "eEDmlkx40fH6"
      },
      "execution_count": null,
      "outputs": []
    },
    {
      "cell_type": "markdown",
      "source": [
        "## 4.1.1 정규 방정식\n",
        "\n",
        "-비용함수를 최소화하는 θ값을 찾기 위한 공식"
      ],
      "metadata": {
        "id": "pJv_vd1X6ejY"
      }
    },
    {
      "cell_type": "code",
      "source": [
        "import numpy as np\n",
        "X=2*np.random.rand(100,1)\n",
        "y=4+3*X+np.random.randn(100,1)"
      ],
      "metadata": {
        "id": "4EV4UszS7BFY"
      },
      "execution_count": 1,
      "outputs": []
    },
    {
      "cell_type": "code",
      "source": [
        "X_b=np.c_[np.ones((100,1)),X]\n",
        "theta_best=np.linalg.inv(X_b.T.dot(X_b)).dot(X_b.T).dot(y)"
      ],
      "metadata": {
        "id": "lwVrxwCG8Yrb"
      },
      "execution_count": 4,
      "outputs": []
    },
    {
      "cell_type": "code",
      "source": [
        "theta_best"
      ],
      "metadata": {
        "colab": {
          "base_uri": "https://localhost:8080/"
        },
        "id": "mW7-_lsC8nvJ",
        "outputId": "c6609480-a9df-4c48-a140-22a5cb9f4c86"
      },
      "execution_count": 6,
      "outputs": [
        {
          "output_type": "execute_result",
          "data": {
            "text/plain": [
              "array([[3.8832238 ],\n",
              "       [3.16614803]])"
            ]
          },
          "metadata": {},
          "execution_count": 6
        }
      ]
    },
    {
      "cell_type": "code",
      "source": [
        "X_new=np.array([[0],[2]])\n",
        "X_new_b=np.c_[np.ones((2,1)),X_new]\n",
        "y_predict=X_new_b.dot(theta_best)\n",
        "y_predict"
      ],
      "metadata": {
        "colab": {
          "base_uri": "https://localhost:8080/"
        },
        "id": "gvX5eWll8xTh",
        "outputId": "145be160-95cd-4e1f-cd7a-398f8aa07ec1"
      },
      "execution_count": 7,
      "outputs": [
        {
          "output_type": "execute_result",
          "data": {
            "text/plain": [
              "array([[ 3.8832238 ],\n",
              "       [10.21551987]])"
            ]
          },
          "metadata": {},
          "execution_count": 7
        }
      ]
    },
    {
      "cell_type": "code",
      "source": [
        "import matplotlib.pyplot as plt\n",
        "\n",
        "plt.plot(X_new,y_predict,\"r-\")\n",
        "plt.plot(X,y,\"b.\")\n",
        "plt.axis([0,2,0,15])\n",
        "plt.show()"
      ],
      "metadata": {
        "colab": {
          "base_uri": "https://localhost:8080/",
          "height": 265
        },
        "id": "kPVYIu619OSw",
        "outputId": "d254842c-edde-43fc-d3b0-52d5bf3e3774"
      },
      "execution_count": 12,
      "outputs": [
        {
          "output_type": "display_data",
          "data": {
            "text/plain": [
              "<Figure size 432x288 with 1 Axes>"
            ],
            "image/png": "[encoded data removed]"
          },
          "metadata": {
            "needs_background": "light"
          }
        }
      ]
    },
    {
      "cell_type": "code",
      "source": [
        "from sklearn.linear_model import LinearRegression\n",
        "lin_reg=LinearRegression()\n",
        "lin_reg.fit(X,y)\n",
        "lin_reg.intercept_,lin_reg.coef_\n",
        "lin_reg.predict(X_new)"
      ],
      "metadata": {
        "colab": {
          "base_uri": "https://localhost:8080/"
        },
        "id": "ZY-UXtDx9lVR",
        "outputId": "ac6a06de-f2ab-453b-85b5-928fa088d707"
      },
      "execution_count": 15,
      "outputs": [
        {
          "output_type": "execute_result",
          "data": {
            "text/plain": [
              "array([[ 3.8832238 ],\n",
              "       [10.21551987]])"
            ]
          },
          "metadata": {},
          "execution_count": 15
        }
      ]
    },
    {
      "cell_type": "code",
      "source": [
        "#lstsq: leat squares\n",
        "theta_best_svd,residuals,rank,s=np.linalg.lstsq(X_b,y,rcond=1e-6)\n",
        "theta_best_svd"
      ],
      "metadata": {
        "colab": {
          "base_uri": "https://localhost:8080/"
        },
        "id": "VLsA2mRK-JRJ",
        "outputId": "0b182005-5758-4072-f078-94e38a5a3c75"
      },
      "execution_count": 16,
      "outputs": [
        {
          "output_type": "execute_result",
          "data": {
            "text/plain": [
              "array([[3.8832238 ],\n",
              "       [3.16614803]])"
            ]
          },
          "metadata": {},
          "execution_count": 16
        }
      ]
    },
    {
      "cell_type": "code",
      "source": [
        "np.linalg.pinv(X_b).dot(y)"
      ],
      "metadata": {
        "colab": {
          "base_uri": "https://localhost:8080/"
        },
        "id": "xvO2R7-S-ITd",
        "outputId": "5b4e014a-ec97-4674-9b55-02a6f3802b65"
      },
      "execution_count": 17,
      "outputs": [
        {
          "output_type": "execute_result",
          "data": {
            "text/plain": [
              "array([[3.8832238 ],\n",
              "       [3.16614803]])"
            ]
          },
          "metadata": {},
          "execution_count": 17
        }
      ]
    },
    {
      "cell_type": "markdown",
      "source": [
        "**유사역행렬**\n",
        "\n",
        "-특잇값 분해(SVD)라 부르는 표준 행렬 분해 기법 사용해 계산\n",
        "\n",
        "-정규 방정식보다 훨씬 효율적\n",
        "\n",
        "-역행렬이 없다면 정규방정식이 작동하지 않지만, 유사역행렬은 항상 구할 수 있음"
      ],
      "metadata": {
        "id": "cVQ5BHg6-6dx"
      }
    },
    {
      "cell_type": "markdown",
      "source": [
        "## 4.1.2 계산 복잡도\n",
        "\n",
        "-예측 계산 복잡도는 샘플 수와 특성 수에 선형적"
      ],
      "metadata": {
        "id": "el90rZwn_9VK"
      }
    },
    {
      "cell_type": "markdown",
      "source": [
        "## **4.2 경사 하강법**\n",
        "\n",
        "-여러 종류의 문제에서 최적의 해법을 찾을 수 있는 일반적인 최적화 알고리즘\n",
        "\n",
        "-기본 아이디어: 비용 함수를 최소화하기 위해 반복해서 파라미터를 조정해가는 것\n",
        "\n",
        "-파라미터 벡터 θ(임의의 값으로 시작;random initialization)에 대해 비용 함수의 현재 GRDADIENT 계산 > GRADIENT가 감소하는 반향으로 진행 > GRADIENT가 0이 되면 최솟값에 도달\n",
        "\n",
        "-학습률: 스텝의 크기, 경사 하강법에서 중요한 파라미터\n",
        "\n",
        "-문제점: 전역 최솟값보다 지역 최솟값 선택\n",
        " ; 선형회귀를 위한 MSE함수는 곡선에서 어떤 두 점을 선택해 선을 그어도 곡선을 가로지르지 않는 볼록함수 > 경사 하강법이 전역 최솟값에 가깝게 접근할 수 있다는 것 보장\n",
        "\n",
        " -경사하강법을 사용할 때에는 반드시 모든 특성이 같은 스케일을 갖도록 해야함(사이킷런의 StandardScaler)                                                          "
      ],
      "metadata": {
        "id": "TNwV3Kq5ATcX"
      }
    },
    {
      "cell_type": "markdown",
      "source": [
        "## 4.2.1 배치 경사 하강법\n",
        "\n",
        "-편도함수: θ가 조금 변경될 때 비용 함수가 얼마나 바뀌는지 계산\n",
        "\n",
        "-적절한 학습률을 찾으려면 그리드 탐색 사용\n",
        "\n",
        "-그리드 탐색에서 수렴하는데 너무 오래 걸리는 모델을 막기 위해 반복횟수를 제한해야 함\n",
        "\n",
        "-반복함수\n",
        "  -너무 작으면 최적점에 도달하기 전에 알고리즘 멈춤\n",
        "  -너무 크면 파라미터가 변하지 않는 동안 시간 낭비\n",
        "  -반복 횟수를 아주 크게 지정하고, GRADIENT 벡터가 아주 작아지면(멕터의 노름이 허용오차보다 작아지면) 알고리즘 중지\n",
        "\n",
        "-가장 큰 문제점: 매 스텝에서 전체 훈련 세트를 사용해 GRADIENT를 계산해야 한다는 것"
      ],
      "metadata": {
        "id": "QhkozULZIDOa"
      }
    },
    {
      "cell_type": "code",
      "source": [
        "eta=0.1\n",
        "n_iterations=1000\n",
        "m=100\n",
        "\n",
        "theta=np.random.randn(2,1)\n",
        "\n",
        "for iteration in range(n_iterations):\n",
        "  gradients=2/m*X_b.T.dot(X_b.dot(theta)-y)\n",
        "  theta=theta-eta*gradients"
      ],
      "metadata": {
        "id": "LFvZDGIu-IQ7"
      },
      "execution_count": 18,
      "outputs": []
    },
    {
      "cell_type": "code",
      "source": [
        "theta"
      ],
      "metadata": {
        "colab": {
          "base_uri": "https://localhost:8080/"
        },
        "id": "XRzEmsW0-IOh",
        "outputId": "31c3fc96-ab16-4a47-8272-c8f41ea16fed"
      },
      "execution_count": 19,
      "outputs": [
        {
          "output_type": "execute_result",
          "data": {
            "text/plain": [
              "array([[3.8832238 ],\n",
              "       [3.16614803]])"
            ]
          },
          "metadata": {},
          "execution_count": 19
        }
      ]
    },
    {
      "cell_type": "markdown",
      "source": [
        "## 4.2.2 확률적 경사 하강법\n",
        "\n",
        "-매 스텝에서 1개의 샘플을 무작위로 선택하고 그 하나의 샘플에 대한 그레이디언트 계산\n",
        "\n",
        "-매 반복에서 다뤄야 할 데이터가 매우 적기 때문에 한 번에 하나의 샘플을 처리하면 알고리즘이 훨씬 빠름&매우 큰 훈련 세트도 훈련 가능\n",
        "\n",
        "-확률적이기 때문에 배치 경사 하강법보다 훨씬 불안정(위아래로 요동치면서 평균적으로 감소)\n",
        "\n",
        "-비용함수가 불규칙할 경우, 알고리즘이 지역 최솟값을 건너뛸 수 있도록 도와주므로 확률적 경사 하강법이 배치 경사 하강법보다 전역 최솟값을 찾을 가능성 높\n",
        "\n",
        "-학습률 점진적으로 감소\n",
        "  -담금질 기법 알고리즘과 유사\n",
        "  -학습률이 너무 빨리 줄어들면 지역 최솟값에 갇히거나 최솟값까지 가는 중간에 멈춰버릴 수 있음\n",
        "  -학습률이 너무 천천히 줄어들면 오랫동안 최솟값 주변을 맴돌거나 훈련을 너무 일찍 중지해서 지역 최솟값에 머무를 수 있음\n",
        "\n",
        "\n",
        "-사이킷런의 SGDClassifier: 에포크마다 알고리즘이 모든 샘플을 사용하게 하기 위해 훈련 세트를 섞은 후 차례대로 하나씩 선택하고, 다음 에포크에서 다시 섞는 식의 방법"
      ],
      "metadata": {
        "id": "qYFka5CpK6b9"
      }
    },
    {
      "cell_type": "code",
      "source": [
        "import numpy as np\n",
        "\n",
        "n_epochs=50\n",
        "t0,t1=5,50\n",
        "def learning_schedule(t):\n",
        "  return t0/(t+t1)\n",
        "\n",
        "theta=np.random.randn(2,1)\n",
        "\n",
        "for epoch in range(n_epochs):\n",
        "  for i in range(m):\n",
        "    random_index=np.random.randint(m)\n",
        "    xi=X_b[random_index:random_index+1]\n",
        "    yi=y[random_index:random_index+1]\n",
        "    gradients=2*xi.T.dot(xi.dot(theta)-yi)\n",
        "    eta=learning_schedule(epoch*m+i)\n",
        "    theta=theta-eta*gradients"
      ],
      "metadata": {
        "id": "8l0IgZ2z-IMY"
      },
      "execution_count": 22,
      "outputs": []
    },
    {
      "cell_type": "code",
      "source": [
        "theta"
      ],
      "metadata": {
        "colab": {
          "base_uri": "https://localhost:8080/"
        },
        "id": "USqsq_e2-IJX",
        "outputId": "353492c2-513c-4051-ca32-d1e9b9d277f4"
      },
      "execution_count": 23,
      "outputs": [
        {
          "output_type": "execute_result",
          "data": {
            "text/plain": [
              "array([[3.85491602],\n",
              "       [3.13056355]])"
            ]
          },
          "metadata": {},
          "execution_count": 23
        }
      ]
    },
    {
      "cell_type": "code",
      "source": [
        "from sklearn.linear_model import SGDRegressor\n",
        "sgd_reg=SGDRegressor(max_iter=1000,tol=1e-3,penalty=None,eta0=0.1)\n",
        "sgd_reg.fit(X,y.ravel())"
      ],
      "metadata": {
        "colab": {
          "base_uri": "https://localhost:8080/"
        },
        "id": "Z9D4w1Wn-IHA",
        "outputId": "af4e9385-6587-4c40-a878-4ceea5620608"
      },
      "execution_count": 24,
      "outputs": [
        {
          "output_type": "execute_result",
          "data": {
            "text/plain": [
              "SGDRegressor(eta0=0.1, penalty=None)"
            ]
          },
          "metadata": {},
          "execution_count": 24
        }
      ]
    },
    {
      "cell_type": "code",
      "source": [
        "sgd_reg.intercept_,sgd_reg.coef_"
      ],
      "metadata": {
        "colab": {
          "base_uri": "https://localhost:8080/"
        },
        "id": "76B5hPmF-IEK",
        "outputId": "f8d57828-7799-40ac-8e7b-5f889eb9c574"
      },
      "execution_count": 25,
      "outputs": [
        {
          "output_type": "execute_result",
          "data": {
            "text/plain": [
              "(array([3.90300773]), array([3.15999081]))"
            ]
          },
          "metadata": {},
          "execution_count": 25
        }
      ]
    },
    {
      "cell_type": "markdown",
      "source": [
        "## 4.2.3 미니배치 경사 하강법\n",
        "\n",
        "-미니 배치라 부르는 임의의 작은 샘플 세트에 대해 그레이디언트 계산\n",
        "\n",
        "-장점: 행렬 연산에 최적화된 하드웨어, GPU를 사용해서 얻는 성능 향상\n",
        "\n",
        "-미니배치를 어느정도 크게 하면, 파라미터 공간에서 sgd보다 덜 불규칙하게 움직임"
      ],
      "metadata": {
        "id": "UbmkjU_qRYbj"
      }
    },
    {
      "cell_type": "markdown",
      "source": [
        "## **4.3 다항 회귀**\n",
        "\n",
        "-비선형 데이터를 학습하는데 선형 모델 사용 가능\n",
        "\n",
        "-각 특성의 거듭제곱을 새로운 특성으로 추가, 확장된 특성을 포함한 데이터셋에 선형 모델을 훈련시키는 것\n",
        "\n"
      ],
      "metadata": {
        "id": "7U89sSgDSCEC"
      }
    },
    {
      "cell_type": "code",
      "source": [
        "m=100\n",
        "X=6*np.random.rand(m,1)-3\n",
        "y=0.5*X**2+X+2+np.random.randn(m,1)"
      ],
      "metadata": {
        "id": "2Hi8-JpO-IBN"
      },
      "execution_count": 26,
      "outputs": []
    },
    {
      "cell_type": "code",
      "source": [
        "from sklearn.preprocessing import PolynomialFeatures\n",
        "poly_features=PolynomialFeatures(degree=2,include_bias=False)\n",
        "X_poly=poly_features.fit_transform(X)\n",
        "X[0]"
      ],
      "metadata": {
        "colab": {
          "base_uri": "https://localhost:8080/"
        },
        "id": "-x8mRCfm-H8e",
        "outputId": "f535a481-6582-4aeb-dbfe-663a938e0570"
      },
      "execution_count": 28,
      "outputs": [
        {
          "output_type": "execute_result",
          "data": {
            "text/plain": [
              "array([-2.22190266])"
            ]
          },
          "metadata": {},
          "execution_count": 28
        }
      ]
    },
    {
      "cell_type": "code",
      "source": [
        "X_poly[0]"
      ],
      "metadata": {
        "colab": {
          "base_uri": "https://localhost:8080/"
        },
        "id": "-I2RFbBP-H5o",
        "outputId": "7b5c8f1a-365d-45e7-e031-581e5a70e721"
      },
      "execution_count": 29,
      "outputs": [
        {
          "output_type": "execute_result",
          "data": {
            "text/plain": [
              "array([-2.22190266,  4.93685142])"
            ]
          },
          "metadata": {},
          "execution_count": 29
        }
      ]
    },
    {
      "cell_type": "code",
      "source": [
        "lin_reg=LinearRegression()\n",
        "lin_reg.fit(X_poly,y)\n",
        "lin_reg.intercept_,lin_reg.coef_"
      ],
      "metadata": {
        "colab": {
          "base_uri": "https://localhost:8080/"
        },
        "id": "iGK44yqR-HyH",
        "outputId": "17ca7934-5e89-440f-8c81-4b90bc72a5a5"
      },
      "execution_count": 30,
      "outputs": [
        {
          "output_type": "execute_result",
          "data": {
            "text/plain": [
              "(array([1.81926855]), array([[1.00782783, 0.51448315]]))"
            ]
          },
          "metadata": {},
          "execution_count": 30
        }
      ]
    },
    {
      "cell_type": "markdown",
      "source": [
        "## **4.4 학습 곡선**\n",
        "\n",
        "-교차검증->과대적합/과소적합 확인 가능\n",
        "-학습곡선: 훈련 세트와 검증 세트의 모델 성능을 훈련 세트 크기의 함수로 나타냄\n",
        "  -이 그래프를 생성하기 위해 단순히 훈련 세트에서 크기가 다른 서브 세트를 만들어 모델을 여러번 훈련시키면 됨\n",
        "\n",
        "**편향/분산 트레이드오프**\n",
        "\n",
        "-편향: 잘못된 가정으로 인한 것\n",
        "\n",
        "-분산: 훈련 데이터의 작은 변동에 과도하게 반은\n",
        "\n",
        "-줄일 수 없는 오차\n",
        "\n",
        "-모델 복잡도 커, 분산 늘/편향 줄\n",
        "\n"
      ],
      "metadata": {
        "id": "2l3mKWZJTr3a"
      }
    },
    {
      "cell_type": "code",
      "source": [
        "from sklearn.metrics import mean_squared_error\n",
        "from sklearn.model_selection import train_test_split\n",
        "\n",
        "def plot_learning_curves(model,X,y):\n",
        "  X_train,X_val,y_train,y_val=train_test_split(X,y,test_size=0.2)\n",
        "  train_errors,val_errors=[],[]\n",
        "  for m in range(1,len(X_train)):\n",
        "    model.fit(X_train[:m],y_train[:m])\n",
        "    y_train_predict=model.predict(X_train[:m])\n",
        "    y_val_predict=model.predict(X_val)\n",
        "    train_errors.append(mean_squared_error(y_train[:m],y_train_predict))\n",
        "    val_errors.append(mean_squared_error(y_val,y_val_predict))\n",
        "  plt.plot(np.sqrt(train_errors),\"r-+\",linewidth=2,label=\"훈련 세트\")\n",
        "  plt.plot(np.sqrt(val_errors),\"b-\",linewidth=3,label=\"검증 세트\")"
      ],
      "metadata": {
        "id": "gsla8MNh-HnR"
      },
      "execution_count": 36,
      "outputs": []
    },
    {
      "cell_type": "code",
      "source": [
        "lin_reg=LinearRegression()\n",
        "plot_learning_curves(lin_reg,X,y)"
      ],
      "metadata": {
        "colab": {
          "base_uri": "https://localhost:8080/",
          "height": 265
        },
        "id": "VzfFPWNk-Haz",
        "outputId": "0d917108-e092-47ce-f0c8-9664d621b213"
      },
      "execution_count": 37,
      "outputs": [
        {
          "output_type": "display_data",
          "data": {
            "text/plain": [
              "<Figure size 432x288 with 1 Axes>"
            ],
            "image/png": "[encoded data removed]"
          },
          "metadata": {
            "needs_background": "light"
          }
        }
      ]
    },
    {
      "cell_type": "code",
      "source": [
        "from sklearn.pipeline import Pipeline\n",
        "polynomial_regression=Pipeline([\n",
        "                                (\"poly_features\",PolynomialFeatures(degree=10,include_bias=False)),\n",
        "                                (\"lin_reg\",LinearRegression()),\n",
        "                                ])\n",
        "plot_learning_curves(polynomial_regression,X,y)"
      ],
      "metadata": {
        "colab": {
          "base_uri": "https://localhost:8080/",
          "height": 265
        },
        "id": "52QIuev6VxrB",
        "outputId": "f07d0603-e782-480a-a510-489e67b7130b"
      },
      "execution_count": 38,
      "outputs": [
        {
          "output_type": "display_data",
          "data": {
            "text/plain": [
              "<Figure size 432x288 with 1 Axes>"
            ],
            "image/png": "[encoded data removed]"
          },
          "metadata": {
            "needs_background": "light"
          }
        }
      ]
    },
    {
      "cell_type": "markdown",
      "source": [
        "## 4.5 규제가 있는 선형 모델\n",
        "\n",
        "-과대적합을 감소시키는 좋은 방법: 모델 규제\n",
        "\n",
        "-다항 회귀 모델) 다항식의 차수 감소\n",
        "\n",
        "-선형 회귀 모델) 모델의 가중치 제한 > 규제"
      ],
      "metadata": {
        "id": "WYp-eEI4jM33"
      }
    },
    {
      "cell_type": "markdown",
      "source": [
        "## 4.5.1 릿지 회귀\n",
        "\n",
        "-릿지 회귀: 규제가 추가된 선형 회귀 버전\n",
        "\n",
        "-모델의 가중치가 가능한 작게 유지되도록 노력\n",
        "\n",
        "-규제항(l2 노름의 제곱을 2로 나눈 것)은 훈련하는 동안에만 비용 함수에 추가\n",
        "\n",
        "-모델의 훈련이 끝나면 모델의 성능을 규제가 없는 성능 지표로 평가"
      ],
      "metadata": {
        "id": "PP7uwYqzjxJs"
      }
    },
    {
      "cell_type": "code",
      "source": [
        "#정규 방정식\n",
        "from sklearn.linear_model import Ridge\n",
        "ridge_reg=Ridge(alpha=1,solver=\"cholesky\")\n",
        "ridge_reg.fit(X,y)\n",
        "ridge_reg.predict([[1.5]])"
      ],
      "metadata": {
        "colab": {
          "base_uri": "https://localhost:8080/"
        },
        "id": "xbdIEVMaVxor",
        "outputId": "439462be-428c-4e56-ce78-da1d4d6fd126"
      },
      "execution_count": 39,
      "outputs": [
        {
          "output_type": "execute_result",
          "data": {
            "text/plain": [
              "array([[5.013211]])"
            ]
          },
          "metadata": {},
          "execution_count": 39
        }
      ]
    },
    {
      "cell_type": "code",
      "source": [
        "#확률적 경사하강법\n",
        "sgd_reg=SGDRegressor(penalty=\"l2\")\n",
        "sgd_reg.fit(X,y)\n",
        "sgd_reg.predict([[1.5]])"
      ],
      "metadata": {
        "colab": {
          "base_uri": "https://localhost:8080/"
        },
        "id": "BZLcl_FoVxl4",
        "outputId": "8110a7b8-5c2f-4e8d-e45a-6748fc65389e"
      },
      "execution_count": 42,
      "outputs": [
        {
          "output_type": "stream",
          "name": "stderr",
          "text": [
            "/usr/local/lib/python3.7/dist-packages/sklearn/utils/validation.py:993: DataConversionWarning: A column-vector y was passed when a 1d array was expected. Please change the shape of y to (n_samples, ), for example using ravel().\n",
            "  y = column_or_1d(y, warn=True)\n"
          ]
        },
        {
          "output_type": "execute_result",
          "data": {
            "text/plain": [
              "array([5.01592475])"
            ]
          },
          "metadata": {},
          "execution_count": 42
        }
      ]
    },
    {
      "cell_type": "markdown",
      "source": [
        "## 4.5.3 라쏘 회귀\n",
        "\n",
        "-비용함수에 규제항(벡터의 l1 노름)\n",
        "\n",
        "-덜 중요한 특성의 가중치를 제거하려고 함\n",
        " = 자동으로 특성 선택을 하고 희소모델"
      ],
      "metadata": {
        "id": "yEtn8A6QmJYa"
      }
    },
    {
      "cell_type": "code",
      "source": [
        "#lasso 대신 SGDRegressor(penalty=\"l1\")도 가능\n",
        "from sklearn.linear_model import Lasso\n",
        "lasso_reg=Lasso(alpha=0.1)\n",
        "lasso_reg.fit(X,y)\n",
        "lasso_reg.predict([[1.5]])"
      ],
      "metadata": {
        "colab": {
          "base_uri": "https://localhost:8080/"
        },
        "id": "Dsxijz0rVxkJ",
        "outputId": "f58f0cdf-9628-41ec-bab3-a36b13635295"
      },
      "execution_count": 47,
      "outputs": [
        {
          "output_type": "execute_result",
          "data": {
            "text/plain": [
              "array([4.97227822])"
            ]
          },
          "metadata": {},
          "execution_count": 47
        }
      ]
    },
    {
      "cell_type": "markdown",
      "source": [
        "## 4.5.3 엘라스틱넷\n",
        "\n",
        "-릿지 회귀+라쏘 회귀\n",
        "\n",
        "-규제항: 릿지와 회귀의 규제항을 단순히 더해 사용, 혼합 정도는 혼합 비율 r을 사용해 조절\n",
        "\n",
        "-r=0이면 릿지 회귀, r=1이면 라쏘 회귀와 같음"
      ],
      "metadata": {
        "id": "yjvqBURvoNKU"
      }
    },
    {
      "cell_type": "markdown",
      "source": [
        "**릿지가 기본이 되지만, 쓰이는 특성이 몇 개뿐이라고 의심되면 라쏘나 엘라스틱넷 추천\n",
        "특성 수가 훈련 샘플 수보다 많거나 특성 몇 개가 강하게 연관되어 있을 때는 라쏘보다는 엘라스틱넷 선호**"
      ],
      "metadata": {
        "id": "k-ChvEMdoi5U"
      }
    },
    {
      "cell_type": "code",
      "source": [
        "from sklearn.linear_model import ElasticNet\n",
        "elastic_net=ElasticNet(alpha=0.1,l1_ratio=0.5)\n",
        "elastic_net.fit(X,y)\n",
        "elastic_net.predict([[1.5]])"
      ],
      "metadata": {
        "colab": {
          "base_uri": "https://localhost:8080/"
        },
        "id": "BbzGbgsXVxhZ",
        "outputId": "b655f79a-81f1-4db6-f46f-13429ba350b5"
      },
      "execution_count": 48,
      "outputs": [
        {
          "output_type": "execute_result",
          "data": {
            "text/plain": [
              "array([4.97290274])"
            ]
          },
          "metadata": {},
          "execution_count": 48
        }
      ]
    },
    {
      "cell_type": "markdown",
      "source": [
        "## 4.5.4 조기 종료\n",
        "\n",
        "-검증 에러가 최솟값에 도달하면 훈련 중지\n",
        "\n",
        "-확률적 경사 하강법, 미니 배치 경사 하강법에서는 곡선이 그리 매끄럽지 않아 최솟값에 도달했는지 확인 어려울 수 있음. 이를 위해 검증 에러가 일정 시간동안 최솟값보다 클 때 학습 멈추고 검증 에러가 최소였을 때의 모델 파라미터로 되돌리는 방법 있음"
      ],
      "metadata": {
        "id": "SVXlcOSxpEAf"
      }
    },
    {
      "cell_type": "code",
      "source": [
        "from sklearn.base import clone\n",
        "from sklearn.preprocessing import StandardScaler\n",
        "\n",
        "poly_scaler=Pipeline([\n",
        "           (\"poly_features\",PolynomialFeatures(degree=90,include_bias=False)),\n",
        "           (\"std_scaler\",StandardScaler()),\n",
        "           ])\n",
        "X_train_poly_scaled=poly_scaler.fit_transform(X_train)\n",
        "X_val_poly_scaled=poly_scaler.transform(X_val)\n",
        "\n",
        "sgd_reg=SGDRegressor(max_iter=1,tol=-np.infty,warm_start=True,\n",
        "                     penalty=None,learning_rate=\"constant\",eta0=0.0005)\n",
        "minimum_val_error=float(\"inf\")\n",
        "best_epoch=None\n",
        "best_model=None\n",
        "for epoch in range(1000):\n",
        "  sgd_reg.fit(X_train_poly_scaled,y_train)\n",
        "  y_val_predict=sgd_reg.predict(X_val_poly_scaled)\n",
        "  val_error=mean_squared_error(y_val,y_val_predict)\n",
        "  if val_error < minimum_val_error:\n",
        "    minimum_val_error=val_error\n",
        "    best_epoch=epoch\n",
        "    best_model=clone(sgd_reg)\n"
      ],
      "metadata": {
        "colab": {
          "base_uri": "https://localhost:8080/",
          "height": 245
        },
        "id": "CvULoc8TVxes",
        "outputId": "b8200797-f6d1-4a64-d5f9-8552983ea61c"
      },
      "execution_count": 51,
      "outputs": [
        {
          "output_type": "error",
          "ename": "NameError",
          "evalue": "ignored",
          "traceback": [
            "\u001b[0;31m---------------------------------------------------------------------------\u001b[0m",
            "\u001b[0;31mNameError\u001b[0m                                 Traceback (most recent call last)",
            "\u001b[0;32m<ipython-input-51-ca51872af0f1>\u001b[0m in \u001b[0;36m<module>\u001b[0;34m()\u001b[0m\n\u001b[1;32m      6\u001b[0m            \u001b[0;34m(\u001b[0m\u001b[0;34m\"std_scaler\"\u001b[0m\u001b[0;34m,\u001b[0m\u001b[0mStandardScaler\u001b[0m\u001b[0;34m(\u001b[0m\u001b[0;34m)\u001b[0m\u001b[0;34m)\u001b[0m\u001b[0;34m,\u001b[0m\u001b[0;34m\u001b[0m\u001b[0;34m\u001b[0m\u001b[0m\n\u001b[1;32m      7\u001b[0m            ])\n\u001b[0;32m----> 8\u001b[0;31m \u001b[0mX_train_poly_scaled\u001b[0m\u001b[0;34m=\u001b[0m\u001b[0mpoly_scaler\u001b[0m\u001b[0;34m.\u001b[0m\u001b[0mfit_transform\u001b[0m\u001b[0;34m(\u001b[0m\u001b[0mX_train\u001b[0m\u001b[0;34m)\u001b[0m\u001b[0;34m\u001b[0m\u001b[0;34m\u001b[0m\u001b[0m\n\u001b[0m\u001b[1;32m      9\u001b[0m \u001b[0mX_val_poly_scaled\u001b[0m\u001b[0;34m=\u001b[0m\u001b[0mpoly_scaler\u001b[0m\u001b[0;34m.\u001b[0m\u001b[0mtransform\u001b[0m\u001b[0;34m(\u001b[0m\u001b[0mX_val\u001b[0m\u001b[0;34m)\u001b[0m\u001b[0;34m\u001b[0m\u001b[0;34m\u001b[0m\u001b[0m\n\u001b[1;32m     10\u001b[0m \u001b[0;34m\u001b[0m\u001b[0m\n",
            "\u001b[0;31mNameError\u001b[0m: name 'X_train' is not defined"
          ]
        }
      ]
    },
    {
      "cell_type": "markdown",
      "source": [
        "## **4.6 로지스틱 회귀**\n",
        "\n",
        "-샘플이 특정 클래스에 속할 확률을 추정하는데 널리 사용\n"
      ],
      "metadata": {
        "id": "ve3Sj8LEsQsI"
      }
    },
    {
      "cell_type": "markdown",
      "source": [
        "## 4.6.1 확률 추정\n",
        "\n",
        "-입력 특성의 가중치 합 계산\n",
        "\n",
        "-결괏값의 로지스틱(시그모이드 함수) 출력\n",
        "\n"
      ],
      "metadata": {
        "id": "gagXqiSismH2"
      }
    },
    {
      "cell_type": "markdown",
      "source": [
        "## 4.6.2 훈련과 비용 함수\n",
        "\n",
        "-훈련의 목적: 양성 샘플에 대해서는 높은 확률 추정, 음성 샘플에 대해서는 낮은 확률 추정하는 모델의 파라미터 벡터 찾기\n",
        "\n",
        "-음성 샘플의 확률을 0에 가깝세 추정하거나 양성 샘플의 확률을 1에 가깝게 추정하면 비용은 0에 가까워짐"
      ],
      "metadata": {
        "id": "Kz1ZToPktPYM"
      }
    },
    {
      "cell_type": "markdown",
      "source": [
        "## 4.6.3 결정 경계"
      ],
      "metadata": {
        "id": "LXU6VQHctkXY"
      }
    },
    {
      "cell_type": "code",
      "source": [
        "!pip install sklearn"
      ],
      "metadata": {
        "colab": {
          "base_uri": "https://localhost:8080/"
        },
        "id": "izYPCpBGup0D",
        "outputId": "e94ae040-115b-41a7-9a18-174050e4af7b"
      },
      "execution_count": 54,
      "outputs": [
        {
          "output_type": "stream",
          "name": "stdout",
          "text": [
            "Requirement already satisfied: sklearn in /usr/local/lib/python3.7/dist-packages (0.0)\n",
            "Requirement already satisfied: scikit-learn in /usr/local/lib/python3.7/dist-packages (from sklearn) (1.0.2)\n",
            "Requirement already satisfied: joblib>=0.11 in /usr/local/lib/python3.7/dist-packages (from scikit-learn->sklearn) (1.1.0)\n",
            "Requirement already satisfied: threadpoolctl>=2.0.0 in /usr/local/lib/python3.7/dist-packages (from scikit-learn->sklearn) (3.1.0)\n",
            "Requirement already satisfied: numpy>=1.14.6 in /usr/local/lib/python3.7/dist-packages (from scikit-learn->sklearn) (1.21.5)\n",
            "Requirement already satisfied: scipy>=1.1.0 in /usr/local/lib/python3.7/dist-packages (from scikit-learn->sklearn) (1.4.1)\n"
          ]
        }
      ]
    },
    {
      "cell_type": "code",
      "source": [
        "from sklearn import datasets"
      ],
      "metadata": {
        "id": "92wo3NARu3Ie"
      },
      "execution_count": 56,
      "outputs": []
    },
    {
      "cell_type": "code",
      "source": [
        "iris=datasets.load_iris()\n",
        "list(iris.keys())"
      ],
      "metadata": {
        "colab": {
          "base_uri": "https://localhost:8080/"
        },
        "id": "ZzA4asL8VxVF",
        "outputId": "97304551-8a84-48bc-dbee-7178b9c49529"
      },
      "execution_count": 58,
      "outputs": [
        {
          "output_type": "execute_result",
          "data": {
            "text/plain": [
              "['data',\n",
              " 'target',\n",
              " 'frame',\n",
              " 'target_names',\n",
              " 'DESCR',\n",
              " 'feature_names',\n",
              " 'filename',\n",
              " 'data_module']"
            ]
          },
          "metadata": {},
          "execution_count": 58
        }
      ]
    },
    {
      "cell_type": "code",
      "source": [
        "X=iris[\"data\"][:,3:]\n",
        "y=(iris[\"target\"]==2).astype(np.int)"
      ],
      "metadata": {
        "colab": {
          "base_uri": "https://localhost:8080/"
        },
        "id": "rXarUEkTVxSq",
        "outputId": "1e033353-7ac1-4c25-84bd-f9809e577baa"
      },
      "execution_count": 59,
      "outputs": [
        {
          "output_type": "stream",
          "name": "stderr",
          "text": [
            "/usr/local/lib/python3.7/dist-packages/ipykernel_launcher.py:2: DeprecationWarning: `np.int` is a deprecated alias for the builtin `int`. To silence this warning, use `int` by itself. Doing this will not modify any behavior and is safe. When replacing `np.int`, you may wish to use e.g. `np.int64` or `np.int32` to specify the precision. If you wish to review your current use, check the release note link for additional information.\n",
            "Deprecated in NumPy 1.20; for more details and guidance: https://numpy.org/devdocs/release/1.20.0-notes.html#deprecations\n",
            "  \n"
          ]
        }
      ]
    },
    {
      "cell_type": "code",
      "source": [
        "from sklearn.linear_model import LogisticRegression\n",
        "\n",
        "log_reg=LogisticRegression()\n",
        "log_reg.fit(X,y)"
      ],
      "metadata": {
        "colab": {
          "base_uri": "https://localhost:8080/"
        },
        "id": "xSkeuNysvJvi",
        "outputId": "1e64355b-1de5-4b89-f200-d4a6ba3bb2fe"
      },
      "execution_count": 60,
      "outputs": [
        {
          "output_type": "execute_result",
          "data": {
            "text/plain": [
              "LogisticRegression()"
            ]
          },
          "metadata": {},
          "execution_count": 60
        }
      ]
    },
    {
      "cell_type": "code",
      "source": [
        "X_new=np.linspace(0,3,1000).reshape(-1,1)\n",
        "y_proba=log_reg.predict_proba(X_new)\n",
        "plt.plot(X_new,y_proba[:,1],\"g-\",label=\"Iris virginica\")\n",
        "plt.plot(X_new,y_proba[:,0],\"b-\",label=\"Not Iris virginica\")"
      ],
      "metadata": {
        "colab": {
          "base_uri": "https://localhost:8080/",
          "height": 284
        },
        "id": "tg3eVBrLvJtb",
        "outputId": "24ff9708-9440-4f66-84df-ca1f3afaa7c9"
      },
      "execution_count": 63,
      "outputs": [
        {
          "output_type": "execute_result",
          "data": {
            "text/plain": [
              "[<matplotlib.lines.Line2D at 0x7fb8b547e710>]"
            ]
          },
          "metadata": {},
          "execution_count": 63
        },
        {
          "output_type": "display_data",
          "data": {
            "text/plain": [
              "<Figure size 432x288 with 1 Axes>"
            ],
            "image/png": "[encoded data removed]"
          },
          "metadata": {
            "needs_background": "light"
          }
        }
      ]
    },
    {
      "cell_type": "code",
      "source": [
        "log_reg.predict([[1.7],[1.5]])"
      ],
      "metadata": {
        "colab": {
          "base_uri": "https://localhost:8080/"
        },
        "id": "zCnpoppMvJrP",
        "outputId": "6c4c1a6d-d18b-4e4d-e23e-8045cec2e573"
      },
      "execution_count": 64,
      "outputs": [
        {
          "output_type": "execute_result",
          "data": {
            "text/plain": [
              "array([1, 0])"
            ]
          },
          "metadata": {},
          "execution_count": 64
        }
      ]
    },
    {
      "cell_type": "markdown",
      "source": [
        "## 4.6.4 소프트맥스 회귀\n",
        "\n",
        "-로지스틱 회귀 모델은 여러 개의 이진 분류기를 훈련시켜 연결하지 않고, 직접 다중 클래스를 지원하도록 일반화할 수 있음\n",
        "\n",
        "-1번에 1개의 클래스만 예측\n",
        "\n",
        "-모델이 타깃 클래스에 대해서는 높은 확률을 추정하도록 만드는 것이 목적\n",
        "\n",
        "-크로스 엔트로피 비용 함수를 최소화하는 것은 타깃 클래스에 대해 낮은 확률을 예측하는 모델을 억제하는 것"
      ],
      "metadata": {
        "id": "OwOQ7bBVwENq"
      }
    },
    {
      "cell_type": "code",
      "source": [
        "X=iris[\"data\"][:,(2,3)]\n",
        "y=iris[\"target\"]\n",
        "\n",
        "softmax_reg=LogisticRegression(multi_class=\"multinomial\",solver=\"lbfgs\",C=10)\n",
        "softmax_reg.fit(X,y)"
      ],
      "metadata": {
        "colab": {
          "base_uri": "https://localhost:8080/"
        },
        "id": "q2fWAZGovJoo",
        "outputId": "52a1b98e-3198-4cb2-999b-bf48ed6630e7"
      },
      "execution_count": 65,
      "outputs": [
        {
          "output_type": "execute_result",
          "data": {
            "text/plain": [
              "LogisticRegression(C=10, multi_class='multinomial')"
            ]
          },
          "metadata": {},
          "execution_count": 65
        }
      ]
    },
    {
      "cell_type": "code",
      "source": [
        "softmax_reg.predict([[5,2]])"
      ],
      "metadata": {
        "colab": {
          "base_uri": "https://localhost:8080/"
        },
        "id": "HqWkLdMTvJmO",
        "outputId": "d25f1893-a431-4625-9aa0-558bb679784e"
      },
      "execution_count": 66,
      "outputs": [
        {
          "output_type": "execute_result",
          "data": {
            "text/plain": [
              "array([2])"
            ]
          },
          "metadata": {},
          "execution_count": 66
        }
      ]
    },
    {
      "cell_type": "code",
      "source": [
        "softmax_reg.predict_proba([[5,2]])"
      ],
      "metadata": {
        "colab": {
          "base_uri": "https://localhost:8080/"
        },
        "id": "O93vcXWcvJj5",
        "outputId": "8294216d-d94b-4fea-97b7-18cecbf00a11"
      },
      "execution_count": 68,
      "outputs": [
        {
          "output_type": "execute_result",
          "data": {
            "text/plain": [
              "array([[6.38014896e-07, 5.74929995e-02, 9.42506362e-01]])"
            ]
          },
          "metadata": {},
          "execution_count": 68
        }
      ]
    }
  ]
}
