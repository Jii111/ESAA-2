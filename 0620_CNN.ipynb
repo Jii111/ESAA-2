{
  "nbformat": 4,
  "nbformat_minor": 0,
  "metadata": {
    "colab": {
      "name": "0620_CNN",
      "provenance": [],
      "authorship_tag": "ABX9TyNBi7oO8BxpU642leenLcwr"
    },
    "kernelspec": {
      "name": "python3",
      "display_name": "Python 3"
    },
    "language_info": {
      "name": "python"
    }
  },
  "cells": [
    {
      "cell_type": "markdown",
      "source": [
        "# **파이썬 딥러닝 텐서플로 142p~181p**"
      ],
      "metadata": {
        "id": "DLQsEBdhKrIF"
      }
    },
    {
      "cell_type": "markdown",
      "source": [
        "## **01. 합성곱 신경망**\n",
        "- Convolutional Neural Network\n",
        "- 이미지 분류, 객체 탐지, 스타일 전이 등에서 이용\n",
        "- 객체 탐지: 이미지에서 특정한 객체를 인식하고 이미지의 어디에 있는지 위치까지 파악하는 기술  \n",
        "  \n",
        "\n",
        "1-1. 이미지 표현\n",
        "- 0~255 사이의 숫자로 각 픽셀의 화소 값을 나타내는 방식으로 표현(완전 검은색: 0, 완전 흰색: 255)\n",
        "- 컬러 이미지는 R,G,B 3장의 이미지를 겹쳐 표현(숫자가 클수록 해당 색상 더 강하게 표현)  \n",
        "  \n",
        "1-2. 합성곱\n",
        "- 입력 이미지에 대해 일반적으로 정방형 커널을 사용하여 입력 이미지에 대한 특성을 추출하는 방법\n",
        "- 특성맵: 합성곱 연산을 통해 추출된 이미지  \n",
        "\n",
        "1-3. 채널\n",
        "- 입력 이미지를 구성하는 2차원 배열의 개수\n",
        "\n",
        "1-4. 스트라이드\n",
        "- 이동하는 간격\n",
        "- 보통 1 또는 2로 설정\n",
        "\n",
        "1-5. 패딩\n",
        "- 추출된 특성맵의 크기가 입력 이미지 대비 줄어들지 않도록 패딩 설정\n",
        "- 일반적으로 zero-padding 이용\n",
        "\n",
        "1-6. 특성맵 사이즈\n",
        "\n",
        "1-7. 풀링\n",
        "- 추출된 특성맵에 대해 다운 샘플링하여 이미지의 크기 축소\n",
        "- 맥스 풀링\n",
        "- 평균 풀링\n"
      ],
      "metadata": {
        "id": "02n7oPw7LAoh"
      }
    },
    {
      "cell_type": "markdown",
      "source": [
        "## **02. 간단한 모델 생성**\n"
      ],
      "metadata": {
        "id": "jG2A1CF-OPBw"
      }
    },
    {
      "cell_type": "markdown",
      "source": [
        "2-1 데이터 로드 및 전처리"
      ],
      "metadata": {
        "id": "oqpxTzC4PIct"
      }
    },
    {
      "cell_type": "code",
      "source": [
        "import tensorflow as tf\n",
        "\n",
        "mnist = tf.keras.datasets.mnist\n",
        "(x_train, y_train), (x_valid, y_valid) = mnist.load_data()\n",
        "\n",
        "print(x_train.shape, y_train.shape)\n",
        "print(x_valid.shape, y_valid.shape)"
      ],
      "metadata": {
        "colab": {
          "base_uri": "https://localhost:8080/"
        },
        "id": "YbvxH--6OU1h",
        "outputId": "948300e4-ee2c-433c-d265-0dced1a99598"
      },
      "execution_count": 1,
      "outputs": [
        {
          "output_type": "stream",
          "name": "stdout",
          "text": [
            "Downloading data from https://storage.googleapis.com/tensorflow/tf-keras-datasets/mnist.npz\n",
            "11493376/11490434 [==============================] - 0s 0us/step\n",
            "11501568/11490434 [==============================] - 0s 0us/step\n",
            "(60000, 28, 28) (60000,)\n",
            "(10000, 28, 28) (10000,)\n"
          ]
        }
      ]
    },
    {
      "cell_type": "code",
      "source": [
        "import matplotlib.pyplot as plt\n",
        "\n",
        "def plot_image(data, idx):\n",
        "    plt.figure(figsize=(5, 5))\n",
        "    plt.imshow(data[idx], cmap=\"gray\")\n",
        "    plt.axis(\"off\")\n",
        "    plt.show()\n",
        "\n",
        "plot_image(x_train, 0)"
      ],
      "metadata": {
        "colab": {
          "base_uri": "https://localhost:8080/",
          "height": 303
        },
        "id": "ht3VrDAAOVCw",
        "outputId": "89279dec-818b-42bf-c8a4-eb5f83b1edee"
      },
      "execution_count": 2,
      "outputs": [
        {
          "output_type": "display_data",
          "data": {
            "text/plain": [
              "<Figure size 360x360 with 1 Axes>"
            ],
            "image/png": "[encoded data removed]"
          },
          "metadata": {
            "needs_background": "light"
          }
        }
      ]
    },
    {
      "cell_type": "code",
      "source": [
        "print(x_train.min(), x_train.max())\n",
        "print(x_valid.min(), x_valid.max())"
      ],
      "metadata": {
        "colab": {
          "base_uri": "https://localhost:8080/"
        },
        "id": "3Z1I1CyqOU_N",
        "outputId": "0b962a75-7ec7-4c0a-f4f8-d1e24a80857b"
      },
      "execution_count": 3,
      "outputs": [
        {
          "output_type": "stream",
          "name": "stdout",
          "text": [
            "0 255\n",
            "0 255\n"
          ]
        }
      ]
    },
    {
      "cell_type": "code",
      "source": [
        "x_train = x_train/255.0\n",
        "x_valid = x_valid/255.0\n",
        "\n",
        "print(x_train.min(), x_train.max())\n",
        "print(x_valid.min(), x_valid.max())"
      ],
      "metadata": {
        "colab": {
          "base_uri": "https://localhost:8080/"
        },
        "id": "uvIdh9U4OU83",
        "outputId": "1d744232-9ed0-4440-9ddc-792e1884f32e"
      },
      "execution_count": 4,
      "outputs": [
        {
          "output_type": "stream",
          "name": "stdout",
          "text": [
            "0.0 1.0\n",
            "0.0 1.0\n"
          ]
        }
      ]
    },
    {
      "cell_type": "code",
      "source": [
        "print(x_train.shape, x_valid.shape)\n",
        "\n",
        "x_train_in = x_train[..., tf.newaxis]\n",
        "x_valid_in = x_valid[..., tf.newaxis]\n",
        "\n",
        "print(x_train_in.shape, x_valid_in.shape)"
      ],
      "metadata": {
        "colab": {
          "base_uri": "https://localhost:8080/"
        },
        "id": "7QpMRRg4OU6k",
        "outputId": "eba8eeb9-dea9-4146-aa73-7bec3017abf9"
      },
      "execution_count": 5,
      "outputs": [
        {
          "output_type": "stream",
          "name": "stdout",
          "text": [
            "(60000, 28, 28) (10000, 28, 28)\n",
            "(60000, 28, 28, 1) (10000, 28, 28, 1)\n"
          ]
        }
      ]
    },
    {
      "cell_type": "markdown",
      "source": [
        "2-2 Sequential API로 모델 생성 및 학습"
      ],
      "metadata": {
        "id": "DypF_u6yPVtr"
      }
    },
    {
      "cell_type": "code",
      "source": [
        "model = tf.keras.Sequential([\n",
        "    tf.keras.layers.Conv2D(32, (3, 3), activation='relu', \n",
        "                           input_shape=(28, 28, 1), name='conv'),\n",
        "\n",
        "    tf.keras.layers.MaxPooling2D((2, 2), name='pool'),\n",
        "\n",
        "    tf.keras.layers.Flatten(),\n",
        "    tf.keras.layers.Dense(10, activation='softmax'),\n",
        "])"
      ],
      "metadata": {
        "id": "0bSAsuWjO91Y"
      },
      "execution_count": 6,
      "outputs": []
    },
    {
      "cell_type": "code",
      "source": [
        "model.compile(optimizer='adam', loss='sparse_categorical_crossentropy', metrics=['accuracy'])\n",
        "\n",
        "history = model.fit(x_train_in, y_train, \n",
        "                    validation_data=(x_valid_in, y_valid), \n",
        "                    epochs=10)"
      ],
      "metadata": {
        "colab": {
          "base_uri": "https://localhost:8080/"
        },
        "id": "rw6vK4iiO9yA",
        "outputId": "b9559551-0162-4c1e-d314-11dbd4f65361"
      },
      "execution_count": 7,
      "outputs": [
        {
          "output_type": "stream",
          "name": "stdout",
          "text": [
            "Epoch 1/10\n",
            "1875/1875 [==============================] - 41s 21ms/step - loss: 0.2148 - accuracy: 0.9378 - val_loss: 0.0884 - val_accuracy: 0.9740\n",
            "Epoch 2/10\n",
            "1875/1875 [==============================] - 30s 16ms/step - loss: 0.0768 - accuracy: 0.9772 - val_loss: 0.0613 - val_accuracy: 0.9796\n",
            "Epoch 3/10\n",
            "1875/1875 [==============================] - 30s 16ms/step - loss: 0.0595 - accuracy: 0.9822 - val_loss: 0.0564 - val_accuracy: 0.9815\n",
            "Epoch 4/10\n",
            "1875/1875 [==============================] - 30s 16ms/step - loss: 0.0485 - accuracy: 0.9855 - val_loss: 0.0528 - val_accuracy: 0.9816\n",
            "Epoch 5/10\n",
            "1875/1875 [==============================] - 30s 16ms/step - loss: 0.0422 - accuracy: 0.9873 - val_loss: 0.0539 - val_accuracy: 0.9826\n",
            "Epoch 6/10\n",
            "1875/1875 [==============================] - 30s 16ms/step - loss: 0.0363 - accuracy: 0.9888 - val_loss: 0.0519 - val_accuracy: 0.9831\n",
            "Epoch 7/10\n",
            "1875/1875 [==============================] - 30s 16ms/step - loss: 0.0303 - accuracy: 0.9910 - val_loss: 0.0518 - val_accuracy: 0.9832\n",
            "Epoch 8/10\n",
            "1875/1875 [==============================] - 31s 16ms/step - loss: 0.0261 - accuracy: 0.9923 - val_loss: 0.0525 - val_accuracy: 0.9834\n",
            "Epoch 9/10\n",
            "1875/1875 [==============================] - 30s 16ms/step - loss: 0.0223 - accuracy: 0.9931 - val_loss: 0.0567 - val_accuracy: 0.9829\n",
            "Epoch 10/10\n",
            "1875/1875 [==============================] - 30s 16ms/step - loss: 0.0189 - accuracy: 0.9945 - val_loss: 0.0620 - val_accuracy: 0.9819\n"
          ]
        }
      ]
    },
    {
      "cell_type": "code",
      "source": [
        "model.evaluate(x_valid_in, y_valid)"
      ],
      "metadata": {
        "colab": {
          "base_uri": "https://localhost:8080/"
        },
        "id": "8TjcR--3O9wJ",
        "outputId": "d0d67ee9-8fe8-406d-d94e-9b26ee338093"
      },
      "execution_count": 8,
      "outputs": [
        {
          "output_type": "stream",
          "name": "stdout",
          "text": [
            "313/313 [==============================] - 2s 7ms/step - loss: 0.0620 - accuracy: 0.9819\n"
          ]
        },
        {
          "output_type": "execute_result",
          "data": {
            "text/plain": [
              "[0.06196427717804909, 0.9818999767303467]"
            ]
          },
          "metadata": {},
          "execution_count": 8
        }
      ]
    },
    {
      "cell_type": "code",
      "source": [
        "def plot_loss_acc(history, epoch):\n",
        "\n",
        "    loss, val_loss = history.history['loss'], history.history['val_loss']\n",
        "    acc, val_acc = history.history['accuracy'], history.history['val_accuracy']\n",
        "\n",
        "    fig, axes = plt.subplots(1, 2, figsize=(12, 4))\n",
        "\n",
        "    axes[0].plot(range(1, epoch + 1), loss, label='Training')\n",
        "    axes[0].plot(range(1, epoch + 1), val_loss, label='Validation')\n",
        "    axes[0].legend(loc='best')\n",
        "    axes[0].set_title('Loss')\n",
        "\n",
        "    axes[1].plot(range(1, epoch + 1), acc, label='Training')\n",
        "    axes[1].plot(range(1, epoch + 1), val_acc, label='Validation')\n",
        "    axes[1].legend(loc='best')\n",
        "    axes[1].set_title('Accuracy')\n",
        "\n",
        "    plt.show()\n",
        "\n",
        "plot_loss_acc(history, 10)"
      ],
      "metadata": {
        "colab": {
          "base_uri": "https://localhost:8080/",
          "height": 281
        },
        "id": "jV_1cUzdO9uU",
        "outputId": "ed0b824a-73d8-48d6-979b-db6e9618cded"
      },
      "execution_count": 9,
      "outputs": [
        {
          "output_type": "display_data",
          "data": {
            "text/plain": [
              "<Figure size 864x288 with 2 Axes>"
            ],
            "image/png": "[encoded data removed]"
          },
          "metadata": {
            "needs_background": "light"
          }
        }
      ]
    },
    {
      "cell_type": "markdown",
      "source": [
        "2-3 모델 구조 파악"
      ],
      "metadata": {
        "id": "oU7gJMXSPmQp"
      }
    },
    {
      "cell_type": "code",
      "source": [
        "model.summary()"
      ],
      "metadata": {
        "colab": {
          "base_uri": "https://localhost:8080/"
        },
        "id": "a2ZW-azGO9sW",
        "outputId": "d447093e-efff-4d87-a3a4-11bbdfdfa208"
      },
      "execution_count": 10,
      "outputs": [
        {
          "output_type": "stream",
          "name": "stdout",
          "text": [
            "Model: \"sequential\"\n",
            "_________________________________________________________________\n",
            " Layer (type)                Output Shape              Param #   \n",
            "=================================================================\n",
            " conv (Conv2D)               (None, 26, 26, 32)        320       \n",
            "                                                                 \n",
            " pool (MaxPooling2D)         (None, 13, 13, 32)        0         \n",
            "                                                                 \n",
            " flatten (Flatten)           (None, 5408)              0         \n",
            "                                                                 \n",
            " dense (Dense)               (None, 10)                54090     \n",
            "                                                                 \n",
            "=================================================================\n",
            "Total params: 54,410\n",
            "Trainable params: 54,410\n",
            "Non-trainable params: 0\n",
            "_________________________________________________________________\n"
          ]
        }
      ]
    },
    {
      "cell_type": "code",
      "source": [
        "model.input"
      ],
      "metadata": {
        "colab": {
          "base_uri": "https://localhost:8080/"
        },
        "id": "lKMwgSQ8O9pA",
        "outputId": "1bd91c27-069e-4941-f1a6-af4baeb9397f"
      },
      "execution_count": 11,
      "outputs": [
        {
          "output_type": "execute_result",
          "data": {
            "text/plain": [
              "<KerasTensor: shape=(None, 28, 28, 1) dtype=float32 (created by layer 'conv_input')>"
            ]
          },
          "metadata": {},
          "execution_count": 11
        }
      ]
    },
    {
      "cell_type": "code",
      "source": [
        "model.output"
      ],
      "metadata": {
        "colab": {
          "base_uri": "https://localhost:8080/"
        },
        "id": "hLvn8FO5P0Da",
        "outputId": "724a0d01-4946-4b96-93dc-6877620776b1"
      },
      "execution_count": 12,
      "outputs": [
        {
          "output_type": "execute_result",
          "data": {
            "text/plain": [
              "<KerasTensor: shape=(None, 10) dtype=float32 (created by layer 'dense')>"
            ]
          },
          "metadata": {},
          "execution_count": 12
        }
      ]
    },
    {
      "cell_type": "code",
      "source": [
        "model.layers"
      ],
      "metadata": {
        "colab": {
          "base_uri": "https://localhost:8080/"
        },
        "id": "Behd5XykPz_v",
        "outputId": "a85005cb-7a67-4ef5-82d5-6848a8984841"
      },
      "execution_count": 13,
      "outputs": [
        {
          "output_type": "execute_result",
          "data": {
            "text/plain": [
              "[<keras.layers.convolutional.Conv2D at 0x7fee4eab7550>,\n",
              " <keras.layers.pooling.MaxPooling2D at 0x7fee4eb20510>,\n",
              " <keras.layers.core.flatten.Flatten at 0x7fee4efe3fd0>,\n",
              " <keras.layers.core.dense.Dense at 0x7fee4e648f90>]"
            ]
          },
          "metadata": {},
          "execution_count": 13
        }
      ]
    },
    {
      "cell_type": "code",
      "source": [
        "model.layers[0]"
      ],
      "metadata": {
        "colab": {
          "base_uri": "https://localhost:8080/"
        },
        "id": "mtOTFMW5Pz81",
        "outputId": "4f2d4081-5a7f-47e5-8d25-d8540cd9dac7"
      },
      "execution_count": 14,
      "outputs": [
        {
          "output_type": "execute_result",
          "data": {
            "text/plain": [
              "<keras.layers.convolutional.Conv2D at 0x7fee4eab7550>"
            ]
          },
          "metadata": {},
          "execution_count": 14
        }
      ]
    },
    {
      "cell_type": "code",
      "source": [
        "model.layers[0].input"
      ],
      "metadata": {
        "colab": {
          "base_uri": "https://localhost:8080/"
        },
        "id": "aUpPUIkMPz56",
        "outputId": "3ab9bef5-a781-45a7-f649-59c97a5ebaea"
      },
      "execution_count": 15,
      "outputs": [
        {
          "output_type": "execute_result",
          "data": {
            "text/plain": [
              "<KerasTensor: shape=(None, 28, 28, 1) dtype=float32 (created by layer 'conv_input')>"
            ]
          },
          "metadata": {},
          "execution_count": 15
        }
      ]
    },
    {
      "cell_type": "code",
      "source": [
        "model.layers[0].output"
      ],
      "metadata": {
        "colab": {
          "base_uri": "https://localhost:8080/"
        },
        "id": "eZ1HF-G6Pz22",
        "outputId": "4a10f966-dc8a-43b6-8436-81589c025bc3"
      },
      "execution_count": 16,
      "outputs": [
        {
          "output_type": "execute_result",
          "data": {
            "text/plain": [
              "<KerasTensor: shape=(None, 26, 26, 32) dtype=float32 (created by layer 'conv')>"
            ]
          },
          "metadata": {},
          "execution_count": 16
        }
      ]
    },
    {
      "cell_type": "code",
      "source": [
        "model.layers[0].weights"
      ],
      "metadata": {
        "colab": {
          "base_uri": "https://localhost:8080/"
        },
        "id": "K7Zzd-7HPz0c",
        "outputId": "5befeb0f-c9aa-4126-aff9-4d45d0576e12"
      },
      "execution_count": 17,
      "outputs": [
        {
          "output_type": "execute_result",
          "data": {
            "text/plain": [
              "[<tf.Variable 'conv/kernel:0' shape=(3, 3, 1, 32) dtype=float32, numpy=\n",
              " array([[[[ 3.1374282e-01, -4.1406298e-01, -8.3018869e-01,\n",
              "           -4.0818527e-01, -6.4771825e-01,  1.8589880e-01,\n",
              "            2.5464451e-01,  4.3967122e-01,  2.0141387e-01,\n",
              "           -6.4463300e-01, -4.4801244e-01,  1.2630041e-01,\n",
              "            3.0377510e-01, -1.1287893e+00, -7.9313874e-02,\n",
              "            4.3468315e-02, -7.3957223e-01,  3.0721185e-01,\n",
              "            8.0179714e-02, -5.2193332e-01,  2.8187385e-01,\n",
              "           -5.0775552e-01, -5.9911132e-01,  1.6641109e-01,\n",
              "           -7.6569423e-02,  2.1428625e-01, -8.7118590e-01,\n",
              "            9.8507844e-02,  3.1076813e-01, -8.0992204e-01,\n",
              "           -2.6541520e-02,  3.2397166e-01]],\n",
              " \n",
              "         [[ 3.3673921e-01,  3.8830662e-01, -6.6234934e-01,\n",
              "            3.2004684e-01, -1.4385012e+00, -4.9877694e-01,\n",
              "           -2.7762845e-01,  5.9175098e-01,  2.4482864e-01,\n",
              "           -3.0771849e-01, -1.9157831e-01,  5.8703035e-01,\n",
              "            2.1207628e-01, -1.8435057e-01, -3.7673178e-01,\n",
              "           -4.6733728e-01,  3.6474973e-01,  3.7097690e-01,\n",
              "            3.9901590e-01,  1.9747247e-01, -3.9603956e-02,\n",
              "           -1.7377594e-01, -1.7781280e-01,  3.4821111e-01,\n",
              "            1.8045326e-01,  1.4443377e-01,  3.0929840e-01,\n",
              "           -8.6207919e-02,  5.2797276e-01, -9.2224115e-01,\n",
              "           -6.5214074e-01,  2.4503708e-01]],\n",
              " \n",
              "         [[ 4.8289970e-03,  2.6789945e-01,  2.5536448e-01,\n",
              "            3.1807056e-01, -1.0091416e+00, -8.6415976e-01,\n",
              "           -4.1806152e-01,  1.6898457e-02, -4.8424485e-01,\n",
              "           -3.4746385e-01,  1.2946498e-01,  7.2385705e-01,\n",
              "           -1.0069697e-01, -3.5324547e-01,  1.8147054e-01,\n",
              "           -5.8725899e-01,  3.9692658e-01, -4.4874343e-01,\n",
              "           -5.5480379e-01, -2.5697064e-01, -1.5732475e-01,\n",
              "            8.5886948e-02,  3.1276590e-01,  6.1114907e-01,\n",
              "           -5.1293319e-01, -1.0385966e-02,  2.2224468e-01,\n",
              "            5.5632439e-02,  4.7395781e-01, -8.7923950e-01,\n",
              "           -3.5375345e-01, -6.0131907e-01]]],\n",
              " \n",
              " \n",
              "        [[[-1.7824069e-01, -9.5754981e-01, -7.8391647e-01,\n",
              "            7.3199011e-02, -9.5559424e-01,  6.2937069e-01,\n",
              "            2.6655477e-01, -1.9397624e-04,  3.6555701e-01,\n",
              "           -2.6169715e-02, -1.8743275e-01, -7.7999175e-01,\n",
              "           -1.2978981e-01,  1.5077725e-01, -6.9440827e-02,\n",
              "           -2.0939973e-01, -9.2717719e-01, -3.5384837e-01,\n",
              "            3.6835739e-01,  1.0506986e-01,  1.3926382e-01,\n",
              "            2.1795478e-01,  1.7727745e-01, -1.2809929e-01,\n",
              "           -7.7420346e-02,  8.5818551e-02, -4.4594726e-01,\n",
              "            1.7966069e-01, -5.2629951e-02,  5.8327597e-01,\n",
              "            7.6684810e-02,  1.6160542e-01]],\n",
              " \n",
              "         [[ 3.6173436e-01, -6.4535856e-01, -1.0846311e-01,\n",
              "            1.9470762e-01,  7.2666600e-02,  3.7666097e-02,\n",
              "            2.6682001e-01,  1.5449598e-01,  2.9876852e-01,\n",
              "            1.4731070e-01,  4.1484722e-01, -6.5276951e-01,\n",
              "            4.3638360e-02, -4.0667957e-01,  2.9454547e-01,\n",
              "           -2.2534123e-01,  3.8446790e-01,  1.7660888e-01,\n",
              "           -5.4879542e-03,  5.9109241e-01, -1.6638850e-01,\n",
              "            3.7310395e-01,  1.9344093e-01,  3.3952248e-01,\n",
              "            4.6638393e-01, -2.1925704e-01,  3.5244185e-02,\n",
              "            1.5984004e-02,  3.3556473e-01,  2.6283970e-01,\n",
              "            4.5845285e-01,  2.0405875e-01]],\n",
              " \n",
              "         [[ 2.8471509e-01,  8.9179672e-02,  6.9109643e-01,\n",
              "           -4.4306895e-01,  3.7989131e-01, -6.1822581e-01,\n",
              "           -1.2881391e-01, -7.5496614e-01, -7.6105940e-01,\n",
              "            3.5496801e-01,  1.3037491e-01, -2.9346085e-01,\n",
              "            3.6513448e-02, -8.1360203e-01,  2.6935783e-01,\n",
              "            5.6409892e-02,  3.4819210e-01,  5.2594848e-02,\n",
              "           -7.4517727e-01, -7.2916269e-02,  3.3291167e-01,\n",
              "            1.6332178e-01,  6.8411902e-02,  1.9243625e-01,\n",
              "            1.7233311e-01, -2.7129499e-02,  1.3020815e-01,\n",
              "           -2.5237784e-02,  1.2825708e-01, -7.6410574e-01,\n",
              "            4.9228138e-01, -3.2724929e-01]]],\n",
              " \n",
              " \n",
              "        [[[-7.1370769e-01,  4.4994447e-01, -2.7172911e-01,\n",
              "            1.7260721e-01, -6.8685961e-01,  6.0735720e-01,\n",
              "           -2.6402611e-01, -4.5938995e-01,  4.4997391e-01,\n",
              "            2.6708332e-01,  8.9359634e-02, -4.8642862e-01,\n",
              "           -7.5684868e-02,  6.3735527e-01,  2.2099754e-01,\n",
              "            4.4273734e-01, -5.9069115e-01, -2.6473659e-01,\n",
              "            3.7823537e-01, -1.2766287e-01, -8.8137262e-02,\n",
              "            1.2389221e-01,  8.9884229e-02, -1.0423640e+00,\n",
              "           -7.0944279e-01, -1.7646188e-01, -2.2678328e-01,\n",
              "            9.7147692e-03, -8.3136892e-01,  5.9419310e-01,\n",
              "           -1.4114902e-02, -3.4613734e-01]],\n",
              " \n",
              "         [[-4.6241817e-01, -2.5256088e-01,  2.9756948e-01,\n",
              "            2.4900396e-01,  5.0245970e-01,  3.5650286e-01,\n",
              "            2.8013584e-01, -7.4273378e-01,  9.1432840e-02,\n",
              "           -4.6506055e-02,  2.4833651e-01, -3.2042766e-01,\n",
              "           -6.6409007e-02,  8.3235848e-01, -4.9283080e-02,\n",
              "            5.7355684e-01,  2.6509237e-01,  2.3158249e-01,\n",
              "           -2.2057734e-01, -2.0377738e-02, -4.6435385e-03,\n",
              "           -1.1442912e-01,  9.7734638e-02, -6.6675419e-01,\n",
              "           -1.1048052e-01,  2.1538238e-01, -1.0977403e-02,\n",
              "           -4.9000653e-03, -8.8971299e-01,  2.9877484e-01,\n",
              "            1.1963005e-01,  3.4599179e-01]],\n",
              " \n",
              "         [[ 3.7888080e-01, -9.0850884e-01,  4.9349454e-01,\n",
              "           -3.3419558e-01,  6.8188316e-01, -1.4144363e-01,\n",
              "            2.7575490e-01, -7.8099483e-01, -6.4477086e-01,\n",
              "            5.0702285e-02, -4.7967321e-01, -9.7414695e-02,\n",
              "            3.4129187e-01,  1.1145076e-01, -3.7450674e-01,\n",
              "            3.9111668e-01,  5.4903027e-02,  2.0218959e-01,\n",
              "           -3.5277048e-01, -3.2407102e-01,  1.2620042e-01,\n",
              "           -5.7056344e-01, -5.8655506e-01, -5.9346658e-01,\n",
              "            1.6083886e-01,  2.3590603e-01,  3.1557798e-01,\n",
              "            2.2821066e-01, -9.8613811e-01, -2.8474054e-01,\n",
              "           -1.2441989e-01,  3.1363249e-01]]]], dtype=float32)>,\n",
              " <tf.Variable 'conv/bias:0' shape=(32,) dtype=float32, numpy=\n",
              " array([-0.39239982,  0.19581436, -0.0485325 , -0.23071542,  0.1129806 ,\n",
              "        -0.12475596, -0.29833987, -0.01901663, -0.09173436, -0.22677231,\n",
              "        -0.13302895, -0.0385827 , -0.35387245, -0.02568546, -0.15689734,\n",
              "        -0.10742035, -0.04696716, -0.20546158, -0.1095246 , -0.00045706,\n",
              "        -0.24657713, -0.04887029, -0.03413608, -0.10404606, -0.03888576,\n",
              "        -0.2799807 , -0.3269977 , -0.32024044, -0.03926255,  0.01356079,\n",
              "        -0.06193736, -0.4017139 ], dtype=float32)>]"
            ]
          },
          "metadata": {},
          "execution_count": 17
        }
      ]
    },
    {
      "cell_type": "code",
      "source": [
        "model.layers[0].kernel"
      ],
      "metadata": {
        "colab": {
          "base_uri": "https://localhost:8080/"
        },
        "id": "h19AXuvnPzxj",
        "outputId": "27ba040d-3875-4da8-b90e-fab3f2ef2835"
      },
      "execution_count": 18,
      "outputs": [
        {
          "output_type": "execute_result",
          "data": {
            "text/plain": [
              "<tf.Variable 'conv/kernel:0' shape=(3, 3, 1, 32) dtype=float32, numpy=\n",
              "array([[[[ 3.1374282e-01, -4.1406298e-01, -8.3018869e-01,\n",
              "          -4.0818527e-01, -6.4771825e-01,  1.8589880e-01,\n",
              "           2.5464451e-01,  4.3967122e-01,  2.0141387e-01,\n",
              "          -6.4463300e-01, -4.4801244e-01,  1.2630041e-01,\n",
              "           3.0377510e-01, -1.1287893e+00, -7.9313874e-02,\n",
              "           4.3468315e-02, -7.3957223e-01,  3.0721185e-01,\n",
              "           8.0179714e-02, -5.2193332e-01,  2.8187385e-01,\n",
              "          -5.0775552e-01, -5.9911132e-01,  1.6641109e-01,\n",
              "          -7.6569423e-02,  2.1428625e-01, -8.7118590e-01,\n",
              "           9.8507844e-02,  3.1076813e-01, -8.0992204e-01,\n",
              "          -2.6541520e-02,  3.2397166e-01]],\n",
              "\n",
              "        [[ 3.3673921e-01,  3.8830662e-01, -6.6234934e-01,\n",
              "           3.2004684e-01, -1.4385012e+00, -4.9877694e-01,\n",
              "          -2.7762845e-01,  5.9175098e-01,  2.4482864e-01,\n",
              "          -3.0771849e-01, -1.9157831e-01,  5.8703035e-01,\n",
              "           2.1207628e-01, -1.8435057e-01, -3.7673178e-01,\n",
              "          -4.6733728e-01,  3.6474973e-01,  3.7097690e-01,\n",
              "           3.9901590e-01,  1.9747247e-01, -3.9603956e-02,\n",
              "          -1.7377594e-01, -1.7781280e-01,  3.4821111e-01,\n",
              "           1.8045326e-01,  1.4443377e-01,  3.0929840e-01,\n",
              "          -8.6207919e-02,  5.2797276e-01, -9.2224115e-01,\n",
              "          -6.5214074e-01,  2.4503708e-01]],\n",
              "\n",
              "        [[ 4.8289970e-03,  2.6789945e-01,  2.5536448e-01,\n",
              "           3.1807056e-01, -1.0091416e+00, -8.6415976e-01,\n",
              "          -4.1806152e-01,  1.6898457e-02, -4.8424485e-01,\n",
              "          -3.4746385e-01,  1.2946498e-01,  7.2385705e-01,\n",
              "          -1.0069697e-01, -3.5324547e-01,  1.8147054e-01,\n",
              "          -5.8725899e-01,  3.9692658e-01, -4.4874343e-01,\n",
              "          -5.5480379e-01, -2.5697064e-01, -1.5732475e-01,\n",
              "           8.5886948e-02,  3.1276590e-01,  6.1114907e-01,\n",
              "          -5.1293319e-01, -1.0385966e-02,  2.2224468e-01,\n",
              "           5.5632439e-02,  4.7395781e-01, -8.7923950e-01,\n",
              "          -3.5375345e-01, -6.0131907e-01]]],\n",
              "\n",
              "\n",
              "       [[[-1.7824069e-01, -9.5754981e-01, -7.8391647e-01,\n",
              "           7.3199011e-02, -9.5559424e-01,  6.2937069e-01,\n",
              "           2.6655477e-01, -1.9397624e-04,  3.6555701e-01,\n",
              "          -2.6169715e-02, -1.8743275e-01, -7.7999175e-01,\n",
              "          -1.2978981e-01,  1.5077725e-01, -6.9440827e-02,\n",
              "          -2.0939973e-01, -9.2717719e-01, -3.5384837e-01,\n",
              "           3.6835739e-01,  1.0506986e-01,  1.3926382e-01,\n",
              "           2.1795478e-01,  1.7727745e-01, -1.2809929e-01,\n",
              "          -7.7420346e-02,  8.5818551e-02, -4.4594726e-01,\n",
              "           1.7966069e-01, -5.2629951e-02,  5.8327597e-01,\n",
              "           7.6684810e-02,  1.6160542e-01]],\n",
              "\n",
              "        [[ 3.6173436e-01, -6.4535856e-01, -1.0846311e-01,\n",
              "           1.9470762e-01,  7.2666600e-02,  3.7666097e-02,\n",
              "           2.6682001e-01,  1.5449598e-01,  2.9876852e-01,\n",
              "           1.4731070e-01,  4.1484722e-01, -6.5276951e-01,\n",
              "           4.3638360e-02, -4.0667957e-01,  2.9454547e-01,\n",
              "          -2.2534123e-01,  3.8446790e-01,  1.7660888e-01,\n",
              "          -5.4879542e-03,  5.9109241e-01, -1.6638850e-01,\n",
              "           3.7310395e-01,  1.9344093e-01,  3.3952248e-01,\n",
              "           4.6638393e-01, -2.1925704e-01,  3.5244185e-02,\n",
              "           1.5984004e-02,  3.3556473e-01,  2.6283970e-01,\n",
              "           4.5845285e-01,  2.0405875e-01]],\n",
              "\n",
              "        [[ 2.8471509e-01,  8.9179672e-02,  6.9109643e-01,\n",
              "          -4.4306895e-01,  3.7989131e-01, -6.1822581e-01,\n",
              "          -1.2881391e-01, -7.5496614e-01, -7.6105940e-01,\n",
              "           3.5496801e-01,  1.3037491e-01, -2.9346085e-01,\n",
              "           3.6513448e-02, -8.1360203e-01,  2.6935783e-01,\n",
              "           5.6409892e-02,  3.4819210e-01,  5.2594848e-02,\n",
              "          -7.4517727e-01, -7.2916269e-02,  3.3291167e-01,\n",
              "           1.6332178e-01,  6.8411902e-02,  1.9243625e-01,\n",
              "           1.7233311e-01, -2.7129499e-02,  1.3020815e-01,\n",
              "          -2.5237784e-02,  1.2825708e-01, -7.6410574e-01,\n",
              "           4.9228138e-01, -3.2724929e-01]]],\n",
              "\n",
              "\n",
              "       [[[-7.1370769e-01,  4.4994447e-01, -2.7172911e-01,\n",
              "           1.7260721e-01, -6.8685961e-01,  6.0735720e-01,\n",
              "          -2.6402611e-01, -4.5938995e-01,  4.4997391e-01,\n",
              "           2.6708332e-01,  8.9359634e-02, -4.8642862e-01,\n",
              "          -7.5684868e-02,  6.3735527e-01,  2.2099754e-01,\n",
              "           4.4273734e-01, -5.9069115e-01, -2.6473659e-01,\n",
              "           3.7823537e-01, -1.2766287e-01, -8.8137262e-02,\n",
              "           1.2389221e-01,  8.9884229e-02, -1.0423640e+00,\n",
              "          -7.0944279e-01, -1.7646188e-01, -2.2678328e-01,\n",
              "           9.7147692e-03, -8.3136892e-01,  5.9419310e-01,\n",
              "          -1.4114902e-02, -3.4613734e-01]],\n",
              "\n",
              "        [[-4.6241817e-01, -2.5256088e-01,  2.9756948e-01,\n",
              "           2.4900396e-01,  5.0245970e-01,  3.5650286e-01,\n",
              "           2.8013584e-01, -7.4273378e-01,  9.1432840e-02,\n",
              "          -4.6506055e-02,  2.4833651e-01, -3.2042766e-01,\n",
              "          -6.6409007e-02,  8.3235848e-01, -4.9283080e-02,\n",
              "           5.7355684e-01,  2.6509237e-01,  2.3158249e-01,\n",
              "          -2.2057734e-01, -2.0377738e-02, -4.6435385e-03,\n",
              "          -1.1442912e-01,  9.7734638e-02, -6.6675419e-01,\n",
              "          -1.1048052e-01,  2.1538238e-01, -1.0977403e-02,\n",
              "          -4.9000653e-03, -8.8971299e-01,  2.9877484e-01,\n",
              "           1.1963005e-01,  3.4599179e-01]],\n",
              "\n",
              "        [[ 3.7888080e-01, -9.0850884e-01,  4.9349454e-01,\n",
              "          -3.3419558e-01,  6.8188316e-01, -1.4144363e-01,\n",
              "           2.7575490e-01, -7.8099483e-01, -6.4477086e-01,\n",
              "           5.0702285e-02, -4.7967321e-01, -9.7414695e-02,\n",
              "           3.4129187e-01,  1.1145076e-01, -3.7450674e-01,\n",
              "           3.9111668e-01,  5.4903027e-02,  2.0218959e-01,\n",
              "          -3.5277048e-01, -3.2407102e-01,  1.2620042e-01,\n",
              "          -5.7056344e-01, -5.8655506e-01, -5.9346658e-01,\n",
              "           1.6083886e-01,  2.3590603e-01,  3.1557798e-01,\n",
              "           2.2821066e-01, -9.8613811e-01, -2.8474054e-01,\n",
              "          -1.2441989e-01,  3.1363249e-01]]]], dtype=float32)>"
            ]
          },
          "metadata": {},
          "execution_count": 18
        }
      ]
    },
    {
      "cell_type": "code",
      "source": [
        "model.layers[0].bias"
      ],
      "metadata": {
        "colab": {
          "base_uri": "https://localhost:8080/"
        },
        "id": "XQuCICvAPzu2",
        "outputId": "e22024dc-378a-442f-fc39-8349675e3a2e"
      },
      "execution_count": 19,
      "outputs": [
        {
          "output_type": "execute_result",
          "data": {
            "text/plain": [
              "<tf.Variable 'conv/bias:0' shape=(32,) dtype=float32, numpy=\n",
              "array([-0.39239982,  0.19581436, -0.0485325 , -0.23071542,  0.1129806 ,\n",
              "       -0.12475596, -0.29833987, -0.01901663, -0.09173436, -0.22677231,\n",
              "       -0.13302895, -0.0385827 , -0.35387245, -0.02568546, -0.15689734,\n",
              "       -0.10742035, -0.04696716, -0.20546158, -0.1095246 , -0.00045706,\n",
              "       -0.24657713, -0.04887029, -0.03413608, -0.10404606, -0.03888576,\n",
              "       -0.2799807 , -0.3269977 , -0.32024044, -0.03926255,  0.01356079,\n",
              "       -0.06193736, -0.4017139 ], dtype=float32)>"
            ]
          },
          "metadata": {},
          "execution_count": 19
        }
      ]
    },
    {
      "cell_type": "code",
      "source": [
        "model.get_layer('conv')"
      ],
      "metadata": {
        "colab": {
          "base_uri": "https://localhost:8080/"
        },
        "id": "4_C_Bm5uPzsW",
        "outputId": "6576449d-d1bb-4730-b98c-461cb595aa16"
      },
      "execution_count": 20,
      "outputs": [
        {
          "output_type": "execute_result",
          "data": {
            "text/plain": [
              "<keras.layers.convolutional.Conv2D at 0x7fee4eab7550>"
            ]
          },
          "metadata": {},
          "execution_count": 20
        }
      ]
    },
    {
      "cell_type": "code",
      "source": [
        "activator = tf.keras.Model(inputs=model.input, \n",
        "                           outputs=[layer.output for layer in model.layers[:2]] ) \n",
        "activations = activator.predict(x_train_in[0][tf.newaxis, ...]) \n",
        "\n",
        "len(activations)"
      ],
      "metadata": {
        "colab": {
          "base_uri": "https://localhost:8080/"
        },
        "id": "rjARNZG7Pzqh",
        "outputId": "052a87e3-fce4-460a-fe71-398d8aa94d91"
      },
      "execution_count": 21,
      "outputs": [
        {
          "output_type": "execute_result",
          "data": {
            "text/plain": [
              "2"
            ]
          },
          "metadata": {},
          "execution_count": 21
        }
      ]
    },
    {
      "cell_type": "code",
      "source": [
        "conv_activation = activations[0]\n",
        "conv_activation.shape"
      ],
      "metadata": {
        "colab": {
          "base_uri": "https://localhost:8080/"
        },
        "id": "sGHpw6BNQJFo",
        "outputId": "e348c049-3662-4501-c945-718afe2b4cbc"
      },
      "execution_count": 22,
      "outputs": [
        {
          "output_type": "execute_result",
          "data": {
            "text/plain": [
              "(1, 26, 26, 32)"
            ]
          },
          "metadata": {},
          "execution_count": 22
        }
      ]
    },
    {
      "cell_type": "code",
      "source": [
        "fig, axes = plt.subplots(4, 8)\n",
        "fig.set_size_inches(10, 5)\n",
        "\n",
        "for i in range(32):\n",
        "    axes[i//8, i%8].matshow(conv_activation[0, :, :, i], cmap='viridis')\n",
        "    axes[i//8, i%8].set_title('kernel %s'%str(i), fontsize=10)\n",
        "    plt.setp( axes[i//8, i%8].get_xticklabels(), visible=False)\n",
        "    plt.setp( axes[i//8, i%8].get_yticklabels(), visible=False)\n",
        "\n",
        "plt.tight_layout()\n",
        "plt.show()"
      ],
      "metadata": {
        "colab": {
          "base_uri": "https://localhost:8080/",
          "height": 369
        },
        "id": "q9LYEkTKQJCb",
        "outputId": "e745e53d-18ff-4c38-9288-938bf7708f46"
      },
      "execution_count": 23,
      "outputs": [
        {
          "output_type": "display_data",
          "data": {
            "text/plain": [
              "<Figure size 720x360 with 32 Axes>"
            ],
            "image/png": "[encoded data removed]"
          },
          "metadata": {}
        }
      ]
    },
    {
      "cell_type": "code",
      "source": [
        "pooling_activation = activations[1]\n",
        "print(pooling_activation.shape)"
      ],
      "metadata": {
        "colab": {
          "base_uri": "https://localhost:8080/"
        },
        "id": "CfKpVmAvQI_m",
        "outputId": "fc5dae4f-e705-4c71-9585-1ca272c8e1ef"
      },
      "execution_count": 24,
      "outputs": [
        {
          "output_type": "stream",
          "name": "stdout",
          "text": [
            "(1, 13, 13, 32)\n"
          ]
        }
      ]
    },
    {
      "cell_type": "code",
      "source": [
        "fig, axes = plt.subplots(4, 8)\n",
        "fig.set_size_inches(10, 5)\n",
        "\n",
        "for i in range(32):\n",
        "    axes[i//8, i%8].matshow(pooling_activation[0, :, :, i], cmap='viridis')\n",
        "    axes[i//8, i%8].set_title('kernel %s'%str(i), fontsize=10)\n",
        "    plt.setp( axes[i//8, i%8].get_xticklabels(), visible=False)\n",
        "    plt.setp( axes[i//8, i%8].get_yticklabels(), visible=False)\n",
        "\n",
        "plt.tight_layout()\n",
        "plt.show()"
      ],
      "metadata": {
        "colab": {
          "base_uri": "https://localhost:8080/",
          "height": 369
        },
        "id": "7dd4oU1_QI8v",
        "outputId": "43e52076-0b79-4715-cd56-13a5c1708a4b"
      },
      "execution_count": 25,
      "outputs": [
        {
          "output_type": "display_data",
          "data": {
            "text/plain": [
              "<Figure size 720x360 with 32 Axes>"
            ],
            "image/png": "[encoded data removed]"
          },
          "metadata": {}
        }
      ]
    },
    {
      "cell_type": "markdown",
      "source": [
        "## **03. 복잡한 모델 생성**\n",
        "3-1. 데이터셋 준비"
      ],
      "metadata": {
        "id": "t_4jlKnoQTLm"
      }
    },
    {
      "cell_type": "code",
      "source": [
        "import tensorflow as tf\n",
        "import numpy as np\n",
        "\n",
        "mnist = tf.keras.datasets.mnist\n",
        "(x_train, y_train), (x_valid, y_valid) = mnist.load_data()\n",
        "\n",
        "print(x_train.shape, y_train.shape)\n",
        "print(x_valid.shape, y_valid.shape)"
      ],
      "metadata": {
        "colab": {
          "base_uri": "https://localhost:8080/"
        },
        "id": "lqMKkkVXQXaR",
        "outputId": "9d0bab56-eaa2-40e3-b71a-aed6c3dd5b52"
      },
      "execution_count": 26,
      "outputs": [
        {
          "output_type": "stream",
          "name": "stdout",
          "text": [
            "(60000, 28, 28) (60000,)\n",
            "(10000, 28, 28) (10000,)\n"
          ]
        }
      ]
    },
    {
      "cell_type": "code",
      "source": [
        "y_train_odd = []\n",
        "for y in y_train:\n",
        "    if y % 2==0:\n",
        "        y_train_odd.append(0)\n",
        "    else:\n",
        "        y_train_odd.append(1)\n",
        "\n",
        "y_train_odd = np.array(y_train_odd)\n",
        "y_train_odd.shape"
      ],
      "metadata": {
        "colab": {
          "base_uri": "https://localhost:8080/"
        },
        "id": "9_g0TtJ9QXkh",
        "outputId": "b9876972-6d00-4f3c-d43d-be9f118e48ed"
      },
      "execution_count": 27,
      "outputs": [
        {
          "output_type": "execute_result",
          "data": {
            "text/plain": [
              "(60000,)"
            ]
          },
          "metadata": {},
          "execution_count": 27
        }
      ]
    },
    {
      "cell_type": "code",
      "source": [
        "print(y_train[:10])\n",
        "print(y_train_odd[:10])"
      ],
      "metadata": {
        "colab": {
          "base_uri": "https://localhost:8080/"
        },
        "id": "AeRxO1S9QXhZ",
        "outputId": "e2b41309-5650-4e1d-8019-f226f734cc9d"
      },
      "execution_count": 28,
      "outputs": [
        {
          "output_type": "stream",
          "name": "stdout",
          "text": [
            "[5 0 4 1 9 2 1 3 1 4]\n",
            "[1 0 0 1 1 0 1 1 1 0]\n"
          ]
        }
      ]
    },
    {
      "cell_type": "code",
      "source": [
        "y_valid_odd = []\n",
        "for y in y_valid:\n",
        "    if y % 2==0:\n",
        "        y_valid_odd.append(0)\n",
        "    else:\n",
        "        y_valid_odd.append(1)\n",
        "\n",
        "y_valid_odd = np.array(y_valid_odd)\n",
        "y_valid_odd.shape"
      ],
      "metadata": {
        "colab": {
          "base_uri": "https://localhost:8080/"
        },
        "id": "nyruGTfsQXep",
        "outputId": "18b7a693-cf90-4c66-d8ef-42641e6ace8f"
      },
      "execution_count": 29,
      "outputs": [
        {
          "output_type": "execute_result",
          "data": {
            "text/plain": [
              "(10000,)"
            ]
          },
          "metadata": {},
          "execution_count": 29
        }
      ]
    },
    {
      "cell_type": "code",
      "source": [
        "x_train = x_train/255.0\n",
        "x_valid = x_valid/255.0\n",
        "\n",
        "x_train_in = tf.expand_dims(x_train, -1)\n",
        "x_valid_in = tf.expand_dims(x_valid, -1)\n",
        "\n",
        "print(x_train_in.shape, x_valid_in.shape)"
      ],
      "metadata": {
        "colab": {
          "base_uri": "https://localhost:8080/"
        },
        "id": "p9G46ikBQI5k",
        "outputId": "c55b3fa2-80c9-4ede-ece5-ebb68d57ec4c"
      },
      "execution_count": 30,
      "outputs": [
        {
          "output_type": "stream",
          "name": "stdout",
          "text": [
            "(60000, 28, 28, 1) (10000, 28, 28, 1)\n"
          ]
        }
      ]
    },
    {
      "cell_type": "markdown",
      "source": [
        "3-2 Functional API로 다중 입력, 다중 출력 레이어 생성"
      ],
      "metadata": {
        "id": "hL3oSpW8SEuW"
      }
    },
    {
      "cell_type": "code",
      "source": [
        "inputs = tf.keras.layers.Input(shape=(28, 28, 1))\n",
        "\n",
        "conv = tf.keras.layers.Conv2D(32, (3, 3), activation='relu')(inputs)\n",
        "pool = tf.keras.layers.MaxPooling2D((2, 2))(conv)\n",
        "flat = tf.keras.layers.Flatten()(pool)\n",
        "\n",
        "flat_inputs = tf.keras.layers.Flatten()(inputs)\n",
        "concat = tf.keras.layers.Concatenate()([flat, flat_inputs])\n",
        "outputs = tf.keras.layers.Dense(10, activation='softmax')(concat)\n",
        "\n",
        "model = tf.keras.models.Model(inputs=inputs, outputs=outputs)\n",
        "\n",
        "model.summary()"
      ],
      "metadata": {
        "colab": {
          "base_uri": "https://localhost:8080/"
        },
        "id": "mVD0xC7YQI2i",
        "outputId": "e77367ea-823b-41d8-d4ec-4b453ea07f5b"
      },
      "execution_count": 31,
      "outputs": [
        {
          "output_type": "stream",
          "name": "stdout",
          "text": [
            "Model: \"model_1\"\n",
            "__________________________________________________________________________________________________\n",
            " Layer (type)                   Output Shape         Param #     Connected to                     \n",
            "==================================================================================================\n",
            " input_1 (InputLayer)           [(None, 28, 28, 1)]  0           []                               \n",
            "                                                                                                  \n",
            " conv2d (Conv2D)                (None, 26, 26, 32)   320         ['input_1[0][0]']                \n",
            "                                                                                                  \n",
            " max_pooling2d (MaxPooling2D)   (None, 13, 13, 32)   0           ['conv2d[0][0]']                 \n",
            "                                                                                                  \n",
            " flatten_1 (Flatten)            (None, 5408)         0           ['max_pooling2d[0][0]']          \n",
            "                                                                                                  \n",
            " flatten_2 (Flatten)            (None, 784)          0           ['input_1[0][0]']                \n",
            "                                                                                                  \n",
            " concatenate (Concatenate)      (None, 6192)         0           ['flatten_1[0][0]',              \n",
            "                                                                  'flatten_2[0][0]']              \n",
            "                                                                                                  \n",
            " dense_1 (Dense)                (None, 10)           61930       ['concatenate[0][0]']            \n",
            "                                                                                                  \n",
            "==================================================================================================\n",
            "Total params: 62,250\n",
            "Trainable params: 62,250\n",
            "Non-trainable params: 0\n",
            "__________________________________________________________________________________________________\n"
          ]
        }
      ]
    },
    {
      "cell_type": "code",
      "source": [
        "model.compile(optimizer='adam', loss='sparse_categorical_crossentropy', metrics=['accuracy'])\n",
        "\n",
        "history = model.fit(x_train_in, y_train, \n",
        "                    validation_data=(x_valid_in, y_valid), \n",
        "                    epochs=10)\n",
        "\n",
        "val_loss, val_acc = model.evaluate(x_valid_in, y_valid)\n",
        "print(val_loss, val_acc)"
      ],
      "metadata": {
        "colab": {
          "base_uri": "https://localhost:8080/"
        },
        "id": "xqPtfq60QIw2",
        "outputId": "75b859d5-cbfd-43f9-db87-3993f42c6035"
      },
      "execution_count": 33,
      "outputs": [
        {
          "output_type": "stream",
          "name": "stdout",
          "text": [
            "Epoch 1/10\n",
            "1875/1875 [==============================] - 32s 17ms/step - loss: 0.1948 - accuracy: 0.9443 - val_loss: 0.0798 - val_accuracy: 0.9763\n",
            "Epoch 2/10\n",
            "1875/1875 [==============================] - 31s 17ms/step - loss: 0.0742 - accuracy: 0.9783 - val_loss: 0.0650 - val_accuracy: 0.9794\n",
            "Epoch 3/10\n",
            "1875/1875 [==============================] - 31s 17ms/step - loss: 0.0575 - accuracy: 0.9826 - val_loss: 0.0656 - val_accuracy: 0.9780\n",
            "Epoch 4/10\n",
            "1875/1875 [==============================] - 33s 17ms/step - loss: 0.0473 - accuracy: 0.9858 - val_loss: 0.0529 - val_accuracy: 0.9829\n",
            "Epoch 5/10\n",
            "1875/1875 [==============================] - 31s 17ms/step - loss: 0.0392 - accuracy: 0.9881 - val_loss: 0.0557 - val_accuracy: 0.9832\n",
            "Epoch 6/10\n",
            "1875/1875 [==============================] - 31s 17ms/step - loss: 0.0335 - accuracy: 0.9894 - val_loss: 0.0564 - val_accuracy: 0.9826\n",
            "Epoch 7/10\n",
            "1875/1875 [==============================] - 32s 17ms/step - loss: 0.0285 - accuracy: 0.9912 - val_loss: 0.0598 - val_accuracy: 0.9821\n",
            "Epoch 8/10\n",
            "1875/1875 [==============================] - 31s 17ms/step - loss: 0.0246 - accuracy: 0.9925 - val_loss: 0.0539 - val_accuracy: 0.9843\n",
            "Epoch 9/10\n",
            "1875/1875 [==============================] - 31s 17ms/step - loss: 0.0202 - accuracy: 0.9938 - val_loss: 0.0568 - val_accuracy: 0.9834\n",
            "Epoch 10/10\n",
            "1875/1875 [==============================] - 31s 16ms/step - loss: 0.0178 - accuracy: 0.9945 - val_loss: 0.0525 - val_accuracy: 0.9844\n",
            "313/313 [==============================] - 2s 7ms/step - loss: 0.0525 - accuracy: 0.9844\n",
            "0.0524907112121582 0.9843999743461609\n"
          ]
        }
      ]
    },
    {
      "cell_type": "markdown",
      "source": [
        "3-3. 다중 출력 분류 모델"
      ],
      "metadata": {
        "id": "qNz4eIeZTP4o"
      }
    },
    {
      "cell_type": "code",
      "source": [
        "inputs = tf.keras.layers.Input(shape=(28, 28, 1), name='inputs')\n",
        "\n",
        "conv = tf.keras.layers.Conv2D(32, (3, 3), activation='relu', name='conv2d_layer')(inputs)\n",
        "pool = tf.keras.layers.MaxPooling2D((2, 2), name='maxpool_layer')(conv)\n",
        "flat = tf.keras.layers.Flatten(name='flatten_layer')(pool)\n",
        "\n",
        "flat_inputs = tf.keras.layers.Flatten()(inputs)\n",
        "concat = tf.keras.layers.Concatenate()([flat, flat_inputs])\n",
        "digit_outputs = tf.keras.layers.Dense(10, activation='softmax', name='digit_dense')(concat)\n",
        "\n",
        "odd_outputs = tf.keras.layers.Dense(1, activation='sigmoid', name='odd_dense')(flat_inputs)\n",
        "\n",
        "model = tf.keras.models.Model(inputs=inputs, outputs=[digit_outputs, odd_outputs])\n",
        "\n",
        "model.summary()"
      ],
      "metadata": {
        "colab": {
          "base_uri": "https://localhost:8080/"
        },
        "id": "XzlcIE0vPzmy",
        "outputId": "5dc01177-0e15-4a2f-fe3b-139a175b1f50"
      },
      "execution_count": 34,
      "outputs": [
        {
          "output_type": "stream",
          "name": "stdout",
          "text": [
            "Model: \"model_2\"\n",
            "__________________________________________________________________________________________________\n",
            " Layer (type)                   Output Shape         Param #     Connected to                     \n",
            "==================================================================================================\n",
            " inputs (InputLayer)            [(None, 28, 28, 1)]  0           []                               \n",
            "                                                                                                  \n",
            " conv2d_layer (Conv2D)          (None, 26, 26, 32)   320         ['inputs[0][0]']                 \n",
            "                                                                                                  \n",
            " maxpool_layer (MaxPooling2D)   (None, 13, 13, 32)   0           ['conv2d_layer[0][0]']           \n",
            "                                                                                                  \n",
            " flatten_layer (Flatten)        (None, 5408)         0           ['maxpool_layer[0][0]']          \n",
            "                                                                                                  \n",
            " flatten_3 (Flatten)            (None, 784)          0           ['inputs[0][0]']                 \n",
            "                                                                                                  \n",
            " concatenate_1 (Concatenate)    (None, 6192)         0           ['flatten_layer[0][0]',          \n",
            "                                                                  'flatten_3[0][0]']              \n",
            "                                                                                                  \n",
            " digit_dense (Dense)            (None, 10)           61930       ['concatenate_1[0][0]']          \n",
            "                                                                                                  \n",
            " odd_dense (Dense)              (None, 1)            785         ['flatten_3[0][0]']              \n",
            "                                                                                                  \n",
            "==================================================================================================\n",
            "Total params: 63,035\n",
            "Trainable params: 63,035\n",
            "Non-trainable params: 0\n",
            "__________________________________________________________________________________________________\n"
          ]
        }
      ]
    },
    {
      "cell_type": "code",
      "source": [
        "print(model.input)\n",
        "print(model.output)"
      ],
      "metadata": {
        "colab": {
          "base_uri": "https://localhost:8080/"
        },
        "id": "78lTHRueSMIb",
        "outputId": "ad40f2e9-461c-4f04-b03a-a380caf2831a"
      },
      "execution_count": 35,
      "outputs": [
        {
          "output_type": "stream",
          "name": "stdout",
          "text": [
            "KerasTensor(type_spec=TensorSpec(shape=(None, 28, 28, 1), dtype=tf.float32, name='inputs'), name='inputs', description=\"created by layer 'inputs'\")\n",
            "[<KerasTensor: shape=(None, 10) dtype=float32 (created by layer 'digit_dense')>, <KerasTensor: shape=(None, 1) dtype=float32 (created by layer 'odd_dense')>]\n"
          ]
        }
      ]
    },
    {
      "cell_type": "code",
      "source": [
        "model.compile(optimizer='adam', \n",
        "              loss={'digit_dense': 'sparse_categorical_crossentropy', 'odd_dense': 'binary_crossentropy'}, \n",
        "              loss_weights={'digit_dense': 1, 'odd_dense': 0.5}, \n",
        "              metrics=['accuracy'])\n",
        "\n",
        "history = model.fit({'inputs': x_train_in}, {'digit_dense': y_train, 'odd_dense': y_train_odd}, \n",
        "                    validation_data=({'inputs': x_valid_in},  {'digit_dense': y_valid, 'odd_dense': y_valid_odd}), \n",
        "                    epochs=10)"
      ],
      "metadata": {
        "colab": {
          "base_uri": "https://localhost:8080/"
        },
        "id": "qN2r6noySMC2",
        "outputId": "2a2c72f9-7300-4563-ad69-84adfb212748"
      },
      "execution_count": 39,
      "outputs": [
        {
          "output_type": "stream",
          "name": "stdout",
          "text": [
            "Epoch 1/10\n",
            "1875/1875 [==============================] - 38s 19ms/step - loss: 0.1305 - digit_dense_loss: 0.0046 - odd_dense_loss: 0.2517 - digit_dense_accuracy: 0.9987 - odd_dense_accuracy: 0.9018 - val_loss: 0.2180 - val_digit_dense_loss: 0.0882 - val_odd_dense_loss: 0.2596 - val_digit_dense_accuracy: 0.9820 - val_odd_dense_accuracy: 0.9025\n",
            "Epoch 2/10\n",
            "1875/1875 [==============================] - 32s 17ms/step - loss: 0.1289 - digit_dense_loss: 0.0031 - odd_dense_loss: 0.2516 - digit_dense_accuracy: 0.9992 - odd_dense_accuracy: 0.9027 - val_loss: 0.2093 - val_digit_dense_loss: 0.0807 - val_odd_dense_loss: 0.2572 - val_digit_dense_accuracy: 0.9841 - val_odd_dense_accuracy: 0.9013\n",
            "Epoch 3/10\n",
            "1875/1875 [==============================] - 32s 17ms/step - loss: 0.1285 - digit_dense_loss: 0.0027 - odd_dense_loss: 0.2516 - digit_dense_accuracy: 0.9993 - odd_dense_accuracy: 0.9032 - val_loss: 0.2180 - val_digit_dense_loss: 0.0901 - val_odd_dense_loss: 0.2558 - val_digit_dense_accuracy: 0.9828 - val_odd_dense_accuracy: 0.9010\n",
            "Epoch 4/10\n",
            "1875/1875 [==============================] - 35s 19ms/step - loss: 0.1290 - digit_dense_loss: 0.0032 - odd_dense_loss: 0.2515 - digit_dense_accuracy: 0.9989 - odd_dense_accuracy: 0.9023 - val_loss: 0.2106 - val_digit_dense_loss: 0.0827 - val_odd_dense_loss: 0.2558 - val_digit_dense_accuracy: 0.9835 - val_odd_dense_accuracy: 0.9012\n",
            "Epoch 5/10\n",
            "1875/1875 [==============================] - 32s 17ms/step - loss: 0.1279 - digit_dense_loss: 0.0023 - odd_dense_loss: 0.2513 - digit_dense_accuracy: 0.9993 - odd_dense_accuracy: 0.9030 - val_loss: 0.2255 - val_digit_dense_loss: 0.0965 - val_odd_dense_loss: 0.2579 - val_digit_dense_accuracy: 0.9832 - val_odd_dense_accuracy: 0.9010\n",
            "Epoch 6/10\n",
            "1875/1875 [==============================] - 32s 17ms/step - loss: 0.1274 - digit_dense_loss: 0.0017 - odd_dense_loss: 0.2515 - digit_dense_accuracy: 0.9996 - odd_dense_accuracy: 0.9032 - val_loss: 0.2251 - val_digit_dense_loss: 0.0967 - val_odd_dense_loss: 0.2569 - val_digit_dense_accuracy: 0.9821 - val_odd_dense_accuracy: 0.9009\n",
            "Epoch 7/10\n",
            "1875/1875 [==============================] - 32s 17ms/step - loss: 0.1286 - digit_dense_loss: 0.0029 - odd_dense_loss: 0.2514 - digit_dense_accuracy: 0.9990 - odd_dense_accuracy: 0.9024 - val_loss: 0.2170 - val_digit_dense_loss: 0.0883 - val_odd_dense_loss: 0.2575 - val_digit_dense_accuracy: 0.9838 - val_odd_dense_accuracy: 0.9014\n",
            "Epoch 8/10\n",
            "1875/1875 [==============================] - 32s 17ms/step - loss: 0.1268 - digit_dense_loss: 0.0011 - odd_dense_loss: 0.2513 - digit_dense_accuracy: 0.9998 - odd_dense_accuracy: 0.9019 - val_loss: 0.2190 - val_digit_dense_loss: 0.0902 - val_odd_dense_loss: 0.2576 - val_digit_dense_accuracy: 0.9844 - val_odd_dense_accuracy: 0.9013\n",
            "Epoch 9/10\n",
            "1875/1875 [==============================] - 32s 17ms/step - loss: 0.1281 - digit_dense_loss: 0.0025 - odd_dense_loss: 0.2512 - digit_dense_accuracy: 0.9993 - odd_dense_accuracy: 0.9030 - val_loss: 0.2231 - val_digit_dense_loss: 0.0944 - val_odd_dense_loss: 0.2575 - val_digit_dense_accuracy: 0.9840 - val_odd_dense_accuracy: 0.9017\n",
            "Epoch 10/10\n",
            "1875/1875 [==============================] - 32s 17ms/step - loss: 0.1273 - digit_dense_loss: 0.0016 - odd_dense_loss: 0.2513 - digit_dense_accuracy: 0.9996 - odd_dense_accuracy: 0.9026 - val_loss: 0.2349 - val_digit_dense_loss: 0.1060 - val_odd_dense_loss: 0.2578 - val_digit_dense_accuracy: 0.9825 - val_odd_dense_accuracy: 0.9019\n"
          ]
        }
      ]
    },
    {
      "cell_type": "code",
      "source": [
        "model.evaluate(x_valid_in,y_valid)"
      ],
      "metadata": {
        "id": "Lg1XNcanLXyU",
        "outputId": "dc4c04b4-d026-4ae4-b6ee-dc5d521d4aad",
        "colab": {
          "base_uri": "https://localhost:8080/"
        }
      },
      "execution_count": 40,
      "outputs": [
        {
          "output_type": "stream",
          "name": "stdout",
          "text": [
            "313/313 [==============================] - 3s 8ms/step - loss: 0.2478 - digit_dense_loss: 0.1060 - odd_dense_loss: 0.2836 - digit_dense_accuracy: 0.9825 - odd_dense_accuracy: 0.2026\n"
          ]
        },
        {
          "output_type": "execute_result",
          "data": {
            "text/plain": [
              "[0.24777363240718842,\n",
              " 0.10595402866601944,\n",
              " 0.2836393415927887,\n",
              " 0.9825000166893005,\n",
              " 0.20260000228881836]"
            ]
          },
          "metadata": {},
          "execution_count": 40
        }
      ]
    },
    {
      "cell_type": "markdown",
      "source": [
        "3-3. 다중 출력 분류 모델"
      ],
      "metadata": {
        "id": "lNdmlWsOS2Ma"
      }
    },
    {
      "cell_type": "code",
      "source": [
        "model.evaluate({'inputs': x_valid_in}, {'digit_dense': y_valid, 'odd_dense': y_valid_odd})"
      ],
      "metadata": {
        "colab": {
          "base_uri": "https://localhost:8080/"
        },
        "id": "vZyrV5HwSaaR",
        "outputId": "5577b31a-31b7-4048-8ec1-79d8bfdb1ac2"
      },
      "execution_count": 41,
      "outputs": [
        {
          "output_type": "stream",
          "name": "stdout",
          "text": [
            "313/313 [==============================] - 2s 7ms/step - loss: 0.2349 - digit_dense_loss: 0.1060 - odd_dense_loss: 0.2578 - digit_dense_accuracy: 0.9825 - odd_dense_accuracy: 0.9019\n"
          ]
        },
        {
          "output_type": "execute_result",
          "data": {
            "text/plain": [
              "[0.234872967004776,\n",
              " 0.10595402866601944,\n",
              " 0.2578379213809967,\n",
              " 0.9825000166893005,\n",
              " 0.9018999934196472]"
            ]
          },
          "metadata": {},
          "execution_count": 41
        }
      ]
    },
    {
      "cell_type": "code",
      "source": [
        "import matplotlib.pylab as plt\n",
        "\n",
        "def plot_image(data, idx):\n",
        "    plt.figure(figsize=(5, 5))\n",
        "    plt.imshow(data[idx])\n",
        "    plt.axis(\"off\")\n",
        "    plt.show()\n",
        "\n",
        "plot_image(x_valid, 0)"
      ],
      "metadata": {
        "colab": {
          "base_uri": "https://localhost:8080/",
          "height": 303
        },
        "id": "X1jqZyIkSaVy",
        "outputId": "a7f593a6-47ed-412f-a344-25d353fbfa83"
      },
      "execution_count": 42,
      "outputs": [
        {
          "output_type": "display_data",
          "data": {
            "text/plain": [
              "<Figure size 360x360 with 1 Axes>"
            ],
            "image/png": "[encoded data removed]"
          },
          "metadata": {
            "needs_background": "light"
          }
        }
      ]
    },
    {
      "cell_type": "code",
      "source": [
        "digit_preds, odd_preds = model.predict(x_valid_in)\n",
        "print(digit_preds[0])\n",
        "print(odd_preds[0])"
      ],
      "metadata": {
        "colab": {
          "base_uri": "https://localhost:8080/"
        },
        "id": "AU8H18hvTdsp",
        "outputId": "d486e174-0b10-4eb1-f5eb-e91959afd387"
      },
      "execution_count": 43,
      "outputs": [
        {
          "output_type": "stream",
          "name": "stdout",
          "text": [
            "[9.0161059e-23 2.5083523e-19 2.5497140e-16 1.6906504e-09 2.1829458e-20\n",
            " 2.5754436e-23 0.0000000e+00 1.0000000e+00 2.6649035e-14 3.2750110e-15]\n",
            "[0.9996953]\n"
          ]
        }
      ]
    },
    {
      "cell_type": "code",
      "source": [
        "digit_labels = np.argmax(digit_preds, axis=-1)\n",
        "digit_labels[0:10]"
      ],
      "metadata": {
        "colab": {
          "base_uri": "https://localhost:8080/"
        },
        "id": "nqlsQ8yzTdpp",
        "outputId": "42fa9b55-ae4f-47d8-80f0-13dd59641622"
      },
      "execution_count": 44,
      "outputs": [
        {
          "output_type": "execute_result",
          "data": {
            "text/plain": [
              "array([7, 2, 1, 0, 4, 1, 4, 9, 5, 9])"
            ]
          },
          "metadata": {},
          "execution_count": 44
        }
      ]
    },
    {
      "cell_type": "code",
      "source": [
        "odd_labels = (odd_preds > 0.5).astype(np.int).reshape(1, -1)[0]\n",
        "odd_labels[0:10]"
      ],
      "metadata": {
        "colab": {
          "base_uri": "https://localhost:8080/"
        },
        "id": "cgdYvOqGTdmp",
        "outputId": "e7d25520-2c00-4004-b5f5-b71856f8b51b"
      },
      "execution_count": 45,
      "outputs": [
        {
          "output_type": "stream",
          "name": "stderr",
          "text": [
            "/usr/local/lib/python3.7/dist-packages/ipykernel_launcher.py:1: DeprecationWarning: `np.int` is a deprecated alias for the builtin `int`. To silence this warning, use `int` by itself. Doing this will not modify any behavior and is safe. When replacing `np.int`, you may wish to use e.g. `np.int64` or `np.int32` to specify the precision. If you wish to review your current use, check the release note link for additional information.\n",
            "Deprecated in NumPy 1.20; for more details and guidance: https://numpy.org/devdocs/release/1.20.0-notes.html#deprecations\n",
            "  \"\"\"Entry point for launching an IPython kernel.\n"
          ]
        },
        {
          "output_type": "execute_result",
          "data": {
            "text/plain": [
              "array([1, 0, 1, 0, 0, 1, 0, 1, 0, 1])"
            ]
          },
          "metadata": {},
          "execution_count": 45
        }
      ]
    },
    {
      "cell_type": "markdown",
      "source": [
        "3-4. 전이학습"
      ],
      "metadata": {
        "id": "lqFxDcb5ThwO"
      }
    },
    {
      "cell_type": "code",
      "source": [
        "base_model_output = model.get_layer('flatten_layer').output\n",
        "\n",
        "base_model = tf.keras.models.Model(inputs=model.input, outputs=base_model_output, name='base')\n",
        "base_model.summary()"
      ],
      "metadata": {
        "colab": {
          "base_uri": "https://localhost:8080/"
        },
        "id": "ojjvZkzYTdkl",
        "outputId": "8f52fdf2-5907-4a83-9b00-d89649f9b1f6"
      },
      "execution_count": 46,
      "outputs": [
        {
          "output_type": "stream",
          "name": "stdout",
          "text": [
            "Model: \"base\"\n",
            "_________________________________________________________________\n",
            " Layer (type)                Output Shape              Param #   \n",
            "=================================================================\n",
            " inputs (InputLayer)         [(None, 28, 28, 1)]       0         \n",
            "                                                                 \n",
            " conv2d_layer (Conv2D)       (None, 26, 26, 32)        320       \n",
            "                                                                 \n",
            " maxpool_layer (MaxPooling2D  (None, 13, 13, 32)       0         \n",
            " )                                                               \n",
            "                                                                 \n",
            " flatten_layer (Flatten)     (None, 5408)              0         \n",
            "                                                                 \n",
            "=================================================================\n",
            "Total params: 320\n",
            "Trainable params: 320\n",
            "Non-trainable params: 0\n",
            "_________________________________________________________________\n"
          ]
        }
      ]
    },
    {
      "cell_type": "code",
      "source": [
        "digit_model = tf.keras.Sequential([\n",
        "                                   base_model,\n",
        "                                   tf.keras.layers.Dense(10, activation='softmax'),\n",
        "                                   ])\n",
        "digit_model.summary()"
      ],
      "metadata": {
        "colab": {
          "base_uri": "https://localhost:8080/"
        },
        "id": "fYengX_fTruQ",
        "outputId": "28518ee0-1983-48dc-a40c-41cf7c4d0072"
      },
      "execution_count": 48,
      "outputs": [
        {
          "output_type": "stream",
          "name": "stdout",
          "text": [
            "Model: \"sequential_1\"\n",
            "_________________________________________________________________\n",
            " Layer (type)                Output Shape              Param #   \n",
            "=================================================================\n",
            " base (Functional)           (None, 5408)              320       \n",
            "                                                                 \n",
            " dense_2 (Dense)             (None, 10)                54090     \n",
            "                                                                 \n",
            "=================================================================\n",
            "Total params: 54,410\n",
            "Trainable params: 54,410\n",
            "Non-trainable params: 0\n",
            "_________________________________________________________________\n"
          ]
        }
      ]
    },
    {
      "cell_type": "code",
      "source": [
        "digit_model.compile(optimizer='adam', loss='sparse_categorical_crossentropy', metrics=['accuracy'])\n",
        "\n",
        "history = digit_model.fit(x_train_in, y_train, \n",
        "                    validation_data=(x_valid_in, y_valid), \n",
        "                    epochs=10)"
      ],
      "metadata": {
        "colab": {
          "base_uri": "https://localhost:8080/"
        },
        "id": "mAhSrUTXTroX",
        "outputId": "f905ac73-0851-4830-b5c7-f8c9b3d18c20"
      },
      "execution_count": 49,
      "outputs": [
        {
          "output_type": "stream",
          "name": "stdout",
          "text": [
            "Epoch 1/10\n",
            "1875/1875 [==============================] - 32s 17ms/step - loss: 0.1203 - accuracy: 0.9653 - val_loss: 0.0673 - val_accuracy: 0.9785\n",
            "Epoch 2/10\n",
            "1875/1875 [==============================] - 30s 16ms/step - loss: 0.0518 - accuracy: 0.9841 - val_loss: 0.0536 - val_accuracy: 0.9818\n",
            "Epoch 3/10\n",
            "1875/1875 [==============================] - 30s 16ms/step - loss: 0.0382 - accuracy: 0.9884 - val_loss: 0.0501 - val_accuracy: 0.9838\n",
            "Epoch 4/10\n",
            "1875/1875 [==============================] - 30s 16ms/step - loss: 0.0289 - accuracy: 0.9909 - val_loss: 0.0541 - val_accuracy: 0.9837\n",
            "Epoch 5/10\n",
            "1875/1875 [==============================] - 29s 16ms/step - loss: 0.0227 - accuracy: 0.9930 - val_loss: 0.0489 - val_accuracy: 0.9840\n",
            "Epoch 6/10\n",
            "1875/1875 [==============================] - 30s 16ms/step - loss: 0.0181 - accuracy: 0.9944 - val_loss: 0.0499 - val_accuracy: 0.9859\n",
            "Epoch 7/10\n",
            "1875/1875 [==============================] - 29s 16ms/step - loss: 0.0141 - accuracy: 0.9957 - val_loss: 0.0590 - val_accuracy: 0.9843\n",
            "Epoch 8/10\n",
            "1875/1875 [==============================] - 31s 16ms/step - loss: 0.0112 - accuracy: 0.9964 - val_loss: 0.0625 - val_accuracy: 0.9835\n",
            "Epoch 9/10\n",
            "1875/1875 [==============================] - 30s 16ms/step - loss: 0.0100 - accuracy: 0.9967 - val_loss: 0.0646 - val_accuracy: 0.9838\n",
            "Epoch 10/10\n",
            "1875/1875 [==============================] - 30s 16ms/step - loss: 0.0070 - accuracy: 0.9982 - val_loss: 0.0674 - val_accuracy: 0.9826\n"
          ]
        }
      ]
    },
    {
      "cell_type": "code",
      "source": [
        "# Freeze Model: 베이스 모델의 가중치를 고정\n",
        "\n",
        "base_model_frozen = tf.keras.models.Model(inputs=model.input, outputs=base_model_output, name='base_frozen')\n",
        "base_model_frozen.trainable = False\n",
        "base_model_frozen.summary()"
      ],
      "metadata": {
        "colab": {
          "base_uri": "https://localhost:8080/"
        },
        "id": "uc8slBUoTrll",
        "outputId": "4c9c3b5f-7e4d-43e6-b63c-f61fa35ad1c0"
      },
      "execution_count": 50,
      "outputs": [
        {
          "output_type": "stream",
          "name": "stdout",
          "text": [
            "Model: \"base_frozen\"\n",
            "_________________________________________________________________\n",
            " Layer (type)                Output Shape              Param #   \n",
            "=================================================================\n",
            " inputs (InputLayer)         [(None, 28, 28, 1)]       0         \n",
            "                                                                 \n",
            " conv2d_layer (Conv2D)       (None, 26, 26, 32)        320       \n",
            "                                                                 \n",
            " maxpool_layer (MaxPooling2D  (None, 13, 13, 32)       0         \n",
            " )                                                               \n",
            "                                                                 \n",
            " flatten_layer (Flatten)     (None, 5408)              0         \n",
            "                                                                 \n",
            "=================================================================\n",
            "Total params: 320\n",
            "Trainable params: 0\n",
            "Non-trainable params: 320\n",
            "_________________________________________________________________\n"
          ]
        }
      ]
    },
    {
      "cell_type": "code",
      "source": [
        "dense_output = tf.keras.layers.Dense(10, activation='softmax')(base_model_frozen.output)\n",
        "digit_model_frozen = tf.keras.models.Model(inputs=base_model_frozen.input, outputs=dense_output)\n",
        "digit_model_frozen.summary()"
      ],
      "metadata": {
        "colab": {
          "base_uri": "https://localhost:8080/"
        },
        "id": "7rzk3lbCTrjM",
        "outputId": "5cf7852c-36b4-49ab-e2f3-208d8dd1a550"
      },
      "execution_count": 51,
      "outputs": [
        {
          "output_type": "stream",
          "name": "stdout",
          "text": [
            "Model: \"model_3\"\n",
            "_________________________________________________________________\n",
            " Layer (type)                Output Shape              Param #   \n",
            "=================================================================\n",
            " inputs (InputLayer)         [(None, 28, 28, 1)]       0         \n",
            "                                                                 \n",
            " conv2d_layer (Conv2D)       (None, 26, 26, 32)        320       \n",
            "                                                                 \n",
            " maxpool_layer (MaxPooling2D  (None, 13, 13, 32)       0         \n",
            " )                                                               \n",
            "                                                                 \n",
            " flatten_layer (Flatten)     (None, 5408)              0         \n",
            "                                                                 \n",
            " dense_3 (Dense)             (None, 10)                54090     \n",
            "                                                                 \n",
            "=================================================================\n",
            "Total params: 54,410\n",
            "Trainable params: 54,090\n",
            "Non-trainable params: 320\n",
            "_________________________________________________________________\n"
          ]
        }
      ]
    },
    {
      "cell_type": "code",
      "source": [
        "digit_model_frozen.compile(optimizer='adam', loss='sparse_categorical_crossentropy', metrics=['accuracy'])\n",
        "\n",
        "history = digit_model_frozen.fit(x_train_in, y_train, \n",
        "                    validation_data=(x_valid_in, y_valid), \n",
        "                    epochs=10)"
      ],
      "metadata": {
        "colab": {
          "base_uri": "https://localhost:8080/"
        },
        "id": "MFrACWK2Trg7",
        "outputId": "c2c01635-431e-46c9-d111-b9994e95eaa4"
      },
      "execution_count": 52,
      "outputs": [
        {
          "output_type": "stream",
          "name": "stdout",
          "text": [
            "Epoch 1/10\n",
            "1875/1875 [==============================] - 16s 9ms/step - loss: 0.1094 - accuracy: 0.9707 - val_loss: 0.0566 - val_accuracy: 0.9806\n",
            "Epoch 2/10\n",
            "1875/1875 [==============================] - 16s 9ms/step - loss: 0.0457 - accuracy: 0.9865 - val_loss: 0.0566 - val_accuracy: 0.9823\n",
            "Epoch 3/10\n",
            "1875/1875 [==============================] - 16s 9ms/step - loss: 0.0314 - accuracy: 0.9902 - val_loss: 0.0516 - val_accuracy: 0.9844\n",
            "Epoch 4/10\n",
            "1875/1875 [==============================] - 16s 9ms/step - loss: 0.0241 - accuracy: 0.9925 - val_loss: 0.0535 - val_accuracy: 0.9835\n",
            "Epoch 5/10\n",
            "1875/1875 [==============================] - 16s 9ms/step - loss: 0.0180 - accuracy: 0.9949 - val_loss: 0.0568 - val_accuracy: 0.9840\n",
            "Epoch 6/10\n",
            "1875/1875 [==============================] - 16s 9ms/step - loss: 0.0140 - accuracy: 0.9957 - val_loss: 0.0623 - val_accuracy: 0.9830\n",
            "Epoch 7/10\n",
            "1875/1875 [==============================] - 16s 9ms/step - loss: 0.0114 - accuracy: 0.9964 - val_loss: 0.0561 - val_accuracy: 0.9832\n",
            "Epoch 8/10\n",
            "1875/1875 [==============================] - 16s 9ms/step - loss: 0.0090 - accuracy: 0.9976 - val_loss: 0.0574 - val_accuracy: 0.9847\n",
            "Epoch 9/10\n",
            "1875/1875 [==============================] - 16s 9ms/step - loss: 0.0066 - accuracy: 0.9984 - val_loss: 0.0659 - val_accuracy: 0.9835\n",
            "Epoch 10/10\n",
            "1875/1875 [==============================] - 16s 9ms/step - loss: 0.0063 - accuracy: 0.9984 - val_loss: 0.0672 - val_accuracy: 0.9822\n"
          ]
        }
      ]
    },
    {
      "cell_type": "code",
      "source": [
        "base_model_frozen2 = tf.keras.models.Model(inputs=model.input, outputs=base_model_output, name='base_frozen2')\n",
        "base_model_frozen2.get_layer('conv2d_layer').trainable = False\n",
        "base_model_frozen2.summary()"
      ],
      "metadata": {
        "colab": {
          "base_uri": "https://localhost:8080/"
        },
        "id": "g3CcY4jpT0jG",
        "outputId": "53eb5e40-c9ca-4aed-f4de-ebff8773db93"
      },
      "execution_count": 53,
      "outputs": [
        {
          "output_type": "stream",
          "name": "stdout",
          "text": [
            "Model: \"base_frozen2\"\n",
            "_________________________________________________________________\n",
            " Layer (type)                Output Shape              Param #   \n",
            "=================================================================\n",
            " inputs (InputLayer)         [(None, 28, 28, 1)]       0         \n",
            "                                                                 \n",
            " conv2d_layer (Conv2D)       (None, 26, 26, 32)        320       \n",
            "                                                                 \n",
            " maxpool_layer (MaxPooling2D  (None, 13, 13, 32)       0         \n",
            " )                                                               \n",
            "                                                                 \n",
            " flatten_layer (Flatten)     (None, 5408)              0         \n",
            "                                                                 \n",
            "=================================================================\n",
            "Total params: 320\n",
            "Trainable params: 0\n",
            "Non-trainable params: 320\n",
            "_________________________________________________________________\n"
          ]
        }
      ]
    },
    {
      "cell_type": "code",
      "source": [
        "dense_output2 = tf.keras.layers.Dense(10, activation='softmax')(base_model_frozen2.output)\n",
        "digit_model_frozen2 = tf.keras.models.Model(inputs=base_model_frozen2.input, outputs=dense_output2)\n",
        "digit_model_frozen2.summary()"
      ],
      "metadata": {
        "colab": {
          "base_uri": "https://localhost:8080/"
        },
        "id": "EFy_OUX8T0e0",
        "outputId": "8856cbd6-1f7c-4ed2-bd74-d5ae5e626c0d"
      },
      "execution_count": 54,
      "outputs": [
        {
          "output_type": "stream",
          "name": "stdout",
          "text": [
            "Model: \"model_4\"\n",
            "_________________________________________________________________\n",
            " Layer (type)                Output Shape              Param #   \n",
            "=================================================================\n",
            " inputs (InputLayer)         [(None, 28, 28, 1)]       0         \n",
            "                                                                 \n",
            " conv2d_layer (Conv2D)       (None, 26, 26, 32)        320       \n",
            "                                                                 \n",
            " maxpool_layer (MaxPooling2D  (None, 13, 13, 32)       0         \n",
            " )                                                               \n",
            "                                                                 \n",
            " flatten_layer (Flatten)     (None, 5408)              0         \n",
            "                                                                 \n",
            " dense_4 (Dense)             (None, 10)                54090     \n",
            "                                                                 \n",
            "=================================================================\n",
            "Total params: 54,410\n",
            "Trainable params: 54,090\n",
            "Non-trainable params: 320\n",
            "_________________________________________________________________\n"
          ]
        }
      ]
    },
    {
      "cell_type": "code",
      "source": [
        "digit_model_frozen2.compile(optimizer='adam', loss='sparse_categorical_crossentropy', metrics=['accuracy'])\n",
        "\n",
        "history = digit_model_frozen2.fit(x_train_in, y_train, \n",
        "                    validation_data=(x_valid_in, y_valid), \n",
        "                    epochs=10)"
      ],
      "metadata": {
        "colab": {
          "base_uri": "https://localhost:8080/"
        },
        "id": "sPNhuIq1T0a1",
        "outputId": "b44ce81f-303a-479e-ebf9-e598cf92e76b"
      },
      "execution_count": 55,
      "outputs": [
        {
          "output_type": "stream",
          "name": "stdout",
          "text": [
            "Epoch 1/10\n",
            "1875/1875 [==============================] - 16s 8ms/step - loss: 0.1085 - accuracy: 0.9704 - val_loss: 0.0523 - val_accuracy: 0.9838\n",
            "Epoch 2/10\n",
            "1875/1875 [==============================] - 16s 8ms/step - loss: 0.0453 - accuracy: 0.9866 - val_loss: 0.0505 - val_accuracy: 0.9841\n",
            "Epoch 3/10\n",
            "1875/1875 [==============================] - 16s 8ms/step - loss: 0.0318 - accuracy: 0.9900 - val_loss: 0.0494 - val_accuracy: 0.9849\n",
            "Epoch 4/10\n",
            "1875/1875 [==============================] - 15s 8ms/step - loss: 0.0229 - accuracy: 0.9928 - val_loss: 0.0545 - val_accuracy: 0.9837\n",
            "Epoch 5/10\n",
            "1875/1875 [==============================] - 16s 9ms/step - loss: 0.0179 - accuracy: 0.9945 - val_loss: 0.0575 - val_accuracy: 0.9844\n",
            "Epoch 6/10\n",
            "1875/1875 [==============================] - 16s 8ms/step - loss: 0.0140 - accuracy: 0.9961 - val_loss: 0.0531 - val_accuracy: 0.9845\n",
            "Epoch 7/10\n",
            "1875/1875 [==============================] - 16s 8ms/step - loss: 0.0110 - accuracy: 0.9967 - val_loss: 0.0654 - val_accuracy: 0.9816\n",
            "Epoch 8/10\n",
            "1875/1875 [==============================] - 16s 8ms/step - loss: 0.0090 - accuracy: 0.9974 - val_loss: 0.0670 - val_accuracy: 0.9828\n",
            "Epoch 9/10\n",
            "1875/1875 [==============================] - 16s 8ms/step - loss: 0.0073 - accuracy: 0.9981 - val_loss: 0.0592 - val_accuracy: 0.9849\n",
            "Epoch 10/10\n",
            "1875/1875 [==============================] - 16s 8ms/step - loss: 0.0059 - accuracy: 0.9984 - val_loss: 0.0598 - val_accuracy: 0.9856\n"
          ]
        }
      ]
    }
  ]
}